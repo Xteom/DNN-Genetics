{
  "cells": [
    {
      "cell_type": "code",
      "execution_count": null,
      "metadata": {
        "id": "c939bd32"
      },
      "outputs": [],
      "source": [
        "import pandas as pd\n",
        "import numpy as np\n",
        "import matplotlib.pyplot as plt\n",
        "import openpyxl\n",
        "#import plotly.express as px"
      ],
      "id": "c939bd32"
    },
    {
      "cell_type": "code",
      "execution_count": null,
      "metadata": {
        "id": "XCO32Mkc-DmP"
      },
      "outputs": [],
      "source": [],
      "id": "XCO32Mkc-DmP"
    },
    {
      "cell_type": "code",
      "execution_count": null,
      "metadata": {
        "colab": {
          "base_uri": "https://localhost:8080/"
        },
        "id": "h2B_jL0Tf9D5",
        "outputId": "a2ccdd55-dde1-43a9-9fef-e16121ea53f7"
      },
      "outputs": [
        {
          "name": "stdout",
          "output_type": "stream",
          "text": [
            "Mounted at /content/drive\n"
          ]
        }
      ],
      "source": [
        "from google.colab import drive\n",
        "drive.mount('/content/drive')"
      ],
      "id": "h2B_jL0Tf9D5"
    },
    {
      "cell_type": "code",
      "execution_count": null,
      "metadata": {
        "colab": {
          "base_uri": "https://localhost:8080/",
          "height": 424
        },
        "id": "70cc7166",
        "outputId": "f18d15f8-e441-42d7-d5e3-2b4828dda286"
      },
      "outputs": [
        {
          "data": {
            "text/html": [
              "\n",
              "  <div id=\"df-63c8b8fd-d2bb-44ee-af4b-b2b239233af6\">\n",
              "    <div class=\"colab-df-container\">\n",
              "      <div>\n",
              "<style scoped>\n",
              "    .dataframe tbody tr th:only-of-type {\n",
              "        vertical-align: middle;\n",
              "    }\n",
              "\n",
              "    .dataframe tbody tr th {\n",
              "        vertical-align: top;\n",
              "    }\n",
              "\n",
              "    .dataframe thead th {\n",
              "        text-align: right;\n",
              "    }\n",
              "</style>\n",
              "<table border=\"1\" class=\"dataframe\">\n",
              "  <thead>\n",
              "    <tr style=\"text-align: right;\">\n",
              "      <th></th>\n",
              "      <th>Sequence</th>\n",
              "      <th>order_final</th>\n",
              "      <th>family_final</th>\n",
              "      <th>genus_final</th>\n",
              "      <th>species_final</th>\n",
              "    </tr>\n",
              "  </thead>\n",
              "  <tbody>\n",
              "    <tr>\n",
              "      <th>0</th>\n",
              "      <td>aataaacaatataagattttggttattgcctccttcattatcactc...</td>\n",
              "      <td>Coleoptera</td>\n",
              "      <td>Mordellidae</td>\n",
              "      <td>NaN</td>\n",
              "      <td>NaN</td>\n",
              "    </tr>\n",
              "    <tr>\n",
              "      <th>1</th>\n",
              "      <td>aataaataatataagtttttgacttcttcctccttctttaacctta...</td>\n",
              "      <td>Coleoptera</td>\n",
              "      <td>Carabidae</td>\n",
              "      <td>Glyptolenus</td>\n",
              "      <td>NaN</td>\n",
              "    </tr>\n",
              "    <tr>\n",
              "      <th>2</th>\n",
              "      <td>tttaaacaatataagattttgattgttaccaccttcattaactttc...</td>\n",
              "      <td>Coleoptera</td>\n",
              "      <td>Coccinellidae</td>\n",
              "      <td>NaN</td>\n",
              "      <td>NaN</td>\n",
              "    </tr>\n",
              "    <tr>\n",
              "      <th>3</th>\n",
              "      <td>tataaacaatataagattctgacttcttccaccttcattaagatta...</td>\n",
              "      <td>Coleoptera</td>\n",
              "      <td>Mordellidae</td>\n",
              "      <td>NaN</td>\n",
              "      <td>NaN</td>\n",
              "    </tr>\n",
              "    <tr>\n",
              "      <th>4</th>\n",
              "      <td>aataaataatataagattttgactacttcctccgtcacttaccctt...</td>\n",
              "      <td>Coleoptera</td>\n",
              "      <td>Nitidulidae</td>\n",
              "      <td>NaN</td>\n",
              "      <td>NaN</td>\n",
              "    </tr>\n",
              "    <tr>\n",
              "      <th>...</th>\n",
              "      <td>...</td>\n",
              "      <td>...</td>\n",
              "      <td>...</td>\n",
              "      <td>...</td>\n",
              "      <td>...</td>\n",
              "    </tr>\n",
              "    <tr>\n",
              "      <th>1778</th>\n",
              "      <td>aataaataatataagtttttgacttttacctcctgcattaacactt...</td>\n",
              "      <td>Diptera</td>\n",
              "      <td>Tachinidae</td>\n",
              "      <td>Ischyrophaga</td>\n",
              "      <td>NaN</td>\n",
              "    </tr>\n",
              "    <tr>\n",
              "      <th>1779</th>\n",
              "      <td>aataaataatataagattttgattattaccaccatcaataattata...</td>\n",
              "      <td>Hymenoptera</td>\n",
              "      <td>Ichneumonidae</td>\n",
              "      <td>ichneuMalaiseNA1</td>\n",
              "      <td>NaN</td>\n",
              "    </tr>\n",
              "    <tr>\n",
              "      <th>1780</th>\n",
              "      <td>aataaataacataagattttgattactcccaccttctcttttttta...</td>\n",
              "      <td>Hymenoptera</td>\n",
              "      <td>Ichneumonidae</td>\n",
              "      <td>NaN</td>\n",
              "      <td>NaN</td>\n",
              "    </tr>\n",
              "    <tr>\n",
              "      <th>1781</th>\n",
              "      <td>aataaataatataagtttctgacttcttcccccttctttaattctt...</td>\n",
              "      <td>Lepidoptera</td>\n",
              "      <td>Erebidae</td>\n",
              "      <td>Arugisa</td>\n",
              "      <td>NaN</td>\n",
              "    </tr>\n",
              "    <tr>\n",
              "      <th>1782</th>\n",
              "      <td>aataaataatataagattctgactattaccaccatcattaattcta...</td>\n",
              "      <td>Orthoptera</td>\n",
              "      <td>Acrididae</td>\n",
              "      <td>Tomonotus</td>\n",
              "      <td>NaN</td>\n",
              "    </tr>\n",
              "  </tbody>\n",
              "</table>\n",
              "<p>2799 rows × 5 columns</p>\n",
              "</div>\n",
              "      <button class=\"colab-df-convert\" onclick=\"convertToInteractive('df-63c8b8fd-d2bb-44ee-af4b-b2b239233af6')\"\n",
              "              title=\"Convert this dataframe to an interactive table.\"\n",
              "              style=\"display:none;\">\n",
              "        \n",
              "  <svg xmlns=\"http://www.w3.org/2000/svg\" height=\"24px\"viewBox=\"0 0 24 24\"\n",
              "       width=\"24px\">\n",
              "    <path d=\"M0 0h24v24H0V0z\" fill=\"none\"/>\n",
              "    <path d=\"M18.56 5.44l.94 2.06.94-2.06 2.06-.94-2.06-.94-.94-2.06-.94 2.06-2.06.94zm-11 1L8.5 8.5l.94-2.06 2.06-.94-2.06-.94L8.5 2.5l-.94 2.06-2.06.94zm10 10l.94 2.06.94-2.06 2.06-.94-2.06-.94-.94-2.06-.94 2.06-2.06.94z\"/><path d=\"M17.41 7.96l-1.37-1.37c-.4-.4-.92-.59-1.43-.59-.52 0-1.04.2-1.43.59L10.3 9.45l-7.72 7.72c-.78.78-.78 2.05 0 2.83L4 21.41c.39.39.9.59 1.41.59.51 0 1.02-.2 1.41-.59l7.78-7.78 2.81-2.81c.8-.78.8-2.07 0-2.86zM5.41 20L4 18.59l7.72-7.72 1.47 1.35L5.41 20z\"/>\n",
              "  </svg>\n",
              "      </button>\n",
              "      \n",
              "  <style>\n",
              "    .colab-df-container {\n",
              "      display:flex;\n",
              "      flex-wrap:wrap;\n",
              "      gap: 12px;\n",
              "    }\n",
              "\n",
              "    .colab-df-convert {\n",
              "      background-color: #E8F0FE;\n",
              "      border: none;\n",
              "      border-radius: 50%;\n",
              "      cursor: pointer;\n",
              "      display: none;\n",
              "      fill: #1967D2;\n",
              "      height: 32px;\n",
              "      padding: 0 0 0 0;\n",
              "      width: 32px;\n",
              "    }\n",
              "\n",
              "    .colab-df-convert:hover {\n",
              "      background-color: #E2EBFA;\n",
              "      box-shadow: 0px 1px 2px rgba(60, 64, 67, 0.3), 0px 1px 3px 1px rgba(60, 64, 67, 0.15);\n",
              "      fill: #174EA6;\n",
              "    }\n",
              "\n",
              "    [theme=dark] .colab-df-convert {\n",
              "      background-color: #3B4455;\n",
              "      fill: #D2E3FC;\n",
              "    }\n",
              "\n",
              "    [theme=dark] .colab-df-convert:hover {\n",
              "      background-color: #434B5C;\n",
              "      box-shadow: 0px 1px 3px 1px rgba(0, 0, 0, 0.15);\n",
              "      filter: drop-shadow(0px 1px 2px rgba(0, 0, 0, 0.3));\n",
              "      fill: #FFFFFF;\n",
              "    }\n",
              "  </style>\n",
              "\n",
              "      <script>\n",
              "        const buttonEl =\n",
              "          document.querySelector('#df-63c8b8fd-d2bb-44ee-af4b-b2b239233af6 button.colab-df-convert');\n",
              "        buttonEl.style.display =\n",
              "          google.colab.kernel.accessAllowed ? 'block' : 'none';\n",
              "\n",
              "        async function convertToInteractive(key) {\n",
              "          const element = document.querySelector('#df-63c8b8fd-d2bb-44ee-af4b-b2b239233af6');\n",
              "          const dataTable =\n",
              "            await google.colab.kernel.invokeFunction('convertToInteractive',\n",
              "                                                     [key], {});\n",
              "          if (!dataTable) return;\n",
              "\n",
              "          const docLinkHtml = 'Like what you see? Visit the ' +\n",
              "            '<a target=\"_blank\" href=https://colab.research.google.com/notebooks/data_table.ipynb>data table notebook</a>'\n",
              "            + ' to learn more about interactive tables.';\n",
              "          element.innerHTML = '';\n",
              "          dataTable['output_type'] = 'display_data';\n",
              "          await google.colab.output.renderOutput(dataTable, element);\n",
              "          const docLink = document.createElement('div');\n",
              "          docLink.innerHTML = docLinkHtml;\n",
              "          element.appendChild(docLink);\n",
              "        }\n",
              "      </script>\n",
              "    </div>\n",
              "  </div>\n",
              "  "
            ],
            "text/plain": [
              "                                               Sequence  order_final  \\\n",
              "0     aataaacaatataagattttggttattgcctccttcattatcactc...   Coleoptera   \n",
              "1     aataaataatataagtttttgacttcttcctccttctttaacctta...   Coleoptera   \n",
              "2     tttaaacaatataagattttgattgttaccaccttcattaactttc...   Coleoptera   \n",
              "3     tataaacaatataagattctgacttcttccaccttcattaagatta...   Coleoptera   \n",
              "4     aataaataatataagattttgactacttcctccgtcacttaccctt...   Coleoptera   \n",
              "...                                                 ...          ...   \n",
              "1778  aataaataatataagtttttgacttttacctcctgcattaacactt...      Diptera   \n",
              "1779  aataaataatataagattttgattattaccaccatcaataattata...  Hymenoptera   \n",
              "1780  aataaataacataagattttgattactcccaccttctcttttttta...  Hymenoptera   \n",
              "1781  aataaataatataagtttctgacttcttcccccttctttaattctt...  Lepidoptera   \n",
              "1782  aataaataatataagattctgactattaccaccatcattaattcta...   Orthoptera   \n",
              "\n",
              "       family_final       genus_final species_final  \n",
              "0       Mordellidae               NaN           NaN  \n",
              "1         Carabidae       Glyptolenus           NaN  \n",
              "2     Coccinellidae               NaN           NaN  \n",
              "3       Mordellidae               NaN           NaN  \n",
              "4       Nitidulidae               NaN           NaN  \n",
              "...             ...               ...           ...  \n",
              "1778     Tachinidae      Ischyrophaga           NaN  \n",
              "1779  Ichneumonidae  ichneuMalaiseNA1           NaN  \n",
              "1780  Ichneumonidae               NaN           NaN  \n",
              "1781       Erebidae           Arugisa           NaN  \n",
              "1782      Acrididae         Tomonotus           NaN  \n",
              "\n",
              "[2799 rows x 5 columns]"
            ]
          },
          "execution_count": 3,
          "metadata": {},
          "output_type": "execute_result"
        }
      ],
      "source": [
        "# Read data\n",
        "data = pd.concat((pd.read_excel('./Datos_Metagenetica.xlsx', sheet_name='El_cielo', engine='openpyxl'), pd.read_excel('./Datos_Metagenetica.xlsx', sheet_name='Chamela',engine='openpyxl')))\n",
        "# replace 0 with NaN\n",
        "data = data.replace(0, np.nan)\n",
        "#drop columns que no se van a usar \n",
        "data = data.drop(['Database','.id', 'similarity', 'phylum_final', \n",
        "                  'class_final', 'subfamily_final', 'tribe_final',\n",
        "                   'subspecies_final', 'BASE', 'OTU'], axis=1)\n",
        "data"
      ],
      "id": "70cc7166"
    },
    {
      "cell_type": "markdown",
      "metadata": {
        "id": "dca50a03"
      },
      "source": [
        "# Balance data"
      ],
      "id": "dca50a03"
    },
    {
      "cell_type": "code",
      "execution_count": null,
      "metadata": {
        "colab": {
          "base_uri": "https://localhost:8080/",
          "height": 684
        },
        "id": "463a65c8",
        "outputId": "1a87ce0d-4637-45a1-8e28-83b02425f039"
      },
      "outputs": [
        {
          "name": "stdout",
          "output_type": "stream",
          "text": [
            "Original data\n",
            "family_final\n",
            "Erebidae           236\n",
            "Tachinidae         200\n",
            "Phoridae           162\n",
            "Ichneumonidae      154\n",
            "Cecidomyiidae      143\n",
            "                  ... \n",
            "Phacopteronidae      1\n",
            "Perilampidae         1\n",
            "Derbidae             1\n",
            "Disteniidae          1\n",
            "f__Triozidae         1\n",
            "Length: 216, dtype: int64\n",
            "Balanced data\n"
          ]
        },
        {
          "data": {
            "text/html": [
              "\n",
              "  <div id=\"df-5ed06e91-6586-4be0-8f3f-1bfb35c139c4\">\n",
              "    <div class=\"colab-df-container\">\n",
              "      <div>\n",
              "<style scoped>\n",
              "    .dataframe tbody tr th:only-of-type {\n",
              "        vertical-align: middle;\n",
              "    }\n",
              "\n",
              "    .dataframe tbody tr th {\n",
              "        vertical-align: top;\n",
              "    }\n",
              "\n",
              "    .dataframe thead th {\n",
              "        text-align: right;\n",
              "    }\n",
              "</style>\n",
              "<table border=\"1\" class=\"dataframe\">\n",
              "  <thead>\n",
              "    <tr style=\"text-align: right;\">\n",
              "      <th></th>\n",
              "      <th>Sequence</th>\n",
              "      <th>order_final</th>\n",
              "      <th>family_final</th>\n",
              "      <th>genus_final</th>\n",
              "      <th>species_final</th>\n",
              "    </tr>\n",
              "  </thead>\n",
              "  <tbody>\n",
              "    <tr>\n",
              "      <th>775</th>\n",
              "      <td>aataaataatataagattttgattactaccaccagctttaatttta...</td>\n",
              "      <td>Diptera</td>\n",
              "      <td>Tachinidae</td>\n",
              "      <td>Billaea</td>\n",
              "      <td>Malaise4642</td>\n",
              "    </tr>\n",
              "    <tr>\n",
              "      <th>348</th>\n",
              "      <td>aataaataatataagattttgattattacccccagctttaaccctt...</td>\n",
              "      <td>Diptera</td>\n",
              "      <td>Tachinidae</td>\n",
              "      <td>Campylocheta</td>\n",
              "      <td>nasellensis</td>\n",
              "    </tr>\n",
              "    <tr>\n",
              "      <th>1653</th>\n",
              "      <td>aataaataatataagattttgactccttcctcctgcattaattctt...</td>\n",
              "      <td>Diptera</td>\n",
              "      <td>Tachinidae</td>\n",
              "      <td>NaN</td>\n",
              "      <td>NaN</td>\n",
              "    </tr>\n",
              "    <tr>\n",
              "      <th>1301</th>\n",
              "      <td>aataaataatataagtttttgattacttcctcctgctttaatactt...</td>\n",
              "      <td>Diptera</td>\n",
              "      <td>Tachinidae</td>\n",
              "      <td>Pseudochaeta</td>\n",
              "      <td>Pseudochaeta Malaise2497</td>\n",
              "    </tr>\n",
              "    <tr>\n",
              "      <th>1430</th>\n",
              "      <td>aataaacaatataagtttttgactccttcctccttctttaacactt...</td>\n",
              "      <td>Diptera</td>\n",
              "      <td>Tachinidae</td>\n",
              "      <td>Austrophorocera</td>\n",
              "      <td>NaN</td>\n",
              "    </tr>\n",
              "    <tr>\n",
              "      <th>...</th>\n",
              "      <td>...</td>\n",
              "      <td>...</td>\n",
              "      <td>...</td>\n",
              "      <td>...</td>\n",
              "      <td>...</td>\n",
              "    </tr>\n",
              "    <tr>\n",
              "      <th>696</th>\n",
              "      <td>aataaataatataagattttgattacttcccccttcattaaccctt...</td>\n",
              "      <td>Lepidoptera</td>\n",
              "      <td>Pieridae</td>\n",
              "      <td>Ganyra</td>\n",
              "      <td>NaN</td>\n",
              "    </tr>\n",
              "    <tr>\n",
              "      <th>701</th>\n",
              "      <td>aataaataatataagattttgaatattacctccttctttaatactt...</td>\n",
              "      <td>Lepidoptera</td>\n",
              "      <td>Pieridae</td>\n",
              "      <td>Ascia</td>\n",
              "      <td>Ascia monuste</td>\n",
              "    </tr>\n",
              "    <tr>\n",
              "      <th>723</th>\n",
              "      <td>aataaataatataagtttctgattattacccccttctttaactctc...</td>\n",
              "      <td>Lepidoptera</td>\n",
              "      <td>Pieridae</td>\n",
              "      <td>Pyrisitia</td>\n",
              "      <td>NaN</td>\n",
              "    </tr>\n",
              "    <tr>\n",
              "      <th>751</th>\n",
              "      <td>aataaataatataagattttgattacttcccccttctttaacatta...</td>\n",
              "      <td>Lepidoptera</td>\n",
              "      <td>Pieridae</td>\n",
              "      <td>Glutophrissa</td>\n",
              "      <td>NaN</td>\n",
              "    </tr>\n",
              "    <tr>\n",
              "      <th>849</th>\n",
              "      <td>aataaataatataagattctgattattacccccttccctaactctt...</td>\n",
              "      <td>Lepidoptera</td>\n",
              "      <td>Pieridae</td>\n",
              "      <td>Pyrisitia</td>\n",
              "      <td>NaN</td>\n",
              "    </tr>\n",
              "  </tbody>\n",
              "</table>\n",
              "<p>1015 rows × 5 columns</p>\n",
              "</div>\n",
              "      <button class=\"colab-df-convert\" onclick=\"convertToInteractive('df-5ed06e91-6586-4be0-8f3f-1bfb35c139c4')\"\n",
              "              title=\"Convert this dataframe to an interactive table.\"\n",
              "              style=\"display:none;\">\n",
              "        \n",
              "  <svg xmlns=\"http://www.w3.org/2000/svg\" height=\"24px\"viewBox=\"0 0 24 24\"\n",
              "       width=\"24px\">\n",
              "    <path d=\"M0 0h24v24H0V0z\" fill=\"none\"/>\n",
              "    <path d=\"M18.56 5.44l.94 2.06.94-2.06 2.06-.94-2.06-.94-.94-2.06-.94 2.06-2.06.94zm-11 1L8.5 8.5l.94-2.06 2.06-.94-2.06-.94L8.5 2.5l-.94 2.06-2.06.94zm10 10l.94 2.06.94-2.06 2.06-.94-2.06-.94-.94-2.06-.94 2.06-2.06.94z\"/><path d=\"M17.41 7.96l-1.37-1.37c-.4-.4-.92-.59-1.43-.59-.52 0-1.04.2-1.43.59L10.3 9.45l-7.72 7.72c-.78.78-.78 2.05 0 2.83L4 21.41c.39.39.9.59 1.41.59.51 0 1.02-.2 1.41-.59l7.78-7.78 2.81-2.81c.8-.78.8-2.07 0-2.86zM5.41 20L4 18.59l7.72-7.72 1.47 1.35L5.41 20z\"/>\n",
              "  </svg>\n",
              "      </button>\n",
              "      \n",
              "  <style>\n",
              "    .colab-df-container {\n",
              "      display:flex;\n",
              "      flex-wrap:wrap;\n",
              "      gap: 12px;\n",
              "    }\n",
              "\n",
              "    .colab-df-convert {\n",
              "      background-color: #E8F0FE;\n",
              "      border: none;\n",
              "      border-radius: 50%;\n",
              "      cursor: pointer;\n",
              "      display: none;\n",
              "      fill: #1967D2;\n",
              "      height: 32px;\n",
              "      padding: 0 0 0 0;\n",
              "      width: 32px;\n",
              "    }\n",
              "\n",
              "    .colab-df-convert:hover {\n",
              "      background-color: #E2EBFA;\n",
              "      box-shadow: 0px 1px 2px rgba(60, 64, 67, 0.3), 0px 1px 3px 1px rgba(60, 64, 67, 0.15);\n",
              "      fill: #174EA6;\n",
              "    }\n",
              "\n",
              "    [theme=dark] .colab-df-convert {\n",
              "      background-color: #3B4455;\n",
              "      fill: #D2E3FC;\n",
              "    }\n",
              "\n",
              "    [theme=dark] .colab-df-convert:hover {\n",
              "      background-color: #434B5C;\n",
              "      box-shadow: 0px 1px 3px 1px rgba(0, 0, 0, 0.15);\n",
              "      filter: drop-shadow(0px 1px 2px rgba(0, 0, 0, 0.3));\n",
              "      fill: #FFFFFF;\n",
              "    }\n",
              "  </style>\n",
              "\n",
              "      <script>\n",
              "        const buttonEl =\n",
              "          document.querySelector('#df-5ed06e91-6586-4be0-8f3f-1bfb35c139c4 button.colab-df-convert');\n",
              "        buttonEl.style.display =\n",
              "          google.colab.kernel.accessAllowed ? 'block' : 'none';\n",
              "\n",
              "        async function convertToInteractive(key) {\n",
              "          const element = document.querySelector('#df-5ed06e91-6586-4be0-8f3f-1bfb35c139c4');\n",
              "          const dataTable =\n",
              "            await google.colab.kernel.invokeFunction('convertToInteractive',\n",
              "                                                     [key], {});\n",
              "          if (!dataTable) return;\n",
              "\n",
              "          const docLinkHtml = 'Like what you see? Visit the ' +\n",
              "            '<a target=\"_blank\" href=https://colab.research.google.com/notebooks/data_table.ipynb>data table notebook</a>'\n",
              "            + ' to learn more about interactive tables.';\n",
              "          element.innerHTML = '';\n",
              "          dataTable['output_type'] = 'display_data';\n",
              "          await google.colab.output.renderOutput(dataTable, element);\n",
              "          const docLink = document.createElement('div');\n",
              "          docLink.innerHTML = docLinkHtml;\n",
              "          element.appendChild(docLink);\n",
              "        }\n",
              "      </script>\n",
              "    </div>\n",
              "  </div>\n",
              "  "
            ],
            "text/plain": [
              "                                               Sequence  order_final  \\\n",
              "775   aataaataatataagattttgattactaccaccagctttaatttta...      Diptera   \n",
              "348   aataaataatataagattttgattattacccccagctttaaccctt...      Diptera   \n",
              "1653  aataaataatataagattttgactccttcctcctgcattaattctt...      Diptera   \n",
              "1301  aataaataatataagtttttgattacttcctcctgctttaatactt...      Diptera   \n",
              "1430  aataaacaatataagtttttgactccttcctccttctttaacactt...      Diptera   \n",
              "...                                                 ...          ...   \n",
              "696   aataaataatataagattttgattacttcccccttcattaaccctt...  Lepidoptera   \n",
              "701   aataaataatataagattttgaatattacctccttctttaatactt...  Lepidoptera   \n",
              "723   aataaataatataagtttctgattattacccccttctttaactctc...  Lepidoptera   \n",
              "751   aataaataatataagattttgattacttcccccttctttaacatta...  Lepidoptera   \n",
              "849   aataaataatataagattctgattattacccccttccctaactctt...  Lepidoptera   \n",
              "\n",
              "     family_final      genus_final             species_final  \n",
              "775    Tachinidae          Billaea               Malaise4642  \n",
              "348    Tachinidae     Campylocheta               nasellensis  \n",
              "1653   Tachinidae              NaN                       NaN  \n",
              "1301   Tachinidae     Pseudochaeta  Pseudochaeta Malaise2497  \n",
              "1430   Tachinidae  Austrophorocera                       NaN  \n",
              "...           ...              ...                       ...  \n",
              "696      Pieridae           Ganyra                       NaN  \n",
              "701      Pieridae            Ascia             Ascia monuste  \n",
              "723      Pieridae        Pyrisitia                       NaN  \n",
              "751      Pieridae     Glutophrissa                       NaN  \n",
              "849      Pieridae        Pyrisitia                       NaN  \n",
              "\n",
              "[1015 rows x 5 columns]"
            ]
          },
          "execution_count": 4,
          "metadata": {},
          "output_type": "execute_result"
        }
      ],
      "source": [
        "def balance_one_tax_data(df, col_tax_to_balance, tax_to_balance, max_samples) -> pd.DataFrame:\n",
        "    '''\n",
        "    df: dataframe with all data to balance\n",
        "    col_tax_to_balance: column name of the tax to balance\n",
        "    tax_to_balance: tax to balance\n",
        "    max_samples: maximum number to save of each tax\n",
        "    return: balanced dataframe\n",
        "    '''\n",
        "    col_index = df.columns.get_loc(col_tax_to_balance)\n",
        "    if col_index + 1 < len(df.columns):\n",
        "        next_tax_col = df.columns[col_index + 1]\n",
        "        vc = df[df[col_tax_to_balance] == tax_to_balance][next_tax_col].value_counts()\n",
        "        q25 = vc.quantile(0.25)\n",
        "        selected_values = vc[vc > 4 * q25]\n",
        "        balanced = pd.DataFrame(columns = df.columns)\n",
        "        for i in selected_values.index:\n",
        "            if vc[i] > max_samples:\n",
        "                balanced = pd.concat((balanced, df[df[next_tax_col] == i].sample(max_samples)))\n",
        "            else:\n",
        "                balanced = pd.concat((balanced, df[df[next_tax_col] == i]))\n",
        "    return balanced\n",
        "\n",
        "print('Original data')\n",
        "print(data.value_counts('family_final'))\n",
        "print('Balanced data')\n",
        "balance_one_tax_data(data, 'order_final', 'Diptera', 50).value_counts('family_final')\n",
        "\n",
        "pd.concat((balance_one_tax_data(data, 'order_final', 'Diptera', 50), balance_one_tax_data(data, 'order_final', 'Lepidoptera', 50)))"
      ],
      "id": "463a65c8"
    },
    {
      "cell_type": "markdown",
      "metadata": {
        "id": "fbe43f08"
      },
      "source": [
        "---\n",
        "# Encoding & Concatenation"
      ],
      "id": "fbe43f08"
    },
    {
      "cell_type": "code",
      "execution_count": null,
      "metadata": {
        "id": "440c5208"
      },
      "outputs": [],
      "source": [
        "data['Sequence'] = data['Sequence'].apply(lambda x: x.upper())"
      ],
      "id": "440c5208"
    },
    {
      "cell_type": "code",
      "execution_count": null,
      "metadata": {
        "colab": {
          "background_save": true
        },
        "id": "5da827c4"
      },
      "outputs": [],
      "source": [
        "def sequence_encoding(sequence):\n",
        "    mapping = {\"A\": 0, \"C\": 1, \"G\": 2, \"T\": 3}\n",
        "    encoded_sequence = [mapping[i] for i in sequence]\n",
        "    return np.eye(4)[encoded_sequence]"
      ],
      "id": "5da827c4"
    },
    {
      "cell_type": "code",
      "execution_count": null,
      "metadata": {
        "colab": {
          "background_save": true,
          "base_uri": "https://localhost:8080/",
          "height": 70
        },
        "id": "09a077fa",
        "outputId": "d0b5c0d2-c2d1-4176-c2ae-330e4e963b2c"
      },
      "outputs": [
        {
          "data": {
            "application/vnd.google.colaboratory.intrinsic+json": {
              "type": "string"
            },
            "text/plain": [
              "'AATAAACAATATAAGATTTTGGTTATTGCCTCCTTCATTATCACTCCTTTTAATAAGAAGAATCGTAGAAACCGGTGCAGGTACAGGTTGAACAGTGTACCCCCCGCTGTCATCCAATATTGCCCACAGAGGTGCTTCAGTTGATTTAGCTATTTTTAGACTACATTTAGCTGGTATTTCTTCTATTTTAGGAGCAATTAATTTTATTTCTACAATAATTAATATACGACCCGCAGGAATAACCTTTGACCGAATACCCTTATTTGTCTGAGCTATTGCTATTACTGCCGTACTTCTACTATTATCTCTTCCTGTCTTAGCTGGAGCAATTACTATATTATTAACTGATCGAAATTTAAATACTACCTTTTTTGATCCCGCCGGAGGAGGAGATCCAATCTTATATCAACATCTCTTT'"
            ]
          },
          "execution_count": 7,
          "metadata": {},
          "output_type": "execute_result"
        }
      ],
      "source": [
        "elem0 = data['Sequence'].iloc[0]\n",
        "elem1 = data['Sequence'].iloc[1]\n",
        "elem0"
      ],
      "id": "09a077fa"
    },
    {
      "cell_type": "code",
      "execution_count": null,
      "metadata": {
        "colab": {
          "background_save": true,
          "base_uri": "https://localhost:8080/"
        },
        "id": "fc706d40",
        "outputId": "1e9ba67d-e1e2-4411-8877-4df03f8328e9"
      },
      "outputs": [
        {
          "data": {
            "text/plain": [
              "array([[1., 0., 0., 0.],\n",
              "       [1., 0., 0., 0.],\n",
              "       [0., 0., 0., 1.],\n",
              "       ...,\n",
              "       [0., 0., 0., 1.],\n",
              "       [0., 0., 0., 1.],\n",
              "       [0., 0., 0., 1.]])"
            ]
          },
          "execution_count": 8,
          "metadata": {},
          "output_type": "execute_result"
        }
      ],
      "source": [
        "enc0 = sequence_encoding(elem0)\n",
        "enc1 = sequence_encoding(elem1)\n",
        "enc0"
      ],
      "id": "fc706d40"
    },
    {
      "cell_type": "code",
      "execution_count": null,
      "metadata": {
        "colab": {
          "background_save": true,
          "base_uri": "https://localhost:8080/"
        },
        "id": "7b74953f",
        "outputId": "bea75913-7f93-42cc-b970-baf2431ff64f"
      },
      "outputs": [
        {
          "data": {
            "text/plain": [
              "(418, 4)"
            ]
          },
          "execution_count": 9,
          "metadata": {},
          "output_type": "execute_result"
        }
      ],
      "source": [
        "enc1.shape"
      ],
      "id": "7b74953f"
    },
    {
      "cell_type": "code",
      "execution_count": null,
      "metadata": {
        "colab": {
          "background_save": true
        },
        "id": "8cbd6494"
      },
      "outputs": [],
      "source": [
        "def side_by_side_sequence(seq1, seq2):\n",
        "    return np.concatenate((seq1, seq2), axis=1)"
      ],
      "id": "8cbd6494"
    },
    {
      "cell_type": "code",
      "execution_count": null,
      "metadata": {
        "colab": {
          "background_save": true,
          "base_uri": "https://localhost:8080/"
        },
        "id": "7e9b6772",
        "outputId": "408b4338-febc-414c-92be-56e75fe8c3b2"
      },
      "outputs": [
        {
          "data": {
            "text/plain": [
              "(418, 8)"
            ]
          },
          "execution_count": 11,
          "metadata": {},
          "output_type": "execute_result"
        }
      ],
      "source": [
        "side_by_side_seq = side_by_side_sequence(enc0,enc1)\n",
        "side_by_side_seq.shape\n",
        "#type(syde_by_side_seq)"
      ],
      "id": "7e9b6772"
    },
    {
      "cell_type": "code",
      "execution_count": null,
      "metadata": {
        "colab": {
          "background_save": true,
          "base_uri": "https://localhost:8080/"
        },
        "id": "a33e23e4",
        "outputId": "35dc6cae-d919-44d4-9a29-17e30d46fd2c"
      },
      "outputs": [
        {
          "data": {
            "text/plain": [
              "array([[1., 0., 0., ..., 0., 0., 0.],\n",
              "       [1., 0., 0., ..., 0., 0., 0.],\n",
              "       [0., 0., 0., ..., 0., 0., 1.],\n",
              "       ...,\n",
              "       [0., 0., 0., ..., 0., 0., 1.],\n",
              "       [0., 0., 0., ..., 0., 0., 1.],\n",
              "       [0., 0., 0., ..., 0., 0., 1.]])"
            ]
          },
          "execution_count": 12,
          "metadata": {},
          "output_type": "execute_result"
        }
      ],
      "source": [
        "side_by_side_seq"
      ],
      "id": "a33e23e4"
    },
    {
      "cell_type": "code",
      "execution_count": null,
      "metadata": {
        "colab": {
          "background_save": true
        },
        "id": "885c9b84"
      },
      "outputs": [],
      "source": [
        "def deep_sequence(seq1, seq2):\n",
        "    #s1 = seq1[np.newaxis, :, :]\n",
        "    #s2 = seq2[np.newaxis, :, :]\n",
        "    #sequence = np.concatenate((s1, s2), axis=0)\n",
        "    sequence = np.dstack((seq1, seq2))\n",
        "    return sequence"
      ],
      "id": "885c9b84"
    },
    {
      "cell_type": "code",
      "execution_count": null,
      "metadata": {
        "colab": {
          "background_save": true,
          "base_uri": "https://localhost:8080/"
        },
        "id": "3f0d67cf",
        "outputId": "aad5e259-1c34-4d83-a752-4b45db5d111f"
      },
      "outputs": [
        {
          "data": {
            "text/plain": [
              "(418, 4, 2)"
            ]
          },
          "execution_count": 14,
          "metadata": {},
          "output_type": "execute_result"
        }
      ],
      "source": [
        "deep_seq = deep_sequence(enc0,enc1)\n",
        "deep_seq.shape"
      ],
      "id": "3f0d67cf"
    },
    {
      "cell_type": "code",
      "execution_count": null,
      "metadata": {
        "colab": {
          "base_uri": "https://localhost:8080/"
        },
        "id": "116c61af",
        "outputId": "b7751d01-a7a4-48da-9965-3f82387dd750"
      },
      "outputs": [
        {
          "data": {
            "text/plain": [
              "array([[[1., 1.],\n",
              "        [0., 0.],\n",
              "        [0., 0.],\n",
              "        [0., 0.]],\n",
              "\n",
              "       [[1., 1.],\n",
              "        [0., 0.],\n",
              "        [0., 0.],\n",
              "        [0., 0.]],\n",
              "\n",
              "       [[0., 0.],\n",
              "        [0., 0.],\n",
              "        [0., 0.],\n",
              "        [1., 1.]],\n",
              "\n",
              "       ...,\n",
              "\n",
              "       [[0., 0.],\n",
              "        [0., 0.],\n",
              "        [0., 0.],\n",
              "        [1., 1.]],\n",
              "\n",
              "       [[0., 0.],\n",
              "        [0., 0.],\n",
              "        [0., 0.],\n",
              "        [1., 1.]],\n",
              "\n",
              "       [[0., 0.],\n",
              "        [0., 0.],\n",
              "        [0., 0.],\n",
              "        [1., 1.]]])"
            ]
          },
          "execution_count": 15,
          "metadata": {},
          "output_type": "execute_result"
        }
      ],
      "source": [
        "deep_seq"
      ],
      "id": "116c61af"
    },
    {
      "cell_type": "markdown",
      "metadata": {
        "id": "4fa61677"
      },
      "source": [
        "---\n",
        "# Combinaciones"
      ],
      "id": "4fa61677"
    },
    {
      "cell_type": "code",
      "execution_count": null,
      "metadata": {
        "id": "7a45d355"
      },
      "outputs": [],
      "source": [
        "datos = {'Col1': ['C', 'A', 'R','M', 'E', 'N'],\n",
        "        'Col2': ['S','S','M','S','M','M']}\n",
        "\n",
        "df = pd.DataFrame(datos)\n",
        "#df"
      ],
      "id": "7a45d355"
    },
    {
      "cell_type": "code",
      "execution_count": null,
      "metadata": {
        "id": "567d43d1"
      },
      "outputs": [],
      "source": [
        "import itertools\n",
        "\n",
        "def combination_list(dataframe,column):\n",
        "    sequences = dataframe[column].tolist()\n",
        "    combinations = list(itertools.combinations(sequences, 2))\n",
        "    return combinations"
      ],
      "id": "567d43d1"
    },
    {
      "cell_type": "code",
      "execution_count": null,
      "metadata": {
        "id": "64c673c2"
      },
      "outputs": [],
      "source": [
        "combinations = combination_list(df,'Col1')\n",
        "#combinations"
      ],
      "id": "64c673c2"
    },
    {
      "cell_type": "code",
      "execution_count": null,
      "metadata": {
        "id": "2287cb83"
      },
      "outputs": [],
      "source": [
        "def combination_matrix(df,sequence_column,tax_column):\n",
        "    combinaciones = []\n",
        "    for sequence1, sequence2 in combination_list(df,sequence_column):\n",
        "        z = zip(df[df[sequence_column] == sequence1][tax_column], df[df[sequence_column] == sequence2][tax_column])\n",
        "        for clase1, clase2 in z:\n",
        "            combinaciones.append([sequence1, sequence2, clase1, clase2])\n",
        "\n",
        "    df_combinaciones = pd.DataFrame(combinaciones, columns=['Sequence1', 'Sequence2', 'Tax1', 'Tax2'])\n",
        "    return df_combinaciones"
      ],
      "id": "2287cb83"
    },
    {
      "cell_type": "code",
      "execution_count": null,
      "metadata": {
        "id": "b1072fcf"
      },
      "outputs": [],
      "source": [
        "nuevo_df = combination_matrix(df,'Col1','Col2')\n",
        "#nuevo_df"
      ],
      "id": "b1072fcf"
    },
    {
      "cell_type": "code",
      "execution_count": null,
      "metadata": {
        "id": "6d27cd0e"
      },
      "outputs": [],
      "source": [
        "def tax_comparison(dataframe, tax1, tax2):\n",
        "    dataframe['Same'] = dataframe[tax1] == dataframe[tax2]\n",
        "    return dataframe"
      ],
      "id": "6d27cd0e"
    },
    {
      "cell_type": "code",
      "execution_count": null,
      "metadata": {
        "colab": {
          "base_uri": "https://localhost:8080/",
          "height": 520
        },
        "id": "1b35b1f2",
        "outputId": "5677413c-27fd-4594-a9a1-d6d5eebfa129"
      },
      "outputs": [
        {
          "data": {
            "text/html": [
              "\n",
              "  <div id=\"df-321b4b3b-2439-4ec8-aa17-06aee4aea33b\">\n",
              "    <div class=\"colab-df-container\">\n",
              "      <div>\n",
              "<style scoped>\n",
              "    .dataframe tbody tr th:only-of-type {\n",
              "        vertical-align: middle;\n",
              "    }\n",
              "\n",
              "    .dataframe tbody tr th {\n",
              "        vertical-align: top;\n",
              "    }\n",
              "\n",
              "    .dataframe thead th {\n",
              "        text-align: right;\n",
              "    }\n",
              "</style>\n",
              "<table border=\"1\" class=\"dataframe\">\n",
              "  <thead>\n",
              "    <tr style=\"text-align: right;\">\n",
              "      <th></th>\n",
              "      <th>Sequence1</th>\n",
              "      <th>Sequence2</th>\n",
              "      <th>Tax1</th>\n",
              "      <th>Tax2</th>\n",
              "      <th>Same</th>\n",
              "    </tr>\n",
              "  </thead>\n",
              "  <tbody>\n",
              "    <tr>\n",
              "      <th>0</th>\n",
              "      <td>C</td>\n",
              "      <td>A</td>\n",
              "      <td>S</td>\n",
              "      <td>S</td>\n",
              "      <td>True</td>\n",
              "    </tr>\n",
              "    <tr>\n",
              "      <th>1</th>\n",
              "      <td>C</td>\n",
              "      <td>R</td>\n",
              "      <td>S</td>\n",
              "      <td>M</td>\n",
              "      <td>False</td>\n",
              "    </tr>\n",
              "    <tr>\n",
              "      <th>2</th>\n",
              "      <td>C</td>\n",
              "      <td>M</td>\n",
              "      <td>S</td>\n",
              "      <td>S</td>\n",
              "      <td>True</td>\n",
              "    </tr>\n",
              "    <tr>\n",
              "      <th>3</th>\n",
              "      <td>C</td>\n",
              "      <td>E</td>\n",
              "      <td>S</td>\n",
              "      <td>M</td>\n",
              "      <td>False</td>\n",
              "    </tr>\n",
              "    <tr>\n",
              "      <th>4</th>\n",
              "      <td>C</td>\n",
              "      <td>N</td>\n",
              "      <td>S</td>\n",
              "      <td>M</td>\n",
              "      <td>False</td>\n",
              "    </tr>\n",
              "    <tr>\n",
              "      <th>5</th>\n",
              "      <td>A</td>\n",
              "      <td>R</td>\n",
              "      <td>S</td>\n",
              "      <td>M</td>\n",
              "      <td>False</td>\n",
              "    </tr>\n",
              "    <tr>\n",
              "      <th>6</th>\n",
              "      <td>A</td>\n",
              "      <td>M</td>\n",
              "      <td>S</td>\n",
              "      <td>S</td>\n",
              "      <td>True</td>\n",
              "    </tr>\n",
              "    <tr>\n",
              "      <th>7</th>\n",
              "      <td>A</td>\n",
              "      <td>E</td>\n",
              "      <td>S</td>\n",
              "      <td>M</td>\n",
              "      <td>False</td>\n",
              "    </tr>\n",
              "    <tr>\n",
              "      <th>8</th>\n",
              "      <td>A</td>\n",
              "      <td>N</td>\n",
              "      <td>S</td>\n",
              "      <td>M</td>\n",
              "      <td>False</td>\n",
              "    </tr>\n",
              "    <tr>\n",
              "      <th>9</th>\n",
              "      <td>R</td>\n",
              "      <td>M</td>\n",
              "      <td>M</td>\n",
              "      <td>S</td>\n",
              "      <td>False</td>\n",
              "    </tr>\n",
              "    <tr>\n",
              "      <th>10</th>\n",
              "      <td>R</td>\n",
              "      <td>E</td>\n",
              "      <td>M</td>\n",
              "      <td>M</td>\n",
              "      <td>True</td>\n",
              "    </tr>\n",
              "    <tr>\n",
              "      <th>11</th>\n",
              "      <td>R</td>\n",
              "      <td>N</td>\n",
              "      <td>M</td>\n",
              "      <td>M</td>\n",
              "      <td>True</td>\n",
              "    </tr>\n",
              "    <tr>\n",
              "      <th>12</th>\n",
              "      <td>M</td>\n",
              "      <td>E</td>\n",
              "      <td>S</td>\n",
              "      <td>M</td>\n",
              "      <td>False</td>\n",
              "    </tr>\n",
              "    <tr>\n",
              "      <th>13</th>\n",
              "      <td>M</td>\n",
              "      <td>N</td>\n",
              "      <td>S</td>\n",
              "      <td>M</td>\n",
              "      <td>False</td>\n",
              "    </tr>\n",
              "    <tr>\n",
              "      <th>14</th>\n",
              "      <td>E</td>\n",
              "      <td>N</td>\n",
              "      <td>M</td>\n",
              "      <td>M</td>\n",
              "      <td>True</td>\n",
              "    </tr>\n",
              "  </tbody>\n",
              "</table>\n",
              "</div>\n",
              "      <button class=\"colab-df-convert\" onclick=\"convertToInteractive('df-321b4b3b-2439-4ec8-aa17-06aee4aea33b')\"\n",
              "              title=\"Convert this dataframe to an interactive table.\"\n",
              "              style=\"display:none;\">\n",
              "        \n",
              "  <svg xmlns=\"http://www.w3.org/2000/svg\" height=\"24px\"viewBox=\"0 0 24 24\"\n",
              "       width=\"24px\">\n",
              "    <path d=\"M0 0h24v24H0V0z\" fill=\"none\"/>\n",
              "    <path d=\"M18.56 5.44l.94 2.06.94-2.06 2.06-.94-2.06-.94-.94-2.06-.94 2.06-2.06.94zm-11 1L8.5 8.5l.94-2.06 2.06-.94-2.06-.94L8.5 2.5l-.94 2.06-2.06.94zm10 10l.94 2.06.94-2.06 2.06-.94-2.06-.94-.94-2.06-.94 2.06-2.06.94z\"/><path d=\"M17.41 7.96l-1.37-1.37c-.4-.4-.92-.59-1.43-.59-.52 0-1.04.2-1.43.59L10.3 9.45l-7.72 7.72c-.78.78-.78 2.05 0 2.83L4 21.41c.39.39.9.59 1.41.59.51 0 1.02-.2 1.41-.59l7.78-7.78 2.81-2.81c.8-.78.8-2.07 0-2.86zM5.41 20L4 18.59l7.72-7.72 1.47 1.35L5.41 20z\"/>\n",
              "  </svg>\n",
              "      </button>\n",
              "      \n",
              "  <style>\n",
              "    .colab-df-container {\n",
              "      display:flex;\n",
              "      flex-wrap:wrap;\n",
              "      gap: 12px;\n",
              "    }\n",
              "\n",
              "    .colab-df-convert {\n",
              "      background-color: #E8F0FE;\n",
              "      border: none;\n",
              "      border-radius: 50%;\n",
              "      cursor: pointer;\n",
              "      display: none;\n",
              "      fill: #1967D2;\n",
              "      height: 32px;\n",
              "      padding: 0 0 0 0;\n",
              "      width: 32px;\n",
              "    }\n",
              "\n",
              "    .colab-df-convert:hover {\n",
              "      background-color: #E2EBFA;\n",
              "      box-shadow: 0px 1px 2px rgba(60, 64, 67, 0.3), 0px 1px 3px 1px rgba(60, 64, 67, 0.15);\n",
              "      fill: #174EA6;\n",
              "    }\n",
              "\n",
              "    [theme=dark] .colab-df-convert {\n",
              "      background-color: #3B4455;\n",
              "      fill: #D2E3FC;\n",
              "    }\n",
              "\n",
              "    [theme=dark] .colab-df-convert:hover {\n",
              "      background-color: #434B5C;\n",
              "      box-shadow: 0px 1px 3px 1px rgba(0, 0, 0, 0.15);\n",
              "      filter: drop-shadow(0px 1px 2px rgba(0, 0, 0, 0.3));\n",
              "      fill: #FFFFFF;\n",
              "    }\n",
              "  </style>\n",
              "\n",
              "      <script>\n",
              "        const buttonEl =\n",
              "          document.querySelector('#df-321b4b3b-2439-4ec8-aa17-06aee4aea33b button.colab-df-convert');\n",
              "        buttonEl.style.display =\n",
              "          google.colab.kernel.accessAllowed ? 'block' : 'none';\n",
              "\n",
              "        async function convertToInteractive(key) {\n",
              "          const element = document.querySelector('#df-321b4b3b-2439-4ec8-aa17-06aee4aea33b');\n",
              "          const dataTable =\n",
              "            await google.colab.kernel.invokeFunction('convertToInteractive',\n",
              "                                                     [key], {});\n",
              "          if (!dataTable) return;\n",
              "\n",
              "          const docLinkHtml = 'Like what you see? Visit the ' +\n",
              "            '<a target=\"_blank\" href=https://colab.research.google.com/notebooks/data_table.ipynb>data table notebook</a>'\n",
              "            + ' to learn more about interactive tables.';\n",
              "          element.innerHTML = '';\n",
              "          dataTable['output_type'] = 'display_data';\n",
              "          await google.colab.output.renderOutput(dataTable, element);\n",
              "          const docLink = document.createElement('div');\n",
              "          docLink.innerHTML = docLinkHtml;\n",
              "          element.appendChild(docLink);\n",
              "        }\n",
              "      </script>\n",
              "    </div>\n",
              "  </div>\n",
              "  "
            ],
            "text/plain": [
              "   Sequence1 Sequence2 Tax1 Tax2   Same\n",
              "0          C         A    S    S   True\n",
              "1          C         R    S    M  False\n",
              "2          C         M    S    S   True\n",
              "3          C         E    S    M  False\n",
              "4          C         N    S    M  False\n",
              "5          A         R    S    M  False\n",
              "6          A         M    S    S   True\n",
              "7          A         E    S    M  False\n",
              "8          A         N    S    M  False\n",
              "9          R         M    M    S  False\n",
              "10         R         E    M    M   True\n",
              "11         R         N    M    M   True\n",
              "12         M         E    S    M  False\n",
              "13         M         N    S    M  False\n",
              "14         E         N    M    M   True"
            ]
          },
          "execution_count": 22,
          "metadata": {},
          "output_type": "execute_result"
        }
      ],
      "source": [
        "input_matrix = tax_comparison(nuevo_df,'Tax1','Tax2')\n",
        "input_matrix"
      ],
      "id": "1b35b1f2"
    },
    {
      "cell_type": "markdown",
      "metadata": {
        "id": "a7305139"
      },
      "source": [
        "---\n",
        "# Final Matrix"
      ],
      "id": "a7305139"
    },
    {
      "cell_type": "code",
      "execution_count": null,
      "metadata": {
        "id": "b0f65ecf"
      },
      "outputs": [],
      "source": [
        "from tensorflow.keras.preprocessing.sequence import pad_sequences\n",
        "\n",
        "def final_matrix(data,concat_type):\n",
        "    \n",
        "    #Pasamos a letras mayúsculas las cadenas\n",
        "    data['Sequence'] = data['Sequence'].apply(lambda x: x.upper())\n",
        "    #Llamamos a la función para filtrar los datos\n",
        "    #balanced_data = balance_one_tax_data(data, 'order_final', 'Diptera', 50)\n",
        "    balanced_data = pd.concat((data[data['order_final'] == 'Diptera'].sample(300), data[data['order_final'] == 'Lepidoptera'].sample(300)))\n",
        "    #Llamamos a la función para realizar todas las combinaciones\n",
        "    combinations = combination_matrix(balanced_data,'Sequence','order_final')\n",
        "    #Llamamos a la función para determinar si los Taxones son iguales\n",
        "    DNA_matrix = tax_comparison(combinations,'Tax1','Tax2')\n",
        "    #Pasamos los valores boolean a integer\n",
        "    DNA_matrix['Same'] = DNA_matrix['Same'].astype(int)\n",
        "    \n",
        "    DNA_matrix['Paired_seq'] = ''  # Creamos una columna vacía para almacenar los resultados\n",
        "    for index, row in DNA_matrix.iterrows():\n",
        "        sequence1 = row['Sequence1']\n",
        "        sequence2 = row['Sequence2']\n",
        "        encoding1 = sequence_encoding(sequence1)\n",
        "        encoding2 = sequence_encoding(sequence2)\n",
        "        vectors_padded = pad_sequences([encoding1, encoding2], padding='post')\n",
        "        paired_sequences = concat_type(vectors_padded[0], vectors_padded[0])\n",
        "        DNA_matrix.at[index, 'Paired_seq'] = paired_sequences\n",
        "    return DNA_matrix"
      ],
      "id": "b0f65ecf"
    },
    {
      "cell_type": "code",
      "execution_count": null,
      "metadata": {
        "colab": {
          "base_uri": "https://localhost:8080/",
          "height": 424
        },
        "id": "035c6d07",
        "outputId": "e2325c5b-cfc7-443f-c44e-d54d3fdaca9d"
      },
      "outputs": [
        {
          "data": {
            "text/html": [
              "\n",
              "  <div id=\"df-1f1c84b2-a3ee-40dd-8cf2-c59f78f3c25e\">\n",
              "    <div class=\"colab-df-container\">\n",
              "      <div>\n",
              "<style scoped>\n",
              "    .dataframe tbody tr th:only-of-type {\n",
              "        vertical-align: middle;\n",
              "    }\n",
              "\n",
              "    .dataframe tbody tr th {\n",
              "        vertical-align: top;\n",
              "    }\n",
              "\n",
              "    .dataframe thead th {\n",
              "        text-align: right;\n",
              "    }\n",
              "</style>\n",
              "<table border=\"1\" class=\"dataframe\">\n",
              "  <thead>\n",
              "    <tr style=\"text-align: right;\">\n",
              "      <th></th>\n",
              "      <th>Sequence1</th>\n",
              "      <th>Sequence2</th>\n",
              "      <th>Tax1</th>\n",
              "      <th>Tax2</th>\n",
              "      <th>Same</th>\n",
              "      <th>Paired_seq</th>\n",
              "    </tr>\n",
              "  </thead>\n",
              "  <tbody>\n",
              "    <tr>\n",
              "      <th>0</th>\n",
              "      <td>TATAAATAATATAAGATTCTGAATACTACCTCCATCTTTAACTCTT...</td>\n",
              "      <td>AATAAACAACATAAGATTTTGATTATTGCCTCCCTCTTTATCTTTA...</td>\n",
              "      <td>Diptera</td>\n",
              "      <td>Diptera</td>\n",
              "      <td>1</td>\n",
              "      <td>[[0, 0, 0, 1, 0, 0, 0, 1], [1, 0, 0, 0, 1, 0, ...</td>\n",
              "    </tr>\n",
              "    <tr>\n",
              "      <th>1</th>\n",
              "      <td>TATAAATAATATAAGATTCTGAATACTACCTCCATCTTTAACTCTT...</td>\n",
              "      <td>ATTAAATAATATAAGATTTTGATTGCTCCCCCCTTCATTAACTTTA...</td>\n",
              "      <td>Diptera</td>\n",
              "      <td>Diptera</td>\n",
              "      <td>1</td>\n",
              "      <td>[[0, 0, 0, 1, 0, 0, 0, 1], [1, 0, 0, 0, 1, 0, ...</td>\n",
              "    </tr>\n",
              "    <tr>\n",
              "      <th>2</th>\n",
              "      <td>TATAAATAATATAAGATTCTGAATACTACCTCCATCTTTAACTCTT...</td>\n",
              "      <td>AATAAATAATATAAGCTTTTGATTACTTCCTCCTGCATTAACACTT...</td>\n",
              "      <td>Diptera</td>\n",
              "      <td>Diptera</td>\n",
              "      <td>1</td>\n",
              "      <td>[[0, 0, 0, 1, 0, 0, 0, 1], [1, 0, 0, 0, 1, 0, ...</td>\n",
              "    </tr>\n",
              "    <tr>\n",
              "      <th>3</th>\n",
              "      <td>TATAAATAATATAAGATTCTGAATACTACCTCCATCTTTAACTCTT...</td>\n",
              "      <td>AATAAATAATATAAGTTTTTGATTACTTCCTCCTTCTCTTACACTT...</td>\n",
              "      <td>Diptera</td>\n",
              "      <td>Diptera</td>\n",
              "      <td>1</td>\n",
              "      <td>[[0, 0, 0, 1, 0, 0, 0, 1], [1, 0, 0, 0, 1, 0, ...</td>\n",
              "    </tr>\n",
              "    <tr>\n",
              "      <th>4</th>\n",
              "      <td>TATAAATAATATAAGATTCTGAATACTACCTCCATCTTTAACTCTT...</td>\n",
              "      <td>AATAAATAATATAAGTTTTTGATTACTTCCTCCTGCTTTAATACTT...</td>\n",
              "      <td>Diptera</td>\n",
              "      <td>Diptera</td>\n",
              "      <td>1</td>\n",
              "      <td>[[0, 0, 0, 1, 0, 0, 0, 1], [1, 0, 0, 0, 1, 0, ...</td>\n",
              "    </tr>\n",
              "    <tr>\n",
              "      <th>...</th>\n",
              "      <td>...</td>\n",
              "      <td>...</td>\n",
              "      <td>...</td>\n",
              "      <td>...</td>\n",
              "      <td>...</td>\n",
              "      <td>...</td>\n",
              "    </tr>\n",
              "    <tr>\n",
              "      <th>179723</th>\n",
              "      <td>TATAAATAATATAAGATTTTGATTATTACCCCCATCTATTACTTTA...</td>\n",
              "      <td>AATAAATAATATAAGTTTTTGACTTCTCCCCCCGTCATTAATTTTA...</td>\n",
              "      <td>Lepidoptera</td>\n",
              "      <td>Lepidoptera</td>\n",
              "      <td>1</td>\n",
              "      <td>[[0, 0, 0, 1, 0, 0, 0, 1], [1, 0, 0, 0, 1, 0, ...</td>\n",
              "    </tr>\n",
              "    <tr>\n",
              "      <th>179724</th>\n",
              "      <td>TATAAATAATATAAGATTTTGATTATTACCCCCATCTATTACTTTA...</td>\n",
              "      <td>AATAAATAATATAAGTTTTTGACTTTTGCCTCCTTCCTTAACCTTA...</td>\n",
              "      <td>Lepidoptera</td>\n",
              "      <td>Lepidoptera</td>\n",
              "      <td>1</td>\n",
              "      <td>[[0, 0, 0, 1, 0, 0, 0, 1], [1, 0, 0, 0, 1, 0, ...</td>\n",
              "    </tr>\n",
              "    <tr>\n",
              "      <th>179725</th>\n",
              "      <td>AATAAATAATATAAGTTTTTGATTATTACCCCCCTCTCTTACTTTA...</td>\n",
              "      <td>AATAAATAATATAAGTTTTTGACTTCTCCCCCCGTCATTAATTTTA...</td>\n",
              "      <td>Lepidoptera</td>\n",
              "      <td>Lepidoptera</td>\n",
              "      <td>1</td>\n",
              "      <td>[[1, 0, 0, 0, 1, 0, 0, 0], [1, 0, 0, 0, 1, 0, ...</td>\n",
              "    </tr>\n",
              "    <tr>\n",
              "      <th>179726</th>\n",
              "      <td>AATAAATAATATAAGTTTTTGATTATTACCCCCCTCTCTTACTTTA...</td>\n",
              "      <td>AATAAATAATATAAGTTTTTGACTTTTGCCTCCTTCCTTAACCTTA...</td>\n",
              "      <td>Lepidoptera</td>\n",
              "      <td>Lepidoptera</td>\n",
              "      <td>1</td>\n",
              "      <td>[[1, 0, 0, 0, 1, 0, 0, 0], [1, 0, 0, 0, 1, 0, ...</td>\n",
              "    </tr>\n",
              "    <tr>\n",
              "      <th>179727</th>\n",
              "      <td>AATAAATAATATAAGTTTTTGACTTCTCCCCCCGTCATTAATTTTA...</td>\n",
              "      <td>AATAAATAATATAAGTTTTTGACTTTTGCCTCCTTCCTTAACCTTA...</td>\n",
              "      <td>Lepidoptera</td>\n",
              "      <td>Lepidoptera</td>\n",
              "      <td>1</td>\n",
              "      <td>[[1, 0, 0, 0, 1, 0, 0, 0], [1, 0, 0, 0, 1, 0, ...</td>\n",
              "    </tr>\n",
              "  </tbody>\n",
              "</table>\n",
              "<p>179728 rows × 6 columns</p>\n",
              "</div>\n",
              "      <button class=\"colab-df-convert\" onclick=\"convertToInteractive('df-1f1c84b2-a3ee-40dd-8cf2-c59f78f3c25e')\"\n",
              "              title=\"Convert this dataframe to an interactive table.\"\n",
              "              style=\"display:none;\">\n",
              "        \n",
              "  <svg xmlns=\"http://www.w3.org/2000/svg\" height=\"24px\"viewBox=\"0 0 24 24\"\n",
              "       width=\"24px\">\n",
              "    <path d=\"M0 0h24v24H0V0z\" fill=\"none\"/>\n",
              "    <path d=\"M18.56 5.44l.94 2.06.94-2.06 2.06-.94-2.06-.94-.94-2.06-.94 2.06-2.06.94zm-11 1L8.5 8.5l.94-2.06 2.06-.94-2.06-.94L8.5 2.5l-.94 2.06-2.06.94zm10 10l.94 2.06.94-2.06 2.06-.94-2.06-.94-.94-2.06-.94 2.06-2.06.94z\"/><path d=\"M17.41 7.96l-1.37-1.37c-.4-.4-.92-.59-1.43-.59-.52 0-1.04.2-1.43.59L10.3 9.45l-7.72 7.72c-.78.78-.78 2.05 0 2.83L4 21.41c.39.39.9.59 1.41.59.51 0 1.02-.2 1.41-.59l7.78-7.78 2.81-2.81c.8-.78.8-2.07 0-2.86zM5.41 20L4 18.59l7.72-7.72 1.47 1.35L5.41 20z\"/>\n",
              "  </svg>\n",
              "      </button>\n",
              "      \n",
              "  <style>\n",
              "    .colab-df-container {\n",
              "      display:flex;\n",
              "      flex-wrap:wrap;\n",
              "      gap: 12px;\n",
              "    }\n",
              "\n",
              "    .colab-df-convert {\n",
              "      background-color: #E8F0FE;\n",
              "      border: none;\n",
              "      border-radius: 50%;\n",
              "      cursor: pointer;\n",
              "      display: none;\n",
              "      fill: #1967D2;\n",
              "      height: 32px;\n",
              "      padding: 0 0 0 0;\n",
              "      width: 32px;\n",
              "    }\n",
              "\n",
              "    .colab-df-convert:hover {\n",
              "      background-color: #E2EBFA;\n",
              "      box-shadow: 0px 1px 2px rgba(60, 64, 67, 0.3), 0px 1px 3px 1px rgba(60, 64, 67, 0.15);\n",
              "      fill: #174EA6;\n",
              "    }\n",
              "\n",
              "    [theme=dark] .colab-df-convert {\n",
              "      background-color: #3B4455;\n",
              "      fill: #D2E3FC;\n",
              "    }\n",
              "\n",
              "    [theme=dark] .colab-df-convert:hover {\n",
              "      background-color: #434B5C;\n",
              "      box-shadow: 0px 1px 3px 1px rgba(0, 0, 0, 0.15);\n",
              "      filter: drop-shadow(0px 1px 2px rgba(0, 0, 0, 0.3));\n",
              "      fill: #FFFFFF;\n",
              "    }\n",
              "  </style>\n",
              "\n",
              "      <script>\n",
              "        const buttonEl =\n",
              "          document.querySelector('#df-1f1c84b2-a3ee-40dd-8cf2-c59f78f3c25e button.colab-df-convert');\n",
              "        buttonEl.style.display =\n",
              "          google.colab.kernel.accessAllowed ? 'block' : 'none';\n",
              "\n",
              "        async function convertToInteractive(key) {\n",
              "          const element = document.querySelector('#df-1f1c84b2-a3ee-40dd-8cf2-c59f78f3c25e');\n",
              "          const dataTable =\n",
              "            await google.colab.kernel.invokeFunction('convertToInteractive',\n",
              "                                                     [key], {});\n",
              "          if (!dataTable) return;\n",
              "\n",
              "          const docLinkHtml = 'Like what you see? Visit the ' +\n",
              "            '<a target=\"_blank\" href=https://colab.research.google.com/notebooks/data_table.ipynb>data table notebook</a>'\n",
              "            + ' to learn more about interactive tables.';\n",
              "          element.innerHTML = '';\n",
              "          dataTable['output_type'] = 'display_data';\n",
              "          await google.colab.output.renderOutput(dataTable, element);\n",
              "          const docLink = document.createElement('div');\n",
              "          docLink.innerHTML = docLinkHtml;\n",
              "          element.appendChild(docLink);\n",
              "        }\n",
              "      </script>\n",
              "    </div>\n",
              "  </div>\n",
              "  "
            ],
            "text/plain": [
              "                                                Sequence1  \\\n",
              "0       TATAAATAATATAAGATTCTGAATACTACCTCCATCTTTAACTCTT...   \n",
              "1       TATAAATAATATAAGATTCTGAATACTACCTCCATCTTTAACTCTT...   \n",
              "2       TATAAATAATATAAGATTCTGAATACTACCTCCATCTTTAACTCTT...   \n",
              "3       TATAAATAATATAAGATTCTGAATACTACCTCCATCTTTAACTCTT...   \n",
              "4       TATAAATAATATAAGATTCTGAATACTACCTCCATCTTTAACTCTT...   \n",
              "...                                                   ...   \n",
              "179723  TATAAATAATATAAGATTTTGATTATTACCCCCATCTATTACTTTA...   \n",
              "179724  TATAAATAATATAAGATTTTGATTATTACCCCCATCTATTACTTTA...   \n",
              "179725  AATAAATAATATAAGTTTTTGATTATTACCCCCCTCTCTTACTTTA...   \n",
              "179726  AATAAATAATATAAGTTTTTGATTATTACCCCCCTCTCTTACTTTA...   \n",
              "179727  AATAAATAATATAAGTTTTTGACTTCTCCCCCCGTCATTAATTTTA...   \n",
              "\n",
              "                                                Sequence2         Tax1  \\\n",
              "0       AATAAACAACATAAGATTTTGATTATTGCCTCCCTCTTTATCTTTA...      Diptera   \n",
              "1       ATTAAATAATATAAGATTTTGATTGCTCCCCCCTTCATTAACTTTA...      Diptera   \n",
              "2       AATAAATAATATAAGCTTTTGATTACTTCCTCCTGCATTAACACTT...      Diptera   \n",
              "3       AATAAATAATATAAGTTTTTGATTACTTCCTCCTTCTCTTACACTT...      Diptera   \n",
              "4       AATAAATAATATAAGTTTTTGATTACTTCCTCCTGCTTTAATACTT...      Diptera   \n",
              "...                                                   ...          ...   \n",
              "179723  AATAAATAATATAAGTTTTTGACTTCTCCCCCCGTCATTAATTTTA...  Lepidoptera   \n",
              "179724  AATAAATAATATAAGTTTTTGACTTTTGCCTCCTTCCTTAACCTTA...  Lepidoptera   \n",
              "179725  AATAAATAATATAAGTTTTTGACTTCTCCCCCCGTCATTAATTTTA...  Lepidoptera   \n",
              "179726  AATAAATAATATAAGTTTTTGACTTTTGCCTCCTTCCTTAACCTTA...  Lepidoptera   \n",
              "179727  AATAAATAATATAAGTTTTTGACTTTTGCCTCCTTCCTTAACCTTA...  Lepidoptera   \n",
              "\n",
              "               Tax2  Same                                         Paired_seq  \n",
              "0           Diptera     1  [[0, 0, 0, 1, 0, 0, 0, 1], [1, 0, 0, 0, 1, 0, ...  \n",
              "1           Diptera     1  [[0, 0, 0, 1, 0, 0, 0, 1], [1, 0, 0, 0, 1, 0, ...  \n",
              "2           Diptera     1  [[0, 0, 0, 1, 0, 0, 0, 1], [1, 0, 0, 0, 1, 0, ...  \n",
              "3           Diptera     1  [[0, 0, 0, 1, 0, 0, 0, 1], [1, 0, 0, 0, 1, 0, ...  \n",
              "4           Diptera     1  [[0, 0, 0, 1, 0, 0, 0, 1], [1, 0, 0, 0, 1, 0, ...  \n",
              "...             ...   ...                                                ...  \n",
              "179723  Lepidoptera     1  [[0, 0, 0, 1, 0, 0, 0, 1], [1, 0, 0, 0, 1, 0, ...  \n",
              "179724  Lepidoptera     1  [[0, 0, 0, 1, 0, 0, 0, 1], [1, 0, 0, 0, 1, 0, ...  \n",
              "179725  Lepidoptera     1  [[1, 0, 0, 0, 1, 0, 0, 0], [1, 0, 0, 0, 1, 0, ...  \n",
              "179726  Lepidoptera     1  [[1, 0, 0, 0, 1, 0, 0, 0], [1, 0, 0, 0, 1, 0, ...  \n",
              "179727  Lepidoptera     1  [[1, 0, 0, 0, 1, 0, 0, 0], [1, 0, 0, 0, 1, 0, ...  \n",
              "\n",
              "[179728 rows x 6 columns]"
            ]
          },
          "execution_count": 24,
          "metadata": {},
          "output_type": "execute_result"
        }
      ],
      "source": [
        "final_matrix = final_matrix(data,side_by_side_sequence)\n",
        "final_matrix"
      ],
      "id": "035c6d07"
    },
    {
      "cell_type": "code",
      "execution_count": null,
      "metadata": {
        "id": "f05965ff"
      },
      "outputs": [],
      "source": [
        "#final_matrix.dtypes"
      ],
      "id": "f05965ff"
    },
    {
      "cell_type": "code",
      "execution_count": null,
      "metadata": {
        "id": "f32720cd"
      },
      "outputs": [],
      "source": [
        "#final_matrix.to_csv('final_matrix.csv', index=False)"
      ],
      "id": "f32720cd"
    },
    {
      "cell_type": "markdown",
      "metadata": {
        "id": "eaa09c8f"
      },
      "source": [
        "---\n",
        "# Data preparation for CNN"
      ],
      "id": "eaa09c8f"
    },
    {
      "cell_type": "code",
      "execution_count": null,
      "metadata": {
        "id": "61e46c56"
      },
      "outputs": [],
      "source": [
        "from sklearn.model_selection import train_test_split\n",
        "\n",
        "#final_matrix = pd.read_csv('final_matrix.csv')\n",
        "\n",
        "# Obtenemos las secuencias de ADN en una variable 'X' y las etiquetas en una variable 'y'\n",
        "DNA = np.array(list(final_matrix.loc[:, 'Paired_seq'])) # dim = (31626,418,8)\n",
        "labels = np.array(list(final_matrix.loc[:, 'Same'])) # dim = (31626,1)\n",
        "#X"
      ],
      "id": "61e46c56"
    },
    {
      "cell_type": "code",
      "execution_count": null,
      "metadata": {
        "colab": {
          "base_uri": "https://localhost:8080/"
        },
        "id": "9be3ad65",
        "outputId": "428d395c-d79f-4f9a-b684-68999159bd94"
      },
      "outputs": [
        {
          "name": "stdout",
          "output_type": "stream",
          "text": [
            "Forma de X_train: (143782, 418, 8)\n",
            "Forma de y_train: (143782,)\n",
            "Forma de X_test: (35946, 418, 8)\n",
            "Forma de y_test: (35946,)\n"
          ]
        }
      ],
      "source": [
        "# Divide los datos en conjuntos de entrenamiento y prueba (80% para entrenamiento, 20% para prueba)\n",
        "DNA_train, DNA_test, labels_train, labels_test = train_test_split(\n",
        "    DNA, labels, test_size=0.20, random_state=42)\n",
        "\n",
        "print(\"Forma de X_train:\", DNA_train.shape)\n",
        "print(\"Forma de y_train:\", labels_train.shape)\n",
        "\n",
        "print(\"Forma de X_test:\", DNA_test.shape)\n",
        "print(\"Forma de y_test:\", labels_test.shape)"
      ],
      "id": "9be3ad65"
    },
    {
      "cell_type": "code",
      "execution_count": null,
      "metadata": {
        "colab": {
          "base_uri": "https://localhost:8080/"
        },
        "id": "35e26303",
        "outputId": "96d41fae-91de-4651-93d1-f3523ccf2f99"
      },
      "outputs": [
        {
          "name": "stdout",
          "output_type": "stream",
          "text": [
            "Model: \"sequential_2\"\n",
            "_________________________________________________________________\n",
            " Layer (type)                Output Shape              Param #   \n",
            "=================================================================\n",
            " conv1d_4 (Conv1D)           (None, 414, 64)           2624      \n",
            "                                                                 \n",
            " max_pooling1d_4 (MaxPooling  (None, 207, 64)          0         \n",
            " 1D)                                                             \n",
            "                                                                 \n",
            " conv1d_5 (Conv1D)           (None, 203, 200)          64200     \n",
            "                                                                 \n",
            " max_pooling1d_5 (MaxPooling  (None, 101, 200)         0         \n",
            " 1D)                                                             \n",
            "                                                                 \n",
            " dropout_4 (Dropout)         (None, 101, 200)          0         \n",
            "                                                                 \n",
            " flatten_2 (Flatten)         (None, 20200)             0         \n",
            "                                                                 \n",
            " dense_4 (Dense)             (None, 128)               2585728   \n",
            "                                                                 \n",
            " dropout_5 (Dropout)         (None, 128)               0         \n",
            "                                                                 \n",
            " dense_5 (Dense)             (None, 1)                 129       \n",
            "                                                                 \n",
            "=================================================================\n",
            "Total params: 2,652,681\n",
            "Trainable params: 2,652,681\n",
            "Non-trainable params: 0\n",
            "_________________________________________________________________\n"
          ]
        }
      ],
      "source": [
        "from tensorflow.keras.models import Sequential\n",
        "from tensorflow.keras.layers import Conv1D, MaxPooling1D, Flatten, Dense,Dropout\n",
        "from tensorflow.keras.activations import relu , sigmoid\n",
        "from tensorflow.keras.optimizers import SGD\n",
        "\n",
        "model = Sequential()\n",
        "model.add(Conv1D(filters=64, kernel_size=5, input_shape=(418, 8), activation='relu'))\n",
        "model.add(MaxPooling1D(pool_size=2))\n",
        "model.add(Conv1D(filters=200, kernel_size=5, activation='relu'))\n",
        "model.add(MaxPooling1D(pool_size=2))\n",
        "model.add(Dropout(0.5))\n",
        "model.add(Flatten())\n",
        "model.add(Dense(128, activation=relu))\n",
        "model.add(Dropout(0.5))\n",
        "model.add(Dense(1, activation=sigmoid))\n",
        "\n",
        "model.summary()"
      ],
      "id": "35e26303"
    },
    {
      "cell_type": "code",
      "execution_count": null,
      "metadata": {
        "id": "9c6bf01f"
      },
      "outputs": [],
      "source": [
        "# Compile: Define training parameters\n",
        "\n",
        "epochs = 50\n",
        "lrate = 0.001\n",
        "decay = lrate / epochs\n",
        "optim = SGD(learning_rate = lrate, momentum = 0.90, nesterov = True)\n",
        "model.compile(optimizer='sgd' ,loss='binary_crossentropy', metrics=['binary_accuracy'])\n"
      ],
      "id": "9c6bf01f"
    },
    {
      "cell_type": "code",
      "execution_count": null,
      "metadata": {
        "colab": {
          "base_uri": "https://localhost:8080/"
        },
        "id": "38b41f02",
        "outputId": "505bc99a-17e4-4c62-fb78-d7a3c470ae17"
      },
      "outputs": [
        {
          "name": "stdout",
          "output_type": "stream",
          "text": [
            "Epoch 2/50\n",
            "36/36 - 7s - loss: 0.6552 - binary_accuracy: 0.6271 - val_loss: 0.6180 - val_binary_accuracy: 0.7378 - 7s/epoch - 208ms/step\n",
            "Epoch 3/50\n",
            "36/36 - 8s - loss: 0.6256 - binary_accuracy: 0.6644 - val_loss: 0.5863 - val_binary_accuracy: 0.7409 - 8s/epoch - 210ms/step\n",
            "Epoch 4/50\n",
            "36/36 - 8s - loss: 0.5999 - binary_accuracy: 0.6858 - val_loss: 0.5614 - val_binary_accuracy: 0.7399 - 8s/epoch - 211ms/step\n",
            "Epoch 5/50\n",
            "36/36 - 8s - loss: 0.5783 - binary_accuracy: 0.6992 - val_loss: 0.5427 - val_binary_accuracy: 0.7417 - 8s/epoch - 212ms/step\n",
            "Epoch 6/50\n",
            "36/36 - 8s - loss: 0.5628 - binary_accuracy: 0.7057 - val_loss: 0.5291 - val_binary_accuracy: 0.7430 - 8s/epoch - 215ms/step\n",
            "Epoch 7/50\n",
            "36/36 - 8s - loss: 0.5514 - binary_accuracy: 0.7116 - val_loss: 0.5196 - val_binary_accuracy: 0.7423 - 8s/epoch - 215ms/step\n",
            "Epoch 8/50\n",
            "36/36 - 8s - loss: 0.5426 - binary_accuracy: 0.7139 - val_loss: 0.5124 - val_binary_accuracy: 0.7444 - 8s/epoch - 218ms/step\n",
            "Epoch 9/50\n",
            "36/36 - 8s - loss: 0.5352 - binary_accuracy: 0.7195 - val_loss: 0.5072 - val_binary_accuracy: 0.7444 - 8s/epoch - 220ms/step\n",
            "Epoch 10/50\n",
            "36/36 - 8s - loss: 0.5291 - binary_accuracy: 0.7211 - val_loss: 0.5036 - val_binary_accuracy: 0.7456 - 8s/epoch - 218ms/step\n",
            "Epoch 11/50\n",
            "36/36 - 8s - loss: 0.5259 - binary_accuracy: 0.7236 - val_loss: 0.4997 - val_binary_accuracy: 0.7444 - 8s/epoch - 215ms/step\n",
            "Epoch 12/50\n",
            "36/36 - 8s - loss: 0.5219 - binary_accuracy: 0.7239 - val_loss: 0.4981 - val_binary_accuracy: 0.7462 - 8s/epoch - 215ms/step\n",
            "Epoch 13/50\n",
            "36/36 - 8s - loss: 0.5166 - binary_accuracy: 0.7271 - val_loss: 0.4955 - val_binary_accuracy: 0.7462 - 8s/epoch - 214ms/step\n",
            "Epoch 14/50\n",
            "36/36 - 8s - loss: 0.5153 - binary_accuracy: 0.7274 - val_loss: 0.4935 - val_binary_accuracy: 0.7462 - 8s/epoch - 214ms/step\n",
            "Epoch 15/50\n",
            "36/36 - 8s - loss: 0.5121 - binary_accuracy: 0.7304 - val_loss: 0.4912 - val_binary_accuracy: 0.7449 - 8s/epoch - 213ms/step\n",
            "Epoch 16/50\n",
            "36/36 - 8s - loss: 0.5103 - binary_accuracy: 0.7300 - val_loss: 0.4899 - val_binary_accuracy: 0.7451 - 8s/epoch - 214ms/step\n",
            "Epoch 17/50\n",
            "36/36 - 8s - loss: 0.5085 - binary_accuracy: 0.7310 - val_loss: 0.4890 - val_binary_accuracy: 0.7474 - 8s/epoch - 215ms/step\n",
            "Epoch 18/50\n",
            "36/36 - 8s - loss: 0.5055 - binary_accuracy: 0.7335 - val_loss: 0.4880 - val_binary_accuracy: 0.7483 - 8s/epoch - 215ms/step\n",
            "Epoch 19/50\n",
            "36/36 - 8s - loss: 0.5043 - binary_accuracy: 0.7337 - val_loss: 0.4868 - val_binary_accuracy: 0.7483 - 8s/epoch - 216ms/step\n",
            "Epoch 20/50\n",
            "36/36 - 8s - loss: 0.5035 - binary_accuracy: 0.7335 - val_loss: 0.4862 - val_binary_accuracy: 0.7483 - 8s/epoch - 215ms/step\n",
            "Epoch 21/50\n",
            "36/36 - 8s - loss: 0.5013 - binary_accuracy: 0.7344 - val_loss: 0.4843 - val_binary_accuracy: 0.7474 - 8s/epoch - 215ms/step\n",
            "Epoch 22/50\n",
            "36/36 - 8s - loss: 0.4994 - binary_accuracy: 0.7354 - val_loss: 0.4841 - val_binary_accuracy: 0.7483 - 8s/epoch - 215ms/step\n",
            "Epoch 23/50\n",
            "36/36 - 8s - loss: 0.4989 - binary_accuracy: 0.7360 - val_loss: 0.4831 - val_binary_accuracy: 0.7483 - 8s/epoch - 214ms/step\n",
            "Epoch 24/50\n",
            "36/36 - 8s - loss: 0.4970 - binary_accuracy: 0.7357 - val_loss: 0.4820 - val_binary_accuracy: 0.7474 - 8s/epoch - 214ms/step\n",
            "Epoch 25/50\n",
            "36/36 - 8s - loss: 0.4962 - binary_accuracy: 0.7373 - val_loss: 0.4814 - val_binary_accuracy: 0.7483 - 8s/epoch - 214ms/step\n",
            "Epoch 26/50\n",
            "36/36 - 8s - loss: 0.4948 - binary_accuracy: 0.7377 - val_loss: 0.4805 - val_binary_accuracy: 0.7474 - 8s/epoch - 214ms/step\n",
            "Epoch 27/50\n",
            "36/36 - 8s - loss: 0.4936 - binary_accuracy: 0.7385 - val_loss: 0.4802 - val_binary_accuracy: 0.7483 - 8s/epoch - 215ms/step\n",
            "Epoch 28/50\n",
            "36/36 - 8s - loss: 0.4932 - binary_accuracy: 0.7387 - val_loss: 0.4798 - val_binary_accuracy: 0.7483 - 8s/epoch - 215ms/step\n",
            "Epoch 29/50\n",
            "36/36 - 8s - loss: 0.4927 - binary_accuracy: 0.7394 - val_loss: 0.4794 - val_binary_accuracy: 0.7483 - 8s/epoch - 215ms/step\n",
            "Epoch 30/50\n",
            "36/36 - 8s - loss: 0.4920 - binary_accuracy: 0.7398 - val_loss: 0.4783 - val_binary_accuracy: 0.7483 - 8s/epoch - 215ms/step\n",
            "Epoch 31/50\n",
            "36/36 - 8s - loss: 0.4908 - binary_accuracy: 0.7392 - val_loss: 0.4786 - val_binary_accuracy: 0.7483 - 8s/epoch - 215ms/step\n",
            "Epoch 32/50\n",
            "36/36 - 8s - loss: 0.4890 - binary_accuracy: 0.7407 - val_loss: 0.4777 - val_binary_accuracy: 0.7483 - 8s/epoch - 215ms/step\n",
            "Epoch 33/50\n",
            "36/36 - 8s - loss: 0.4882 - binary_accuracy: 0.7404 - val_loss: 0.4765 - val_binary_accuracy: 0.7474 - 8s/epoch - 215ms/step\n",
            "Epoch 34/50\n",
            "36/36 - 8s - loss: 0.4882 - binary_accuracy: 0.7399 - val_loss: 0.4766 - val_binary_accuracy: 0.7483 - 8s/epoch - 215ms/step\n",
            "Epoch 35/50\n",
            "36/36 - 8s - loss: 0.4877 - binary_accuracy: 0.7408 - val_loss: 0.4753 - val_binary_accuracy: 0.7474 - 8s/epoch - 215ms/step\n",
            "Epoch 36/50\n",
            "36/36 - 8s - loss: 0.4872 - binary_accuracy: 0.7409 - val_loss: 0.4759 - val_binary_accuracy: 0.7493 - 8s/epoch - 215ms/step\n",
            "Epoch 37/50\n",
            "36/36 - 8s - loss: 0.4858 - binary_accuracy: 0.7405 - val_loss: 0.4749 - val_binary_accuracy: 0.7493 - 8s/epoch - 215ms/step\n",
            "Epoch 38/50\n",
            "36/36 - 8s - loss: 0.4854 - binary_accuracy: 0.7418 - val_loss: 0.4756 - val_binary_accuracy: 0.7497 - 8s/epoch - 215ms/step\n",
            "Epoch 39/50\n",
            "36/36 - 8s - loss: 0.4850 - binary_accuracy: 0.7431 - val_loss: 0.4735 - val_binary_accuracy: 0.7474 - 8s/epoch - 215ms/step\n",
            "Epoch 40/50\n",
            "36/36 - 8s - loss: 0.4840 - binary_accuracy: 0.7423 - val_loss: 0.4738 - val_binary_accuracy: 0.7493 - 8s/epoch - 215ms/step\n",
            "Epoch 41/50\n",
            "36/36 - 8s - loss: 0.4835 - binary_accuracy: 0.7425 - val_loss: 0.4730 - val_binary_accuracy: 0.7493 - 8s/epoch - 214ms/step\n",
            "Epoch 42/50\n",
            "36/36 - 8s - loss: 0.4838 - binary_accuracy: 0.7427 - val_loss: 0.4732 - val_binary_accuracy: 0.7497 - 8s/epoch - 215ms/step\n",
            "Epoch 43/50\n",
            "36/36 - 8s - loss: 0.4830 - binary_accuracy: 0.7425 - val_loss: 0.4736 - val_binary_accuracy: 0.7497 - 8s/epoch - 215ms/step\n",
            "Epoch 44/50\n",
            "36/36 - 8s - loss: 0.4831 - binary_accuracy: 0.7432 - val_loss: 0.4727 - val_binary_accuracy: 0.7497 - 8s/epoch - 215ms/step\n",
            "Epoch 45/50\n",
            "36/36 - 8s - loss: 0.4822 - binary_accuracy: 0.7434 - val_loss: 0.4719 - val_binary_accuracy: 0.7497 - 8s/epoch - 215ms/step\n",
            "Epoch 46/50\n",
            "36/36 - 8s - loss: 0.4814 - binary_accuracy: 0.7443 - val_loss: 0.4717 - val_binary_accuracy: 0.7497 - 8s/epoch - 215ms/step\n",
            "Epoch 47/50\n",
            "36/36 - 8s - loss: 0.4817 - binary_accuracy: 0.7433 - val_loss: 0.4716 - val_binary_accuracy: 0.7497 - 8s/epoch - 215ms/step\n",
            "Epoch 48/50\n",
            "36/36 - 8s - loss: 0.4811 - binary_accuracy: 0.7444 - val_loss: 0.4712 - val_binary_accuracy: 0.7497 - 8s/epoch - 215ms/step\n",
            "Epoch 49/50\n",
            "36/36 - 8s - loss: 0.4804 - binary_accuracy: 0.7445 - val_loss: 0.4715 - val_binary_accuracy: 0.7503 - 8s/epoch - 215ms/step\n",
            "Epoch 50/50\n",
            "36/36 - 8s - loss: 0.4792 - binary_accuracy: 0.7439 - val_loss: 0.4702 - val_binary_accuracy: 0.7497 - 8s/epoch - 217ms/step\n"
          ]
        }
      ],
      "source": [
        "from tensorflow.keras.callbacks import EarlyStopping\n",
        "\n",
        "BATCHES = final_matrix.shape[0] // 64\n",
        "\n",
        "history = model.fit(DNA_train, labels_train, batch_size=BATCHES, epochs=epochs, verbose=2, validation_split=0.30, callbacks=[EarlyStopping(monitor='val_loss', patience=10)])"
      ],
      "id": "38b41f02"
    },
    {
      "cell_type": "code",
      "execution_count": null,
      "metadata": {
        "id": "JreDv2EZ1B10"
      },
      "outputs": [],
      "source": [
        "model.save(\"/content/drive/MyDrive/GEN-DL/S2S_model.h5\")"
      ],
      "id": "JreDv2EZ1B10"
    },
    {
      "cell_type": "code",
      "execution_count": null,
      "metadata": {
        "colab": {
          "base_uri": "https://localhost:8080/",
          "height": 410
        },
        "id": "dac37375",
        "outputId": "f5610c9a-51b1-4358-dc4f-0bda097f6d39"
      },
      "outputs": [
        {
          "data": {
            "image/png": "[encoded data removed]",
            "text/plain": [
              "<Figure size 1800x400 with 2 Axes>"
            ]
          },
          "metadata": {},
          "output_type": "display_data"
        }
      ],
      "source": [
        "\n",
        "# Plot loss\n",
        "plt.figure(figsize=(18, 4))\n",
        "\n",
        "plt.subplot(1, 2, 1)\n",
        "plt.title('Loss')\n",
        "plt.plot(history.history['loss'], label='Training', linewidth=2)\n",
        "plt.plot(history.history['val_loss'], label='Validation', linewidth=2)\n",
        "plt.legend()\n",
        "plt.xlabel('Epoch')\n",
        "plt.ylabel('Loss')\n",
        "plt.grid(True)\n",
        "\n",
        "plt.subplot(1, 2, 2)\n",
        "plt.title('Accuracy')\n",
        "plt.plot(history.history['binary_accuracy'], label='Training', linewidth=2)\n",
        "plt.plot(history.history['val_binary_accuracy'], label='Validation', linewidth=2)\n",
        "plt.legend()\n",
        "plt.xlabel('Epoch')\n",
        "plt.ylabel('Accuracy')\n",
        "plt.grid(True)\n",
        "\n",
        "plt.show()"
      ],
      "id": "dac37375"
    },
    {
      "cell_type": "code",
      "execution_count": null,
      "metadata": {
        "colab": {
          "base_uri": "https://localhost:8080/"
        },
        "id": "dae7111f",
        "outputId": "554b14b6-c1d5-4769-e7cf-444402ea37e1"
      },
      "outputs": [
        {
          "name": "stdout",
          "output_type": "stream",
          "text": [
            "1124/1124 [==============================] - 2s 2ms/step\n",
            "(35941, 1)\n"
          ]
        }
      ],
      "source": [
        "# Load model back into memory, and use it for prediction\n",
        "from tensorflow.keras.models import load_model\n",
        "#DNN = load_model(\"S2S_model.h5\")\n",
        "\n",
        "y_test_hat = model.predict(x=DNA_test)\n",
        "print(y_test_hat.shape)\n"
      ],
      "id": "dae7111f"
    },
    {
      "cell_type": "code",
      "execution_count": null,
      "metadata": {
        "colab": {
          "base_uri": "https://localhost:8080/"
        },
        "id": "BGLel9AX2Zrn",
        "outputId": "917fc208-cabe-4973-a17b-76a582f568a6"
      },
      "outputs": [
        {
          "data": {
            "text/plain": [
              "array([[0.26772034],\n",
              "       [0.3159103 ],\n",
              "       [0.24010718],\n",
              "       ...,\n",
              "       [0.9849812 ],\n",
              "       [0.9826933 ],\n",
              "       [0.26727155]], dtype=float32)"
            ]
          },
          "execution_count": 64,
          "metadata": {},
          "output_type": "execute_result"
        }
      ],
      "source": [
        "y_test_hat"
      ],
      "id": "BGLel9AX2Zrn"
    },
    {
      "cell_type": "code",
      "execution_count": null,
      "metadata": {
        "id": "GbkWsCAnKyXx"
      },
      "outputs": [],
      "source": [
        "Conf_Mat = confusion_matrix(labels_test2, y_test_hat3.round())\n",
        "\n",
        "ConfusionMatrixDisplay.from_predictions(labels_test2, y_test_hat3.round())\n",
        "plt.show()"
      ],
      "id": "GbkWsCAnKyXx"
    },
    {
      "cell_type": "code",
      "execution_count": null,
      "metadata": {
        "colab": {
          "base_uri": "https://localhost:8080/",
          "height": 452
        },
        "id": "9e0063a9",
        "outputId": "6d66bfe5-bc68-4123-dfd2-dee56f7ed213"
      },
      "outputs": [
        {
          "data": {
            "image/png": "[encoded data removed]",
            "text/plain": [
              "<Figure size 640x480 with 1 Axes>"
            ]
          },
          "metadata": {},
          "output_type": "display_data"
        }
      ],
      "source": [
        "import matplotlib.pyplot as plt\n",
        "a = np.hstack((y_test_hat))\n",
        "_ = plt.hist(a, bins='auto')  # arguments are passed to np.histogram\n",
        "plt.title(\"Histogram with 'auto' bins\")\n",
        "plt.show()\n"
      ],
      "id": "9e0063a9"
    },
    {
      "cell_type": "markdown",
      "metadata": {
        "id": "h_tHHBVvyi1F"
      },
      "source": [
        "# Modelo 2"
      ],
      "id": "h_tHHBVvyi1F"
    },
    {
      "cell_type": "code",
      "execution_count": null,
      "metadata": {
        "colab": {
          "base_uri": "https://localhost:8080/"
        },
        "id": "vl_fkUHV2x2m",
        "outputId": "8ead0900-28dd-40e8-e00f-f684d59e1cf2"
      },
      "outputs": [
        {
          "name": "stdout",
          "output_type": "stream",
          "text": [
            "Model: \"sequential_3\"\n",
            "_________________________________________________________________\n",
            " Layer (type)                Output Shape              Param #   \n",
            "=================================================================\n",
            " conv1d_6 (Conv1D)           (None, 416, 32)           800       \n",
            "                                                                 \n",
            " conv1d_7 (Conv1D)           (None, 416, 32)           1056      \n",
            "                                                                 \n",
            " max_pooling1d_6 (MaxPooling  (None, 208, 32)          0         \n",
            " 1D)                                                             \n",
            "                                                                 \n",
            " conv1d_8 (Conv1D)           (None, 206, 64)           6208      \n",
            "                                                                 \n",
            " conv1d_9 (Conv1D)           (None, 206, 32)           2080      \n",
            "                                                                 \n",
            " max_pooling1d_7 (MaxPooling  (None, 103, 32)          0         \n",
            " 1D)                                                             \n",
            "                                                                 \n",
            " flatten_3 (Flatten)         (None, 3296)              0         \n",
            "                                                                 \n",
            " dense_6 (Dense)             (None, 128)               422016    \n",
            "                                                                 \n",
            " dense_7 (Dense)             (None, 1)                 129       \n",
            "                                                                 \n",
            "=================================================================\n",
            "Total params: 432,289\n",
            "Trainable params: 432,289\n",
            "Non-trainable params: 0\n",
            "_________________________________________________________________\n"
          ]
        }
      ],
      "source": [
        "model2 = Sequential()\n",
        "model2.add(Conv1D(filters=32, kernel_size=3, activation=relu, input_shape=(418, 8)))\n",
        "model2.add(Conv1D(filters=32, kernel_size=1, activation=relu))\n",
        "model2.add(MaxPooling1D(pool_size=2))\n",
        "model2.add(Conv1D(filters=64, kernel_size=3, activation=relu))\n",
        "model2.add(Conv1D(filters=32, kernel_size=1, activation=relu))\n",
        "model2.add(MaxPooling1D(pool_size=2))\n",
        "model2.add(Flatten())\n",
        "model2.add(Dense(128, activation=relu))\n",
        "model2.add(Dense(1, activation=sigmoid))\n",
        "\n",
        "model2.summary()"
      ],
      "id": "vl_fkUHV2x2m"
    },
    {
      "cell_type": "code",
      "execution_count": null,
      "metadata": {
        "colab": {
          "base_uri": "https://localhost:8080/"
        },
        "id": "4stVSOwt2y7D",
        "outputId": "c03e58f3-90b1-45aa-c510-060994e70133"
      },
      "outputs": [
        {
          "name": "stdout",
          "output_type": "stream",
          "text": [
            "Epoch 1/50\n",
            "36/36 - 7s - loss: 0.6887 - binary_accuracy: 0.5701 - val_loss: 0.6850 - val_binary_accuracy: 0.6348 - 7s/epoch - 205ms/step\n",
            "Epoch 2/50\n",
            "36/36 - 4s - loss: 0.6816 - binary_accuracy: 0.6782 - val_loss: 0.6781 - val_binary_accuracy: 0.7083 - 4s/epoch - 101ms/step\n",
            "Epoch 3/50\n",
            "36/36 - 4s - loss: 0.6753 - binary_accuracy: 0.7076 - val_loss: 0.6721 - val_binary_accuracy: 0.7227 - 4s/epoch - 101ms/step\n",
            "Epoch 4/50\n",
            "36/36 - 4s - loss: 0.6693 - binary_accuracy: 0.7149 - val_loss: 0.6660 - val_binary_accuracy: 0.7177 - 4s/epoch - 102ms/step\n",
            "Epoch 5/50\n",
            "36/36 - 4s - loss: 0.6630 - binary_accuracy: 0.7219 - val_loss: 0.6592 - val_binary_accuracy: 0.7234 - 4s/epoch - 102ms/step\n",
            "Epoch 6/50\n",
            "36/36 - 4s - loss: 0.6557 - binary_accuracy: 0.7263 - val_loss: 0.6515 - val_binary_accuracy: 0.7209 - 4s/epoch - 105ms/step\n",
            "Epoch 7/50\n",
            "36/36 - 4s - loss: 0.6476 - binary_accuracy: 0.7276 - val_loss: 0.6430 - val_binary_accuracy: 0.7250 - 4s/epoch - 105ms/step\n",
            "Epoch 8/50\n",
            "36/36 - 4s - loss: 0.6388 - binary_accuracy: 0.7291 - val_loss: 0.6337 - val_binary_accuracy: 0.7305 - 4s/epoch - 103ms/step\n",
            "Epoch 9/50\n",
            "36/36 - 4s - loss: 0.6291 - binary_accuracy: 0.7313 - val_loss: 0.6235 - val_binary_accuracy: 0.7305 - 4s/epoch - 103ms/step\n",
            "Epoch 10/50\n",
            "36/36 - 4s - loss: 0.6186 - binary_accuracy: 0.7322 - val_loss: 0.6124 - val_binary_accuracy: 0.7305 - 4s/epoch - 103ms/step\n",
            "Epoch 11/50\n",
            "36/36 - 4s - loss: 0.6067 - binary_accuracy: 0.7319 - val_loss: 0.5997 - val_binary_accuracy: 0.7330 - 4s/epoch - 103ms/step\n",
            "Epoch 12/50\n",
            "36/36 - 4s - loss: 0.5940 - binary_accuracy: 0.7321 - val_loss: 0.5869 - val_binary_accuracy: 0.7337 - 4s/epoch - 103ms/step\n",
            "Epoch 13/50\n",
            "36/36 - 4s - loss: 0.5810 - binary_accuracy: 0.7330 - val_loss: 0.5740 - val_binary_accuracy: 0.7303 - 4s/epoch - 107ms/step\n",
            "Epoch 14/50\n",
            "36/36 - 4s - loss: 0.5682 - binary_accuracy: 0.7325 - val_loss: 0.5613 - val_binary_accuracy: 0.7337 - 4s/epoch - 103ms/step\n",
            "Epoch 15/50\n",
            "36/36 - 4s - loss: 0.5557 - binary_accuracy: 0.7352 - val_loss: 0.5491 - val_binary_accuracy: 0.7350 - 4s/epoch - 102ms/step\n",
            "Epoch 16/50\n",
            "36/36 - 4s - loss: 0.5446 - binary_accuracy: 0.7366 - val_loss: 0.5388 - val_binary_accuracy: 0.7380 - 4s/epoch - 102ms/step\n",
            "Epoch 17/50\n",
            "36/36 - 4s - loss: 0.5351 - binary_accuracy: 0.7373 - val_loss: 0.5301 - val_binary_accuracy: 0.7393 - 4s/epoch - 102ms/step\n",
            "Epoch 18/50\n",
            "36/36 - 4s - loss: 0.5271 - binary_accuracy: 0.7373 - val_loss: 0.5228 - val_binary_accuracy: 0.7367 - 4s/epoch - 102ms/step\n",
            "Epoch 19/50\n",
            "36/36 - 4s - loss: 0.5205 - binary_accuracy: 0.7366 - val_loss: 0.5169 - val_binary_accuracy: 0.7367 - 4s/epoch - 102ms/step\n",
            "Epoch 20/50\n",
            "36/36 - 4s - loss: 0.5152 - binary_accuracy: 0.7364 - val_loss: 0.5121 - val_binary_accuracy: 0.7366 - 4s/epoch - 102ms/step\n",
            "Epoch 21/50\n",
            "36/36 - 4s - loss: 0.5109 - binary_accuracy: 0.7372 - val_loss: 0.5082 - val_binary_accuracy: 0.7387 - 4s/epoch - 102ms/step\n",
            "Epoch 22/50\n",
            "36/36 - 4s - loss: 0.5073 - binary_accuracy: 0.7369 - val_loss: 0.5050 - val_binary_accuracy: 0.7387 - 4s/epoch - 102ms/step\n",
            "Epoch 23/50\n",
            "36/36 - 4s - loss: 0.5044 - binary_accuracy: 0.7375 - val_loss: 0.5023 - val_binary_accuracy: 0.7385 - 4s/epoch - 101ms/step\n",
            "Epoch 24/50\n",
            "36/36 - 4s - loss: 0.5019 - binary_accuracy: 0.7368 - val_loss: 0.5000 - val_binary_accuracy: 0.7391 - 4s/epoch - 102ms/step\n",
            "Epoch 25/50\n",
            "36/36 - 4s - loss: 0.4999 - binary_accuracy: 0.7372 - val_loss: 0.4981 - val_binary_accuracy: 0.7361 - 4s/epoch - 102ms/step\n",
            "Epoch 26/50\n",
            "36/36 - 4s - loss: 0.4980 - binary_accuracy: 0.7368 - val_loss: 0.4965 - val_binary_accuracy: 0.7397 - 4s/epoch - 102ms/step\n",
            "Epoch 27/50\n",
            "36/36 - 4s - loss: 0.4964 - binary_accuracy: 0.7371 - val_loss: 0.4949 - val_binary_accuracy: 0.7371 - 4s/epoch - 102ms/step\n",
            "Epoch 28/50\n",
            "36/36 - 4s - loss: 0.4950 - binary_accuracy: 0.7370 - val_loss: 0.4939 - val_binary_accuracy: 0.7356 - 4s/epoch - 102ms/step\n",
            "Epoch 29/50\n",
            "36/36 - 4s - loss: 0.4938 - binary_accuracy: 0.7370 - val_loss: 0.4924 - val_binary_accuracy: 0.7371 - 4s/epoch - 102ms/step\n",
            "Epoch 30/50\n",
            "36/36 - 4s - loss: 0.4927 - binary_accuracy: 0.7371 - val_loss: 0.4913 - val_binary_accuracy: 0.7371 - 4s/epoch - 102ms/step\n",
            "Epoch 31/50\n",
            "36/36 - 4s - loss: 0.4916 - binary_accuracy: 0.7377 - val_loss: 0.4903 - val_binary_accuracy: 0.7371 - 4s/epoch - 102ms/step\n",
            "Epoch 32/50\n",
            "36/36 - 4s - loss: 0.4906 - binary_accuracy: 0.7369 - val_loss: 0.4893 - val_binary_accuracy: 0.7371 - 4s/epoch - 103ms/step\n",
            "Epoch 33/50\n",
            "36/36 - 4s - loss: 0.4897 - binary_accuracy: 0.7371 - val_loss: 0.4884 - val_binary_accuracy: 0.7371 - 4s/epoch - 102ms/step\n",
            "Epoch 34/50\n",
            "36/36 - 4s - loss: 0.4888 - binary_accuracy: 0.7376 - val_loss: 0.4875 - val_binary_accuracy: 0.7382 - 4s/epoch - 103ms/step\n",
            "Epoch 35/50\n",
            "36/36 - 4s - loss: 0.4879 - binary_accuracy: 0.7383 - val_loss: 0.4868 - val_binary_accuracy: 0.7403 - 4s/epoch - 103ms/step\n",
            "Epoch 36/50\n",
            "36/36 - 4s - loss: 0.4871 - binary_accuracy: 0.7394 - val_loss: 0.4860 - val_binary_accuracy: 0.7403 - 4s/epoch - 103ms/step\n",
            "Epoch 37/50\n",
            "36/36 - 4s - loss: 0.4863 - binary_accuracy: 0.7398 - val_loss: 0.4852 - val_binary_accuracy: 0.7405 - 4s/epoch - 103ms/step\n",
            "Epoch 38/50\n",
            "36/36 - 4s - loss: 0.4856 - binary_accuracy: 0.7402 - val_loss: 0.4846 - val_binary_accuracy: 0.7403 - 4s/epoch - 102ms/step\n",
            "Epoch 39/50\n",
            "36/36 - 4s - loss: 0.4849 - binary_accuracy: 0.7403 - val_loss: 0.4839 - val_binary_accuracy: 0.7397 - 4s/epoch - 102ms/step\n",
            "Epoch 40/50\n",
            "36/36 - 4s - loss: 0.4842 - binary_accuracy: 0.7406 - val_loss: 0.4831 - val_binary_accuracy: 0.7403 - 4s/epoch - 103ms/step\n",
            "Epoch 41/50\n",
            "36/36 - 4s - loss: 0.4834 - binary_accuracy: 0.7402 - val_loss: 0.4825 - val_binary_accuracy: 0.7416 - 4s/epoch - 102ms/step\n",
            "Epoch 42/50\n",
            "36/36 - 4s - loss: 0.4828 - binary_accuracy: 0.7409 - val_loss: 0.4818 - val_binary_accuracy: 0.7395 - 4s/epoch - 102ms/step\n",
            "Epoch 43/50\n",
            "36/36 - 4s - loss: 0.4822 - binary_accuracy: 0.7413 - val_loss: 0.4811 - val_binary_accuracy: 0.7416 - 4s/epoch - 102ms/step\n",
            "Epoch 44/50\n",
            "36/36 - 4s - loss: 0.4814 - binary_accuracy: 0.7418 - val_loss: 0.4806 - val_binary_accuracy: 0.7395 - 4s/epoch - 102ms/step\n",
            "Epoch 45/50\n",
            "36/36 - 4s - loss: 0.4809 - binary_accuracy: 0.7416 - val_loss: 0.4801 - val_binary_accuracy: 0.7435 - 4s/epoch - 102ms/step\n",
            "Epoch 46/50\n",
            "36/36 - 4s - loss: 0.4803 - binary_accuracy: 0.7419 - val_loss: 0.4794 - val_binary_accuracy: 0.7435 - 4s/epoch - 102ms/step\n",
            "Epoch 47/50\n",
            "36/36 - 4s - loss: 0.4797 - binary_accuracy: 0.7422 - val_loss: 0.4789 - val_binary_accuracy: 0.7435 - 4s/epoch - 102ms/step\n",
            "Epoch 48/50\n",
            "36/36 - 4s - loss: 0.4791 - binary_accuracy: 0.7423 - val_loss: 0.4783 - val_binary_accuracy: 0.7412 - 4s/epoch - 102ms/step\n",
            "Epoch 49/50\n",
            "36/36 - 4s - loss: 0.4786 - binary_accuracy: 0.7423 - val_loss: 0.4779 - val_binary_accuracy: 0.7435 - 4s/epoch - 102ms/step\n",
            "Epoch 50/50\n",
            "36/36 - 4s - loss: 0.4780 - binary_accuracy: 0.7425 - val_loss: 0.4772 - val_binary_accuracy: 0.7423 - 4s/epoch - 102ms/step\n"
          ]
        }
      ],
      "source": [
        "epochs = 50\n",
        "lrate = 0.001\n",
        "decay = lrate / epochs\n",
        "optim = SGD(learning_rate = lrate, momentum = 0.90, nesterov = True)\n",
        "model2.compile(loss='binary_crossentropy', optimizer=optim, metrics=['binary_accuracy'])\n",
        "\n",
        "BATCHES = final_matrix.shape[0] // 64\n",
        "\n",
        "history2 = model2.fit(DNA_train, labels_train, batch_size=BATCHES, epochs=epochs, verbose=2, validation_split=0.30, callbacks=[EarlyStopping(monitor='val_loss', patience=10)])"
      ],
      "id": "4stVSOwt2y7D"
    },
    {
      "cell_type": "code",
      "execution_count": null,
      "metadata": {
        "id": "96qbhnEX211C"
      },
      "outputs": [],
      "source": [
        "model2.save(\"/content/drive/MyDrive/GEN-DL/S2S_model2.h5\")b"
      ],
      "id": "96qbhnEX211C"
    },
    {
      "cell_type": "code",
      "execution_count": null,
      "metadata": {
        "colab": {
          "base_uri": "https://localhost:8080/",
          "height": 410
        },
        "id": "RCq3CJyZ4Fi0",
        "outputId": "1e58972d-f2c2-415d-d675-8484306a435d"
      },
      "outputs": [
        {
          "data": {
            "image/png": "[encoded data removed]",
            "text/plain": [
              "<Figure size 1800x400 with 2 Axes>"
            ]
          },
          "metadata": {},
          "output_type": "display_data"
        }
      ],
      "source": [
        "# Plot loss\n",
        "plt.figure(figsize=(18, 4))\n",
        "\n",
        "plt.subplot(1, 2, 1)\n",
        "plt.title('Loss')\n",
        "plt.plot(history2.history['loss'], label='Training', linewidth=2)\n",
        "plt.plot(history2.history['val_loss'], label='Validation', linewidth=2)\n",
        "plt.legend()\n",
        "plt.xlabel('Epoch')\n",
        "plt.ylabel('Loss')\n",
        "plt.grid(True)\n",
        "\n",
        "plt.subplot(1, 2, 2)\n",
        "plt.title('Accuracy')\n",
        "plt.plot(history2.history['binary_accuracy'], label='Training', linewidth=2)\n",
        "plt.plot(history2.history['val_binary_accuracy'], label='Validation', linewidth=2)\n",
        "plt.legend()\n",
        "plt.xlabel('Epoch')\n",
        "plt.ylabel('Accuracy')\n",
        "plt.grid(True)\n",
        "\n",
        "plt.show()"
      ],
      "id": "RCq3CJyZ4Fi0"
    },
    {
      "cell_type": "code",
      "execution_count": null,
      "metadata": {
        "colab": {
          "base_uri": "https://localhost:8080/"
        },
        "id": "ZR7KDHi428ez",
        "outputId": "a49ec0e5-c0a4-42c2-89eb-954a1b35e194"
      },
      "outputs": [
        {
          "name": "stdout",
          "output_type": "stream",
          "text": [
            "1124/1124 [==============================] - 2s 2ms/step\n",
            "(35941, 1)\n"
          ]
        }
      ],
      "source": [
        "y_test_hat = model2.predict(x=DNA_test)\n",
        "print(y_test_hat.shape)"
      ],
      "id": "ZR7KDHi428ez"
    },
    {
      "cell_type": "code",
      "execution_count": null,
      "metadata": {
        "id": "f4pcORZ54FQI"
      },
      "outputs": [],
      "source": [],
      "id": "f4pcORZ54FQI"
    },
    {
      "cell_type": "code",
      "execution_count": null,
      "metadata": {
        "colab": {
          "base_uri": "https://localhost:8080/",
          "height": 452
        },
        "id": "w32M-ZO73OU-",
        "outputId": "11f4259d-90b5-44ad-eacf-cdac37d2abab"
      },
      "outputs": [
        {
          "data": {
            "image/png": "[encoded data removed]",
            "text/plain": [
              "<Figure size 640x480 with 1 Axes>"
            ]
          },
          "metadata": {},
          "output_type": "display_data"
        }
      ],
      "source": [
        "import matplotlib.pyplot as plt\n",
        "a = np.hstack((y_test_hat))\n",
        "_ = plt.hist(a, bins='auto')  # arguments are passed to np.histogram\n",
        "plt.title(\"Histogram with 'auto' bins\")\n",
        "plt.show()"
      ],
      "id": "w32M-ZO73OU-"
    },
    {
      "cell_type": "markdown",
      "metadata": {
        "id": "haXMxKhe55ay"
      },
      "source": [
        "# Modelo 3, data nueva 75%"
      ],
      "id": "haXMxKhe55ay"
    },
    {
      "cell_type": "code",
      "execution_count": null,
      "metadata": {
        "id": "nCrCe-Fc6EOW"
      },
      "outputs": [],
      "source": [
        "def matrix2(data,concat_type,n):\n",
        "    \n",
        "    #Pasamos a letras mayúsculas las cadenas\n",
        "    data['Sequence'] = data['Sequence'].apply(lambda x: x.upper())\n",
        "    #Llamamos a la función para filtrar los datos\n",
        "    #balanced_data = balance_one_tax_data(data, 'order_final', 'Diptera', 50)\n",
        "    balanced_data = pd.concat((data[data['order_final'] == 'Diptera'].sample(300), data[data['order_final'] == 'Lepidoptera'].sample(300)))\n",
        "    #Llamamos a la función para realizar todas las combinaciones\n",
        "    combinations = combination_matrix(balanced_data,'Sequence','order_final')\n",
        "    #Llamamos a la función para determinar si los Taxones son iguales\n",
        "    DNA_matrix = tax_comparison(combinations,'Tax1','Tax2')\n",
        "    #Pasamos los valores boolean a integer\n",
        "    DNA_matrix['Same'] = DNA_matrix['Same'].astype(int)\n",
        "    \n",
        "    DNA_matrix['Paired_seq'] = ''  # Creamos una columna vacía para almacenar los resultados\n",
        "    for index, row in DNA_matrix.iterrows():\n",
        "        sequence1 = row['Sequence1']\n",
        "        sequence2 = row['Sequence2']\n",
        "\n",
        "        parte_k1 = sequence1[:n]\n",
        "        parte_k2 = sequence2[:n]\n",
        "\n",
        "\n",
        "        encoding1 = sequence_encoding(parte_k1)\n",
        "        encoding2 = sequence_encoding(parte_k2)\n",
        "        vectors_padded = pad_sequences([encoding1, encoding2], padding='post')\n",
        "        paired_sequences = concat_type(vectors_padded[0], vectors_padded[0])\n",
        "        DNA_matrix.at[index, 'Paired_seq'] = paired_sequences\n",
        "    return DNA_matrix"
      ],
      "id": "nCrCe-Fc6EOW"
    },
    {
      "cell_type": "code",
      "execution_count": null,
      "metadata": {
        "colab": {
          "base_uri": "https://localhost:8080/",
          "height": 424
        },
        "id": "peH2H2zx645r",
        "outputId": "542b0a00-a6d3-40db-cff9-938457de0db2"
      },
      "outputs": [
        {
          "data": {
            "text/html": [
              "\n",
              "  <div id=\"df-5b598837-dc88-4ee0-920a-757c0abe3887\">\n",
              "    <div class=\"colab-df-container\">\n",
              "      <div>\n",
              "<style scoped>\n",
              "    .dataframe tbody tr th:only-of-type {\n",
              "        vertical-align: middle;\n",
              "    }\n",
              "\n",
              "    .dataframe tbody tr th {\n",
              "        vertical-align: top;\n",
              "    }\n",
              "\n",
              "    .dataframe thead th {\n",
              "        text-align: right;\n",
              "    }\n",
              "</style>\n",
              "<table border=\"1\" class=\"dataframe\">\n",
              "  <thead>\n",
              "    <tr style=\"text-align: right;\">\n",
              "      <th></th>\n",
              "      <th>Sequence1</th>\n",
              "      <th>Sequence2</th>\n",
              "      <th>Tax1</th>\n",
              "      <th>Tax2</th>\n",
              "      <th>Same</th>\n",
              "      <th>Paired_seq</th>\n",
              "    </tr>\n",
              "  </thead>\n",
              "  <tbody>\n",
              "    <tr>\n",
              "      <th>0</th>\n",
              "      <td>GTTAAATAATATAAGATTTTGATTACTACCCCCATCTTTAACTTTA...</td>\n",
              "      <td>AATAAATAATATAAGATTTTGACTATTACCCCCCTCTCTTACTCTT...</td>\n",
              "      <td>Diptera</td>\n",
              "      <td>Diptera</td>\n",
              "      <td>1</td>\n",
              "      <td>[[0, 0, 1, 0, 0, 0, 1, 0], [0, 0, 0, 1, 0, 0, ...</td>\n",
              "    </tr>\n",
              "    <tr>\n",
              "      <th>1</th>\n",
              "      <td>GTTAAATAATATAAGATTTTGATTACTACCCCCATCTTTAACTTTA...</td>\n",
              "      <td>AATAAATAATATAAGTTTTTGACTTTTACCTCCTGCTTTAGTACTT...</td>\n",
              "      <td>Diptera</td>\n",
              "      <td>Diptera</td>\n",
              "      <td>1</td>\n",
              "      <td>[[0, 0, 1, 0, 0, 0, 1, 0], [0, 0, 0, 1, 0, 0, ...</td>\n",
              "    </tr>\n",
              "    <tr>\n",
              "      <th>2</th>\n",
              "      <td>GTTAAATAATATAAGATTTTGATTACTACCCCCATCTTTAACTTTA...</td>\n",
              "      <td>AATAAATAATTTAAGATTTTGATTATTACCTCCTTCATTATCATTA...</td>\n",
              "      <td>Diptera</td>\n",
              "      <td>Diptera</td>\n",
              "      <td>1</td>\n",
              "      <td>[[0, 0, 1, 0, 0, 0, 1, 0], [0, 0, 0, 1, 0, 0, ...</td>\n",
              "    </tr>\n",
              "    <tr>\n",
              "      <th>3</th>\n",
              "      <td>GTTAAATAATATAAGATTTTGATTACTACCCCCATCTTTAACTTTA...</td>\n",
              "      <td>CTTAAATAATATAAGATTTTGATTACTCCCCCCTTCATTAACTTTA...</td>\n",
              "      <td>Diptera</td>\n",
              "      <td>Diptera</td>\n",
              "      <td>1</td>\n",
              "      <td>[[0, 0, 1, 0, 0, 0, 1, 0], [0, 0, 0, 1, 0, 0, ...</td>\n",
              "    </tr>\n",
              "    <tr>\n",
              "      <th>4</th>\n",
              "      <td>GTTAAATAATATAAGATTTTGATTACTACCCCCATCTTTAACTTTA...</td>\n",
              "      <td>AATAAATAATATAAGATTTTGAATACTTCCCCCATCTCTTACTTTA...</td>\n",
              "      <td>Diptera</td>\n",
              "      <td>Diptera</td>\n",
              "      <td>1</td>\n",
              "      <td>[[0, 0, 1, 0, 0, 0, 1, 0], [0, 0, 0, 1, 0, 0, ...</td>\n",
              "    </tr>\n",
              "    <tr>\n",
              "      <th>...</th>\n",
              "      <td>...</td>\n",
              "      <td>...</td>\n",
              "      <td>...</td>\n",
              "      <td>...</td>\n",
              "      <td>...</td>\n",
              "      <td>...</td>\n",
              "    </tr>\n",
              "    <tr>\n",
              "      <th>179695</th>\n",
              "      <td>AATAAATAATATAAGATTTTGATTATTACCTCCTTCTTTAATTTTA...</td>\n",
              "      <td>AATAAATAATATAAGTTTCTGACTTCTACCCCCTTCTTTAACTCTT...</td>\n",
              "      <td>Lepidoptera</td>\n",
              "      <td>Lepidoptera</td>\n",
              "      <td>1</td>\n",
              "      <td>[[1, 0, 0, 0, 1, 0, 0, 0], [1, 0, 0, 0, 1, 0, ...</td>\n",
              "    </tr>\n",
              "    <tr>\n",
              "      <th>179696</th>\n",
              "      <td>AATAAATAATATAAGATTTTGATTATTACCTCCTTCTTTAATTTTA...</td>\n",
              "      <td>AATAAATAATATAAGATTTTGATTATTACCCCCTTCTTTAACTCTA...</td>\n",
              "      <td>Lepidoptera</td>\n",
              "      <td>Lepidoptera</td>\n",
              "      <td>1</td>\n",
              "      <td>[[1, 0, 0, 0, 1, 0, 0, 0], [1, 0, 0, 0, 1, 0, ...</td>\n",
              "    </tr>\n",
              "    <tr>\n",
              "      <th>179697</th>\n",
              "      <td>AATAAATAATATAAGTTTCTGACTTTTACCCCCCTCTCTTACTTTA...</td>\n",
              "      <td>AATAAATAATATAAGTTTCTGACTTCTACCCCCTTCTTTAACTCTT...</td>\n",
              "      <td>Lepidoptera</td>\n",
              "      <td>Lepidoptera</td>\n",
              "      <td>1</td>\n",
              "      <td>[[1, 0, 0, 0, 1, 0, 0, 0], [1, 0, 0, 0, 1, 0, ...</td>\n",
              "    </tr>\n",
              "    <tr>\n",
              "      <th>179698</th>\n",
              "      <td>AATAAATAATATAAGTTTCTGACTTTTACCCCCCTCTCTTACTTTA...</td>\n",
              "      <td>AATAAATAATATAAGATTTTGATTATTACCCCCTTCTTTAACTCTA...</td>\n",
              "      <td>Lepidoptera</td>\n",
              "      <td>Lepidoptera</td>\n",
              "      <td>1</td>\n",
              "      <td>[[1, 0, 0, 0, 1, 0, 0, 0], [1, 0, 0, 0, 1, 0, ...</td>\n",
              "    </tr>\n",
              "    <tr>\n",
              "      <th>179699</th>\n",
              "      <td>AATAAATAATATAAGTTTCTGACTTCTACCCCCTTCTTTAACTCTT...</td>\n",
              "      <td>AATAAATAATATAAGATTTTGATTATTACCCCCTTCTTTAACTCTA...</td>\n",
              "      <td>Lepidoptera</td>\n",
              "      <td>Lepidoptera</td>\n",
              "      <td>1</td>\n",
              "      <td>[[1, 0, 0, 0, 1, 0, 0, 0], [1, 0, 0, 0, 1, 0, ...</td>\n",
              "    </tr>\n",
              "  </tbody>\n",
              "</table>\n",
              "<p>179700 rows × 6 columns</p>\n",
              "</div>\n",
              "      <button class=\"colab-df-convert\" onclick=\"convertToInteractive('df-5b598837-dc88-4ee0-920a-757c0abe3887')\"\n",
              "              title=\"Convert this dataframe to an interactive table.\"\n",
              "              style=\"display:none;\">\n",
              "        \n",
              "  <svg xmlns=\"http://www.w3.org/2000/svg\" height=\"24px\"viewBox=\"0 0 24 24\"\n",
              "       width=\"24px\">\n",
              "    <path d=\"M0 0h24v24H0V0z\" fill=\"none\"/>\n",
              "    <path d=\"M18.56 5.44l.94 2.06.94-2.06 2.06-.94-2.06-.94-.94-2.06-.94 2.06-2.06.94zm-11 1L8.5 8.5l.94-2.06 2.06-.94-2.06-.94L8.5 2.5l-.94 2.06-2.06.94zm10 10l.94 2.06.94-2.06 2.06-.94-2.06-.94-.94-2.06-.94 2.06-2.06.94z\"/><path d=\"M17.41 7.96l-1.37-1.37c-.4-.4-.92-.59-1.43-.59-.52 0-1.04.2-1.43.59L10.3 9.45l-7.72 7.72c-.78.78-.78 2.05 0 2.83L4 21.41c.39.39.9.59 1.41.59.51 0 1.02-.2 1.41-.59l7.78-7.78 2.81-2.81c.8-.78.8-2.07 0-2.86zM5.41 20L4 18.59l7.72-7.72 1.47 1.35L5.41 20z\"/>\n",
              "  </svg>\n",
              "      </button>\n",
              "      \n",
              "  <style>\n",
              "    .colab-df-container {\n",
              "      display:flex;\n",
              "      flex-wrap:wrap;\n",
              "      gap: 12px;\n",
              "    }\n",
              "\n",
              "    .colab-df-convert {\n",
              "      background-color: #E8F0FE;\n",
              "      border: none;\n",
              "      border-radius: 50%;\n",
              "      cursor: pointer;\n",
              "      display: none;\n",
              "      fill: #1967D2;\n",
              "      height: 32px;\n",
              "      padding: 0 0 0 0;\n",
              "      width: 32px;\n",
              "    }\n",
              "\n",
              "    .colab-df-convert:hover {\n",
              "      background-color: #E2EBFA;\n",
              "      box-shadow: 0px 1px 2px rgba(60, 64, 67, 0.3), 0px 1px 3px 1px rgba(60, 64, 67, 0.15);\n",
              "      fill: #174EA6;\n",
              "    }\n",
              "\n",
              "    [theme=dark] .colab-df-convert {\n",
              "      background-color: #3B4455;\n",
              "      fill: #D2E3FC;\n",
              "    }\n",
              "\n",
              "    [theme=dark] .colab-df-convert:hover {\n",
              "      background-color: #434B5C;\n",
              "      box-shadow: 0px 1px 3px 1px rgba(0, 0, 0, 0.15);\n",
              "      filter: drop-shadow(0px 1px 2px rgba(0, 0, 0, 0.3));\n",
              "      fill: #FFFFFF;\n",
              "    }\n",
              "  </style>\n",
              "\n",
              "      <script>\n",
              "        const buttonEl =\n",
              "          document.querySelector('#df-5b598837-dc88-4ee0-920a-757c0abe3887 button.colab-df-convert');\n",
              "        buttonEl.style.display =\n",
              "          google.colab.kernel.accessAllowed ? 'block' : 'none';\n",
              "\n",
              "        async function convertToInteractive(key) {\n",
              "          const element = document.querySelector('#df-5b598837-dc88-4ee0-920a-757c0abe3887');\n",
              "          const dataTable =\n",
              "            await google.colab.kernel.invokeFunction('convertToInteractive',\n",
              "                                                     [key], {});\n",
              "          if (!dataTable) return;\n",
              "\n",
              "          const docLinkHtml = 'Like what you see? Visit the ' +\n",
              "            '<a target=\"_blank\" href=https://colab.research.google.com/notebooks/data_table.ipynb>data table notebook</a>'\n",
              "            + ' to learn more about interactive tables.';\n",
              "          element.innerHTML = '';\n",
              "          dataTable['output_type'] = 'display_data';\n",
              "          await google.colab.output.renderOutput(dataTable, element);\n",
              "          const docLink = document.createElement('div');\n",
              "          docLink.innerHTML = docLinkHtml;\n",
              "          element.appendChild(docLink);\n",
              "        }\n",
              "      </script>\n",
              "    </div>\n",
              "  </div>\n",
              "  "
            ],
            "text/plain": [
              "                                                Sequence1  \\\n",
              "0       GTTAAATAATATAAGATTTTGATTACTACCCCCATCTTTAACTTTA...   \n",
              "1       GTTAAATAATATAAGATTTTGATTACTACCCCCATCTTTAACTTTA...   \n",
              "2       GTTAAATAATATAAGATTTTGATTACTACCCCCATCTTTAACTTTA...   \n",
              "3       GTTAAATAATATAAGATTTTGATTACTACCCCCATCTTTAACTTTA...   \n",
              "4       GTTAAATAATATAAGATTTTGATTACTACCCCCATCTTTAACTTTA...   \n",
              "...                                                   ...   \n",
              "179695  AATAAATAATATAAGATTTTGATTATTACCTCCTTCTTTAATTTTA...   \n",
              "179696  AATAAATAATATAAGATTTTGATTATTACCTCCTTCTTTAATTTTA...   \n",
              "179697  AATAAATAATATAAGTTTCTGACTTTTACCCCCCTCTCTTACTTTA...   \n",
              "179698  AATAAATAATATAAGTTTCTGACTTTTACCCCCCTCTCTTACTTTA...   \n",
              "179699  AATAAATAATATAAGTTTCTGACTTCTACCCCCTTCTTTAACTCTT...   \n",
              "\n",
              "                                                Sequence2         Tax1  \\\n",
              "0       AATAAATAATATAAGATTTTGACTATTACCCCCCTCTCTTACTCTT...      Diptera   \n",
              "1       AATAAATAATATAAGTTTTTGACTTTTACCTCCTGCTTTAGTACTT...      Diptera   \n",
              "2       AATAAATAATTTAAGATTTTGATTATTACCTCCTTCATTATCATTA...      Diptera   \n",
              "3       CTTAAATAATATAAGATTTTGATTACTCCCCCCTTCATTAACTTTA...      Diptera   \n",
              "4       AATAAATAATATAAGATTTTGAATACTTCCCCCATCTCTTACTTTA...      Diptera   \n",
              "...                                                   ...          ...   \n",
              "179695  AATAAATAATATAAGTTTCTGACTTCTACCCCCTTCTTTAACTCTT...  Lepidoptera   \n",
              "179696  AATAAATAATATAAGATTTTGATTATTACCCCCTTCTTTAACTCTA...  Lepidoptera   \n",
              "179697  AATAAATAATATAAGTTTCTGACTTCTACCCCCTTCTTTAACTCTT...  Lepidoptera   \n",
              "179698  AATAAATAATATAAGATTTTGATTATTACCCCCTTCTTTAACTCTA...  Lepidoptera   \n",
              "179699  AATAAATAATATAAGATTTTGATTATTACCCCCTTCTTTAACTCTA...  Lepidoptera   \n",
              "\n",
              "               Tax2  Same                                         Paired_seq  \n",
              "0           Diptera     1  [[0, 0, 1, 0, 0, 0, 1, 0], [0, 0, 0, 1, 0, 0, ...  \n",
              "1           Diptera     1  [[0, 0, 1, 0, 0, 0, 1, 0], [0, 0, 0, 1, 0, 0, ...  \n",
              "2           Diptera     1  [[0, 0, 1, 0, 0, 0, 1, 0], [0, 0, 0, 1, 0, 0, ...  \n",
              "3           Diptera     1  [[0, 0, 1, 0, 0, 0, 1, 0], [0, 0, 0, 1, 0, 0, ...  \n",
              "4           Diptera     1  [[0, 0, 1, 0, 0, 0, 1, 0], [0, 0, 0, 1, 0, 0, ...  \n",
              "...             ...   ...                                                ...  \n",
              "179695  Lepidoptera     1  [[1, 0, 0, 0, 1, 0, 0, 0], [1, 0, 0, 0, 1, 0, ...  \n",
              "179696  Lepidoptera     1  [[1, 0, 0, 0, 1, 0, 0, 0], [1, 0, 0, 0, 1, 0, ...  \n",
              "179697  Lepidoptera     1  [[1, 0, 0, 0, 1, 0, 0, 0], [1, 0, 0, 0, 1, 0, ...  \n",
              "179698  Lepidoptera     1  [[1, 0, 0, 0, 1, 0, 0, 0], [1, 0, 0, 0, 1, 0, ...  \n",
              "179699  Lepidoptera     1  [[1, 0, 0, 0, 1, 0, 0, 0], [1, 0, 0, 0, 1, 0, ...  \n",
              "\n",
              "[179700 rows x 6 columns]"
            ]
          },
          "execution_count": 73,
          "metadata": {},
          "output_type": "execute_result"
        }
      ],
      "source": [
        "matrix2 = matrix2(data,side_by_side_sequence,313)\n",
        "matrix2"
      ],
      "id": "peH2H2zx645r"
    },
    {
      "cell_type": "code",
      "execution_count": null,
      "metadata": {
        "id": "5ISD7jn67Af4"
      },
      "outputs": [],
      "source": [
        "# Obtenemos las secuencias de ADN en una variable 'X' y las etiquetas en una variable 'y'\n",
        "DNA2 = np.array(list(matrix2.loc[:, 'Paired_seq'])) # dim = (31626,418,8)\n",
        "labels2 = np.array(list(matrix2.loc[:, 'Same'])) # dim = (31626,1)\n",
        "#X"
      ],
      "id": "5ISD7jn67Af4"
    },
    {
      "cell_type": "code",
      "execution_count": null,
      "metadata": {
        "colab": {
          "base_uri": "https://localhost:8080/"
        },
        "id": "pxgDff3f7YbV",
        "outputId": "ffde63dc-5bba-4b79-a46b-88ab4f33b621"
      },
      "outputs": [
        {
          "name": "stdout",
          "output_type": "stream",
          "text": [
            "Forma de X_train: (143760, 313, 8)\n",
            "Forma de y_train: (143760,)\n",
            "Forma de X_test: (35940, 313, 8)\n",
            "Forma de y_test: (35940,)\n"
          ]
        }
      ],
      "source": [
        "# Divide los datos en conjuntos de entrenamiento y prueba (80% para entrenamiento, 20% para prueba)\n",
        "DNA_train2, DNA_test2, labels_train2, labels_test2 = train_test_split(\n",
        "    DNA2, labels2, test_size=0.20, random_state=42)\n",
        "\n",
        "print(\"Forma de X_train:\", DNA_train2.shape)\n",
        "print(\"Forma de y_train:\", labels_train2.shape)\n",
        "\n",
        "print(\"Forma de X_test:\", DNA_test2.shape)\n",
        "print(\"Forma de y_test:\", labels_test2.shape)"
      ],
      "id": "pxgDff3f7YbV"
    },
    {
      "cell_type": "code",
      "execution_count": null,
      "metadata": {
        "colab": {
          "base_uri": "https://localhost:8080/"
        },
        "id": "Uo1RO7Cb7qPj",
        "outputId": "ca1a4dcf-5ef1-4286-bbcf-89f722d427e2"
      },
      "outputs": [
        {
          "name": "stdout",
          "output_type": "stream",
          "text": [
            "Model: \"sequential_4\"\n",
            "_________________________________________________________________\n",
            " Layer (type)                Output Shape              Param #   \n",
            "=================================================================\n",
            " conv1d_10 (Conv1D)          (None, 311, 32)           800       \n",
            "                                                                 \n",
            " conv1d_11 (Conv1D)          (None, 311, 32)           1056      \n",
            "                                                                 \n",
            " max_pooling1d_8 (MaxPooling  (None, 155, 32)          0         \n",
            " 1D)                                                             \n",
            "                                                                 \n",
            " conv1d_12 (Conv1D)          (None, 153, 64)           6208      \n",
            "                                                                 \n",
            " conv1d_13 (Conv1D)          (None, 153, 32)           2080      \n",
            "                                                                 \n",
            " max_pooling1d_9 (MaxPooling  (None, 76, 32)           0         \n",
            " 1D)                                                             \n",
            "                                                                 \n",
            " flatten_4 (Flatten)         (None, 2432)              0         \n",
            "                                                                 \n",
            " dense_8 (Dense)             (None, 128)               311424    \n",
            "                                                                 \n",
            " dense_9 (Dense)             (None, 1)                 129       \n",
            "                                                                 \n",
            "=================================================================\n",
            "Total params: 321,697\n",
            "Trainable params: 321,697\n",
            "Non-trainable params: 0\n",
            "_________________________________________________________________\n"
          ]
        }
      ],
      "source": [
        "model3 = Sequential()\n",
        "model3.add(Conv1D(filters=32, kernel_size=3, activation=relu, input_shape=(313, 8)))\n",
        "model3.add(Conv1D(filters=32, kernel_size=1, activation=relu))\n",
        "model3.add(MaxPooling1D(pool_size=2))\n",
        "model3.add(Conv1D(filters=64, kernel_size=3, activation=relu))\n",
        "model3.add(Conv1D(filters=32, kernel_size=1, activation=relu))\n",
        "model3.add(MaxPooling1D(pool_size=2))\n",
        "model3.add(Flatten())\n",
        "model3.add(Dense(128, activation=relu))\n",
        "model3.add(Dense(1, activation=sigmoid))\n",
        "\n",
        "model3.summary()"
      ],
      "id": "Uo1RO7Cb7qPj"
    },
    {
      "cell_type": "code",
      "execution_count": null,
      "metadata": {
        "colab": {
          "base_uri": "https://localhost:8080/"
        },
        "id": "VOddb5S87676",
        "outputId": "654bbe33-2e44-4d9f-d2f6-8b558e95b99e"
      },
      "outputs": [
        {
          "name": "stdout",
          "output_type": "stream",
          "text": [
            "Epoch 1/50\n",
            "36/36 - 6s - loss: 0.6919 - binary_accuracy: 0.5627 - val_loss: 0.6853 - val_binary_accuracy: 0.6641 - 6s/epoch - 162ms/step\n",
            "Epoch 2/50\n",
            "36/36 - 3s - loss: 0.6822 - binary_accuracy: 0.6586 - val_loss: 0.6790 - val_binary_accuracy: 0.6645 - 3s/epoch - 79ms/step\n",
            "Epoch 3/50\n",
            "36/36 - 3s - loss: 0.6762 - binary_accuracy: 0.6774 - val_loss: 0.6730 - val_binary_accuracy: 0.7003 - 3s/epoch - 79ms/step\n",
            "Epoch 4/50\n",
            "36/36 - 3s - loss: 0.6699 - binary_accuracy: 0.6965 - val_loss: 0.6664 - val_binary_accuracy: 0.7036 - 3s/epoch - 80ms/step\n",
            "Epoch 5/50\n",
            "36/36 - 3s - loss: 0.6631 - binary_accuracy: 0.7012 - val_loss: 0.6594 - val_binary_accuracy: 0.7084 - 3s/epoch - 80ms/step\n",
            "Epoch 6/50\n",
            "36/36 - 3s - loss: 0.6559 - binary_accuracy: 0.7113 - val_loss: 0.6517 - val_binary_accuracy: 0.7094 - 3s/epoch - 81ms/step\n",
            "Epoch 7/50\n",
            "36/36 - 3s - loss: 0.6479 - binary_accuracy: 0.7136 - val_loss: 0.6434 - val_binary_accuracy: 0.7186 - 3s/epoch - 79ms/step\n",
            "Epoch 8/50\n",
            "36/36 - 3s - loss: 0.6393 - binary_accuracy: 0.7167 - val_loss: 0.6344 - val_binary_accuracy: 0.7132 - 3s/epoch - 80ms/step\n",
            "Epoch 9/50\n",
            "36/36 - 3s - loss: 0.6300 - binary_accuracy: 0.7180 - val_loss: 0.6246 - val_binary_accuracy: 0.7161 - 3s/epoch - 80ms/step\n",
            "Epoch 10/50\n",
            "36/36 - 3s - loss: 0.6198 - binary_accuracy: 0.7199 - val_loss: 0.6140 - val_binary_accuracy: 0.7228 - 3s/epoch - 81ms/step\n",
            "Epoch 11/50\n",
            "36/36 - 3s - loss: 0.6088 - binary_accuracy: 0.7210 - val_loss: 0.6026 - val_binary_accuracy: 0.7169 - 3s/epoch - 80ms/step\n",
            "Epoch 12/50\n",
            "36/36 - 3s - loss: 0.5972 - binary_accuracy: 0.7223 - val_loss: 0.5906 - val_binary_accuracy: 0.7190 - 3s/epoch - 81ms/step\n",
            "Epoch 13/50\n",
            "36/36 - 3s - loss: 0.5851 - binary_accuracy: 0.7248 - val_loss: 0.5786 - val_binary_accuracy: 0.7190 - 3s/epoch - 81ms/step\n",
            "Epoch 14/50\n",
            "36/36 - 3s - loss: 0.5733 - binary_accuracy: 0.7238 - val_loss: 0.5669 - val_binary_accuracy: 0.7251 - 3s/epoch - 81ms/step\n",
            "Epoch 15/50\n",
            "36/36 - 3s - loss: 0.5620 - binary_accuracy: 0.7261 - val_loss: 0.5561 - val_binary_accuracy: 0.7302 - 3s/epoch - 81ms/step\n",
            "Epoch 16/50\n",
            "36/36 - 3s - loss: 0.5518 - binary_accuracy: 0.7277 - val_loss: 0.5464 - val_binary_accuracy: 0.7299 - 3s/epoch - 80ms/step\n",
            "Epoch 17/50\n",
            "36/36 - 3s - loss: 0.5427 - binary_accuracy: 0.7286 - val_loss: 0.5381 - val_binary_accuracy: 0.7307 - 3s/epoch - 80ms/step\n",
            "Epoch 18/50\n",
            "36/36 - 3s - loss: 0.5352 - binary_accuracy: 0.7300 - val_loss: 0.5312 - val_binary_accuracy: 0.7308 - 3s/epoch - 81ms/step\n",
            "Epoch 19/50\n",
            "36/36 - 3s - loss: 0.5289 - binary_accuracy: 0.7316 - val_loss: 0.5256 - val_binary_accuracy: 0.7304 - 3s/epoch - 80ms/step\n",
            "Epoch 20/50\n",
            "36/36 - 3s - loss: 0.5238 - binary_accuracy: 0.7326 - val_loss: 0.5210 - val_binary_accuracy: 0.7342 - 3s/epoch - 80ms/step\n",
            "Epoch 21/50\n",
            "36/36 - 3s - loss: 0.5196 - binary_accuracy: 0.7336 - val_loss: 0.5171 - val_binary_accuracy: 0.7342 - 3s/epoch - 81ms/step\n",
            "Epoch 22/50\n",
            "36/36 - 3s - loss: 0.5160 - binary_accuracy: 0.7338 - val_loss: 0.5140 - val_binary_accuracy: 0.7338 - 3s/epoch - 80ms/step\n",
            "Epoch 23/50\n",
            "36/36 - 3s - loss: 0.5131 - binary_accuracy: 0.7335 - val_loss: 0.5112 - val_binary_accuracy: 0.7340 - 3s/epoch - 80ms/step\n",
            "Epoch 24/50\n",
            "36/36 - 3s - loss: 0.5104 - binary_accuracy: 0.7338 - val_loss: 0.5086 - val_binary_accuracy: 0.7340 - 3s/epoch - 79ms/step\n",
            "Epoch 25/50\n",
            "36/36 - 3s - loss: 0.5081 - binary_accuracy: 0.7340 - val_loss: 0.5065 - val_binary_accuracy: 0.7349 - 3s/epoch - 80ms/step\n",
            "Epoch 26/50\n",
            "36/36 - 3s - loss: 0.5061 - binary_accuracy: 0.7339 - val_loss: 0.5046 - val_binary_accuracy: 0.7349 - 3s/epoch - 80ms/step\n",
            "Epoch 27/50\n",
            "36/36 - 3s - loss: 0.5043 - binary_accuracy: 0.7346 - val_loss: 0.5028 - val_binary_accuracy: 0.7328 - 3s/epoch - 81ms/step\n",
            "Epoch 28/50\n",
            "36/36 - 3s - loss: 0.5024 - binary_accuracy: 0.7350 - val_loss: 0.5012 - val_binary_accuracy: 0.7388 - 3s/epoch - 80ms/step\n",
            "Epoch 29/50\n",
            "36/36 - 3s - loss: 0.5008 - binary_accuracy: 0.7366 - val_loss: 0.4996 - val_binary_accuracy: 0.7376 - 3s/epoch - 80ms/step\n",
            "Epoch 30/50\n",
            "36/36 - 3s - loss: 0.4994 - binary_accuracy: 0.7362 - val_loss: 0.4982 - val_binary_accuracy: 0.7381 - 3s/epoch - 81ms/step\n",
            "Epoch 31/50\n",
            "36/36 - 3s - loss: 0.4980 - binary_accuracy: 0.7372 - val_loss: 0.4968 - val_binary_accuracy: 0.7381 - 3s/epoch - 80ms/step\n",
            "Epoch 32/50\n",
            "36/36 - 3s - loss: 0.4968 - binary_accuracy: 0.7370 - val_loss: 0.4959 - val_binary_accuracy: 0.7381 - 3s/epoch - 81ms/step\n",
            "Epoch 33/50\n",
            "36/36 - 3s - loss: 0.4957 - binary_accuracy: 0.7378 - val_loss: 0.4947 - val_binary_accuracy: 0.7372 - 3s/epoch - 79ms/step\n",
            "Epoch 34/50\n",
            "36/36 - 3s - loss: 0.4947 - binary_accuracy: 0.7378 - val_loss: 0.4939 - val_binary_accuracy: 0.7370 - 3s/epoch - 80ms/step\n",
            "Epoch 35/50\n",
            "36/36 - 3s - loss: 0.4938 - binary_accuracy: 0.7382 - val_loss: 0.4929 - val_binary_accuracy: 0.7385 - 3s/epoch - 79ms/step\n",
            "Epoch 36/50\n",
            "36/36 - 3s - loss: 0.4929 - binary_accuracy: 0.7387 - val_loss: 0.4921 - val_binary_accuracy: 0.7385 - 3s/epoch - 79ms/step\n",
            "Epoch 37/50\n",
            "36/36 - 3s - loss: 0.4920 - binary_accuracy: 0.7391 - val_loss: 0.4913 - val_binary_accuracy: 0.7383 - 3s/epoch - 80ms/step\n",
            "Epoch 38/50\n",
            "36/36 - 3s - loss: 0.4913 - binary_accuracy: 0.7389 - val_loss: 0.4906 - val_binary_accuracy: 0.7398 - 3s/epoch - 80ms/step\n",
            "Epoch 39/50\n",
            "36/36 - 3s - loss: 0.4906 - binary_accuracy: 0.7398 - val_loss: 0.4899 - val_binary_accuracy: 0.7398 - 3s/epoch - 80ms/step\n",
            "Epoch 40/50\n",
            "36/36 - 3s - loss: 0.4898 - binary_accuracy: 0.7398 - val_loss: 0.4891 - val_binary_accuracy: 0.7396 - 3s/epoch - 80ms/step\n",
            "Epoch 41/50\n",
            "36/36 - 3s - loss: 0.4891 - binary_accuracy: 0.7399 - val_loss: 0.4885 - val_binary_accuracy: 0.7396 - 3s/epoch - 80ms/step\n",
            "Epoch 42/50\n",
            "36/36 - 3s - loss: 0.4884 - binary_accuracy: 0.7405 - val_loss: 0.4879 - val_binary_accuracy: 0.7420 - 3s/epoch - 79ms/step\n",
            "Epoch 43/50\n",
            "36/36 - 3s - loss: 0.4878 - binary_accuracy: 0.7403 - val_loss: 0.4873 - val_binary_accuracy: 0.7426 - 3s/epoch - 80ms/step\n",
            "Epoch 44/50\n",
            "36/36 - 3s - loss: 0.4872 - binary_accuracy: 0.7412 - val_loss: 0.4867 - val_binary_accuracy: 0.7396 - 3s/epoch - 80ms/step\n",
            "Epoch 45/50\n",
            "36/36 - 3s - loss: 0.4866 - binary_accuracy: 0.7413 - val_loss: 0.4861 - val_binary_accuracy: 0.7424 - 3s/epoch - 79ms/step\n",
            "Epoch 46/50\n",
            "36/36 - 3s - loss: 0.4860 - binary_accuracy: 0.7413 - val_loss: 0.4857 - val_binary_accuracy: 0.7445 - 3s/epoch - 80ms/step\n",
            "Epoch 47/50\n",
            "36/36 - 3s - loss: 0.4854 - binary_accuracy: 0.7416 - val_loss: 0.4850 - val_binary_accuracy: 0.7416 - 3s/epoch - 80ms/step\n",
            "Epoch 48/50\n",
            "36/36 - 3s - loss: 0.4849 - binary_accuracy: 0.7415 - val_loss: 0.4847 - val_binary_accuracy: 0.7443 - 3s/epoch - 80ms/step\n",
            "Epoch 49/50\n",
            "36/36 - 3s - loss: 0.4843 - binary_accuracy: 0.7418 - val_loss: 0.4841 - val_binary_accuracy: 0.7445 - 3s/epoch - 80ms/step\n",
            "Epoch 50/50\n",
            "36/36 - 3s - loss: 0.4839 - binary_accuracy: 0.7423 - val_loss: 0.4835 - val_binary_accuracy: 0.7416 - 3s/epoch - 80ms/step\n"
          ]
        }
      ],
      "source": [
        "epochs = 50\n",
        "lrate = 0.001\n",
        "decay = lrate / epochs\n",
        "optim = SGD(learning_rate = lrate, momentum = 0.90, nesterov = True)\n",
        "model3.compile(loss='binary_crossentropy', optimizer=optim, metrics=['binary_accuracy'])\n",
        "\n",
        "BATCHES = matrix2.shape[0] // 64\n",
        "\n",
        "history3 = model3.fit(DNA_train2, labels_train2, batch_size=BATCHES, epochs=epochs, verbose=2, validation_split=0.30, callbacks=[EarlyStopping(monitor='val_loss', patience=10)])"
      ],
      "id": "VOddb5S87676"
    },
    {
      "cell_type": "code",
      "execution_count": null,
      "metadata": {
        "id": "rKKM_4yd8TYc"
      },
      "outputs": [],
      "source": [
        "model3.save(\"/content/drive/MyDrive/GEN-DL/S2S_model3.h5\")"
      ],
      "id": "rKKM_4yd8TYc"
    },
    {
      "cell_type": "code",
      "execution_count": null,
      "metadata": {
        "colab": {
          "base_uri": "https://localhost:8080/",
          "height": 268
        },
        "id": "UZvoLUYK8X6p",
        "outputId": "ee6b3c72-d5a7-4168-cea0-258a3fd17ea0"
      },
      "outputs": [
        {
          "data": {
            "image/png": "[encoded data removed]",
            "text/plain": [
              "<Figure size 1800x400 with 2 Axes>"
            ]
          },
          "metadata": {},
          "output_type": "display_data"
        }
      ],
      "source": [
        "# Plot loss\n",
        "plt.figure(figsize=(18, 4))\n",
        "\n",
        "plt.subplot(1, 2, 1)\n",
        "plt.title('Loss')\n",
        "plt.plot(history3.history['loss'], label='Training', linewidth=2)\n",
        "plt.plot(history3.history['val_loss'], label='Validation', linewidth=2)\n",
        "plt.legend()\n",
        "plt.xlabel('Epoch')\n",
        "plt.ylabel('Loss')\n",
        "plt.grid(True)\n",
        "\n",
        "plt.subplot(1, 2, 2)\n",
        "plt.title('Accuracy')\n",
        "plt.plot(history3.history['binary_accuracy'], label='Training', linewidth=2)\n",
        "plt.plot(history3.history['val_binary_accuracy'], label='Validation', linewidth=2)\n",
        "plt.legend()\n",
        "plt.xlabel('Epoch')\n",
        "plt.ylabel('Accuracy')\n",
        "plt.grid(True)\n",
        "\n",
        "plt.show()"
      ],
      "id": "UZvoLUYK8X6p"
    },
    {
      "cell_type": "code",
      "execution_count": null,
      "metadata": {
        "colab": {
          "base_uri": "https://localhost:8080/"
        },
        "id": "ltDD75j2-IwT",
        "outputId": "2b9695cd-c8a6-49e1-b37e-216886198e71"
      },
      "outputs": [
        {
          "data": {
            "text/plain": [
              "[0.48126792907714844, 0.7430439591407776]"
            ]
          },
          "execution_count": 81,
          "metadata": {},
          "output_type": "execute_result"
        }
      ],
      "source": [
        "# Compute test loss\n",
        "test_loss3 = model3.evaluate(x=DNA_test2, y=labels_test2, verbose=False)\n",
        "test_loss3"
      ],
      "id": "ltDD75j2-IwT"
    },
    {
      "cell_type": "code",
      "execution_count": null,
      "metadata": {
        "colab": {
          "base_uri": "https://localhost:8080/"
        },
        "id": "MEQ_-ylo-UDj",
        "outputId": "8a529cf5-2a26-44b2-fddd-3c33daac3e5b"
      },
      "outputs": [
        {
          "name": "stdout",
          "output_type": "stream",
          "text": [
            "1124/1124 [==============================] - 2s 2ms/step\n",
            "(35940, 1)\n",
            "[[0.]\n",
            " [0.]\n",
            " [0.]\n",
            " ...\n",
            " [1.]\n",
            " [0.]\n",
            " [0.]]\n"
          ]
        }
      ],
      "source": [
        "# Predict on test set\n",
        "y_test_hat3 = model3.predict(x=DNA_test2)\n",
        "print(y_test_hat3.shape)\n",
        "print(y_test_hat3.round())"
      ],
      "id": "MEQ_-ylo-UDj"
    },
    {
      "cell_type": "code",
      "execution_count": null,
      "metadata": {
        "colab": {
          "base_uri": "https://localhost:8080/",
          "height": 449
        },
        "id": "5VF61ErT_CKz",
        "outputId": "1da32fa1-c0b3-455d-fd77-399ebd85ed3d"
      },
      "outputs": [
        {
          "data": {
            "image/png": "[encoded data removed]",
            "text/plain": [
              "<Figure size 640x480 with 2 Axes>"
            ]
          },
          "metadata": {},
          "output_type": "display_data"
        }
      ],
      "source": [
        "# Confussion Matrix\n",
        "from sklearn.metrics import confusion_matrix, ConfusionMatrixDisplay\n",
        "Conf_Mat = confusion_matrix(labels_test2, y_test_hat3.round())\n",
        "\n",
        "ConfusionMatrixDisplay.from_predictions(labels_test2, y_test_hat3.round())\n",
        "plt.show()"
      ],
      "id": "5VF61ErT_CKz"
    },
    {
      "cell_type": "code",
      "execution_count": null,
      "metadata": {
        "id": "j3eo2rFlAxa3"
      },
      "outputs": [],
      "source": [
        "def shortener3(data,concat_type,n):\n",
        "    \n",
        "    #Pasamos a letras mayúsculas las cadenas\n",
        "    data['Sequence'] = data['Sequence'].apply(lambda x: x.upper())\n",
        "    #Llamamos a la función para filtrar los datos\n",
        "    #balanced_data = balance_one_tax_data(data, 'order_final', 'Diptera', 50)\n",
        "    balanced_data = pd.concat((data[data['order_final'] == 'Diptera'].sample(300), data[data['order_final'] == 'Lepidoptera'].sample(300)))\n",
        "    #Llamamos a la función para realizar todas las combinaciones\n",
        "    combinations = combination_matrix(balanced_data,'Sequence','order_final')\n",
        "    #Llamamos a la función para determinar si los Taxones son iguales\n",
        "    DNA_matrix = tax_comparison(combinations,'Tax1','Tax2')\n",
        "    #Pasamos los valores boolean a integer\n",
        "    DNA_matrix['Same'] = DNA_matrix['Same'].astype(int)\n",
        "    \n",
        "    DNA_matrix['Paired_seq'] = ''  # Creamos una columna vacía para almacenar los resultados\n",
        "    for index, row in DNA_matrix.iterrows():\n",
        "        sequence1 = row['Sequence1']\n",
        "        sequence2 = row['Sequence2']\n",
        "\n",
        "        parte_k1 = sequence1[:n]\n",
        "        parte_k2 = sequence2[:n]\n",
        "\n",
        "\n",
        "        encoding1 = sequence_encoding(parte_k1)\n",
        "        encoding2 = sequence_encoding(parte_k2)\n",
        "        vectors_padded = pad_sequences([encoding1, encoding2], padding='post')\n",
        "        paired_sequences = concat_type(vectors_padded[0], vectors_padded[0])\n",
        "        DNA_matrix.at[index, 'Paired_seq'] = paired_sequences\n",
        "    return DNA_matrix"
      ],
      "id": "j3eo2rFlAxa3"
    },
    {
      "cell_type": "markdown",
      "metadata": {
        "id": "CBpwHUDWB8c4"
      },
      "source": [
        "# Modelo 4, data nueva 50%"
      ],
      "id": "CBpwHUDWB8c4"
    },
    {
      "cell_type": "code",
      "execution_count": null,
      "metadata": {
        "colab": {
          "base_uri": "https://localhost:8080/",
          "height": 424
        },
        "id": "dUsTPFuUB9Ot",
        "outputId": "9d7722c5-274e-4d86-9114-28e33d62ccb0"
      },
      "outputs": [
        {
          "data": {
            "text/html": [
              "\n",
              "  <div id=\"df-e1be61a4-453e-4569-92f5-42edfe05d2d9\">\n",
              "    <div class=\"colab-df-container\">\n",
              "      <div>\n",
              "<style scoped>\n",
              "    .dataframe tbody tr th:only-of-type {\n",
              "        vertical-align: middle;\n",
              "    }\n",
              "\n",
              "    .dataframe tbody tr th {\n",
              "        vertical-align: top;\n",
              "    }\n",
              "\n",
              "    .dataframe thead th {\n",
              "        text-align: right;\n",
              "    }\n",
              "</style>\n",
              "<table border=\"1\" class=\"dataframe\">\n",
              "  <thead>\n",
              "    <tr style=\"text-align: right;\">\n",
              "      <th></th>\n",
              "      <th>Sequence1</th>\n",
              "      <th>Sequence2</th>\n",
              "      <th>Tax1</th>\n",
              "      <th>Tax2</th>\n",
              "      <th>Same</th>\n",
              "      <th>Paired_seq</th>\n",
              "    </tr>\n",
              "  </thead>\n",
              "  <tbody>\n",
              "    <tr>\n",
              "      <th>0</th>\n",
              "      <td>AATAAATAATATAAGATTTTGATTACTTCCTCCTTCTCTTACACTT...</td>\n",
              "      <td>AATAAATAATATGAGATTTTGACTTCTACCCCCAGCTTTAACATTA...</td>\n",
              "      <td>Diptera</td>\n",
              "      <td>Diptera</td>\n",
              "      <td>1</td>\n",
              "      <td>[[1, 0, 0, 0, 1, 0, 0, 0], [1, 0, 0, 0, 1, 0, ...</td>\n",
              "    </tr>\n",
              "    <tr>\n",
              "      <th>1</th>\n",
              "      <td>AATAAATAATATAAGATTTTGATTACTTCCTCCTTCTCTTACACTT...</td>\n",
              "      <td>AATAAATAATATAAGTTTTTGATTATTACCTCCTTCTCTTACTCTT...</td>\n",
              "      <td>Diptera</td>\n",
              "      <td>Diptera</td>\n",
              "      <td>1</td>\n",
              "      <td>[[1, 0, 0, 0, 1, 0, 0, 0], [1, 0, 0, 0, 1, 0, ...</td>\n",
              "    </tr>\n",
              "    <tr>\n",
              "      <th>2</th>\n",
              "      <td>AATAAATAATATAAGATTTTGATTACTTCCTCCTTCTCTTACACTT...</td>\n",
              "      <td>AATAAATAATATAAGATTTTGATTATTACCTCCTTCTCTTTCATTA...</td>\n",
              "      <td>Diptera</td>\n",
              "      <td>Diptera</td>\n",
              "      <td>1</td>\n",
              "      <td>[[1, 0, 0, 0, 1, 0, 0, 0], [1, 0, 0, 0, 1, 0, ...</td>\n",
              "    </tr>\n",
              "    <tr>\n",
              "      <th>3</th>\n",
              "      <td>AATAAATAATATAAGATTTTGATTACTTCCTCCTTCTCTTACACTT...</td>\n",
              "      <td>AATAAATAATATAAGTTTTTGATTGCTCCCCCCAGCTCTAACTTTA...</td>\n",
              "      <td>Diptera</td>\n",
              "      <td>Diptera</td>\n",
              "      <td>1</td>\n",
              "      <td>[[1, 0, 0, 0, 1, 0, 0, 0], [1, 0, 0, 0, 1, 0, ...</td>\n",
              "    </tr>\n",
              "    <tr>\n",
              "      <th>4</th>\n",
              "      <td>AATAAATAATATAAGATTTTGATTACTTCCTCCTTCTCTTACACTT...</td>\n",
              "      <td>AATAAATAATATAAGATTTTGACTACTTCCTCCTTCTTTATTATTA...</td>\n",
              "      <td>Diptera</td>\n",
              "      <td>Diptera</td>\n",
              "      <td>1</td>\n",
              "      <td>[[1, 0, 0, 0, 1, 0, 0, 0], [1, 0, 0, 0, 1, 0, ...</td>\n",
              "    </tr>\n",
              "    <tr>\n",
              "      <th>...</th>\n",
              "      <td>...</td>\n",
              "      <td>...</td>\n",
              "      <td>...</td>\n",
              "      <td>...</td>\n",
              "      <td>...</td>\n",
              "      <td>...</td>\n",
              "    </tr>\n",
              "    <tr>\n",
              "      <th>179710</th>\n",
              "      <td>AATAAATAATATAAGTTTTTGATTATTACCACCTTCTTTAATACTT...</td>\n",
              "      <td>AATAAATAATATAAGATTTTGATTATTACCTCCTTCATTAATATTA...</td>\n",
              "      <td>Lepidoptera</td>\n",
              "      <td>Lepidoptera</td>\n",
              "      <td>1</td>\n",
              "      <td>[[1, 0, 0, 0, 1, 0, 0, 0], [1, 0, 0, 0, 1, 0, ...</td>\n",
              "    </tr>\n",
              "    <tr>\n",
              "      <th>179711</th>\n",
              "      <td>AATAAATAATATAAGTTTTTGATTATTACCACCTTCTTTAATACTT...</td>\n",
              "      <td>AATAAATAACATAAGTTTTTGACTCCTTCCCCCTTCTTTAACTCTT...</td>\n",
              "      <td>Lepidoptera</td>\n",
              "      <td>Lepidoptera</td>\n",
              "      <td>1</td>\n",
              "      <td>[[1, 0, 0, 0, 1, 0, 0, 0], [1, 0, 0, 0, 1, 0, ...</td>\n",
              "    </tr>\n",
              "    <tr>\n",
              "      <th>179712</th>\n",
              "      <td>CATAAATAACATAAGTTTTTGACTTCTTCCCCCCTCTTTAACTCTT...</td>\n",
              "      <td>AATAAATAATATAAGATTTTGATTATTACCTCCTTCATTAATATTA...</td>\n",
              "      <td>Lepidoptera</td>\n",
              "      <td>Lepidoptera</td>\n",
              "      <td>1</td>\n",
              "      <td>[[0, 1, 0, 0, 0, 1, 0, 0], [1, 0, 0, 0, 1, 0, ...</td>\n",
              "    </tr>\n",
              "    <tr>\n",
              "      <th>179713</th>\n",
              "      <td>CATAAATAACATAAGTTTTTGACTTCTTCCCCCCTCTTTAACTCTT...</td>\n",
              "      <td>AATAAATAACATAAGTTTTTGACTCCTTCCCCCTTCTTTAACTCTT...</td>\n",
              "      <td>Lepidoptera</td>\n",
              "      <td>Lepidoptera</td>\n",
              "      <td>1</td>\n",
              "      <td>[[0, 1, 0, 0, 0, 1, 0, 0], [1, 0, 0, 0, 1, 0, ...</td>\n",
              "    </tr>\n",
              "    <tr>\n",
              "      <th>179714</th>\n",
              "      <td>AATAAATAATATAAGATTTTGATTATTACCTCCTTCATTAATATTA...</td>\n",
              "      <td>AATAAATAACATAAGTTTTTGACTCCTTCCCCCTTCTTTAACTCTT...</td>\n",
              "      <td>Lepidoptera</td>\n",
              "      <td>Lepidoptera</td>\n",
              "      <td>1</td>\n",
              "      <td>[[1, 0, 0, 0, 1, 0, 0, 0], [1, 0, 0, 0, 1, 0, ...</td>\n",
              "    </tr>\n",
              "  </tbody>\n",
              "</table>\n",
              "<p>179715 rows × 6 columns</p>\n",
              "</div>\n",
              "      <button class=\"colab-df-convert\" onclick=\"convertToInteractive('df-e1be61a4-453e-4569-92f5-42edfe05d2d9')\"\n",
              "              title=\"Convert this dataframe to an interactive table.\"\n",
              "              style=\"display:none;\">\n",
              "        \n",
              "  <svg xmlns=\"http://www.w3.org/2000/svg\" height=\"24px\"viewBox=\"0 0 24 24\"\n",
              "       width=\"24px\">\n",
              "    <path d=\"M0 0h24v24H0V0z\" fill=\"none\"/>\n",
              "    <path d=\"M18.56 5.44l.94 2.06.94-2.06 2.06-.94-2.06-.94-.94-2.06-.94 2.06-2.06.94zm-11 1L8.5 8.5l.94-2.06 2.06-.94-2.06-.94L8.5 2.5l-.94 2.06-2.06.94zm10 10l.94 2.06.94-2.06 2.06-.94-2.06-.94-.94-2.06-.94 2.06-2.06.94z\"/><path d=\"M17.41 7.96l-1.37-1.37c-.4-.4-.92-.59-1.43-.59-.52 0-1.04.2-1.43.59L10.3 9.45l-7.72 7.72c-.78.78-.78 2.05 0 2.83L4 21.41c.39.39.9.59 1.41.59.51 0 1.02-.2 1.41-.59l7.78-7.78 2.81-2.81c.8-.78.8-2.07 0-2.86zM5.41 20L4 18.59l7.72-7.72 1.47 1.35L5.41 20z\"/>\n",
              "  </svg>\n",
              "      </button>\n",
              "      \n",
              "  <style>\n",
              "    .colab-df-container {\n",
              "      display:flex;\n",
              "      flex-wrap:wrap;\n",
              "      gap: 12px;\n",
              "    }\n",
              "\n",
              "    .colab-df-convert {\n",
              "      background-color: #E8F0FE;\n",
              "      border: none;\n",
              "      border-radius: 50%;\n",
              "      cursor: pointer;\n",
              "      display: none;\n",
              "      fill: #1967D2;\n",
              "      height: 32px;\n",
              "      padding: 0 0 0 0;\n",
              "      width: 32px;\n",
              "    }\n",
              "\n",
              "    .colab-df-convert:hover {\n",
              "      background-color: #E2EBFA;\n",
              "      box-shadow: 0px 1px 2px rgba(60, 64, 67, 0.3), 0px 1px 3px 1px rgba(60, 64, 67, 0.15);\n",
              "      fill: #174EA6;\n",
              "    }\n",
              "\n",
              "    [theme=dark] .colab-df-convert {\n",
              "      background-color: #3B4455;\n",
              "      fill: #D2E3FC;\n",
              "    }\n",
              "\n",
              "    [theme=dark] .colab-df-convert:hover {\n",
              "      background-color: #434B5C;\n",
              "      box-shadow: 0px 1px 3px 1px rgba(0, 0, 0, 0.15);\n",
              "      filter: drop-shadow(0px 1px 2px rgba(0, 0, 0, 0.3));\n",
              "      fill: #FFFFFF;\n",
              "    }\n",
              "  </style>\n",
              "\n",
              "      <script>\n",
              "        const buttonEl =\n",
              "          document.querySelector('#df-e1be61a4-453e-4569-92f5-42edfe05d2d9 button.colab-df-convert');\n",
              "        buttonEl.style.display =\n",
              "          google.colab.kernel.accessAllowed ? 'block' : 'none';\n",
              "\n",
              "        async function convertToInteractive(key) {\n",
              "          const element = document.querySelector('#df-e1be61a4-453e-4569-92f5-42edfe05d2d9');\n",
              "          const dataTable =\n",
              "            await google.colab.kernel.invokeFunction('convertToInteractive',\n",
              "                                                     [key], {});\n",
              "          if (!dataTable) return;\n",
              "\n",
              "          const docLinkHtml = 'Like what you see? Visit the ' +\n",
              "            '<a target=\"_blank\" href=https://colab.research.google.com/notebooks/data_table.ipynb>data table notebook</a>'\n",
              "            + ' to learn more about interactive tables.';\n",
              "          element.innerHTML = '';\n",
              "          dataTable['output_type'] = 'display_data';\n",
              "          await google.colab.output.renderOutput(dataTable, element);\n",
              "          const docLink = document.createElement('div');\n",
              "          docLink.innerHTML = docLinkHtml;\n",
              "          element.appendChild(docLink);\n",
              "        }\n",
              "      </script>\n",
              "    </div>\n",
              "  </div>\n",
              "  "
            ],
            "text/plain": [
              "                                                Sequence1  \\\n",
              "0       AATAAATAATATAAGATTTTGATTACTTCCTCCTTCTCTTACACTT...   \n",
              "1       AATAAATAATATAAGATTTTGATTACTTCCTCCTTCTCTTACACTT...   \n",
              "2       AATAAATAATATAAGATTTTGATTACTTCCTCCTTCTCTTACACTT...   \n",
              "3       AATAAATAATATAAGATTTTGATTACTTCCTCCTTCTCTTACACTT...   \n",
              "4       AATAAATAATATAAGATTTTGATTACTTCCTCCTTCTCTTACACTT...   \n",
              "...                                                   ...   \n",
              "179710  AATAAATAATATAAGTTTTTGATTATTACCACCTTCTTTAATACTT...   \n",
              "179711  AATAAATAATATAAGTTTTTGATTATTACCACCTTCTTTAATACTT...   \n",
              "179712  CATAAATAACATAAGTTTTTGACTTCTTCCCCCCTCTTTAACTCTT...   \n",
              "179713  CATAAATAACATAAGTTTTTGACTTCTTCCCCCCTCTTTAACTCTT...   \n",
              "179714  AATAAATAATATAAGATTTTGATTATTACCTCCTTCATTAATATTA...   \n",
              "\n",
              "                                                Sequence2         Tax1  \\\n",
              "0       AATAAATAATATGAGATTTTGACTTCTACCCCCAGCTTTAACATTA...      Diptera   \n",
              "1       AATAAATAATATAAGTTTTTGATTATTACCTCCTTCTCTTACTCTT...      Diptera   \n",
              "2       AATAAATAATATAAGATTTTGATTATTACCTCCTTCTCTTTCATTA...      Diptera   \n",
              "3       AATAAATAATATAAGTTTTTGATTGCTCCCCCCAGCTCTAACTTTA...      Diptera   \n",
              "4       AATAAATAATATAAGATTTTGACTACTTCCTCCTTCTTTATTATTA...      Diptera   \n",
              "...                                                   ...          ...   \n",
              "179710  AATAAATAATATAAGATTTTGATTATTACCTCCTTCATTAATATTA...  Lepidoptera   \n",
              "179711  AATAAATAACATAAGTTTTTGACTCCTTCCCCCTTCTTTAACTCTT...  Lepidoptera   \n",
              "179712  AATAAATAATATAAGATTTTGATTATTACCTCCTTCATTAATATTA...  Lepidoptera   \n",
              "179713  AATAAATAACATAAGTTTTTGACTCCTTCCCCCTTCTTTAACTCTT...  Lepidoptera   \n",
              "179714  AATAAATAACATAAGTTTTTGACTCCTTCCCCCTTCTTTAACTCTT...  Lepidoptera   \n",
              "\n",
              "               Tax2  Same                                         Paired_seq  \n",
              "0           Diptera     1  [[1, 0, 0, 0, 1, 0, 0, 0], [1, 0, 0, 0, 1, 0, ...  \n",
              "1           Diptera     1  [[1, 0, 0, 0, 1, 0, 0, 0], [1, 0, 0, 0, 1, 0, ...  \n",
              "2           Diptera     1  [[1, 0, 0, 0, 1, 0, 0, 0], [1, 0, 0, 0, 1, 0, ...  \n",
              "3           Diptera     1  [[1, 0, 0, 0, 1, 0, 0, 0], [1, 0, 0, 0, 1, 0, ...  \n",
              "4           Diptera     1  [[1, 0, 0, 0, 1, 0, 0, 0], [1, 0, 0, 0, 1, 0, ...  \n",
              "...             ...   ...                                                ...  \n",
              "179710  Lepidoptera     1  [[1, 0, 0, 0, 1, 0, 0, 0], [1, 0, 0, 0, 1, 0, ...  \n",
              "179711  Lepidoptera     1  [[1, 0, 0, 0, 1, 0, 0, 0], [1, 0, 0, 0, 1, 0, ...  \n",
              "179712  Lepidoptera     1  [[0, 1, 0, 0, 0, 1, 0, 0], [1, 0, 0, 0, 1, 0, ...  \n",
              "179713  Lepidoptera     1  [[0, 1, 0, 0, 0, 1, 0, 0], [1, 0, 0, 0, 1, 0, ...  \n",
              "179714  Lepidoptera     1  [[1, 0, 0, 0, 1, 0, 0, 0], [1, 0, 0, 0, 1, 0, ...  \n",
              "\n",
              "[179715 rows x 6 columns]"
            ]
          },
          "execution_count": 89,
          "metadata": {},
          "output_type": "execute_result"
        }
      ],
      "source": [
        "matrix3 = shortener3(data,side_by_side_sequence,209)\n",
        "matrix3"
      ],
      "id": "dUsTPFuUB9Ot"
    },
    {
      "cell_type": "code",
      "execution_count": null,
      "metadata": {
        "id": "IgzCbAwFCIjj"
      },
      "outputs": [],
      "source": [
        "# Obtenemos las secuencias de ADN en una variable 'X' y las etiquetas en una variable 'y'\n",
        "DNA3 = np.array(list(matrix3.loc[:, 'Paired_seq'])) # dim = (31626,418,8)\n",
        "labels3 = np.array(list(matrix3.loc[:, 'Same'])) # dim = (31626,1)\n",
        "#X"
      ],
      "id": "IgzCbAwFCIjj"
    },
    {
      "cell_type": "code",
      "execution_count": null,
      "metadata": {
        "colab": {
          "base_uri": "https://localhost:8080/"
        },
        "id": "XbD52FxHCPiD",
        "outputId": "b9e8bcce-65c5-4f12-af41-9c626e986d3a"
      },
      "outputs": [
        {
          "name": "stdout",
          "output_type": "stream",
          "text": [
            "Forma de X_train: (143772, 209, 8)\n",
            "Forma de y_train: (143772,)\n",
            "Forma de X_test: (35943, 209, 8)\n",
            "Forma de y_test: (35943,)\n"
          ]
        }
      ],
      "source": [
        "# Divide los datos en conjuntos de entrenamiento y prueba (80% para entrenamiento, 20% para prueba)\n",
        "DNA_train3, DNA_test3, labels_train3, labels_test3 = train_test_split(\n",
        "    DNA3, labels3, test_size=0.20, random_state=42)\n",
        "\n",
        "print(\"Forma de X_train:\", DNA_train3.shape)\n",
        "print(\"Forma de y_train:\", labels_train3.shape)\n",
        "\n",
        "print(\"Forma de X_test:\", DNA_test3.shape)\n",
        "print(\"Forma de y_test:\", labels_test3.shape)"
      ],
      "id": "XbD52FxHCPiD"
    },
    {
      "cell_type": "code",
      "execution_count": null,
      "metadata": {
        "colab": {
          "base_uri": "https://localhost:8080/"
        },
        "id": "HAgc1cowCXhx",
        "outputId": "f4ea7af4-0f60-4fb3-dc42-2c4e29718a32"
      },
      "outputs": [
        {
          "name": "stdout",
          "output_type": "stream",
          "text": [
            "Model: \"sequential_6\"\n",
            "_________________________________________________________________\n",
            " Layer (type)                Output Shape              Param #   \n",
            "=================================================================\n",
            " conv1d_18 (Conv1D)          (None, 207, 32)           800       \n",
            "                                                                 \n",
            " conv1d_19 (Conv1D)          (None, 207, 32)           1056      \n",
            "                                                                 \n",
            " max_pooling1d_12 (MaxPoolin  (None, 103, 32)          0         \n",
            " g1D)                                                            \n",
            "                                                                 \n",
            " conv1d_20 (Conv1D)          (None, 101, 64)           6208      \n",
            "                                                                 \n",
            " conv1d_21 (Conv1D)          (None, 101, 32)           2080      \n",
            "                                                                 \n",
            " max_pooling1d_13 (MaxPoolin  (None, 50, 32)           0         \n",
            " g1D)                                                            \n",
            "                                                                 \n",
            " flatten_6 (Flatten)         (None, 1600)              0         \n",
            "                                                                 \n",
            " dense_12 (Dense)            (None, 128)               204928    \n",
            "                                                                 \n",
            " dense_13 (Dense)            (None, 1)                 129       \n",
            "                                                                 \n",
            "=================================================================\n",
            "Total params: 215,201\n",
            "Trainable params: 215,201\n",
            "Non-trainable params: 0\n",
            "_________________________________________________________________\n"
          ]
        }
      ],
      "source": [
        "model4 = Sequential()\n",
        "model4.add(Conv1D(filters=32, kernel_size=3, activation=relu, input_shape=(209, 8)))\n",
        "model4.add(Conv1D(filters=32, kernel_size=1, activation=relu))\n",
        "model4.add(MaxPooling1D(pool_size=2))\n",
        "model4.add(Conv1D(filters=64, kernel_size=3, activation=relu))\n",
        "model4.add(Conv1D(filters=32, kernel_size=1, activation=relu))\n",
        "model4.add(MaxPooling1D(pool_size=2))\n",
        "model4.add(Flatten())\n",
        "model4.add(Dense(128, activation=relu))\n",
        "model4.add(Dense(1, activation=sigmoid))\n",
        "\n",
        "model4.summary()"
      ],
      "id": "HAgc1cowCXhx"
    },
    {
      "cell_type": "code",
      "execution_count": null,
      "metadata": {
        "colab": {
          "base_uri": "https://localhost:8080/"
        },
        "id": "ec-LmMoPCdkX",
        "outputId": "ea39932c-c710-4e97-d2ea-a11e0cda6612"
      },
      "outputs": [
        {
          "name": "stdout",
          "output_type": "stream",
          "text": [
            "Epoch 1/50\n",
            "36/36 - 5s - loss: 0.6938 - binary_accuracy: 0.5118 - val_loss: 0.6906 - val_binary_accuracy: 0.5531 - 5s/epoch - 133ms/step\n",
            "Epoch 2/50\n",
            "36/36 - 2s - loss: 0.6881 - binary_accuracy: 0.6035 - val_loss: 0.6855 - val_binary_accuracy: 0.6542 - 2s/epoch - 54ms/step\n",
            "Epoch 3/50\n",
            "36/36 - 2s - loss: 0.6833 - binary_accuracy: 0.6772 - val_loss: 0.6810 - val_binary_accuracy: 0.6783 - 2s/epoch - 54ms/step\n",
            "Epoch 4/50\n",
            "36/36 - 2s - loss: 0.6790 - binary_accuracy: 0.6925 - val_loss: 0.6768 - val_binary_accuracy: 0.7072 - 2s/epoch - 54ms/step\n",
            "Epoch 5/50\n",
            "36/36 - 2s - loss: 0.6749 - binary_accuracy: 0.7097 - val_loss: 0.6727 - val_binary_accuracy: 0.7102 - 2s/epoch - 54ms/step\n",
            "Epoch 6/50\n",
            "36/36 - 2s - loss: 0.6708 - binary_accuracy: 0.7120 - val_loss: 0.6685 - val_binary_accuracy: 0.7128 - 2s/epoch - 54ms/step\n",
            "Epoch 7/50\n",
            "36/36 - 2s - loss: 0.6665 - binary_accuracy: 0.7127 - val_loss: 0.6641 - val_binary_accuracy: 0.7185 - 2s/epoch - 54ms/step\n",
            "Epoch 8/50\n",
            "36/36 - 2s - loss: 0.6620 - binary_accuracy: 0.7158 - val_loss: 0.6595 - val_binary_accuracy: 0.7224 - 2s/epoch - 54ms/step\n",
            "Epoch 9/50\n",
            "36/36 - 2s - loss: 0.6573 - binary_accuracy: 0.7254 - val_loss: 0.6545 - val_binary_accuracy: 0.7247 - 2s/epoch - 54ms/step\n",
            "Epoch 10/50\n",
            "36/36 - 2s - loss: 0.6521 - binary_accuracy: 0.7269 - val_loss: 0.6491 - val_binary_accuracy: 0.7291 - 2s/epoch - 54ms/step\n",
            "Epoch 11/50\n",
            "36/36 - 2s - loss: 0.6463 - binary_accuracy: 0.7268 - val_loss: 0.6430 - val_binary_accuracy: 0.7243 - 2s/epoch - 54ms/step\n",
            "Epoch 12/50\n",
            "36/36 - 2s - loss: 0.6401 - binary_accuracy: 0.7271 - val_loss: 0.6365 - val_binary_accuracy: 0.7280 - 2s/epoch - 55ms/step\n",
            "Epoch 13/50\n",
            "36/36 - 2s - loss: 0.6332 - binary_accuracy: 0.7301 - val_loss: 0.6292 - val_binary_accuracy: 0.7292 - 2s/epoch - 54ms/step\n",
            "Epoch 14/50\n",
            "36/36 - 2s - loss: 0.6257 - binary_accuracy: 0.7287 - val_loss: 0.6214 - val_binary_accuracy: 0.7297 - 2s/epoch - 54ms/step\n",
            "Epoch 15/50\n",
            "36/36 - 2s - loss: 0.6176 - binary_accuracy: 0.7295 - val_loss: 0.6129 - val_binary_accuracy: 0.7307 - 2s/epoch - 55ms/step\n",
            "Epoch 16/50\n",
            "36/36 - 2s - loss: 0.6089 - binary_accuracy: 0.7294 - val_loss: 0.6040 - val_binary_accuracy: 0.7328 - 2s/epoch - 55ms/step\n",
            "Epoch 17/50\n",
            "36/36 - 2s - loss: 0.5997 - binary_accuracy: 0.7316 - val_loss: 0.5944 - val_binary_accuracy: 0.7322 - 2s/epoch - 55ms/step\n",
            "Epoch 18/50\n",
            "36/36 - 2s - loss: 0.5900 - binary_accuracy: 0.7327 - val_loss: 0.5845 - val_binary_accuracy: 0.7331 - 2s/epoch - 54ms/step\n",
            "Epoch 19/50\n",
            "36/36 - 2s - loss: 0.5800 - binary_accuracy: 0.7337 - val_loss: 0.5746 - val_binary_accuracy: 0.7326 - 2s/epoch - 54ms/step\n",
            "Epoch 20/50\n",
            "36/36 - 2s - loss: 0.5701 - binary_accuracy: 0.7338 - val_loss: 0.5648 - val_binary_accuracy: 0.7340 - 2s/epoch - 54ms/step\n",
            "Epoch 21/50\n",
            "36/36 - 2s - loss: 0.5608 - binary_accuracy: 0.7336 - val_loss: 0.5558 - val_binary_accuracy: 0.7316 - 2s/epoch - 62ms/step\n",
            "Epoch 22/50\n",
            "36/36 - 2s - loss: 0.5522 - binary_accuracy: 0.7337 - val_loss: 0.5479 - val_binary_accuracy: 0.7329 - 2s/epoch - 54ms/step\n",
            "Epoch 23/50\n",
            "36/36 - 2s - loss: 0.5448 - binary_accuracy: 0.7337 - val_loss: 0.5410 - val_binary_accuracy: 0.7347 - 2s/epoch - 54ms/step\n",
            "Epoch 24/50\n",
            "36/36 - 2s - loss: 0.5384 - binary_accuracy: 0.7347 - val_loss: 0.5351 - val_binary_accuracy: 0.7351 - 2s/epoch - 54ms/step\n",
            "Epoch 25/50\n",
            "36/36 - 2s - loss: 0.5329 - binary_accuracy: 0.7349 - val_loss: 0.5301 - val_binary_accuracy: 0.7357 - 2s/epoch - 54ms/step\n",
            "Epoch 26/50\n",
            "36/36 - 2s - loss: 0.5284 - binary_accuracy: 0.7348 - val_loss: 0.5261 - val_binary_accuracy: 0.7367 - 2s/epoch - 54ms/step\n",
            "Epoch 27/50\n",
            "36/36 - 2s - loss: 0.5246 - binary_accuracy: 0.7354 - val_loss: 0.5225 - val_binary_accuracy: 0.7361 - 2s/epoch - 54ms/step\n",
            "Epoch 28/50\n",
            "36/36 - 2s - loss: 0.5214 - binary_accuracy: 0.7356 - val_loss: 0.5196 - val_binary_accuracy: 0.7355 - 2s/epoch - 54ms/step\n",
            "Epoch 29/50\n",
            "36/36 - 2s - loss: 0.5187 - binary_accuracy: 0.7352 - val_loss: 0.5171 - val_binary_accuracy: 0.7370 - 2s/epoch - 54ms/step\n",
            "Epoch 30/50\n",
            "36/36 - 2s - loss: 0.5163 - binary_accuracy: 0.7364 - val_loss: 0.5147 - val_binary_accuracy: 0.7370 - 2s/epoch - 53ms/step\n",
            "Epoch 31/50\n",
            "36/36 - 2s - loss: 0.5141 - binary_accuracy: 0.7369 - val_loss: 0.5128 - val_binary_accuracy: 0.7370 - 2s/epoch - 54ms/step\n",
            "Epoch 32/50\n",
            "36/36 - 2s - loss: 0.5123 - binary_accuracy: 0.7371 - val_loss: 0.5110 - val_binary_accuracy: 0.7370 - 2s/epoch - 54ms/step\n",
            "Epoch 33/50\n",
            "36/36 - 2s - loss: 0.5107 - binary_accuracy: 0.7368 - val_loss: 0.5096 - val_binary_accuracy: 0.7387 - 2s/epoch - 53ms/step\n",
            "Epoch 34/50\n",
            "36/36 - 2s - loss: 0.5092 - binary_accuracy: 0.7369 - val_loss: 0.5083 - val_binary_accuracy: 0.7323 - 2s/epoch - 54ms/step\n",
            "Epoch 35/50\n",
            "36/36 - 2s - loss: 0.5079 - binary_accuracy: 0.7361 - val_loss: 0.5069 - val_binary_accuracy: 0.7387 - 2s/epoch - 54ms/step\n",
            "Epoch 36/50\n",
            "36/36 - 2s - loss: 0.5066 - binary_accuracy: 0.7376 - val_loss: 0.5055 - val_binary_accuracy: 0.7372 - 2s/epoch - 54ms/step\n",
            "Epoch 37/50\n",
            "36/36 - 2s - loss: 0.5053 - binary_accuracy: 0.7375 - val_loss: 0.5044 - val_binary_accuracy: 0.7372 - 2s/epoch - 54ms/step\n",
            "Epoch 38/50\n",
            "36/36 - 2s - loss: 0.5042 - binary_accuracy: 0.7373 - val_loss: 0.5032 - val_binary_accuracy: 0.7372 - 2s/epoch - 53ms/step\n",
            "Epoch 39/50\n",
            "36/36 - 2s - loss: 0.5030 - binary_accuracy: 0.7373 - val_loss: 0.5020 - val_binary_accuracy: 0.7357 - 2s/epoch - 53ms/step\n",
            "Epoch 40/50\n",
            "36/36 - 2s - loss: 0.5018 - binary_accuracy: 0.7372 - val_loss: 0.5009 - val_binary_accuracy: 0.7372 - 2s/epoch - 54ms/step\n",
            "Epoch 41/50\n",
            "36/36 - 2s - loss: 0.5010 - binary_accuracy: 0.7370 - val_loss: 0.5001 - val_binary_accuracy: 0.7372 - 2s/epoch - 54ms/step\n",
            "Epoch 42/50\n",
            "36/36 - 2s - loss: 0.5001 - binary_accuracy: 0.7370 - val_loss: 0.4992 - val_binary_accuracy: 0.7372 - 2s/epoch - 54ms/step\n",
            "Epoch 43/50\n",
            "36/36 - 2s - loss: 0.4992 - binary_accuracy: 0.7367 - val_loss: 0.4983 - val_binary_accuracy: 0.7357 - 2s/epoch - 55ms/step\n",
            "Epoch 44/50\n",
            "36/36 - 2s - loss: 0.4984 - binary_accuracy: 0.7363 - val_loss: 0.4976 - val_binary_accuracy: 0.7391 - 2s/epoch - 54ms/step\n",
            "Epoch 45/50\n",
            "36/36 - 2s - loss: 0.4977 - binary_accuracy: 0.7372 - val_loss: 0.4968 - val_binary_accuracy: 0.7375 - 2s/epoch - 54ms/step\n",
            "Epoch 46/50\n",
            "36/36 - 2s - loss: 0.4969 - binary_accuracy: 0.7380 - val_loss: 0.4960 - val_binary_accuracy: 0.7375 - 2s/epoch - 54ms/step\n",
            "Epoch 47/50\n",
            "36/36 - 2s - loss: 0.4962 - binary_accuracy: 0.7376 - val_loss: 0.4953 - val_binary_accuracy: 0.7400 - 2s/epoch - 54ms/step\n",
            "Epoch 48/50\n",
            "36/36 - 2s - loss: 0.4955 - binary_accuracy: 0.7383 - val_loss: 0.4945 - val_binary_accuracy: 0.7384 - 2s/epoch - 54ms/step\n",
            "Epoch 49/50\n",
            "36/36 - 2s - loss: 0.4948 - binary_accuracy: 0.7384 - val_loss: 0.4939 - val_binary_accuracy: 0.7375 - 2s/epoch - 54ms/step\n",
            "Epoch 50/50\n",
            "36/36 - 2s - loss: 0.4941 - binary_accuracy: 0.7382 - val_loss: 0.4932 - val_binary_accuracy: 0.7384 - 2s/epoch - 54ms/step\n"
          ]
        }
      ],
      "source": [
        "epochs = 50\n",
        "lrate = 0.001\n",
        "decay = lrate / epochs\n",
        "optim = SGD(learning_rate = lrate, momentum = 0.90, nesterov = True)\n",
        "model4.compile(loss='binary_crossentropy', optimizer=optim, metrics=['binary_accuracy'])\n",
        "\n",
        "BATCHES = matrix3.shape[0] // 64\n",
        "\n",
        "history4 = model4.fit(DNA_train3, labels_train3, batch_size=BATCHES, epochs=epochs, verbose=2, validation_split=0.30, callbacks=[EarlyStopping(monitor='val_loss', patience=10)])"
      ],
      "id": "ec-LmMoPCdkX"
    },
    {
      "cell_type": "code",
      "execution_count": null,
      "metadata": {
        "id": "HRvw9W71CnKM"
      },
      "outputs": [],
      "source": [
        "model4.save(\"/content/drive/MyDrive/GEN-DL/S2S_model4.h5\")"
      ],
      "id": "HRvw9W71CnKM"
    },
    {
      "cell_type": "code",
      "execution_count": null,
      "metadata": {
        "colab": {
          "base_uri": "https://localhost:8080/",
          "height": 410
        },
        "id": "w9P1GXuTCqg4",
        "outputId": "1349c741-7c24-45e4-8394-2d14cfdd13c0"
      },
      "outputs": [
        {
          "data": {
            "image/png": "[encoded data removed]",
            "text/plain": [
              "<Figure size 1800x400 with 2 Axes>"
            ]
          },
          "metadata": {},
          "output_type": "display_data"
        }
      ],
      "source": [
        "# Plot loss\n",
        "plt.figure(figsize=(18, 4))\n",
        "\n",
        "plt.subplot(1, 2, 1)\n",
        "plt.title('Loss')\n",
        "plt.plot(history4.history['loss'], label='Training', linewidth=2)\n",
        "plt.plot(history4.history['val_loss'], label='Validation', linewidth=2)\n",
        "plt.legend()\n",
        "plt.xlabel('Epoch')\n",
        "plt.ylabel('Loss')\n",
        "plt.grid(True)\n",
        "\n",
        "plt.subplot(1, 2, 2)\n",
        "plt.title('Accuracy')\n",
        "plt.plot(history4.history['binary_accuracy'], label='Training', linewidth=2)\n",
        "plt.plot(history4.history['val_binary_accuracy'], label='Validation', linewidth=2)\n",
        "plt.legend()\n",
        "plt.xlabel('Epoch')\n",
        "plt.ylabel('Accuracy')\n",
        "plt.grid(True)\n",
        "\n",
        "plt.show()"
      ],
      "id": "w9P1GXuTCqg4"
    },
    {
      "cell_type": "code",
      "execution_count": null,
      "metadata": {
        "colab": {
          "base_uri": "https://localhost:8080/"
        },
        "id": "PH7BFNAaCvz7",
        "outputId": "6fe6d130-c895-42e3-beb0-685f08e71436"
      },
      "outputs": [
        {
          "data": {
            "text/plain": [
              "[0.4916253983974457, 0.7416464686393738]"
            ]
          },
          "execution_count": 98,
          "metadata": {},
          "output_type": "execute_result"
        }
      ],
      "source": [
        "# Compute test loss\n",
        "test_loss4 = model4.evaluate(x=DNA_test3, y=labels_test3, verbose=False)\n",
        "test_loss4"
      ],
      "id": "PH7BFNAaCvz7"
    },
    {
      "cell_type": "code",
      "execution_count": null,
      "metadata": {
        "colab": {
          "base_uri": "https://localhost:8080/"
        },
        "id": "NBNbUZL9CzSk",
        "outputId": "6e84e5ab-2224-4ab1-f2e4-04df6d446665"
      },
      "outputs": [
        {
          "name": "stdout",
          "output_type": "stream",
          "text": [
            "1124/1124 [==============================] - 2s 2ms/step\n",
            "(35943, 1)\n",
            "[[0.]\n",
            " [1.]\n",
            " [0.]\n",
            " ...\n",
            " [0.]\n",
            " [1.]\n",
            " [0.]]\n"
          ]
        }
      ],
      "source": [
        "# Predict on test set\n",
        "y_test_hat3 = model4.predict(x=DNA_test3)\n",
        "print(y_test_hat3.shape)\n",
        "print(y_test_hat3.round())"
      ],
      "id": "NBNbUZL9CzSk"
    },
    {
      "cell_type": "code",
      "execution_count": null,
      "metadata": {
        "colab": {
          "base_uri": "https://localhost:8080/",
          "height": 449
        },
        "id": "5xsVUidoCzcN",
        "outputId": "16410204-b365-4abe-971b-d952f437bece"
      },
      "outputs": [
        {
          "data": {
            "image/png": "[encoded data removed]",
            "text/plain": [
              "<Figure size 640x480 with 2 Axes>"
            ]
          },
          "metadata": {},
          "output_type": "display_data"
        }
      ],
      "source": [
        "# Confussion Matrix\n",
        "from sklearn.metrics import confusion_matrix, ConfusionMatrixDisplay\n",
        "Conf_Mat = confusion_matrix(labels_test3, y_test_hat3.round())\n",
        "\n",
        "ConfusionMatrixDisplay.from_predictions(labels_test3, y_test_hat3.round())\n",
        "plt.show()"
      ],
      "id": "5xsVUidoCzcN"
    },
    {
      "cell_type": "markdown",
      "metadata": {
        "id": "YtL0uqLaGaM5"
      },
      "source": [
        "# Modelo 5, data 25%"
      ],
      "id": "YtL0uqLaGaM5"
    },
    {
      "cell_type": "code",
      "execution_count": null,
      "metadata": {
        "colab": {
          "base_uri": "https://localhost:8080/",
          "height": 424
        },
        "id": "2ONjYcJCGhN6",
        "outputId": "98a33c2e-d620-4ed4-81e6-cda9281c5e9c"
      },
      "outputs": [
        {
          "data": {
            "text/html": [
              "\n",
              "  <div id=\"df-53c6cf58-a82e-4012-b275-75c682bf1f3b\">\n",
              "    <div class=\"colab-df-container\">\n",
              "      <div>\n",
              "<style scoped>\n",
              "    .dataframe tbody tr th:only-of-type {\n",
              "        vertical-align: middle;\n",
              "    }\n",
              "\n",
              "    .dataframe tbody tr th {\n",
              "        vertical-align: top;\n",
              "    }\n",
              "\n",
              "    .dataframe thead th {\n",
              "        text-align: right;\n",
              "    }\n",
              "</style>\n",
              "<table border=\"1\" class=\"dataframe\">\n",
              "  <thead>\n",
              "    <tr style=\"text-align: right;\">\n",
              "      <th></th>\n",
              "      <th>Sequence1</th>\n",
              "      <th>Sequence2</th>\n",
              "      <th>Tax1</th>\n",
              "      <th>Tax2</th>\n",
              "      <th>Same</th>\n",
              "      <th>Paired_seq</th>\n",
              "    </tr>\n",
              "  </thead>\n",
              "  <tbody>\n",
              "    <tr>\n",
              "      <th>0</th>\n",
              "      <td>ATTAAATAATTTAAGATTTTGATTATTACCCCCCTCTCTATCTATA...</td>\n",
              "      <td>AATAAATAATATAAGATTCTGATTATTACCTCCTTCTTTATCTTTA...</td>\n",
              "      <td>Diptera</td>\n",
              "      <td>Diptera</td>\n",
              "      <td>1</td>\n",
              "      <td>[[1, 0, 0, 0, 1, 0, 0, 0], [0, 0, 0, 1, 0, 0, ...</td>\n",
              "    </tr>\n",
              "    <tr>\n",
              "      <th>1</th>\n",
              "      <td>ATTAAATAATTTAAGATTTTGATTATTACCCCCCTCTCTATCTATA...</td>\n",
              "      <td>AATGAATAACATAAGTTTTTGACTTCTTCCTCCTGCTTTAACCCTT...</td>\n",
              "      <td>Diptera</td>\n",
              "      <td>Diptera</td>\n",
              "      <td>1</td>\n",
              "      <td>[[1, 0, 0, 0, 1, 0, 0, 0], [0, 0, 0, 1, 0, 0, ...</td>\n",
              "    </tr>\n",
              "    <tr>\n",
              "      <th>2</th>\n",
              "      <td>ATTAAATAATTTAAGATTTTGATTATTACCCCCCTCTCTATCTATA...</td>\n",
              "      <td>AATAAATAATATAAGATTTTGAATACTTCCTCCGTCTATTTCTTTA...</td>\n",
              "      <td>Diptera</td>\n",
              "      <td>Diptera</td>\n",
              "      <td>1</td>\n",
              "      <td>[[1, 0, 0, 0, 1, 0, 0, 0], [0, 0, 0, 1, 0, 0, ...</td>\n",
              "    </tr>\n",
              "    <tr>\n",
              "      <th>3</th>\n",
              "      <td>ATTAAATAATTTAAGATTTTGATTATTACCCCCCTCTCTATCTATA...</td>\n",
              "      <td>AATAAATAATATAAGTTTCTGATTACTTCCCCCTGCTCTTTCTCTT...</td>\n",
              "      <td>Diptera</td>\n",
              "      <td>Diptera</td>\n",
              "      <td>1</td>\n",
              "      <td>[[1, 0, 0, 0, 1, 0, 0, 0], [0, 0, 0, 1, 0, 0, ...</td>\n",
              "    </tr>\n",
              "    <tr>\n",
              "      <th>4</th>\n",
              "      <td>ATTAAATAATTTAAGATTTTGATTATTACCCCCCTCTCTATCTATA...</td>\n",
              "      <td>AATAAATAATATAAGTTTTTGACTTCTTCCTCCAGCATTAATTTTA...</td>\n",
              "      <td>Diptera</td>\n",
              "      <td>Diptera</td>\n",
              "      <td>1</td>\n",
              "      <td>[[1, 0, 0, 0, 1, 0, 0, 0], [0, 0, 0, 1, 0, 0, ...</td>\n",
              "    </tr>\n",
              "    <tr>\n",
              "      <th>...</th>\n",
              "      <td>...</td>\n",
              "      <td>...</td>\n",
              "      <td>...</td>\n",
              "      <td>...</td>\n",
              "      <td>...</td>\n",
              "      <td>...</td>\n",
              "    </tr>\n",
              "    <tr>\n",
              "      <th>179723</th>\n",
              "      <td>AATAAATAATATAAGTTTTTGATTATTACCTCCTTCTTTAACTCTT...</td>\n",
              "      <td>AATAAATAATATAAGATTTTGATTATTACCCCCCTCATTAACTCTA...</td>\n",
              "      <td>Lepidoptera</td>\n",
              "      <td>Lepidoptera</td>\n",
              "      <td>1</td>\n",
              "      <td>[[1, 0, 0, 0, 1, 0, 0, 0], [1, 0, 0, 0, 1, 0, ...</td>\n",
              "    </tr>\n",
              "    <tr>\n",
              "      <th>179724</th>\n",
              "      <td>AATAAATAATATAAGTTTTTGATTATTACCTCCTTCTTTAACTCTT...</td>\n",
              "      <td>AATAAATAATATAAGTTTCTGACTTCTTCCCCCCTCTTTAACTCTT...</td>\n",
              "      <td>Lepidoptera</td>\n",
              "      <td>Lepidoptera</td>\n",
              "      <td>1</td>\n",
              "      <td>[[1, 0, 0, 0, 1, 0, 0, 0], [1, 0, 0, 0, 1, 0, ...</td>\n",
              "    </tr>\n",
              "    <tr>\n",
              "      <th>179725</th>\n",
              "      <td>AATAAATAATATAAGATTCTGATTATTACCACCTTCTCTTACTCTT...</td>\n",
              "      <td>AATAAATAATATAAGATTTTGATTATTACCCCCCTCATTAACTCTA...</td>\n",
              "      <td>Lepidoptera</td>\n",
              "      <td>Lepidoptera</td>\n",
              "      <td>1</td>\n",
              "      <td>[[1, 0, 0, 0, 1, 0, 0, 0], [1, 0, 0, 0, 1, 0, ...</td>\n",
              "    </tr>\n",
              "    <tr>\n",
              "      <th>179726</th>\n",
              "      <td>AATAAATAATATAAGATTCTGATTATTACCACCTTCTCTTACTCTT...</td>\n",
              "      <td>AATAAATAATATAAGTTTCTGACTTCTTCCCCCCTCTTTAACTCTT...</td>\n",
              "      <td>Lepidoptera</td>\n",
              "      <td>Lepidoptera</td>\n",
              "      <td>1</td>\n",
              "      <td>[[1, 0, 0, 0, 1, 0, 0, 0], [1, 0, 0, 0, 1, 0, ...</td>\n",
              "    </tr>\n",
              "    <tr>\n",
              "      <th>179727</th>\n",
              "      <td>AATAAATAATATAAGATTTTGATTATTACCCCCCTCATTAACTCTA...</td>\n",
              "      <td>AATAAATAATATAAGTTTCTGACTTCTTCCCCCCTCTTTAACTCTT...</td>\n",
              "      <td>Lepidoptera</td>\n",
              "      <td>Lepidoptera</td>\n",
              "      <td>1</td>\n",
              "      <td>[[1, 0, 0, 0, 1, 0, 0, 0], [1, 0, 0, 0, 1, 0, ...</td>\n",
              "    </tr>\n",
              "  </tbody>\n",
              "</table>\n",
              "<p>179728 rows × 6 columns</p>\n",
              "</div>\n",
              "      <button class=\"colab-df-convert\" onclick=\"convertToInteractive('df-53c6cf58-a82e-4012-b275-75c682bf1f3b')\"\n",
              "              title=\"Convert this dataframe to an interactive table.\"\n",
              "              style=\"display:none;\">\n",
              "        \n",
              "  <svg xmlns=\"http://www.w3.org/2000/svg\" height=\"24px\"viewBox=\"0 0 24 24\"\n",
              "       width=\"24px\">\n",
              "    <path d=\"M0 0h24v24H0V0z\" fill=\"none\"/>\n",
              "    <path d=\"M18.56 5.44l.94 2.06.94-2.06 2.06-.94-2.06-.94-.94-2.06-.94 2.06-2.06.94zm-11 1L8.5 8.5l.94-2.06 2.06-.94-2.06-.94L8.5 2.5l-.94 2.06-2.06.94zm10 10l.94 2.06.94-2.06 2.06-.94-2.06-.94-.94-2.06-.94 2.06-2.06.94z\"/><path d=\"M17.41 7.96l-1.37-1.37c-.4-.4-.92-.59-1.43-.59-.52 0-1.04.2-1.43.59L10.3 9.45l-7.72 7.72c-.78.78-.78 2.05 0 2.83L4 21.41c.39.39.9.59 1.41.59.51 0 1.02-.2 1.41-.59l7.78-7.78 2.81-2.81c.8-.78.8-2.07 0-2.86zM5.41 20L4 18.59l7.72-7.72 1.47 1.35L5.41 20z\"/>\n",
              "  </svg>\n",
              "      </button>\n",
              "      \n",
              "  <style>\n",
              "    .colab-df-container {\n",
              "      display:flex;\n",
              "      flex-wrap:wrap;\n",
              "      gap: 12px;\n",
              "    }\n",
              "\n",
              "    .colab-df-convert {\n",
              "      background-color: #E8F0FE;\n",
              "      border: none;\n",
              "      border-radius: 50%;\n",
              "      cursor: pointer;\n",
              "      display: none;\n",
              "      fill: #1967D2;\n",
              "      height: 32px;\n",
              "      padding: 0 0 0 0;\n",
              "      width: 32px;\n",
              "    }\n",
              "\n",
              "    .colab-df-convert:hover {\n",
              "      background-color: #E2EBFA;\n",
              "      box-shadow: 0px 1px 2px rgba(60, 64, 67, 0.3), 0px 1px 3px 1px rgba(60, 64, 67, 0.15);\n",
              "      fill: #174EA6;\n",
              "    }\n",
              "\n",
              "    [theme=dark] .colab-df-convert {\n",
              "      background-color: #3B4455;\n",
              "      fill: #D2E3FC;\n",
              "    }\n",
              "\n",
              "    [theme=dark] .colab-df-convert:hover {\n",
              "      background-color: #434B5C;\n",
              "      box-shadow: 0px 1px 3px 1px rgba(0, 0, 0, 0.15);\n",
              "      filter: drop-shadow(0px 1px 2px rgba(0, 0, 0, 0.3));\n",
              "      fill: #FFFFFF;\n",
              "    }\n",
              "  </style>\n",
              "\n",
              "      <script>\n",
              "        const buttonEl =\n",
              "          document.querySelector('#df-53c6cf58-a82e-4012-b275-75c682bf1f3b button.colab-df-convert');\n",
              "        buttonEl.style.display =\n",
              "          google.colab.kernel.accessAllowed ? 'block' : 'none';\n",
              "\n",
              "        async function convertToInteractive(key) {\n",
              "          const element = document.querySelector('#df-53c6cf58-a82e-4012-b275-75c682bf1f3b');\n",
              "          const dataTable =\n",
              "            await google.colab.kernel.invokeFunction('convertToInteractive',\n",
              "                                                     [key], {});\n",
              "          if (!dataTable) return;\n",
              "\n",
              "          const docLinkHtml = 'Like what you see? Visit the ' +\n",
              "            '<a target=\"_blank\" href=https://colab.research.google.com/notebooks/data_table.ipynb>data table notebook</a>'\n",
              "            + ' to learn more about interactive tables.';\n",
              "          element.innerHTML = '';\n",
              "          dataTable['output_type'] = 'display_data';\n",
              "          await google.colab.output.renderOutput(dataTable, element);\n",
              "          const docLink = document.createElement('div');\n",
              "          docLink.innerHTML = docLinkHtml;\n",
              "          element.appendChild(docLink);\n",
              "        }\n",
              "      </script>\n",
              "    </div>\n",
              "  </div>\n",
              "  "
            ],
            "text/plain": [
              "                                                Sequence1  \\\n",
              "0       ATTAAATAATTTAAGATTTTGATTATTACCCCCCTCTCTATCTATA...   \n",
              "1       ATTAAATAATTTAAGATTTTGATTATTACCCCCCTCTCTATCTATA...   \n",
              "2       ATTAAATAATTTAAGATTTTGATTATTACCCCCCTCTCTATCTATA...   \n",
              "3       ATTAAATAATTTAAGATTTTGATTATTACCCCCCTCTCTATCTATA...   \n",
              "4       ATTAAATAATTTAAGATTTTGATTATTACCCCCCTCTCTATCTATA...   \n",
              "...                                                   ...   \n",
              "179723  AATAAATAATATAAGTTTTTGATTATTACCTCCTTCTTTAACTCTT...   \n",
              "179724  AATAAATAATATAAGTTTTTGATTATTACCTCCTTCTTTAACTCTT...   \n",
              "179725  AATAAATAATATAAGATTCTGATTATTACCACCTTCTCTTACTCTT...   \n",
              "179726  AATAAATAATATAAGATTCTGATTATTACCACCTTCTCTTACTCTT...   \n",
              "179727  AATAAATAATATAAGATTTTGATTATTACCCCCCTCATTAACTCTA...   \n",
              "\n",
              "                                                Sequence2         Tax1  \\\n",
              "0       AATAAATAATATAAGATTCTGATTATTACCTCCTTCTTTATCTTTA...      Diptera   \n",
              "1       AATGAATAACATAAGTTTTTGACTTCTTCCTCCTGCTTTAACCCTT...      Diptera   \n",
              "2       AATAAATAATATAAGATTTTGAATACTTCCTCCGTCTATTTCTTTA...      Diptera   \n",
              "3       AATAAATAATATAAGTTTCTGATTACTTCCCCCTGCTCTTTCTCTT...      Diptera   \n",
              "4       AATAAATAATATAAGTTTTTGACTTCTTCCTCCAGCATTAATTTTA...      Diptera   \n",
              "...                                                   ...          ...   \n",
              "179723  AATAAATAATATAAGATTTTGATTATTACCCCCCTCATTAACTCTA...  Lepidoptera   \n",
              "179724  AATAAATAATATAAGTTTCTGACTTCTTCCCCCCTCTTTAACTCTT...  Lepidoptera   \n",
              "179725  AATAAATAATATAAGATTTTGATTATTACCCCCCTCATTAACTCTA...  Lepidoptera   \n",
              "179726  AATAAATAATATAAGTTTCTGACTTCTTCCCCCCTCTTTAACTCTT...  Lepidoptera   \n",
              "179727  AATAAATAATATAAGTTTCTGACTTCTTCCCCCCTCTTTAACTCTT...  Lepidoptera   \n",
              "\n",
              "               Tax2  Same                                         Paired_seq  \n",
              "0           Diptera     1  [[1, 0, 0, 0, 1, 0, 0, 0], [0, 0, 0, 1, 0, 0, ...  \n",
              "1           Diptera     1  [[1, 0, 0, 0, 1, 0, 0, 0], [0, 0, 0, 1, 0, 0, ...  \n",
              "2           Diptera     1  [[1, 0, 0, 0, 1, 0, 0, 0], [0, 0, 0, 1, 0, 0, ...  \n",
              "3           Diptera     1  [[1, 0, 0, 0, 1, 0, 0, 0], [0, 0, 0, 1, 0, 0, ...  \n",
              "4           Diptera     1  [[1, 0, 0, 0, 1, 0, 0, 0], [0, 0, 0, 1, 0, 0, ...  \n",
              "...             ...   ...                                                ...  \n",
              "179723  Lepidoptera     1  [[1, 0, 0, 0, 1, 0, 0, 0], [1, 0, 0, 0, 1, 0, ...  \n",
              "179724  Lepidoptera     1  [[1, 0, 0, 0, 1, 0, 0, 0], [1, 0, 0, 0, 1, 0, ...  \n",
              "179725  Lepidoptera     1  [[1, 0, 0, 0, 1, 0, 0, 0], [1, 0, 0, 0, 1, 0, ...  \n",
              "179726  Lepidoptera     1  [[1, 0, 0, 0, 1, 0, 0, 0], [1, 0, 0, 0, 1, 0, ...  \n",
              "179727  Lepidoptera     1  [[1, 0, 0, 0, 1, 0, 0, 0], [1, 0, 0, 0, 1, 0, ...  \n",
              "\n",
              "[179728 rows x 6 columns]"
            ]
          },
          "execution_count": 102,
          "metadata": {},
          "output_type": "execute_result"
        }
      ],
      "source": [
        "matrix4 = shortener3(data,side_by_side_sequence,104)\n",
        "matrix4"
      ],
      "id": "2ONjYcJCGhN6"
    },
    {
      "cell_type": "code",
      "execution_count": null,
      "metadata": {
        "id": "n8-yAxXkGqHK"
      },
      "outputs": [],
      "source": [
        "# Obtenemos las secuencias de ADN en una variable 'X' y las etiquetas en una variable 'y'\n",
        "DNA4 = np.array(list(matrix4.loc[:, 'Paired_seq'])) # dim = (31626,418,8)\n",
        "labels4 = np.array(list(matrix4.loc[:, 'Same'])) # dim = (31626,1)\n",
        "#X"
      ],
      "id": "n8-yAxXkGqHK"
    },
    {
      "cell_type": "code",
      "execution_count": null,
      "metadata": {
        "colab": {
          "base_uri": "https://localhost:8080/"
        },
        "id": "IrHKHSyhGy9H",
        "outputId": "d03fd392-cf8f-44f5-e96e-f820491b1646"
      },
      "outputs": [
        {
          "name": "stdout",
          "output_type": "stream",
          "text": [
            "Forma de X_train: (143782, 104, 8)\n",
            "Forma de y_train: (143782,)\n",
            "Forma de X_test: (35946, 104, 8)\n",
            "Forma de y_test: (35946,)\n"
          ]
        }
      ],
      "source": [
        "# Divide los datos en conjuntos de entrenamiento y prueba (80% para entrenamiento, 20% para prueba)\n",
        "DNA_train4, DNA_test4, labels_train4, labels_test4 = train_test_split(\n",
        "    DNA4, labels4, test_size=0.20, random_state=42)\n",
        "\n",
        "print(\"Forma de X_train:\", DNA_train4.shape)\n",
        "print(\"Forma de y_train:\", labels_train4.shape)\n",
        "\n",
        "print(\"Forma de X_test:\", DNA_test4.shape)\n",
        "print(\"Forma de y_test:\", labels_test4.shape)"
      ],
      "id": "IrHKHSyhGy9H"
    },
    {
      "cell_type": "code",
      "execution_count": null,
      "metadata": {
        "colab": {
          "base_uri": "https://localhost:8080/"
        },
        "id": "zjTTnFXhG8vI",
        "outputId": "3fc0f703-fbaf-4ac5-b4e7-d8ea4c0c85a1"
      },
      "outputs": [
        {
          "name": "stdout",
          "output_type": "stream",
          "text": [
            "Model: \"sequential_7\"\n",
            "_________________________________________________________________\n",
            " Layer (type)                Output Shape              Param #   \n",
            "=================================================================\n",
            " conv1d_22 (Conv1D)          (None, 102, 32)           800       \n",
            "                                                                 \n",
            " conv1d_23 (Conv1D)          (None, 102, 32)           1056      \n",
            "                                                                 \n",
            " max_pooling1d_14 (MaxPoolin  (None, 51, 32)           0         \n",
            " g1D)                                                            \n",
            "                                                                 \n",
            " conv1d_24 (Conv1D)          (None, 49, 64)            6208      \n",
            "                                                                 \n",
            " conv1d_25 (Conv1D)          (None, 49, 32)            2080      \n",
            "                                                                 \n",
            " max_pooling1d_15 (MaxPoolin  (None, 24, 32)           0         \n",
            " g1D)                                                            \n",
            "                                                                 \n",
            " flatten_7 (Flatten)         (None, 768)               0         \n",
            "                                                                 \n",
            " dense_14 (Dense)            (None, 128)               98432     \n",
            "                                                                 \n",
            " dense_15 (Dense)            (None, 1)                 129       \n",
            "                                                                 \n",
            "=================================================================\n",
            "Total params: 108,705\n",
            "Trainable params: 108,705\n",
            "Non-trainable params: 0\n",
            "_________________________________________________________________\n"
          ]
        }
      ],
      "source": [
        "model5 = Sequential()\n",
        "model5.add(Conv1D(filters=32, kernel_size=3, activation=relu, input_shape=(104, 8)))\n",
        "model5.add(Conv1D(filters=32, kernel_size=1, activation=relu))\n",
        "model5.add(MaxPooling1D(pool_size=2))\n",
        "model5.add(Conv1D(filters=64, kernel_size=3, activation=relu))\n",
        "model5.add(Conv1D(filters=32, kernel_size=1, activation=relu))\n",
        "model5.add(MaxPooling1D(pool_size=2))\n",
        "model5.add(Flatten())\n",
        "model5.add(Dense(128, activation=relu))\n",
        "model5.add(Dense(1, activation=sigmoid))\n",
        "\n",
        "model5.summary()"
      ],
      "id": "zjTTnFXhG8vI"
    },
    {
      "cell_type": "code",
      "execution_count": null,
      "metadata": {
        "colab": {
          "base_uri": "https://localhost:8080/"
        },
        "id": "xX0OU9tPHF8h",
        "outputId": "047c91d7-476b-452a-b1c8-f7179692ec80"
      },
      "outputs": [
        {
          "name": "stdout",
          "output_type": "stream",
          "text": [
            "Epoch 1/50\n",
            "36/36 - 5s - loss: 0.6927 - binary_accuracy: 0.5044 - val_loss: 0.6913 - val_binary_accuracy: 0.5408 - 5s/epoch - 131ms/step\n",
            "Epoch 2/50\n",
            "36/36 - 1s - loss: 0.6900 - binary_accuracy: 0.5958 - val_loss: 0.6888 - val_binary_accuracy: 0.6418 - 1s/epoch - 29ms/step\n",
            "Epoch 3/50\n",
            "36/36 - 1s - loss: 0.6875 - binary_accuracy: 0.6663 - val_loss: 0.6862 - val_binary_accuracy: 0.6821 - 1s/epoch - 28ms/step\n",
            "Epoch 4/50\n",
            "36/36 - 1s - loss: 0.6847 - binary_accuracy: 0.6892 - val_loss: 0.6834 - val_binary_accuracy: 0.7039 - 1s/epoch - 28ms/step\n",
            "Epoch 5/50\n",
            "36/36 - 1s - loss: 0.6820 - binary_accuracy: 0.7111 - val_loss: 0.6807 - val_binary_accuracy: 0.7101 - 1s/epoch - 28ms/step\n",
            "Epoch 6/50\n",
            "36/36 - 1s - loss: 0.6793 - binary_accuracy: 0.7131 - val_loss: 0.6780 - val_binary_accuracy: 0.7138 - 1s/epoch - 29ms/step\n",
            "Epoch 7/50\n",
            "36/36 - 1s - loss: 0.6763 - binary_accuracy: 0.7176 - val_loss: 0.6747 - val_binary_accuracy: 0.7155 - 1s/epoch - 28ms/step\n",
            "Epoch 8/50\n",
            "36/36 - 1s - loss: 0.6728 - binary_accuracy: 0.7188 - val_loss: 0.6711 - val_binary_accuracy: 0.7214 - 1s/epoch - 29ms/step\n",
            "Epoch 9/50\n",
            "36/36 - 1s - loss: 0.6691 - binary_accuracy: 0.7220 - val_loss: 0.6675 - val_binary_accuracy: 0.7214 - 1s/epoch - 29ms/step\n",
            "Epoch 10/50\n",
            "36/36 - 1s - loss: 0.6652 - binary_accuracy: 0.7227 - val_loss: 0.6634 - val_binary_accuracy: 0.7211 - 1s/epoch - 29ms/step\n",
            "Epoch 11/50\n",
            "36/36 - 1s - loss: 0.6611 - binary_accuracy: 0.7221 - val_loss: 0.6591 - val_binary_accuracy: 0.7215 - 1s/epoch - 28ms/step\n",
            "Epoch 12/50\n",
            "36/36 - 1s - loss: 0.6565 - binary_accuracy: 0.7225 - val_loss: 0.6544 - val_binary_accuracy: 0.7230 - 1s/epoch - 28ms/step\n",
            "Epoch 13/50\n",
            "36/36 - 1s - loss: 0.6515 - binary_accuracy: 0.7245 - val_loss: 0.6491 - val_binary_accuracy: 0.7244 - 1s/epoch - 29ms/step\n",
            "Epoch 14/50\n",
            "36/36 - 1s - loss: 0.6458 - binary_accuracy: 0.7273 - val_loss: 0.6431 - val_binary_accuracy: 0.7253 - 1s/epoch - 32ms/step\n",
            "Epoch 15/50\n",
            "36/36 - 1s - loss: 0.6395 - binary_accuracy: 0.7258 - val_loss: 0.6365 - val_binary_accuracy: 0.7259 - 1s/epoch - 29ms/step\n",
            "Epoch 16/50\n",
            "36/36 - 1s - loss: 0.6325 - binary_accuracy: 0.7272 - val_loss: 0.6291 - val_binary_accuracy: 0.7248 - 1s/epoch - 29ms/step\n",
            "Epoch 17/50\n",
            "36/36 - 1s - loss: 0.6246 - binary_accuracy: 0.7272 - val_loss: 0.6208 - val_binary_accuracy: 0.7274 - 1s/epoch - 29ms/step\n",
            "Epoch 18/50\n",
            "36/36 - 1s - loss: 0.6160 - binary_accuracy: 0.7267 - val_loss: 0.6119 - val_binary_accuracy: 0.7274 - 1s/epoch - 29ms/step\n",
            "Epoch 19/50\n",
            "36/36 - 1s - loss: 0.6067 - binary_accuracy: 0.7283 - val_loss: 0.6023 - val_binary_accuracy: 0.7274 - 1s/epoch - 29ms/step\n",
            "Epoch 20/50\n",
            "36/36 - 1s - loss: 0.5969 - binary_accuracy: 0.7295 - val_loss: 0.5924 - val_binary_accuracy: 0.7285 - 1s/epoch - 29ms/step\n",
            "Epoch 21/50\n",
            "36/36 - 1s - loss: 0.5868 - binary_accuracy: 0.7304 - val_loss: 0.5823 - val_binary_accuracy: 0.7298 - 1s/epoch - 29ms/step\n",
            "Epoch 22/50\n",
            "36/36 - 1s - loss: 0.5768 - binary_accuracy: 0.7297 - val_loss: 0.5724 - val_binary_accuracy: 0.7256 - 1s/epoch - 29ms/step\n",
            "Epoch 23/50\n",
            "36/36 - 1s - loss: 0.5672 - binary_accuracy: 0.7279 - val_loss: 0.5632 - val_binary_accuracy: 0.7256 - 1s/epoch - 29ms/step\n",
            "Epoch 24/50\n",
            "36/36 - 1s - loss: 0.5583 - binary_accuracy: 0.7279 - val_loss: 0.5550 - val_binary_accuracy: 0.7263 - 1s/epoch - 29ms/step\n",
            "Epoch 25/50\n",
            "36/36 - 1s - loss: 0.5505 - binary_accuracy: 0.7272 - val_loss: 0.5476 - val_binary_accuracy: 0.7216 - 1s/epoch - 29ms/step\n",
            "Epoch 26/50\n",
            "36/36 - 1s - loss: 0.5438 - binary_accuracy: 0.7250 - val_loss: 0.5418 - val_binary_accuracy: 0.7247 - 1s/epoch - 29ms/step\n",
            "Epoch 27/50\n",
            "36/36 - 1s - loss: 0.5384 - binary_accuracy: 0.7250 - val_loss: 0.5369 - val_binary_accuracy: 0.7216 - 1s/epoch - 29ms/step\n",
            "Epoch 28/50\n",
            "36/36 - 1s - loss: 0.5340 - binary_accuracy: 0.7243 - val_loss: 0.5330 - val_binary_accuracy: 0.7218 - 1s/epoch - 29ms/step\n",
            "Epoch 29/50\n",
            "36/36 - 1s - loss: 0.5304 - binary_accuracy: 0.7240 - val_loss: 0.5298 - val_binary_accuracy: 0.7217 - 1s/epoch - 29ms/step\n",
            "Epoch 30/50\n",
            "36/36 - 1s - loss: 0.5275 - binary_accuracy: 0.7239 - val_loss: 0.5272 - val_binary_accuracy: 0.7217 - 1s/epoch - 29ms/step\n",
            "Epoch 31/50\n",
            "36/36 - 1s - loss: 0.5250 - binary_accuracy: 0.7238 - val_loss: 0.5249 - val_binary_accuracy: 0.7217 - 1s/epoch - 29ms/step\n",
            "Epoch 32/50\n",
            "36/36 - 1s - loss: 0.5230 - binary_accuracy: 0.7249 - val_loss: 0.5231 - val_binary_accuracy: 0.7217 - 1s/epoch - 29ms/step\n",
            "Epoch 33/50\n",
            "36/36 - 1s - loss: 0.5212 - binary_accuracy: 0.7250 - val_loss: 0.5214 - val_binary_accuracy: 0.7217 - 1s/epoch - 29ms/step\n",
            "Epoch 34/50\n",
            "36/36 - 1s - loss: 0.5196 - binary_accuracy: 0.7264 - val_loss: 0.5200 - val_binary_accuracy: 0.7231 - 1s/epoch - 30ms/step\n",
            "Epoch 35/50\n",
            "36/36 - 1s - loss: 0.5183 - binary_accuracy: 0.7263 - val_loss: 0.5188 - val_binary_accuracy: 0.7250 - 1s/epoch - 29ms/step\n",
            "Epoch 36/50\n",
            "36/36 - 1s - loss: 0.5170 - binary_accuracy: 0.7266 - val_loss: 0.5178 - val_binary_accuracy: 0.7258 - 1s/epoch - 29ms/step\n",
            "Epoch 37/50\n",
            "36/36 - 1s - loss: 0.5159 - binary_accuracy: 0.7267 - val_loss: 0.5165 - val_binary_accuracy: 0.7252 - 1s/epoch - 29ms/step\n",
            "Epoch 38/50\n",
            "36/36 - 1s - loss: 0.5148 - binary_accuracy: 0.7269 - val_loss: 0.5154 - val_binary_accuracy: 0.7252 - 1s/epoch - 32ms/step\n",
            "Epoch 39/50\n",
            "36/36 - 1s - loss: 0.5138 - binary_accuracy: 0.7272 - val_loss: 0.5145 - val_binary_accuracy: 0.7252 - 1s/epoch - 29ms/step\n",
            "Epoch 40/50\n",
            "36/36 - 1s - loss: 0.5128 - binary_accuracy: 0.7275 - val_loss: 0.5135 - val_binary_accuracy: 0.7260 - 1s/epoch - 29ms/step\n",
            "Epoch 41/50\n",
            "36/36 - 1s - loss: 0.5119 - binary_accuracy: 0.7281 - val_loss: 0.5126 - val_binary_accuracy: 0.7273 - 1s/epoch - 29ms/step\n",
            "Epoch 42/50\n",
            "36/36 - 1s - loss: 0.5111 - binary_accuracy: 0.7284 - val_loss: 0.5118 - val_binary_accuracy: 0.7273 - 1s/epoch - 29ms/step\n",
            "Epoch 43/50\n",
            "36/36 - 1s - loss: 0.5102 - binary_accuracy: 0.7285 - val_loss: 0.5110 - val_binary_accuracy: 0.7273 - 1s/epoch - 29ms/step\n",
            "Epoch 44/50\n",
            "36/36 - 1s - loss: 0.5094 - binary_accuracy: 0.7286 - val_loss: 0.5102 - val_binary_accuracy: 0.7273 - 1s/epoch - 29ms/step\n",
            "Epoch 45/50\n",
            "36/36 - 1s - loss: 0.5087 - binary_accuracy: 0.7293 - val_loss: 0.5095 - val_binary_accuracy: 0.7293 - 1s/epoch - 29ms/step\n",
            "Epoch 46/50\n",
            "36/36 - 1s - loss: 0.5079 - binary_accuracy: 0.7299 - val_loss: 0.5088 - val_binary_accuracy: 0.7293 - 1s/epoch - 29ms/step\n",
            "Epoch 47/50\n",
            "36/36 - 1s - loss: 0.5073 - binary_accuracy: 0.7300 - val_loss: 0.5081 - val_binary_accuracy: 0.7293 - 1s/epoch - 29ms/step\n",
            "Epoch 48/50\n",
            "36/36 - 1s - loss: 0.5066 - binary_accuracy: 0.7304 - val_loss: 0.5076 - val_binary_accuracy: 0.7283 - 1s/epoch - 29ms/step\n",
            "Epoch 49/50\n",
            "36/36 - 1s - loss: 0.5060 - binary_accuracy: 0.7302 - val_loss: 0.5070 - val_binary_accuracy: 0.7283 - 1s/epoch - 29ms/step\n",
            "Epoch 50/50\n",
            "36/36 - 1s - loss: 0.5054 - binary_accuracy: 0.7304 - val_loss: 0.5063 - val_binary_accuracy: 0.7293 - 1s/epoch - 28ms/step\n"
          ]
        }
      ],
      "source": [
        "epochs = 50\n",
        "lrate = 0.001\n",
        "decay = lrate / epochs\n",
        "optim = SGD(learning_rate = lrate, momentum = 0.90, nesterov = True)\n",
        "model5.compile(loss='binary_crossentropy', optimizer=optim, metrics=['binary_accuracy'])\n",
        "\n",
        "BATCHES = matrix4.shape[0] // 64\n",
        "\n",
        "history5 = model5.fit(DNA_train4, labels_train4, batch_size=BATCHES, epochs=epochs, verbose=2, validation_split=0.30, callbacks=[EarlyStopping(monitor='val_loss', patience=10)])"
      ],
      "id": "xX0OU9tPHF8h"
    },
    {
      "cell_type": "code",
      "execution_count": null,
      "metadata": {
        "id": "UkDDeFxhHSG1"
      },
      "outputs": [],
      "source": [
        "model5.save(\"/content/drive/MyDrive/GEN-DL/S2S_model5.h5\")"
      ],
      "id": "UkDDeFxhHSG1"
    },
    {
      "cell_type": "code",
      "execution_count": null,
      "metadata": {
        "colab": {
          "base_uri": "https://localhost:8080/",
          "height": 410
        },
        "id": "MMOIjecXHYkZ",
        "outputId": "8ab7cc2a-3f09-4426-a863-9b81a35220ea"
      },
      "outputs": [
        {
          "data": {
            "image/png": "[encoded data removed]",
            "text/plain": [
              "<Figure size 1800x400 with 2 Axes>"
            ]
          },
          "metadata": {},
          "output_type": "display_data"
        }
      ],
      "source": [
        "# Plot loss\n",
        "plt.figure(figsize=(18, 4))\n",
        "\n",
        "plt.subplot(1, 2, 1)\n",
        "plt.title('Loss')\n",
        "plt.plot(history5.history['loss'], label='Training', linewidth=2)\n",
        "plt.plot(history5.history['val_loss'], label='Validation', linewidth=2)\n",
        "plt.legend()\n",
        "plt.xlabel('Epoch')\n",
        "plt.ylabel('Loss')\n",
        "plt.grid(True)\n",
        "\n",
        "plt.subplot(1, 2, 2)\n",
        "plt.title('Accuracy')\n",
        "plt.plot(history5.history['binary_accuracy'], label='Training', linewidth=2)\n",
        "plt.plot(history5.history['val_binary_accuracy'], label='Validation', linewidth=2)\n",
        "plt.legend()\n",
        "plt.xlabel('Epoch')\n",
        "plt.ylabel('Accuracy')\n",
        "plt.grid(True)\n",
        "\n",
        "plt.show()"
      ],
      "id": "MMOIjecXHYkZ"
    },
    {
      "cell_type": "code",
      "execution_count": null,
      "metadata": {
        "colab": {
          "base_uri": "https://localhost:8080/"
        },
        "id": "N0sbMOlPHrBz",
        "outputId": "e7df31bb-6665-42da-c0af-00bcf0a93449"
      },
      "outputs": [
        {
          "data": {
            "text/plain": [
              "[0.5027105808258057, 0.7338786125183105]"
            ]
          },
          "execution_count": 109,
          "metadata": {},
          "output_type": "execute_result"
        }
      ],
      "source": [
        "# Compute test loss\n",
        "test_loss5 = model5.evaluate(x=DNA_test4, y=labels_test4, verbose=False)\n",
        "test_loss5"
      ],
      "id": "N0sbMOlPHrBz"
    },
    {
      "cell_type": "code",
      "execution_count": null,
      "metadata": {
        "colab": {
          "base_uri": "https://localhost:8080/"
        },
        "id": "5pF4T42PH0lD",
        "outputId": "626d79a7-ab61-4495-f304-4922e5da6d66"
      },
      "outputs": [
        {
          "name": "stdout",
          "output_type": "stream",
          "text": [
            "1124/1124 [==============================] - 2s 2ms/step\n",
            "(35946, 1)\n",
            "[[0.]\n",
            " [0.]\n",
            " [0.]\n",
            " ...\n",
            " [0.]\n",
            " [0.]\n",
            " [0.]]\n"
          ]
        }
      ],
      "source": [
        "# Predict on test set\n",
        "y_test_hat4 = model5.predict(x=DNA_test4)\n",
        "print(y_test_hat4.shape)\n",
        "print(y_test_hat4.round())"
      ],
      "id": "5pF4T42PH0lD"
    },
    {
      "cell_type": "code",
      "execution_count": null,
      "metadata": {
        "colab": {
          "base_uri": "https://localhost:8080/",
          "height": 449
        },
        "id": "1q-N-PdXIXye",
        "outputId": "0b7ff311-1957-4bdf-d122-249d1b3e601d"
      },
      "outputs": [
        {
          "data": {
            "image/png": "[encoded data removed]",
            "text/plain": [
              "<Figure size 640x480 with 2 Axes>"
            ]
          },
          "metadata": {},
          "output_type": "display_data"
        }
      ],
      "source": [
        "# Confussion Matrix\n",
        "Conf_Mat = confusion_matrix(labels_test4, y_test_hat4.round())\n",
        "\n",
        "ConfusionMatrixDisplay.from_predictions(labels_test4, y_test_hat4.round())\n",
        "plt.show()"
      ],
      "id": "1q-N-PdXIXye"
    },
    {
      "cell_type": "code",
      "execution_count": null,
      "metadata": {
        "id": "y-AXd5MgKeKO"
      },
      "outputs": [],
      "source": [],
      "id": "y-AXd5MgKeKO"
    },
    {
      "cell_type": "markdown",
      "metadata": {
        "id": "tC8Vq1YeOm0h"
      },
      "source": [
        "# Modeo last try"
      ],
      "id": "tC8Vq1YeOm0h"
    },
    {
      "cell_type": "code",
      "execution_count": null,
      "metadata": {
        "id": "3egIbu8sOpQ9"
      },
      "outputs": [],
      "source": [],
      "id": "3egIbu8sOpQ9"
    },
    {
      "cell_type": "code",
      "execution_count": null,
      "metadata": {
        "id": "O4TsR66BOpj8"
      },
      "outputs": [],
      "source": [
        "from sklearn.model_selection import train_test_split\n",
        "\n",
        "#final_matrix = pd.read_csv('final_matrix.csv')\n",
        "\n",
        "# Obtenemos las secuencias de ADN en una variable 'X' y las etiquetas en una variable 'y'\n",
        "DNA = np.array(list(final_matrix.loc[:, 'Paired_seq'])) # dim = (31626,418,8)\n",
        "labels = np.array(list(final_matrix.loc[:, 'Same'])) # dim = (31626,1)\n",
        "#X"
      ],
      "id": "O4TsR66BOpj8"
    },
    {
      "cell_type": "code",
      "execution_count": null,
      "metadata": {
        "colab": {
          "base_uri": "https://localhost:8080/"
        },
        "id": "v9waeDRVOpj9",
        "outputId": "dafbc1f4-1bce-42f9-9c66-2390c6794366"
      },
      "outputs": [
        {
          "name": "stdout",
          "output_type": "stream",
          "text": [
            "Forma de X_train: (143760, 418, 8)\n",
            "Forma de y_train: (143760,)\n",
            "Forma de X_test: (35941, 418, 8)\n",
            "Forma de y_test: (35941,)\n"
          ]
        }
      ],
      "source": [
        "# Divide los datos en conjuntos de entrenamiento y prueba (80% para entrenamiento, 20% para prueba)\n",
        "DNA_train, DNA_test, labels_train, labels_test = train_test_split(\n",
        "    DNA, labels, test_size=0.20, random_state=42)\n",
        "\n",
        "print(\"Forma de X_train:\", DNA_train.shape)\n",
        "print(\"Forma de y_train:\", labels_train.shape)\n",
        "\n",
        "print(\"Forma de X_test:\", DNA_test.shape)\n",
        "print(\"Forma de y_test:\", labels_test.shape)"
      ],
      "id": "v9waeDRVOpj9"
    },
    {
      "cell_type": "code",
      "execution_count": null,
      "metadata": {
        "colab": {
          "base_uri": "https://localhost:8080/"
        },
        "id": "zsPRzvPuOpj9",
        "outputId": "fb25e68e-cdf3-4ee5-b50b-4319ca968da9"
      },
      "outputs": [
        {
          "name": "stdout",
          "output_type": "stream",
          "text": [
            "Model: \"model\"\n",
            "__________________________________________________________________________________________________\n",
            " Layer (type)                   Output Shape         Param #     Connected to                     \n",
            "==================================================================================================\n",
            " input_1 (InputLayer)           [(None, 418, 8)]     0           []                               \n",
            "                                                                                                  \n",
            " tf.split (TFOpLambda)          [(None, 209, 8),     0           ['input_1[0][0]']                \n",
            "                                 (None, 209, 8)]                                                  \n",
            "                                                                                                  \n",
            " conv1d (Conv1D)                (None, 205, 64)      2624        ['tf.split[0][0]',               \n",
            "                                                                  'tf.split[0][1]']               \n",
            "                                                                                                  \n",
            " max_pooling1d (MaxPooling1D)   (None, 102, 64)      0           ['conv1d[0][0]',                 \n",
            "                                                                  'conv1d[1][0]']                 \n",
            "                                                                                                  \n",
            " conv1d_1 (Conv1D)              (None, 98, 200)      64200       ['max_pooling1d[0][0]',          \n",
            "                                                                  'max_pooling1d[1][0]']          \n",
            "                                                                                                  \n",
            " max_pooling1d_1 (MaxPooling1D)  (None, 49, 200)     0           ['conv1d_1[0][0]',               \n",
            "                                                                  'conv1d_1[1][0]']               \n",
            "                                                                                                  \n",
            " flatten (Flatten)              (None, 9800)         0           ['max_pooling1d_1[0][0]',        \n",
            "                                                                  'max_pooling1d_1[1][0]']        \n",
            "                                                                                                  \n",
            " concatenate (Concatenate)      (None, 19600)        0           ['flatten[0][0]',                \n",
            "                                                                  'flatten[1][0]']                \n",
            "                                                                                                  \n",
            " dense (Dense)                  (None, 128)          2508928     ['concatenate[0][0]']            \n",
            "                                                                                                  \n",
            " dropout_1 (Dropout)            (None, 128)          0           ['dense[0][0]']                  \n",
            "                                                                                                  \n",
            " dense_1 (Dense)                (None, 1)            129         ['dropout_1[0][0]']              \n",
            "                                                                                                  \n",
            "==================================================================================================\n",
            "Total params: 2,575,881\n",
            "Trainable params: 2,575,881\n",
            "Non-trainable params: 0\n",
            "__________________________________________________________________________________________________\n"
          ]
        }
      ],
      "source": [
        "import tensorflow as tf\n",
        "from tensorflow.keras.models import Model\n",
        "from tensorflow.keras.layers import Input, Conv1D, MaxPooling1D, Flatten, Dense, Dropout, concatenate\n",
        "\n",
        "# Define the siamese network architecture\n",
        "input_shape = (418, 8)  # Shape of the concatenated input DNA sequences\n",
        "\n",
        "# Shared convolutional layers\n",
        "input_sequences = Input(shape=input_shape)\n",
        "\n",
        "conv1 = Conv1D(filters=64, kernel_size=5, activation='relu')\n",
        "pool1 = MaxPooling1D(pool_size=2)\n",
        "\n",
        "conv2 = Conv1D(filters=200, kernel_size=5, activation='relu')\n",
        "pool2 = MaxPooling1D(pool_size=2)\n",
        "\n",
        "flatten = Flatten()\n",
        "dropout = Dropout(0.5)\n",
        "\n",
        "# Split the input sequences into two parts\n",
        "seq1, seq2 = tf.split(input_sequences, num_or_size_splits=2, axis=1)\n",
        "\n",
        "# Process input sequences through shared convolutional layers\n",
        "encoded_seq1 = flatten(pool2(conv2(pool1(conv1(seq1)))))\n",
        "encoded_seq2 = flatten(pool2(conv2(pool1(conv1(seq2)))))\n",
        "\n",
        "# Concatenate the encoded sequences\n",
        "merged = concatenate([encoded_seq1, encoded_seq2])\n",
        "\n",
        "# Add fully connected layers\n",
        "dense1 = Dense(128, activation='relu')(merged)\n",
        "dropout1 = Dropout(0.5)(dense1)\n",
        "\n",
        "output = Dense(1, activation='sigmoid')(dropout1)\n",
        "\n",
        "# Create the siamese network model\n",
        "model = Model(inputs=input_sequences, outputs=output)\n",
        "\n",
        "model.summary()\n"
      ],
      "id": "zsPRzvPuOpj9"
    },
    {
      "cell_type": "code",
      "execution_count": null,
      "metadata": {
        "id": "Jr9jYPQCOpj9"
      },
      "outputs": [],
      "source": [
        "# Compile: Define training parameters\n",
        "\n",
        "epochs = 50\n",
        "lrate = 0.001\n",
        "decay = lrate / epochs\n",
        "model.compile(optimizer='sgd' ,loss='binary_crossentropy', metrics=['binary_accuracy'])\n"
      ],
      "id": "Jr9jYPQCOpj9"
    },
    {
      "cell_type": "code",
      "execution_count": null,
      "metadata": {
        "colab": {
          "base_uri": "https://localhost:8080/"
        },
        "id": "Y3mzKfTPOpj9",
        "outputId": "a4b25a3f-36a2-4b1f-bdae-b3f3a1f7e922"
      },
      "outputs": [
        {
          "name": "stdout",
          "output_type": "stream",
          "text": [
            "Epoch 1/50\n",
            "36/36 - 22s - loss: 0.6723 - binary_accuracy: 0.6033 - val_loss: 0.6494 - val_binary_accuracy: 0.7443 - 22s/epoch - 600ms/step\n",
            "Epoch 2/50\n",
            "36/36 - 8s - loss: 0.6340 - binary_accuracy: 0.6894 - val_loss: 0.6146 - val_binary_accuracy: 0.7352 - 8s/epoch - 225ms/step\n",
            "Epoch 3/50\n",
            "36/36 - 8s - loss: 0.6040 - binary_accuracy: 0.7159 - val_loss: 0.5874 - val_binary_accuracy: 0.7416 - 8s/epoch - 227ms/step\n",
            "Epoch 4/50\n",
            "36/36 - 8s - loss: 0.5808 - binary_accuracy: 0.7249 - val_loss: 0.5663 - val_binary_accuracy: 0.7447 - 8s/epoch - 228ms/step\n",
            "Epoch 5/50\n",
            "36/36 - 8s - loss: 0.5626 - binary_accuracy: 0.7297 - val_loss: 0.5494 - val_binary_accuracy: 0.7407 - 8s/epoch - 230ms/step\n",
            "Epoch 6/50\n",
            "36/36 - 8s - loss: 0.5482 - binary_accuracy: 0.7338 - val_loss: 0.5363 - val_binary_accuracy: 0.7428 - 8s/epoch - 233ms/step\n",
            "Epoch 7/50\n",
            "36/36 - 8s - loss: 0.5368 - binary_accuracy: 0.7349 - val_loss: 0.5266 - val_binary_accuracy: 0.7412 - 8s/epoch - 236ms/step\n",
            "Epoch 8/50\n",
            "36/36 - 9s - loss: 0.5285 - binary_accuracy: 0.7365 - val_loss: 0.5191 - val_binary_accuracy: 0.7435 - 9s/epoch - 239ms/step\n",
            "Epoch 9/50\n",
            "36/36 - 9s - loss: 0.5222 - binary_accuracy: 0.7373 - val_loss: 0.5137 - val_binary_accuracy: 0.7379 - 9s/epoch - 243ms/step\n",
            "Epoch 10/50\n",
            "36/36 - 9s - loss: 0.5172 - binary_accuracy: 0.7382 - val_loss: 0.5088 - val_binary_accuracy: 0.7455 - 9s/epoch - 247ms/step\n",
            "Epoch 11/50\n",
            "36/36 - 9s - loss: 0.5132 - binary_accuracy: 0.7388 - val_loss: 0.5050 - val_binary_accuracy: 0.7455 - 9s/epoch - 246ms/step\n",
            "Epoch 12/50\n",
            "36/36 - 9s - loss: 0.5096 - binary_accuracy: 0.7391 - val_loss: 0.5018 - val_binary_accuracy: 0.7455 - 9s/epoch - 241ms/step\n",
            "Epoch 13/50\n",
            "36/36 - 9s - loss: 0.5068 - binary_accuracy: 0.7403 - val_loss: 0.4993 - val_binary_accuracy: 0.7455 - 9s/epoch - 239ms/step\n",
            "Epoch 14/50\n",
            "36/36 - 9s - loss: 0.5043 - binary_accuracy: 0.7414 - val_loss: 0.4972 - val_binary_accuracy: 0.7455 - 9s/epoch - 238ms/step\n",
            "Epoch 15/50\n",
            "36/36 - 9s - loss: 0.5023 - binary_accuracy: 0.7414 - val_loss: 0.4953 - val_binary_accuracy: 0.7476 - 9s/epoch - 238ms/step\n",
            "Epoch 16/50\n",
            "36/36 - 9s - loss: 0.5008 - binary_accuracy: 0.7423 - val_loss: 0.4935 - val_binary_accuracy: 0.7476 - 9s/epoch - 238ms/step\n",
            "Epoch 17/50\n",
            "36/36 - 9s - loss: 0.4980 - binary_accuracy: 0.7429 - val_loss: 0.4917 - val_binary_accuracy: 0.7455 - 9s/epoch - 238ms/step\n",
            "Epoch 18/50\n",
            "36/36 - 9s - loss: 0.4963 - binary_accuracy: 0.7433 - val_loss: 0.4904 - val_binary_accuracy: 0.7476 - 9s/epoch - 239ms/step\n",
            "Epoch 19/50\n",
            "36/36 - 9s - loss: 0.4953 - binary_accuracy: 0.7438 - val_loss: 0.4892 - val_binary_accuracy: 0.7466 - 9s/epoch - 240ms/step\n",
            "Epoch 20/50\n",
            "36/36 - 9s - loss: 0.4935 - binary_accuracy: 0.7446 - val_loss: 0.4880 - val_binary_accuracy: 0.7466 - 9s/epoch - 241ms/step\n",
            "Epoch 21/50\n",
            "36/36 - 9s - loss: 0.4925 - binary_accuracy: 0.7443 - val_loss: 0.4867 - val_binary_accuracy: 0.7476 - 9s/epoch - 241ms/step\n",
            "Epoch 22/50\n",
            "36/36 - 9s - loss: 0.4915 - binary_accuracy: 0.7450 - val_loss: 0.4871 - val_binary_accuracy: 0.7426 - 9s/epoch - 241ms/step\n",
            "Epoch 23/50\n",
            "36/36 - 9s - loss: 0.4905 - binary_accuracy: 0.7448 - val_loss: 0.4851 - val_binary_accuracy: 0.7476 - 9s/epoch - 241ms/step\n",
            "Epoch 24/50\n",
            "36/36 - 9s - loss: 0.4893 - binary_accuracy: 0.7458 - val_loss: 0.4841 - val_binary_accuracy: 0.7476 - 9s/epoch - 239ms/step\n",
            "Epoch 25/50\n",
            "36/36 - 9s - loss: 0.4888 - binary_accuracy: 0.7459 - val_loss: 0.4839 - val_binary_accuracy: 0.7448 - 9s/epoch - 239ms/step\n",
            "Epoch 26/50\n",
            "36/36 - 9s - loss: 0.4871 - binary_accuracy: 0.7458 - val_loss: 0.4824 - val_binary_accuracy: 0.7470 - 9s/epoch - 239ms/step\n",
            "Epoch 27/50\n",
            "36/36 - 9s - loss: 0.4870 - binary_accuracy: 0.7457 - val_loss: 0.4819 - val_binary_accuracy: 0.7470 - 9s/epoch - 239ms/step\n",
            "Epoch 28/50\n",
            "36/36 - 9s - loss: 0.4859 - binary_accuracy: 0.7458 - val_loss: 0.4809 - val_binary_accuracy: 0.7476 - 9s/epoch - 239ms/step\n",
            "Epoch 29/50\n",
            "36/36 - 9s - loss: 0.4851 - binary_accuracy: 0.7461 - val_loss: 0.4803 - val_binary_accuracy: 0.7476 - 9s/epoch - 239ms/step\n",
            "Epoch 30/50\n",
            "36/36 - 9s - loss: 0.4845 - binary_accuracy: 0.7464 - val_loss: 0.4798 - val_binary_accuracy: 0.7470 - 9s/epoch - 240ms/step\n",
            "Epoch 31/50\n",
            "36/36 - 9s - loss: 0.4833 - binary_accuracy: 0.7462 - val_loss: 0.4788 - val_binary_accuracy: 0.7476 - 9s/epoch - 239ms/step\n",
            "Epoch 32/50\n",
            "36/36 - 9s - loss: 0.4831 - binary_accuracy: 0.7464 - val_loss: 0.4786 - val_binary_accuracy: 0.7476 - 9s/epoch - 240ms/step\n",
            "Epoch 33/50\n",
            "36/36 - 9s - loss: 0.4822 - binary_accuracy: 0.7464 - val_loss: 0.4783 - val_binary_accuracy: 0.7479 - 9s/epoch - 241ms/step\n",
            "Epoch 34/50\n",
            "36/36 - 9s - loss: 0.4818 - binary_accuracy: 0.7465 - val_loss: 0.4772 - val_binary_accuracy: 0.7476 - 9s/epoch - 241ms/step\n",
            "Epoch 35/50\n",
            "36/36 - 9s - loss: 0.4811 - binary_accuracy: 0.7460 - val_loss: 0.4768 - val_binary_accuracy: 0.7470 - 9s/epoch - 241ms/step\n",
            "Epoch 36/50\n",
            "36/36 - 9s - loss: 0.4803 - binary_accuracy: 0.7468 - val_loss: 0.4764 - val_binary_accuracy: 0.7472 - 9s/epoch - 240ms/step\n",
            "Epoch 37/50\n",
            "36/36 - 9s - loss: 0.4803 - binary_accuracy: 0.7471 - val_loss: 0.4759 - val_binary_accuracy: 0.7470 - 9s/epoch - 241ms/step\n",
            "Epoch 38/50\n",
            "36/36 - 9s - loss: 0.4792 - binary_accuracy: 0.7472 - val_loss: 0.4750 - val_binary_accuracy: 0.7476 - 9s/epoch - 241ms/step\n",
            "Epoch 39/50\n",
            "36/36 - 9s - loss: 0.4788 - binary_accuracy: 0.7467 - val_loss: 0.4746 - val_binary_accuracy: 0.7476 - 9s/epoch - 240ms/step\n",
            "Epoch 40/50\n",
            "36/36 - 9s - loss: 0.4782 - binary_accuracy: 0.7479 - val_loss: 0.4744 - val_binary_accuracy: 0.7479 - 9s/epoch - 239ms/step\n",
            "Epoch 41/50\n",
            "36/36 - 9s - loss: 0.4772 - binary_accuracy: 0.7476 - val_loss: 0.4736 - val_binary_accuracy: 0.7479 - 9s/epoch - 240ms/step\n",
            "Epoch 42/50\n",
            "36/36 - 9s - loss: 0.4769 - binary_accuracy: 0.7475 - val_loss: 0.4733 - val_binary_accuracy: 0.7483 - 9s/epoch - 239ms/step\n",
            "Epoch 43/50\n",
            "36/36 - 9s - loss: 0.4767 - binary_accuracy: 0.7471 - val_loss: 0.4728 - val_binary_accuracy: 0.7479 - 9s/epoch - 239ms/step\n",
            "Epoch 44/50\n",
            "36/36 - 9s - loss: 0.4768 - binary_accuracy: 0.7474 - val_loss: 0.4724 - val_binary_accuracy: 0.7483 - 9s/epoch - 239ms/step\n",
            "Epoch 45/50\n",
            "36/36 - 9s - loss: 0.4752 - binary_accuracy: 0.7475 - val_loss: 0.4719 - val_binary_accuracy: 0.7479 - 9s/epoch - 239ms/step\n",
            "Epoch 46/50\n",
            "36/36 - 9s - loss: 0.4752 - binary_accuracy: 0.7475 - val_loss: 0.4719 - val_binary_accuracy: 0.7472 - 9s/epoch - 241ms/step\n",
            "Epoch 47/50\n",
            "36/36 - 9s - loss: 0.4747 - binary_accuracy: 0.7476 - val_loss: 0.4716 - val_binary_accuracy: 0.7483 - 9s/epoch - 240ms/step\n",
            "Epoch 48/50\n",
            "36/36 - 9s - loss: 0.4744 - binary_accuracy: 0.7478 - val_loss: 0.4719 - val_binary_accuracy: 0.7465 - 9s/epoch - 240ms/step\n",
            "Epoch 49/50\n",
            "36/36 - 9s - loss: 0.4738 - binary_accuracy: 0.7470 - val_loss: 0.4703 - val_binary_accuracy: 0.7483 - 9s/epoch - 240ms/step\n",
            "Epoch 50/50\n",
            "36/36 - 9s - loss: 0.4736 - binary_accuracy: 0.7467 - val_loss: 0.4701 - val_binary_accuracy: 0.7483 - 9s/epoch - 240ms/step\n"
          ]
        }
      ],
      "source": [
        "from tensorflow.keras.callbacks import EarlyStopping\n",
        "epochs = 50\n",
        "lrate = 0.001\n",
        "decay = lrate / epochs\n",
        "model.compile(optimizer='sgd' ,loss='binary_crossentropy', metrics=['binary_accuracy'])\n",
        "\n",
        "BATCHES = final_matrix.shape[0] // 64\n",
        "\n",
        "history = model.fit(DNA_train, labels_train, batch_size=BATCHES, epochs=epochs, verbose=2, validation_split=0.30)"
      ],
      "id": "Y3mzKfTPOpj9"
    },
    {
      "cell_type": "code",
      "execution_count": null,
      "metadata": {
        "colab": {
          "base_uri": "https://localhost:8080/"
        },
        "id": "kKMSUUWmZ1_2",
        "outputId": "51494919-8ea5-48fb-d261-db802f08be0f"
      },
      "outputs": [
        {
          "name": "stdout",
          "output_type": "stream",
          "text": [
            "Model: \"model\"\n",
            "__________________________________________________________________________________________________\n",
            " Layer (type)                   Output Shape         Param #     Connected to                     \n",
            "==================================================================================================\n",
            " input_1 (InputLayer)           [(None, 418, 8)]     0           []                               \n",
            "                                                                                                  \n",
            " tf.split (TFOpLambda)          [(None, 209, 8),     0           ['input_1[0][0]']                \n",
            "                                 (None, 209, 8)]                                                  \n",
            "                                                                                                  \n",
            " conv1d (Conv1D)                (None, 205, 64)      2624        ['tf.split[0][0]',               \n",
            "                                                                  'tf.split[0][1]']               \n",
            "                                                                                                  \n",
            " max_pooling1d (MaxPooling1D)   (None, 102, 64)      0           ['conv1d[0][0]',                 \n",
            "                                                                  'conv1d[1][0]']                 \n",
            "                                                                                                  \n",
            " conv1d_1 (Conv1D)              (None, 98, 200)      64200       ['max_pooling1d[0][0]',          \n",
            "                                                                  'max_pooling1d[1][0]']          \n",
            "                                                                                                  \n",
            " max_pooling1d_1 (MaxPooling1D)  (None, 49, 200)     0           ['conv1d_1[0][0]',               \n",
            "                                                                  'conv1d_1[1][0]']               \n",
            "                                                                                                  \n",
            " flatten (Flatten)              (None, 9800)         0           ['max_pooling1d_1[0][0]',        \n",
            "                                                                  'max_pooling1d_1[1][0]']        \n",
            "                                                                                                  \n",
            " concatenate (Concatenate)      (None, 19600)        0           ['flatten[0][0]',                \n",
            "                                                                  'flatten[1][0]']                \n",
            "                                                                                                  \n",
            " dense (Dense)                  (None, 128)          2508928     ['concatenate[0][0]']            \n",
            "                                                                                                  \n",
            " dropout_1 (Dropout)            (None, 128)          0           ['dense[0][0]']                  \n",
            "                                                                                                  \n",
            " dense_1 (Dense)                (None, 1)            129         ['dropout_1[0][0]']              \n",
            "                                                                                                  \n",
            "==================================================================================================\n",
            "Total params: 2,575,881\n",
            "Trainable params: 2,575,881\n",
            "Non-trainable params: 0\n",
            "__________________________________________________________________________________________________\n"
          ]
        }
      ],
      "source": [
        "from tensorflow.keras.models import Model\n",
        "from tensorflow.keras.layers import Input, Conv1D, MaxPooling1D, Flatten, Dense, Dropout\n",
        "\n",
        "# Define the siamese network architecture\n",
        "input_shape = (418, 8)  # Shape of the concatenated input DNA sequences\n",
        "\n",
        "# Shared convolutional layers\n",
        "input_sequences = Input(shape=input_shape)\n",
        "\n",
        "conv1 = Conv1D(filters=32, kernel_size=3, activation='relu')\n",
        "pool1 = MaxPooling1D(pool_size=2)\n",
        "\n",
        "conv1 = Conv1D(filters=64, kernel_size=3, activation='relu')\n",
        "pool1 = MaxPooling1D(pool_size=2)\n",
        "\n",
        "conv2 = Conv1D(filters=64, kernel_size=3, activation='relu')\n",
        "pool2 = MaxPooling1D(pool_size=2)\n",
        "\n",
        "conv3 = Conv1D(filters=128, kernel_size=3, activation='relu')\n",
        "pool3 = MaxPooling1D(pool_size=2)\n",
        "\n",
        "flatten = Flatten()\n",
        "dropout = Dropout(0.5)\n",
        "\n",
        "# Process input sequences through shared convolutional layers\n",
        "x = dropout(pool2(conv2(pool1(conv1(input_sequences)))))\n",
        "x = dropout(pool3(conv3(x)))\n",
        "\n",
        "# Flatten the output\n",
        "x = flatten(x)\n",
        "\n",
        "# Add fully connected layers\n",
        "x = Dense(128, activation='relu')(x)\n",
        "x = Dropout(0.5)(x)\n",
        "\n",
        "output = Dense(1, activation='sigmoid')(x)\n",
        "\n",
        "model.summary()\n"
      ],
      "id": "kKMSUUWmZ1_2"
    },
    {
      "cell_type": "code",
      "execution_count": null,
      "metadata": {
        "colab": {
          "base_uri": "https://localhost:8080/"
        },
        "id": "5bHLDdHWaF6v",
        "outputId": "f3c0156b-eda4-4c20-aeaf-2d6c33ee3431"
      },
      "outputs": [
        {
          "name": "stdout",
          "output_type": "stream",
          "text": [
            "Epoch 1/50\n",
            "36/36 - 11s - loss: 0.4727 - binary_accuracy: 0.7478 - val_loss: 0.4696 - val_binary_accuracy: 0.7483 - 11s/epoch - 294ms/step\n",
            "Epoch 2/50\n",
            "36/36 - 9s - loss: 0.4731 - binary_accuracy: 0.7475 - val_loss: 0.4693 - val_binary_accuracy: 0.7483 - 9s/epoch - 253ms/step\n",
            "Epoch 3/50\n",
            "36/36 - 9s - loss: 0.4724 - binary_accuracy: 0.7478 - val_loss: 0.4706 - val_binary_accuracy: 0.7465 - 9s/epoch - 249ms/step\n",
            "Epoch 4/50\n",
            "36/36 - 9s - loss: 0.4720 - binary_accuracy: 0.7479 - val_loss: 0.4687 - val_binary_accuracy: 0.7483 - 9s/epoch - 243ms/step\n",
            "Epoch 5/50\n",
            "36/36 - 9s - loss: 0.4715 - binary_accuracy: 0.7473 - val_loss: 0.4694 - val_binary_accuracy: 0.7473 - 9s/epoch - 239ms/step\n",
            "Epoch 6/50\n",
            "36/36 - 9s - loss: 0.4714 - binary_accuracy: 0.7478 - val_loss: 0.4692 - val_binary_accuracy: 0.7483 - 9s/epoch - 238ms/step\n",
            "Epoch 7/50\n",
            "36/36 - 9s - loss: 0.4708 - binary_accuracy: 0.7478 - val_loss: 0.4676 - val_binary_accuracy: 0.7483 - 9s/epoch - 237ms/step\n",
            "Epoch 8/50\n",
            "36/36 - 9s - loss: 0.4707 - binary_accuracy: 0.7478 - val_loss: 0.4678 - val_binary_accuracy: 0.7483 - 9s/epoch - 238ms/step\n",
            "Epoch 9/50\n",
            "36/36 - 9s - loss: 0.4704 - binary_accuracy: 0.7479 - val_loss: 0.4679 - val_binary_accuracy: 0.7477 - 9s/epoch - 238ms/step\n",
            "Epoch 10/50\n",
            "36/36 - 9s - loss: 0.4701 - binary_accuracy: 0.7478 - val_loss: 0.4683 - val_binary_accuracy: 0.7469 - 9s/epoch - 241ms/step\n",
            "Epoch 11/50\n",
            "36/36 - 9s - loss: 0.4701 - binary_accuracy: 0.7478 - val_loss: 0.4665 - val_binary_accuracy: 0.7484 - 9s/epoch - 245ms/step\n",
            "Epoch 12/50\n",
            "36/36 - 9s - loss: 0.4698 - binary_accuracy: 0.7481 - val_loss: 0.4670 - val_binary_accuracy: 0.7483 - 9s/epoch - 244ms/step\n",
            "Epoch 13/50\n",
            "36/36 - 9s - loss: 0.4696 - binary_accuracy: 0.7479 - val_loss: 0.4661 - val_binary_accuracy: 0.7486 - 9s/epoch - 242ms/step\n",
            "Epoch 14/50\n",
            "36/36 - 9s - loss: 0.4691 - binary_accuracy: 0.7484 - val_loss: 0.4663 - val_binary_accuracy: 0.7480 - 9s/epoch - 242ms/step\n",
            "Epoch 15/50\n",
            "36/36 - 9s - loss: 0.4684 - binary_accuracy: 0.7481 - val_loss: 0.4655 - val_binary_accuracy: 0.7483 - 9s/epoch - 239ms/step\n",
            "Epoch 16/50\n",
            "36/36 - 9s - loss: 0.4685 - binary_accuracy: 0.7482 - val_loss: 0.4664 - val_binary_accuracy: 0.7485 - 9s/epoch - 239ms/step\n",
            "Epoch 17/50\n",
            "36/36 - 9s - loss: 0.4683 - binary_accuracy: 0.7474 - val_loss: 0.4671 - val_binary_accuracy: 0.7466 - 9s/epoch - 239ms/step\n",
            "Epoch 18/50\n",
            "36/36 - 9s - loss: 0.4675 - binary_accuracy: 0.7481 - val_loss: 0.4646 - val_binary_accuracy: 0.7484 - 9s/epoch - 240ms/step\n",
            "Epoch 19/50\n",
            "36/36 - 9s - loss: 0.4672 - binary_accuracy: 0.7477 - val_loss: 0.4649 - val_binary_accuracy: 0.7486 - 9s/epoch - 241ms/step\n",
            "Epoch 20/50\n",
            "36/36 - 9s - loss: 0.4674 - binary_accuracy: 0.7479 - val_loss: 0.4642 - val_binary_accuracy: 0.7483 - 9s/epoch - 241ms/step\n",
            "Epoch 21/50\n",
            "36/36 - 9s - loss: 0.4667 - binary_accuracy: 0.7481 - val_loss: 0.4660 - val_binary_accuracy: 0.7466 - 9s/epoch - 241ms/step\n",
            "Epoch 22/50\n",
            "36/36 - 9s - loss: 0.4671 - binary_accuracy: 0.7473 - val_loss: 0.4647 - val_binary_accuracy: 0.7485 - 9s/epoch - 241ms/step\n",
            "Epoch 23/50\n",
            "36/36 - 9s - loss: 0.4659 - binary_accuracy: 0.7486 - val_loss: 0.4636 - val_binary_accuracy: 0.7483 - 9s/epoch - 241ms/step\n",
            "Epoch 24/50\n",
            "36/36 - 9s - loss: 0.4662 - binary_accuracy: 0.7479 - val_loss: 0.4634 - val_binary_accuracy: 0.7484 - 9s/epoch - 241ms/step\n",
            "Epoch 25/50\n",
            "36/36 - 9s - loss: 0.4658 - binary_accuracy: 0.7479 - val_loss: 0.4642 - val_binary_accuracy: 0.7492 - 9s/epoch - 241ms/step\n",
            "Epoch 26/50\n",
            "36/36 - 9s - loss: 0.4654 - binary_accuracy: 0.7480 - val_loss: 0.4627 - val_binary_accuracy: 0.7484 - 9s/epoch - 241ms/step\n",
            "Epoch 27/50\n",
            "36/36 - 9s - loss: 0.4653 - binary_accuracy: 0.7483 - val_loss: 0.4631 - val_binary_accuracy: 0.7483 - 9s/epoch - 240ms/step\n",
            "Epoch 28/50\n",
            "36/36 - 9s - loss: 0.4652 - binary_accuracy: 0.7484 - val_loss: 0.4626 - val_binary_accuracy: 0.7483 - 9s/epoch - 240ms/step\n",
            "Epoch 29/50\n",
            "36/36 - 9s - loss: 0.4652 - binary_accuracy: 0.7484 - val_loss: 0.4657 - val_binary_accuracy: 0.7492 - 9s/epoch - 240ms/step\n",
            "Epoch 30/50\n",
            "36/36 - 9s - loss: 0.4649 - binary_accuracy: 0.7483 - val_loss: 0.4624 - val_binary_accuracy: 0.7485 - 9s/epoch - 241ms/step\n",
            "Epoch 31/50\n",
            "36/36 - 9s - loss: 0.4647 - binary_accuracy: 0.7485 - val_loss: 0.4620 - val_binary_accuracy: 0.7483 - 9s/epoch - 240ms/step\n",
            "Epoch 32/50\n",
            "36/36 - 9s - loss: 0.4650 - binary_accuracy: 0.7487 - val_loss: 0.4623 - val_binary_accuracy: 0.7490 - 9s/epoch - 241ms/step\n",
            "Epoch 33/50\n",
            "36/36 - 9s - loss: 0.4639 - binary_accuracy: 0.7476 - val_loss: 0.4647 - val_binary_accuracy: 0.7442 - 9s/epoch - 239ms/step\n",
            "Epoch 34/50\n",
            "36/36 - 9s - loss: 0.4643 - binary_accuracy: 0.7479 - val_loss: 0.4613 - val_binary_accuracy: 0.7484 - 9s/epoch - 241ms/step\n",
            "Epoch 35/50\n",
            "36/36 - 9s - loss: 0.4641 - binary_accuracy: 0.7482 - val_loss: 0.4618 - val_binary_accuracy: 0.7483 - 9s/epoch - 240ms/step\n",
            "Epoch 36/50\n",
            "36/36 - 9s - loss: 0.4637 - binary_accuracy: 0.7477 - val_loss: 0.4620 - val_binary_accuracy: 0.7492 - 9s/epoch - 240ms/step\n",
            "Epoch 37/50\n",
            "36/36 - 9s - loss: 0.4631 - binary_accuracy: 0.7485 - val_loss: 0.4611 - val_binary_accuracy: 0.7492 - 9s/epoch - 240ms/step\n",
            "Epoch 38/50\n",
            "36/36 - 9s - loss: 0.4627 - binary_accuracy: 0.7486 - val_loss: 0.4607 - val_binary_accuracy: 0.7490 - 9s/epoch - 241ms/step\n",
            "Epoch 39/50\n",
            "36/36 - 9s - loss: 0.4630 - binary_accuracy: 0.7480 - val_loss: 0.4643 - val_binary_accuracy: 0.7492 - 9s/epoch - 241ms/step\n",
            "Epoch 40/50\n",
            "36/36 - 10s - loss: 0.4626 - binary_accuracy: 0.7480 - val_loss: 0.4603 - val_binary_accuracy: 0.7483 - 10s/epoch - 275ms/step\n",
            "Epoch 41/50\n",
            "36/36 - 9s - loss: 0.4628 - binary_accuracy: 0.7479 - val_loss: 0.4605 - val_binary_accuracy: 0.7483 - 9s/epoch - 241ms/step\n",
            "Epoch 42/50\n",
            "36/36 - 9s - loss: 0.4631 - binary_accuracy: 0.7477 - val_loss: 0.4602 - val_binary_accuracy: 0.7483 - 9s/epoch - 241ms/step\n",
            "Epoch 43/50\n",
            "36/36 - 9s - loss: 0.4624 - binary_accuracy: 0.7486 - val_loss: 0.4596 - val_binary_accuracy: 0.7490 - 9s/epoch - 240ms/step\n",
            "Epoch 44/50\n",
            "36/36 - 9s - loss: 0.4628 - binary_accuracy: 0.7474 - val_loss: 0.4602 - val_binary_accuracy: 0.7492 - 9s/epoch - 240ms/step\n",
            "Epoch 45/50\n",
            "36/36 - 9s - loss: 0.4623 - binary_accuracy: 0.7483 - val_loss: 0.4598 - val_binary_accuracy: 0.7483 - 9s/epoch - 241ms/step\n",
            "Epoch 46/50\n",
            "36/36 - 9s - loss: 0.4615 - binary_accuracy: 0.7485 - val_loss: 0.4618 - val_binary_accuracy: 0.7442 - 9s/epoch - 242ms/step\n",
            "Epoch 47/50\n",
            "36/36 - 9s - loss: 0.4619 - binary_accuracy: 0.7485 - val_loss: 0.4591 - val_binary_accuracy: 0.7483 - 9s/epoch - 241ms/step\n",
            "Epoch 48/50\n",
            "36/36 - 9s - loss: 0.4614 - binary_accuracy: 0.7482 - val_loss: 0.4603 - val_binary_accuracy: 0.7480 - 9s/epoch - 240ms/step\n",
            "Epoch 49/50\n",
            "36/36 - 9s - loss: 0.4618 - binary_accuracy: 0.7486 - val_loss: 0.4606 - val_binary_accuracy: 0.7492 - 9s/epoch - 241ms/step\n",
            "Epoch 50/50\n",
            "36/36 - 9s - loss: 0.4608 - binary_accuracy: 0.7481 - val_loss: 0.4599 - val_binary_accuracy: 0.7492 - 9s/epoch - 240ms/step\n"
          ]
        }
      ],
      "source": [
        "epochs = 50\n",
        "lrate = 0.001\n",
        "decay = lrate / epochs\n",
        "model.compile(optimizer='sgd' ,loss='binary_crossentropy', metrics=['binary_accuracy'])\n",
        "\n",
        "BATCHES = final_matrix.shape[0] // 64\n",
        "\n",
        "history = model.fit(DNA_train, labels_train, batch_size=BATCHES, epochs=epochs, verbose=2, validation_split=0.30)"
      ],
      "id": "5bHLDdHWaF6v"
    },
    {
      "cell_type": "code",
      "execution_count": null,
      "metadata": {
        "colab": {
          "base_uri": "https://localhost:8080/",
          "height": 410
        },
        "id": "Er_smMUnOpj9",
        "outputId": "f5610c9a-51b1-4358-dc4f-0bda097f6d39"
      },
      "outputs": [
        {
          "data": {
            "image/png": "[encoded data removed]",
            "text/plain": [
              "<Figure size 1800x400 with 2 Axes>"
            ]
          },
          "metadata": {},
          "output_type": "display_data"
        }
      ],
      "source": [
        "\n",
        "# Plot loss\n",
        "plt.figure(figsize=(18, 4))\n",
        "\n",
        "plt.subplot(1, 2, 1)\n",
        "plt.title('Loss')\n",
        "plt.plot(history.history['loss'], label='Training', linewidth=2)\n",
        "plt.plot(history.history['val_loss'], label='Validation', linewidth=2)\n",
        "plt.legend()\n",
        "plt.xlabel('Epoch')\n",
        "plt.ylabel('Loss')\n",
        "plt.grid(True)\n",
        "\n",
        "plt.subplot(1, 2, 2)\n",
        "plt.title('Accuracy')\n",
        "plt.plot(history.history['binary_accuracy'], label='Training', linewidth=2)\n",
        "plt.plot(history.history['val_binary_accuracy'], label='Validation', linewidth=2)\n",
        "plt.legend()\n",
        "plt.xlabel('Epoch')\n",
        "plt.ylabel('Accuracy')\n",
        "plt.grid(True)\n",
        "\n",
        "plt.show()"
      ],
      "id": "Er_smMUnOpj9"
    }
  ],
  "metadata": {
    "accelerator": "GPU",
    "colab": {
      "machine_shape": "hm",
      "provenance": []
    },
    "gpuClass": "standard",
    "kernelspec": {
      "display_name": "Python 3 (ipykernel)",
      "language": "python",
      "name": "python3"
    },
    "language_info": {
      "codemirror_mode": {
        "name": "ipython",
        "version": 3
      },
      "file_extension": ".py",
      "mimetype": "text/x-python",
      "name": "python",
      "nbconvert_exporter": "python",
      "pygments_lexer": "ipython3",
      "version": "3.9.16"
    }
  },
  "nbformat": 4,
  "nbformat_minor": 5
}