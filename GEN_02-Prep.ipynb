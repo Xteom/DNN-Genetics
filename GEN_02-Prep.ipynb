{
 "cells": [
  {
   "cell_type": "code",
   "execution_count": 1,
   "id": "c939bd32",
   "metadata": {},
   "outputs": [
    {
     "name": "stdout",
     "output_type": "stream",
     "text": [
      "Intel MKL WARNING: Support of Intel(R) Streaming SIMD Extensions 4.2 (Intel(R) SSE4.2) enabled only processors has been deprecated. Intel oneAPI Math Kernel Library 2025.0 will require Intel(R) Advanced Vector Extensions (Intel(R) AVX) instructions.\n",
      "Intel MKL WARNING: Support of Intel(R) Streaming SIMD Extensions 4.2 (Intel(R) SSE4.2) enabled only processors has been deprecated. Intel oneAPI Math Kernel Library 2025.0 will require Intel(R) Advanced Vector Extensions (Intel(R) AVX) instructions.\n"
     ]
    }
   ],
   "source": [
    "import pandas as pd\n",
    "import numpy as np\n",
    "import matplotlib.pyplot as plt\n",
    "import openpyxl\n",
    "#import plotly.express as px"
   ]
  },
  {
   "cell_type": "code",
   "execution_count": 2,
   "id": "70cc7166",
   "metadata": {},
   "outputs": [
    {
     "data": {
      "text/html": [
       "<div>\n",
       "<style scoped>\n",
       "    .dataframe tbody tr th:only-of-type {\n",
       "        vertical-align: middle;\n",
       "    }\n",
       "\n",
       "    .dataframe tbody tr th {\n",
       "        vertical-align: top;\n",
       "    }\n",
       "\n",
       "    .dataframe thead th {\n",
       "        text-align: right;\n",
       "    }\n",
       "</style>\n",
       "<table border=\"1\" class=\"dataframe\">\n",
       "  <thead>\n",
       "    <tr style=\"text-align: right;\">\n",
       "      <th></th>\n",
       "      <th>Sequence</th>\n",
       "      <th>order_final</th>\n",
       "      <th>family_final</th>\n",
       "      <th>genus_final</th>\n",
       "      <th>species_final</th>\n",
       "    </tr>\n",
       "  </thead>\n",
       "  <tbody>\n",
       "    <tr>\n",
       "      <th>0</th>\n",
       "      <td>aataaacaatataagattttggttattgcctccttcattatcactc...</td>\n",
       "      <td>Coleoptera</td>\n",
       "      <td>Mordellidae</td>\n",
       "      <td>NaN</td>\n",
       "      <td>NaN</td>\n",
       "    </tr>\n",
       "    <tr>\n",
       "      <th>1</th>\n",
       "      <td>aataaataatataagtttttgacttcttcctccttctttaacctta...</td>\n",
       "      <td>Coleoptera</td>\n",
       "      <td>Carabidae</td>\n",
       "      <td>Glyptolenus</td>\n",
       "      <td>NaN</td>\n",
       "    </tr>\n",
       "    <tr>\n",
       "      <th>2</th>\n",
       "      <td>tttaaacaatataagattttgattgttaccaccttcattaactttc...</td>\n",
       "      <td>Coleoptera</td>\n",
       "      <td>Coccinellidae</td>\n",
       "      <td>NaN</td>\n",
       "      <td>NaN</td>\n",
       "    </tr>\n",
       "    <tr>\n",
       "      <th>3</th>\n",
       "      <td>tataaacaatataagattctgacttcttccaccttcattaagatta...</td>\n",
       "      <td>Coleoptera</td>\n",
       "      <td>Mordellidae</td>\n",
       "      <td>NaN</td>\n",
       "      <td>NaN</td>\n",
       "    </tr>\n",
       "    <tr>\n",
       "      <th>4</th>\n",
       "      <td>aataaataatataagattttgactacttcctccgtcacttaccctt...</td>\n",
       "      <td>Coleoptera</td>\n",
       "      <td>Nitidulidae</td>\n",
       "      <td>NaN</td>\n",
       "      <td>NaN</td>\n",
       "    </tr>\n",
       "    <tr>\n",
       "      <th>...</th>\n",
       "      <td>...</td>\n",
       "      <td>...</td>\n",
       "      <td>...</td>\n",
       "      <td>...</td>\n",
       "      <td>...</td>\n",
       "    </tr>\n",
       "    <tr>\n",
       "      <th>1778</th>\n",
       "      <td>aataaataatataagtttttgacttttacctcctgcattaacactt...</td>\n",
       "      <td>Diptera</td>\n",
       "      <td>Tachinidae</td>\n",
       "      <td>Ischyrophaga</td>\n",
       "      <td>NaN</td>\n",
       "    </tr>\n",
       "    <tr>\n",
       "      <th>1779</th>\n",
       "      <td>aataaataatataagattttgattattaccaccatcaataattata...</td>\n",
       "      <td>Hymenoptera</td>\n",
       "      <td>Ichneumonidae</td>\n",
       "      <td>ichneuMalaiseNA1</td>\n",
       "      <td>NaN</td>\n",
       "    </tr>\n",
       "    <tr>\n",
       "      <th>1780</th>\n",
       "      <td>aataaataacataagattttgattactcccaccttctcttttttta...</td>\n",
       "      <td>Hymenoptera</td>\n",
       "      <td>Ichneumonidae</td>\n",
       "      <td>NaN</td>\n",
       "      <td>NaN</td>\n",
       "    </tr>\n",
       "    <tr>\n",
       "      <th>1781</th>\n",
       "      <td>aataaataatataagtttctgacttcttcccccttctttaattctt...</td>\n",
       "      <td>Lepidoptera</td>\n",
       "      <td>Erebidae</td>\n",
       "      <td>Arugisa</td>\n",
       "      <td>NaN</td>\n",
       "    </tr>\n",
       "    <tr>\n",
       "      <th>1782</th>\n",
       "      <td>aataaataatataagattctgactattaccaccatcattaattcta...</td>\n",
       "      <td>Orthoptera</td>\n",
       "      <td>Acrididae</td>\n",
       "      <td>Tomonotus</td>\n",
       "      <td>NaN</td>\n",
       "    </tr>\n",
       "  </tbody>\n",
       "</table>\n",
       "<p>2799 rows × 5 columns</p>\n",
       "</div>"
      ],
      "text/plain": [
       "                                               Sequence  order_final  \\\n",
       "0     aataaacaatataagattttggttattgcctccttcattatcactc...   Coleoptera   \n",
       "1     aataaataatataagtttttgacttcttcctccttctttaacctta...   Coleoptera   \n",
       "2     tttaaacaatataagattttgattgttaccaccttcattaactttc...   Coleoptera   \n",
       "3     tataaacaatataagattctgacttcttccaccttcattaagatta...   Coleoptera   \n",
       "4     aataaataatataagattttgactacttcctccgtcacttaccctt...   Coleoptera   \n",
       "...                                                 ...          ...   \n",
       "1778  aataaataatataagtttttgacttttacctcctgcattaacactt...      Diptera   \n",
       "1779  aataaataatataagattttgattattaccaccatcaataattata...  Hymenoptera   \n",
       "1780  aataaataacataagattttgattactcccaccttctcttttttta...  Hymenoptera   \n",
       "1781  aataaataatataagtttctgacttcttcccccttctttaattctt...  Lepidoptera   \n",
       "1782  aataaataatataagattctgactattaccaccatcattaattcta...   Orthoptera   \n",
       "\n",
       "       family_final       genus_final species_final  \n",
       "0       Mordellidae               NaN           NaN  \n",
       "1         Carabidae       Glyptolenus           NaN  \n",
       "2     Coccinellidae               NaN           NaN  \n",
       "3       Mordellidae               NaN           NaN  \n",
       "4       Nitidulidae               NaN           NaN  \n",
       "...             ...               ...           ...  \n",
       "1778     Tachinidae      Ischyrophaga           NaN  \n",
       "1779  Ichneumonidae  ichneuMalaiseNA1           NaN  \n",
       "1780  Ichneumonidae               NaN           NaN  \n",
       "1781       Erebidae           Arugisa           NaN  \n",
       "1782      Acrididae         Tomonotus           NaN  \n",
       "\n",
       "[2799 rows x 5 columns]"
      ]
     },
     "execution_count": 2,
     "metadata": {},
     "output_type": "execute_result"
    }
   ],
   "source": [
    "# Read data\n",
    "data = pd.concat((pd.read_excel('./Datos_Metagenetica.xlsx', sheet_name='El_cielo', engine='openpyxl'), pd.read_excel('./Datos_Metagenetica.xlsx', sheet_name='Chamela',engine='openpyxl')))\n",
    "# replace 0 with NaN\n",
    "data = data.replace(0, np.nan)\n",
    "#drop columns que no se van a usar \n",
    "data = data.drop(['Database','.id', 'similarity', 'phylum_final', \n",
    "                  'class_final', 'subfamily_final', 'tribe_final',\n",
    "                   'subspecies_final', 'BASE', 'OTU'], axis=1)\n",
    "data"
   ]
  },
  {
   "attachments": {},
   "cell_type": "markdown",
   "id": "dca50a03",
   "metadata": {},
   "source": [
    "# Balance data"
   ]
  },
  {
   "cell_type": "code",
   "execution_count": 3,
   "id": "463a65c8",
   "metadata": {},
   "outputs": [
    {
     "name": "stdout",
     "output_type": "stream",
     "text": [
      "Original data\n",
      "family_final\n",
      "Erebidae           236\n",
      "Tachinidae         200\n",
      "Phoridae           162\n",
      "Ichneumonidae      154\n",
      "Cecidomyiidae      143\n",
      "                  ... \n",
      "Phacopteronidae      1\n",
      "Perilampidae         1\n",
      "Derbidae             1\n",
      "Disteniidae          1\n",
      "f__Triozidae         1\n",
      "Length: 216, dtype: int64\n",
      "Balanced data\n"
     ]
    },
    {
     "data": {
      "text/html": [
       "<div>\n",
       "<style scoped>\n",
       "    .dataframe tbody tr th:only-of-type {\n",
       "        vertical-align: middle;\n",
       "    }\n",
       "\n",
       "    .dataframe tbody tr th {\n",
       "        vertical-align: top;\n",
       "    }\n",
       "\n",
       "    .dataframe thead th {\n",
       "        text-align: right;\n",
       "    }\n",
       "</style>\n",
       "<table border=\"1\" class=\"dataframe\">\n",
       "  <thead>\n",
       "    <tr style=\"text-align: right;\">\n",
       "      <th></th>\n",
       "      <th>Sequence</th>\n",
       "      <th>order_final</th>\n",
       "      <th>family_final</th>\n",
       "      <th>genus_final</th>\n",
       "      <th>species_final</th>\n",
       "    </tr>\n",
       "  </thead>\n",
       "  <tbody>\n",
       "    <tr>\n",
       "      <th>1184</th>\n",
       "      <td>aataaacaatataagtttttgactccttcctccttctttaacatta...</td>\n",
       "      <td>Diptera</td>\n",
       "      <td>Tachinidae</td>\n",
       "      <td>Austrophorocera</td>\n",
       "      <td>Austrophorocera Janzen4898</td>\n",
       "    </tr>\n",
       "    <tr>\n",
       "      <th>100</th>\n",
       "      <td>aataaataatataagcttttgacttcttcctccttctttaacacta...</td>\n",
       "      <td>Diptera</td>\n",
       "      <td>Tachinidae</td>\n",
       "      <td>Austrophorocera</td>\n",
       "      <td>Janzen4891</td>\n",
       "    </tr>\n",
       "    <tr>\n",
       "      <th>95</th>\n",
       "      <td>aataaataatataagtttttgacttttaccacctgcattaacttta...</td>\n",
       "      <td>Diptera</td>\n",
       "      <td>Tachinidae</td>\n",
       "      <td>Archytas</td>\n",
       "      <td>Wood03</td>\n",
       "    </tr>\n",
       "    <tr>\n",
       "      <th>167</th>\n",
       "      <td>tataaataatataagtttttgactacttcctcctgctttaatactt...</td>\n",
       "      <td>Diptera</td>\n",
       "      <td>Tachinidae</td>\n",
       "      <td>Calodexia</td>\n",
       "      <td>Calodexia interrupta</td>\n",
       "    </tr>\n",
       "    <tr>\n",
       "      <th>1352</th>\n",
       "      <td>aataaataatataagtttttgattattacctcctgctttaatttta...</td>\n",
       "      <td>Diptera</td>\n",
       "      <td>Tachinidae</td>\n",
       "      <td>Zelia</td>\n",
       "      <td>Zelia wildermuthii</td>\n",
       "    </tr>\n",
       "    <tr>\n",
       "      <th>...</th>\n",
       "      <td>...</td>\n",
       "      <td>...</td>\n",
       "      <td>...</td>\n",
       "      <td>...</td>\n",
       "      <td>...</td>\n",
       "    </tr>\n",
       "    <tr>\n",
       "      <th>696</th>\n",
       "      <td>aataaataatataagattttgattacttcccccttcattaaccctt...</td>\n",
       "      <td>Lepidoptera</td>\n",
       "      <td>Pieridae</td>\n",
       "      <td>Ganyra</td>\n",
       "      <td>NaN</td>\n",
       "    </tr>\n",
       "    <tr>\n",
       "      <th>701</th>\n",
       "      <td>aataaataatataagattttgaatattacctccttctttaatactt...</td>\n",
       "      <td>Lepidoptera</td>\n",
       "      <td>Pieridae</td>\n",
       "      <td>Ascia</td>\n",
       "      <td>Ascia monuste</td>\n",
       "    </tr>\n",
       "    <tr>\n",
       "      <th>723</th>\n",
       "      <td>aataaataatataagtttctgattattacccccttctttaactctc...</td>\n",
       "      <td>Lepidoptera</td>\n",
       "      <td>Pieridae</td>\n",
       "      <td>Pyrisitia</td>\n",
       "      <td>NaN</td>\n",
       "    </tr>\n",
       "    <tr>\n",
       "      <th>751</th>\n",
       "      <td>aataaataatataagattttgattacttcccccttctttaacatta...</td>\n",
       "      <td>Lepidoptera</td>\n",
       "      <td>Pieridae</td>\n",
       "      <td>Glutophrissa</td>\n",
       "      <td>NaN</td>\n",
       "    </tr>\n",
       "    <tr>\n",
       "      <th>849</th>\n",
       "      <td>aataaataatataagattctgattattacccccttccctaactctt...</td>\n",
       "      <td>Lepidoptera</td>\n",
       "      <td>Pieridae</td>\n",
       "      <td>Pyrisitia</td>\n",
       "      <td>NaN</td>\n",
       "    </tr>\n",
       "  </tbody>\n",
       "</table>\n",
       "<p>1015 rows × 5 columns</p>\n",
       "</div>"
      ],
      "text/plain": [
       "                                               Sequence  order_final  \\\n",
       "1184  aataaacaatataagtttttgactccttcctccttctttaacatta...      Diptera   \n",
       "100   aataaataatataagcttttgacttcttcctccttctttaacacta...      Diptera   \n",
       "95    aataaataatataagtttttgacttttaccacctgcattaacttta...      Diptera   \n",
       "167   tataaataatataagtttttgactacttcctcctgctttaatactt...      Diptera   \n",
       "1352  aataaataatataagtttttgattattacctcctgctttaatttta...      Diptera   \n",
       "...                                                 ...          ...   \n",
       "696   aataaataatataagattttgattacttcccccttcattaaccctt...  Lepidoptera   \n",
       "701   aataaataatataagattttgaatattacctccttctttaatactt...  Lepidoptera   \n",
       "723   aataaataatataagtttctgattattacccccttctttaactctc...  Lepidoptera   \n",
       "751   aataaataatataagattttgattacttcccccttctttaacatta...  Lepidoptera   \n",
       "849   aataaataatataagattctgattattacccccttccctaactctt...  Lepidoptera   \n",
       "\n",
       "     family_final      genus_final               species_final  \n",
       "1184   Tachinidae  Austrophorocera  Austrophorocera Janzen4898  \n",
       "100    Tachinidae  Austrophorocera                  Janzen4891  \n",
       "95     Tachinidae         Archytas                      Wood03  \n",
       "167    Tachinidae        Calodexia        Calodexia interrupta  \n",
       "1352   Tachinidae            Zelia          Zelia wildermuthii  \n",
       "...           ...              ...                         ...  \n",
       "696      Pieridae           Ganyra                         NaN  \n",
       "701      Pieridae            Ascia               Ascia monuste  \n",
       "723      Pieridae        Pyrisitia                         NaN  \n",
       "751      Pieridae     Glutophrissa                         NaN  \n",
       "849      Pieridae        Pyrisitia                         NaN  \n",
       "\n",
       "[1015 rows x 5 columns]"
      ]
     },
     "execution_count": 3,
     "metadata": {},
     "output_type": "execute_result"
    }
   ],
   "source": [
    "def balance_one_tax_data(df, col_tax_to_balance, tax_to_balance, max_samples) -> pd.DataFrame:\n",
    "    '''\n",
    "    df: dataframe with all data to balance\n",
    "    col_tax_to_balance: column name of the tax to balance\n",
    "    tax_to_balance: tax to balance\n",
    "    max_samples: maximum number to save of each tax\n",
    "    return: balanced dataframe\n",
    "    '''\n",
    "    col_index = df.columns.get_loc(col_tax_to_balance)\n",
    "    if col_index + 1 < len(df.columns):\n",
    "        next_tax_col = df.columns[col_index + 1]\n",
    "        vc = df[df[col_tax_to_balance] == tax_to_balance][next_tax_col].value_counts()\n",
    "        q25 = vc.quantile(0.25)\n",
    "        selected_values = vc[vc > 4 * q25]\n",
    "        balanced = pd.DataFrame(columns = df.columns)\n",
    "        for i in selected_values.index:\n",
    "            if vc[i] > max_samples:\n",
    "                balanced = pd.concat((balanced, df[df[next_tax_col] == i].sample(max_samples)))\n",
    "            else:\n",
    "                balanced = pd.concat((balanced, df[df[next_tax_col] == i]))\n",
    "    return balanced\n",
    "\n",
    "print('Original data')\n",
    "print(data.value_counts('family_final'))\n",
    "print('Balanced data')\n",
    "balance_one_tax_data(data, 'order_final', 'Diptera', 50).value_counts('family_final')\n",
    "\n",
    "pd.concat((balance_one_tax_data(data, 'order_final', 'Diptera', 50), balance_one_tax_data(data, 'order_final', 'Lepidoptera', 50)))"
   ]
  },
  {
   "attachments": {},
   "cell_type": "markdown",
   "id": "fbe43f08",
   "metadata": {},
   "source": [
    "---\n",
    "# Encoding & Concatenation"
   ]
  },
  {
   "cell_type": "code",
   "execution_count": 4,
   "id": "440c5208",
   "metadata": {},
   "outputs": [],
   "source": [
    "data['Sequence'] = data['Sequence'].apply(lambda x: x.upper())"
   ]
  },
  {
   "cell_type": "code",
   "execution_count": 5,
   "id": "5da827c4",
   "metadata": {},
   "outputs": [],
   "source": [
    "def sequence_encoding(sequence):\n",
    "    mapping = {\"A\": 0, \"C\": 1, \"G\": 2, \"T\": 3}\n",
    "    encoded_sequence = [mapping[i] for i in sequence]\n",
    "    return np.eye(4)[encoded_sequence]"
   ]
  },
  {
   "cell_type": "code",
   "execution_count": 6,
   "id": "09a077fa",
   "metadata": {},
   "outputs": [
    {
     "data": {
      "text/plain": [
       "'AATAAACAATATAAGATTTTGGTTATTGCCTCCTTCATTATCACTCCTTTTAATAAGAAGAATCGTAGAAACCGGTGCAGGTACAGGTTGAACAGTGTACCCCCCGCTGTCATCCAATATTGCCCACAGAGGTGCTTCAGTTGATTTAGCTATTTTTAGACTACATTTAGCTGGTATTTCTTCTATTTTAGGAGCAATTAATTTTATTTCTACAATAATTAATATACGACCCGCAGGAATAACCTTTGACCGAATACCCTTATTTGTCTGAGCTATTGCTATTACTGCCGTACTTCTACTATTATCTCTTCCTGTCTTAGCTGGAGCAATTACTATATTATTAACTGATCGAAATTTAAATACTACCTTTTTTGATCCCGCCGGAGGAGGAGATCCAATCTTATATCAACATCTCTTT'"
      ]
     },
     "execution_count": 6,
     "metadata": {},
     "output_type": "execute_result"
    }
   ],
   "source": [
    "elem0 = data['Sequence'].iloc[0]\n",
    "elem1 = data['Sequence'].iloc[1]\n",
    "elem0"
   ]
  },
  {
   "cell_type": "code",
   "execution_count": 7,
   "id": "fc706d40",
   "metadata": {},
   "outputs": [
    {
     "data": {
      "text/plain": [
       "array([[1., 0., 0., 0.],\n",
       "       [1., 0., 0., 0.],\n",
       "       [0., 0., 0., 1.],\n",
       "       ...,\n",
       "       [0., 0., 0., 1.],\n",
       "       [0., 0., 0., 1.],\n",
       "       [0., 0., 0., 1.]])"
      ]
     },
     "execution_count": 7,
     "metadata": {},
     "output_type": "execute_result"
    }
   ],
   "source": [
    "enc0 = sequence_encoding(elem0)\n",
    "enc1 = sequence_encoding(elem1)\n",
    "enc0"
   ]
  },
  {
   "cell_type": "code",
   "execution_count": 8,
   "id": "7b74953f",
   "metadata": {},
   "outputs": [
    {
     "data": {
      "text/plain": [
       "(418, 4)"
      ]
     },
     "execution_count": 8,
     "metadata": {},
     "output_type": "execute_result"
    }
   ],
   "source": [
    "enc1.shape"
   ]
  },
  {
   "cell_type": "code",
   "execution_count": 9,
   "id": "8cbd6494",
   "metadata": {},
   "outputs": [],
   "source": [
    "def side_by_side_sequence(seq1, seq2):\n",
    "    return np.concatenate((seq1, seq2), axis=1)"
   ]
  },
  {
   "cell_type": "code",
   "execution_count": 10,
   "id": "7e9b6772",
   "metadata": {},
   "outputs": [
    {
     "data": {
      "text/plain": [
       "(418, 8)"
      ]
     },
     "execution_count": 10,
     "metadata": {},
     "output_type": "execute_result"
    }
   ],
   "source": [
    "side_by_side_seq = side_by_side_sequence(enc0,enc1)\n",
    "side_by_side_seq.shape\n",
    "#type(syde_by_side_seq)"
   ]
  },
  {
   "cell_type": "code",
   "execution_count": 11,
   "id": "a33e23e4",
   "metadata": {},
   "outputs": [
    {
     "data": {
      "text/plain": [
       "array([[1., 0., 0., ..., 0., 0., 0.],\n",
       "       [1., 0., 0., ..., 0., 0., 0.],\n",
       "       [0., 0., 0., ..., 0., 0., 1.],\n",
       "       ...,\n",
       "       [0., 0., 0., ..., 0., 0., 1.],\n",
       "       [0., 0., 0., ..., 0., 0., 1.],\n",
       "       [0., 0., 0., ..., 0., 0., 1.]])"
      ]
     },
     "execution_count": 11,
     "metadata": {},
     "output_type": "execute_result"
    }
   ],
   "source": [
    "side_by_side_seq"
   ]
  },
  {
   "cell_type": "code",
   "execution_count": 12,
   "id": "885c9b84",
   "metadata": {},
   "outputs": [],
   "source": [
    "def deep_sequence(seq1, seq2):\n",
    "    #s1 = seq1[np.newaxis, :, :]\n",
    "    #s2 = seq2[np.newaxis, :, :]\n",
    "    #sequence = np.concatenate((s1, s2), axis=0)\n",
    "    sequence = np.dstack((seq1, seq2))\n",
    "    return sequence"
   ]
  },
  {
   "cell_type": "code",
   "execution_count": 13,
   "id": "3f0d67cf",
   "metadata": {},
   "outputs": [
    {
     "data": {
      "text/plain": [
       "(418, 4, 2)"
      ]
     },
     "execution_count": 13,
     "metadata": {},
     "output_type": "execute_result"
    }
   ],
   "source": [
    "deep_seq = deep_sequence(enc0,enc1)\n",
    "deep_seq.shape"
   ]
  },
  {
   "cell_type": "code",
   "execution_count": 14,
   "id": "116c61af",
   "metadata": {},
   "outputs": [
    {
     "data": {
      "text/plain": [
       "array([[[1., 1.],\n",
       "        [0., 0.],\n",
       "        [0., 0.],\n",
       "        [0., 0.]],\n",
       "\n",
       "       [[1., 1.],\n",
       "        [0., 0.],\n",
       "        [0., 0.],\n",
       "        [0., 0.]],\n",
       "\n",
       "       [[0., 0.],\n",
       "        [0., 0.],\n",
       "        [0., 0.],\n",
       "        [1., 1.]],\n",
       "\n",
       "       ...,\n",
       "\n",
       "       [[0., 0.],\n",
       "        [0., 0.],\n",
       "        [0., 0.],\n",
       "        [1., 1.]],\n",
       "\n",
       "       [[0., 0.],\n",
       "        [0., 0.],\n",
       "        [0., 0.],\n",
       "        [1., 1.]],\n",
       "\n",
       "       [[0., 0.],\n",
       "        [0., 0.],\n",
       "        [0., 0.],\n",
       "        [1., 1.]]])"
      ]
     },
     "execution_count": 14,
     "metadata": {},
     "output_type": "execute_result"
    }
   ],
   "source": [
    "deep_seq"
   ]
  },
  {
   "attachments": {},
   "cell_type": "markdown",
   "id": "4fa61677",
   "metadata": {},
   "source": [
    "---\n",
    "# Combinaciones"
   ]
  },
  {
   "cell_type": "code",
   "execution_count": 15,
   "id": "7a45d355",
   "metadata": {},
   "outputs": [],
   "source": [
    "datos = {'Col1': ['C', 'A', 'R','M', 'E', 'N'],\n",
    "        'Col2': ['S','S','M','S','M','M']}\n",
    "\n",
    "df = pd.DataFrame(datos)\n",
    "#df"
   ]
  },
  {
   "cell_type": "code",
   "execution_count": 16,
   "id": "567d43d1",
   "metadata": {},
   "outputs": [],
   "source": [
    "import itertools\n",
    "\n",
    "def combination_list(dataframe,column):\n",
    "    sequences = dataframe[column].tolist()\n",
    "    combinations = list(itertools.combinations(sequences, 2))\n",
    "    return combinations"
   ]
  },
  {
   "cell_type": "code",
   "execution_count": 17,
   "id": "64c673c2",
   "metadata": {},
   "outputs": [],
   "source": [
    "combinations = combination_list(df,'Col1')\n",
    "#combinations"
   ]
  },
  {
   "cell_type": "code",
   "execution_count": 18,
   "id": "2287cb83",
   "metadata": {},
   "outputs": [],
   "source": [
    "def combination_matrix(df,sequence_column,tax_column):\n",
    "    combinaciones = []\n",
    "    for sequence1, sequence2 in combination_list(df,sequence_column):\n",
    "        z = zip(df[df[sequence_column] == sequence1][tax_column], df[df[sequence_column] == sequence2][tax_column])\n",
    "        for clase1, clase2 in z:\n",
    "            combinaciones.append([sequence1, sequence2, clase1, clase2])\n",
    "\n",
    "    df_combinaciones = pd.DataFrame(combinaciones, columns=['Sequence1', 'Sequence2', 'Tax1', 'Tax2'])\n",
    "    return df_combinaciones"
   ]
  },
  {
   "cell_type": "code",
   "execution_count": 19,
   "id": "b1072fcf",
   "metadata": {},
   "outputs": [],
   "source": [
    "nuevo_df = combination_matrix(df,'Col1','Col2')\n",
    "#nuevo_df"
   ]
  },
  {
   "cell_type": "code",
   "execution_count": 20,
   "id": "6d27cd0e",
   "metadata": {},
   "outputs": [],
   "source": [
    "def tax_comparison(dataframe, tax1, tax2):\n",
    "    dataframe['Same'] = dataframe[tax1] == dataframe[tax2]\n",
    "    return dataframe"
   ]
  },
  {
   "cell_type": "code",
   "execution_count": 21,
   "id": "1b35b1f2",
   "metadata": {},
   "outputs": [
    {
     "data": {
      "text/html": [
       "<div>\n",
       "<style scoped>\n",
       "    .dataframe tbody tr th:only-of-type {\n",
       "        vertical-align: middle;\n",
       "    }\n",
       "\n",
       "    .dataframe tbody tr th {\n",
       "        vertical-align: top;\n",
       "    }\n",
       "\n",
       "    .dataframe thead th {\n",
       "        text-align: right;\n",
       "    }\n",
       "</style>\n",
       "<table border=\"1\" class=\"dataframe\">\n",
       "  <thead>\n",
       "    <tr style=\"text-align: right;\">\n",
       "      <th></th>\n",
       "      <th>Sequence1</th>\n",
       "      <th>Sequence2</th>\n",
       "      <th>Tax1</th>\n",
       "      <th>Tax2</th>\n",
       "      <th>Same</th>\n",
       "    </tr>\n",
       "  </thead>\n",
       "  <tbody>\n",
       "    <tr>\n",
       "      <th>0</th>\n",
       "      <td>C</td>\n",
       "      <td>A</td>\n",
       "      <td>S</td>\n",
       "      <td>S</td>\n",
       "      <td>True</td>\n",
       "    </tr>\n",
       "    <tr>\n",
       "      <th>1</th>\n",
       "      <td>C</td>\n",
       "      <td>R</td>\n",
       "      <td>S</td>\n",
       "      <td>M</td>\n",
       "      <td>False</td>\n",
       "    </tr>\n",
       "    <tr>\n",
       "      <th>2</th>\n",
       "      <td>C</td>\n",
       "      <td>M</td>\n",
       "      <td>S</td>\n",
       "      <td>S</td>\n",
       "      <td>True</td>\n",
       "    </tr>\n",
       "    <tr>\n",
       "      <th>3</th>\n",
       "      <td>C</td>\n",
       "      <td>E</td>\n",
       "      <td>S</td>\n",
       "      <td>M</td>\n",
       "      <td>False</td>\n",
       "    </tr>\n",
       "    <tr>\n",
       "      <th>4</th>\n",
       "      <td>C</td>\n",
       "      <td>N</td>\n",
       "      <td>S</td>\n",
       "      <td>M</td>\n",
       "      <td>False</td>\n",
       "    </tr>\n",
       "    <tr>\n",
       "      <th>5</th>\n",
       "      <td>A</td>\n",
       "      <td>R</td>\n",
       "      <td>S</td>\n",
       "      <td>M</td>\n",
       "      <td>False</td>\n",
       "    </tr>\n",
       "    <tr>\n",
       "      <th>6</th>\n",
       "      <td>A</td>\n",
       "      <td>M</td>\n",
       "      <td>S</td>\n",
       "      <td>S</td>\n",
       "      <td>True</td>\n",
       "    </tr>\n",
       "    <tr>\n",
       "      <th>7</th>\n",
       "      <td>A</td>\n",
       "      <td>E</td>\n",
       "      <td>S</td>\n",
       "      <td>M</td>\n",
       "      <td>False</td>\n",
       "    </tr>\n",
       "    <tr>\n",
       "      <th>8</th>\n",
       "      <td>A</td>\n",
       "      <td>N</td>\n",
       "      <td>S</td>\n",
       "      <td>M</td>\n",
       "      <td>False</td>\n",
       "    </tr>\n",
       "    <tr>\n",
       "      <th>9</th>\n",
       "      <td>R</td>\n",
       "      <td>M</td>\n",
       "      <td>M</td>\n",
       "      <td>S</td>\n",
       "      <td>False</td>\n",
       "    </tr>\n",
       "    <tr>\n",
       "      <th>10</th>\n",
       "      <td>R</td>\n",
       "      <td>E</td>\n",
       "      <td>M</td>\n",
       "      <td>M</td>\n",
       "      <td>True</td>\n",
       "    </tr>\n",
       "    <tr>\n",
       "      <th>11</th>\n",
       "      <td>R</td>\n",
       "      <td>N</td>\n",
       "      <td>M</td>\n",
       "      <td>M</td>\n",
       "      <td>True</td>\n",
       "    </tr>\n",
       "    <tr>\n",
       "      <th>12</th>\n",
       "      <td>M</td>\n",
       "      <td>E</td>\n",
       "      <td>S</td>\n",
       "      <td>M</td>\n",
       "      <td>False</td>\n",
       "    </tr>\n",
       "    <tr>\n",
       "      <th>13</th>\n",
       "      <td>M</td>\n",
       "      <td>N</td>\n",
       "      <td>S</td>\n",
       "      <td>M</td>\n",
       "      <td>False</td>\n",
       "    </tr>\n",
       "    <tr>\n",
       "      <th>14</th>\n",
       "      <td>E</td>\n",
       "      <td>N</td>\n",
       "      <td>M</td>\n",
       "      <td>M</td>\n",
       "      <td>True</td>\n",
       "    </tr>\n",
       "  </tbody>\n",
       "</table>\n",
       "</div>"
      ],
      "text/plain": [
       "   Sequence1 Sequence2 Tax1 Tax2   Same\n",
       "0          C         A    S    S   True\n",
       "1          C         R    S    M  False\n",
       "2          C         M    S    S   True\n",
       "3          C         E    S    M  False\n",
       "4          C         N    S    M  False\n",
       "5          A         R    S    M  False\n",
       "6          A         M    S    S   True\n",
       "7          A         E    S    M  False\n",
       "8          A         N    S    M  False\n",
       "9          R         M    M    S  False\n",
       "10         R         E    M    M   True\n",
       "11         R         N    M    M   True\n",
       "12         M         E    S    M  False\n",
       "13         M         N    S    M  False\n",
       "14         E         N    M    M   True"
      ]
     },
     "execution_count": 21,
     "metadata": {},
     "output_type": "execute_result"
    }
   ],
   "source": [
    "input_matrix = tax_comparison(nuevo_df,'Tax1','Tax2')\n",
    "input_matrix"
   ]
  },
  {
   "attachments": {},
   "cell_type": "markdown",
   "id": "a7305139",
   "metadata": {},
   "source": [
    "---\n",
    "# Final Matrix"
   ]
  },
  {
   "cell_type": "code",
   "execution_count": 22,
   "id": "b0f65ecf",
   "metadata": {},
   "outputs": [
    {
     "name": "stderr",
     "output_type": "stream",
     "text": [
      "2023-05-22 00:38:40.350596: I tensorflow/core/platform/cpu_feature_guard.cc:193] This TensorFlow binary is optimized with oneAPI Deep Neural Network Library (oneDNN) to use the following CPU instructions in performance-critical operations:  SSE4.1 SSE4.2\n",
      "To enable them in other operations, rebuild TensorFlow with the appropriate compiler flags.\n"
     ]
    }
   ],
   "source": [
    "from tensorflow.keras.preprocessing.sequence import pad_sequences\n",
    "\n",
    "def final_matrix(data,concat_type):\n",
    "    \n",
    "    #Pasamos a letras mayúsculas las cadenas\n",
    "    data['Sequence'] = data['Sequence'].apply(lambda x: x.upper())\n",
    "    #Llamamos a la función para filtrar los datos\n",
    "    #balanced_data = balance_one_tax_data(data, 'order_final', 'Diptera', 50)\n",
    "    balanced_data = pd.concat((data[data['order_final'] == 'Diptera'].sample(300), data[data['order_final'] == 'Lepidoptera'].sample(300)))\n",
    "    #Llamamos a la función para realizar todas las combinaciones\n",
    "    combinations = combination_matrix(balanced_data,'Sequence','order_final')\n",
    "    #Llamamos a la función para determinar si los Taxones son iguales\n",
    "    DNA_matrix = tax_comparison(combinations,'Tax1','Tax2')\n",
    "    #Pasamos los valores boolean a integer\n",
    "    DNA_matrix['Same'] = DNA_matrix['Same'].astype(int)\n",
    "    \n",
    "    DNA_matrix['Paired_seq'] = ''  # Creamos una columna vacía para almacenar los resultados\n",
    "    for index, row in DNA_matrix.iterrows():\n",
    "        sequence1 = row['Sequence1']\n",
    "        sequence2 = row['Sequence2']\n",
    "        encoding1 = sequence_encoding(sequence1)\n",
    "        encoding2 = sequence_encoding(sequence2)\n",
    "        vectors_padded = pad_sequences([encoding1, encoding2], padding='post')\n",
    "        paired_sequences = concat_type(vectors_padded[0], vectors_padded[0])\n",
    "        DNA_matrix.at[index, 'Paired_seq'] = paired_sequences\n",
    "    return DNA_matrix"
   ]
  },
  {
   "cell_type": "code",
   "execution_count": 23,
   "id": "035c6d07",
   "metadata": {},
   "outputs": [
    {
     "data": {
      "text/html": [
       "<div>\n",
       "<style scoped>\n",
       "    .dataframe tbody tr th:only-of-type {\n",
       "        vertical-align: middle;\n",
       "    }\n",
       "\n",
       "    .dataframe tbody tr th {\n",
       "        vertical-align: top;\n",
       "    }\n",
       "\n",
       "    .dataframe thead th {\n",
       "        text-align: right;\n",
       "    }\n",
       "</style>\n",
       "<table border=\"1\" class=\"dataframe\">\n",
       "  <thead>\n",
       "    <tr style=\"text-align: right;\">\n",
       "      <th></th>\n",
       "      <th>Sequence1</th>\n",
       "      <th>Sequence2</th>\n",
       "      <th>Tax1</th>\n",
       "      <th>Tax2</th>\n",
       "      <th>Same</th>\n",
       "      <th>Paired_seq</th>\n",
       "    </tr>\n",
       "  </thead>\n",
       "  <tbody>\n",
       "    <tr>\n",
       "      <th>0</th>\n",
       "      <td>AATAAATAATATAAGTTTTTGACTTCTTCCTCCTGCATTAATTTTA...</td>\n",
       "      <td>AATAAATAATATAAGATTTTGACTTTTACCTCCTTCTTTAACTTTA...</td>\n",
       "      <td>Diptera</td>\n",
       "      <td>Diptera</td>\n",
       "      <td>1</td>\n",
       "      <td>[[1, 0, 0, 0, 1, 0, 0, 0], [1, 0, 0, 0, 1, 0, ...</td>\n",
       "    </tr>\n",
       "    <tr>\n",
       "      <th>1</th>\n",
       "      <td>AATAAATAATATAAGTTTTTGACTTCTTCCTCCTGCATTAATTTTA...</td>\n",
       "      <td>AATAAATAATATAAGATTTTGAATATTACCTCCTTCTTTAACACTA...</td>\n",
       "      <td>Diptera</td>\n",
       "      <td>Diptera</td>\n",
       "      <td>1</td>\n",
       "      <td>[[1, 0, 0, 0, 1, 0, 0, 0], [1, 0, 0, 0, 1, 0, ...</td>\n",
       "    </tr>\n",
       "    <tr>\n",
       "      <th>2</th>\n",
       "      <td>AATAAATAATATAAGTTTTTGACTTCTTCCTCCTGCATTAATTTTA...</td>\n",
       "      <td>AATAAATAATATAAGTTTCTGAATATTACCTCCTTCTTTAACTCTA...</td>\n",
       "      <td>Diptera</td>\n",
       "      <td>Diptera</td>\n",
       "      <td>1</td>\n",
       "      <td>[[1, 0, 0, 0, 1, 0, 0, 0], [1, 0, 0, 0, 1, 0, ...</td>\n",
       "    </tr>\n",
       "    <tr>\n",
       "      <th>3</th>\n",
       "      <td>AATAAATAATATAAGTTTTTGACTTCTTCCTCCTGCATTAATTTTA...</td>\n",
       "      <td>AATAAATAACATAAGATTTTGGATATTACCCCCATCATTAACTTTA...</td>\n",
       "      <td>Diptera</td>\n",
       "      <td>Diptera</td>\n",
       "      <td>1</td>\n",
       "      <td>[[1, 0, 0, 0, 1, 0, 0, 0], [1, 0, 0, 0, 1, 0, ...</td>\n",
       "    </tr>\n",
       "    <tr>\n",
       "      <th>4</th>\n",
       "      <td>AATAAATAATATAAGTTTTTGACTTCTTCCTCCTGCATTAATTTTA...</td>\n",
       "      <td>AATAAATAATATAAGTTTTTGACTACTACCTCCATCTCTAACTCTT...</td>\n",
       "      <td>Diptera</td>\n",
       "      <td>Diptera</td>\n",
       "      <td>1</td>\n",
       "      <td>[[1, 0, 0, 0, 1, 0, 0, 0], [1, 0, 0, 0, 1, 0, ...</td>\n",
       "    </tr>\n",
       "    <tr>\n",
       "      <th>...</th>\n",
       "      <td>...</td>\n",
       "      <td>...</td>\n",
       "      <td>...</td>\n",
       "      <td>...</td>\n",
       "      <td>...</td>\n",
       "      <td>...</td>\n",
       "    </tr>\n",
       "    <tr>\n",
       "      <th>179701</th>\n",
       "      <td>AATAAATAATATAAGTTTTTGATTACTTCCCCCCTCAATTACATTA...</td>\n",
       "      <td>AATAAATAATATAAGTTTCTGACTTCTACCCCCTTCTTTAACTCTT...</td>\n",
       "      <td>Lepidoptera</td>\n",
       "      <td>Lepidoptera</td>\n",
       "      <td>1</td>\n",
       "      <td>[[1, 0, 0, 0, 1, 0, 0, 0], [1, 0, 0, 0, 1, 0, ...</td>\n",
       "    </tr>\n",
       "    <tr>\n",
       "      <th>179702</th>\n",
       "      <td>AATAAATAATATAAGTTTTTGATTACTTCCCCCCTCAATTACATTA...</td>\n",
       "      <td>AATAAATAATATAAGATTTTGATTACTACCCCCTTCATTAATTCTT...</td>\n",
       "      <td>Lepidoptera</td>\n",
       "      <td>Lepidoptera</td>\n",
       "      <td>1</td>\n",
       "      <td>[[1, 0, 0, 0, 1, 0, 0, 0], [1, 0, 0, 0, 1, 0, ...</td>\n",
       "    </tr>\n",
       "    <tr>\n",
       "      <th>179703</th>\n",
       "      <td>AATAAATAATATAAGATTTTGATTATTACCTCCTTCATTAACTCTA...</td>\n",
       "      <td>AATAAATAATATAAGTTTCTGACTTCTACCCCCTTCTTTAACTCTT...</td>\n",
       "      <td>Lepidoptera</td>\n",
       "      <td>Lepidoptera</td>\n",
       "      <td>1</td>\n",
       "      <td>[[1, 0, 0, 0, 1, 0, 0, 0], [1, 0, 0, 0, 1, 0, ...</td>\n",
       "    </tr>\n",
       "    <tr>\n",
       "      <th>179704</th>\n",
       "      <td>AATAAATAATATAAGATTTTGATTATTACCTCCTTCATTAACTCTA...</td>\n",
       "      <td>AATAAATAATATAAGATTTTGATTACTACCCCCTTCATTAATTCTT...</td>\n",
       "      <td>Lepidoptera</td>\n",
       "      <td>Lepidoptera</td>\n",
       "      <td>1</td>\n",
       "      <td>[[1, 0, 0, 0, 1, 0, 0, 0], [1, 0, 0, 0, 1, 0, ...</td>\n",
       "    </tr>\n",
       "    <tr>\n",
       "      <th>179705</th>\n",
       "      <td>AATAAATAATATAAGTTTCTGACTTCTACCCCCTTCTTTAACTCTT...</td>\n",
       "      <td>AATAAATAATATAAGATTTTGATTACTACCCCCTTCATTAATTCTT...</td>\n",
       "      <td>Lepidoptera</td>\n",
       "      <td>Lepidoptera</td>\n",
       "      <td>1</td>\n",
       "      <td>[[1, 0, 0, 0, 1, 0, 0, 0], [1, 0, 0, 0, 1, 0, ...</td>\n",
       "    </tr>\n",
       "  </tbody>\n",
       "</table>\n",
       "<p>179706 rows × 6 columns</p>\n",
       "</div>"
      ],
      "text/plain": [
       "                                                Sequence1  \\\n",
       "0       AATAAATAATATAAGTTTTTGACTTCTTCCTCCTGCATTAATTTTA...   \n",
       "1       AATAAATAATATAAGTTTTTGACTTCTTCCTCCTGCATTAATTTTA...   \n",
       "2       AATAAATAATATAAGTTTTTGACTTCTTCCTCCTGCATTAATTTTA...   \n",
       "3       AATAAATAATATAAGTTTTTGACTTCTTCCTCCTGCATTAATTTTA...   \n",
       "4       AATAAATAATATAAGTTTTTGACTTCTTCCTCCTGCATTAATTTTA...   \n",
       "...                                                   ...   \n",
       "179701  AATAAATAATATAAGTTTTTGATTACTTCCCCCCTCAATTACATTA...   \n",
       "179702  AATAAATAATATAAGTTTTTGATTACTTCCCCCCTCAATTACATTA...   \n",
       "179703  AATAAATAATATAAGATTTTGATTATTACCTCCTTCATTAACTCTA...   \n",
       "179704  AATAAATAATATAAGATTTTGATTATTACCTCCTTCATTAACTCTA...   \n",
       "179705  AATAAATAATATAAGTTTCTGACTTCTACCCCCTTCTTTAACTCTT...   \n",
       "\n",
       "                                                Sequence2         Tax1  \\\n",
       "0       AATAAATAATATAAGATTTTGACTTTTACCTCCTTCTTTAACTTTA...      Diptera   \n",
       "1       AATAAATAATATAAGATTTTGAATATTACCTCCTTCTTTAACACTA...      Diptera   \n",
       "2       AATAAATAATATAAGTTTCTGAATATTACCTCCTTCTTTAACTCTA...      Diptera   \n",
       "3       AATAAATAACATAAGATTTTGGATATTACCCCCATCATTAACTTTA...      Diptera   \n",
       "4       AATAAATAATATAAGTTTTTGACTACTACCTCCATCTCTAACTCTT...      Diptera   \n",
       "...                                                   ...          ...   \n",
       "179701  AATAAATAATATAAGTTTCTGACTTCTACCCCCTTCTTTAACTCTT...  Lepidoptera   \n",
       "179702  AATAAATAATATAAGATTTTGATTACTACCCCCTTCATTAATTCTT...  Lepidoptera   \n",
       "179703  AATAAATAATATAAGTTTCTGACTTCTACCCCCTTCTTTAACTCTT...  Lepidoptera   \n",
       "179704  AATAAATAATATAAGATTTTGATTACTACCCCCTTCATTAATTCTT...  Lepidoptera   \n",
       "179705  AATAAATAATATAAGATTTTGATTACTACCCCCTTCATTAATTCTT...  Lepidoptera   \n",
       "\n",
       "               Tax2  Same                                         Paired_seq  \n",
       "0           Diptera     1  [[1, 0, 0, 0, 1, 0, 0, 0], [1, 0, 0, 0, 1, 0, ...  \n",
       "1           Diptera     1  [[1, 0, 0, 0, 1, 0, 0, 0], [1, 0, 0, 0, 1, 0, ...  \n",
       "2           Diptera     1  [[1, 0, 0, 0, 1, 0, 0, 0], [1, 0, 0, 0, 1, 0, ...  \n",
       "3           Diptera     1  [[1, 0, 0, 0, 1, 0, 0, 0], [1, 0, 0, 0, 1, 0, ...  \n",
       "4           Diptera     1  [[1, 0, 0, 0, 1, 0, 0, 0], [1, 0, 0, 0, 1, 0, ...  \n",
       "...             ...   ...                                                ...  \n",
       "179701  Lepidoptera     1  [[1, 0, 0, 0, 1, 0, 0, 0], [1, 0, 0, 0, 1, 0, ...  \n",
       "179702  Lepidoptera     1  [[1, 0, 0, 0, 1, 0, 0, 0], [1, 0, 0, 0, 1, 0, ...  \n",
       "179703  Lepidoptera     1  [[1, 0, 0, 0, 1, 0, 0, 0], [1, 0, 0, 0, 1, 0, ...  \n",
       "179704  Lepidoptera     1  [[1, 0, 0, 0, 1, 0, 0, 0], [1, 0, 0, 0, 1, 0, ...  \n",
       "179705  Lepidoptera     1  [[1, 0, 0, 0, 1, 0, 0, 0], [1, 0, 0, 0, 1, 0, ...  \n",
       "\n",
       "[179706 rows x 6 columns]"
      ]
     },
     "execution_count": 23,
     "metadata": {},
     "output_type": "execute_result"
    }
   ],
   "source": [
    "final_matrix = final_matrix(data,side_by_side_sequence)\n",
    "final_matrix"
   ]
  },
  {
   "cell_type": "code",
   "execution_count": 24,
   "id": "f05965ff",
   "metadata": {},
   "outputs": [
    {
     "data": {
      "text/plain": [
       "Sequence1     object\n",
       "Sequence2     object\n",
       "Tax1          object\n",
       "Tax2          object\n",
       "Same           int64\n",
       "Paired_seq    object\n",
       "dtype: object"
      ]
     },
     "execution_count": 24,
     "metadata": {},
     "output_type": "execute_result"
    }
   ],
   "source": [
    "final_matrix.dtypes"
   ]
  },
  {
   "attachments": {},
   "cell_type": "markdown",
   "id": "eaa09c8f",
   "metadata": {},
   "source": [
    "---\n",
    "# Data preparation for CNN"
   ]
  },
  {
   "cell_type": "code",
   "execution_count": 25,
   "id": "61e46c56",
   "metadata": {},
   "outputs": [],
   "source": [
    "from sklearn.model_selection import train_test_split\n",
    "\n",
    "# Obtenemos las secuencias de ADN en una variable 'X' y las etiquetas en una variable 'y'\n",
    "DNA = np.array(list(final_matrix.loc[:, 'Paired_seq'])) # dim = (31626,418,8)\n",
    "labels = np.array(list(final_matrix.loc[:, 'Same'])) # dim = (31626,1)\n",
    "#X"
   ]
  },
  {
   "cell_type": "code",
   "execution_count": 26,
   "id": "9be3ad65",
   "metadata": {},
   "outputs": [
    {
     "name": "stdout",
     "output_type": "stream",
     "text": [
      "Forma de X_train: (143764, 418, 8)\n",
      "Forma de y_train: (143764,)\n",
      "Forma de X_test: (35942, 418, 8)\n",
      "Forma de y_test: (35942,)\n"
     ]
    }
   ],
   "source": [
    "# Divide los datos en conjuntos de entrenamiento y prueba (80% para entrenamiento, 20% para prueba)\n",
    "DNA_train, DNA_test, labels_train, labels_test = train_test_split(\n",
    "    DNA, labels, test_size=0.20, random_state=42)\n",
    "\n",
    "print(\"Forma de X_train:\", DNA_train.shape)\n",
    "print(\"Forma de y_train:\", labels_train.shape)\n",
    "\n",
    "print(\"Forma de X_test:\", DNA_test.shape)\n",
    "print(\"Forma de y_test:\", labels_test.shape)"
   ]
  },
  {
   "cell_type": "code",
   "execution_count": 27,
   "id": "35e26303",
   "metadata": {},
   "outputs": [
    {
     "name": "stdout",
     "output_type": "stream",
     "text": [
      "Model: \"sequential\"\n",
      "_________________________________________________________________\n",
      " Layer (type)                Output Shape              Param #   \n",
      "=================================================================\n",
      " conv1d (Conv1D)             (None, 414, 64)           2624      \n",
      "                                                                 \n",
      " max_pooling1d (MaxPooling1D  (None, 207, 64)          0         \n",
      " )                                                               \n",
      "                                                                 \n",
      " conv1d_1 (Conv1D)           (None, 203, 200)          64200     \n",
      "                                                                 \n",
      " max_pooling1d_1 (MaxPooling  (None, 101, 200)         0         \n",
      " 1D)                                                             \n",
      "                                                                 \n",
      " dropout (Dropout)           (None, 101, 200)          0         \n",
      "                                                                 \n",
      " flatten (Flatten)           (None, 20200)             0         \n",
      "                                                                 \n",
      " dense (Dense)               (None, 128)               2585728   \n",
      "                                                                 \n",
      " dropout_1 (Dropout)         (None, 128)               0         \n",
      "                                                                 \n",
      " dense_1 (Dense)             (None, 1)                 129       \n",
      "                                                                 \n",
      "=================================================================\n",
      "Total params: 2,652,681\n",
      "Trainable params: 2,652,681\n",
      "Non-trainable params: 0\n",
      "_________________________________________________________________\n"
     ]
    },
    {
     "name": "stderr",
     "output_type": "stream",
     "text": [
      "2023-05-22 00:40:07.006250: I tensorflow/core/platform/cpu_feature_guard.cc:193] This TensorFlow binary is optimized with oneAPI Deep Neural Network Library (oneDNN) to use the following CPU instructions in performance-critical operations:  SSE4.1 SSE4.2\n",
      "To enable them in other operations, rebuild TensorFlow with the appropriate compiler flags.\n"
     ]
    }
   ],
   "source": [
    "from tensorflow.keras.models import Sequential\n",
    "from tensorflow.keras.layers import Conv1D, MaxPooling1D, Flatten, Dense,Dropout\n",
    "from tensorflow.keras.activations import relu, sigmoid\n",
    "from tensorflow.keras.optimizers import SGD\n",
    "\n",
    "model = Sequential()\n",
    "model.add(Conv1D(filters=64, kernel_size=5, input_shape=(418, 8), activation='relu'))\n",
    "model.add(MaxPooling1D(pool_size=2))\n",
    "model.add(Conv1D(filters=200, kernel_size=5, activation='relu'))\n",
    "model.add(MaxPooling1D(pool_size=2))\n",
    "model.add(Dropout(0.5))\n",
    "model.add(Flatten())\n",
    "model.add(Dense(128, activation=relu))\n",
    "model.add(Dropout(0.5))\n",
    "model.add(Dense(1, activation=sigmoid))\n",
    "\n",
    "\"\"\"\n",
    "model = Sequential()\n",
    "model.add(Conv1D(filters=32, kernel_size=3, activation=relu, input_shape=(418, 8)))\n",
    "model.add(Conv1D(filters=32, kernel_size=1, activation=relu))\n",
    "model.add(MaxPooling1D(pool_size=2))\n",
    "model.add(Conv1D(filters=64, kernel_size=3, activation=relu))\n",
    "model.add(Conv1D(filters=32, kernel_size=1, activation=relu))\n",
    "model.add(MaxPooling1D(pool_size=2))\n",
    "model.add(Flatten())\n",
    "model.add(Dense(128, activation=relu))\n",
    "model.add(Dense(1, activation=sigmoid))\n",
    "\"\"\"\n",
    "\n",
    "model.summary()"
   ]
  },
  {
   "cell_type": "code",
   "execution_count": 28,
   "id": "9c6bf01f",
   "metadata": {},
   "outputs": [],
   "source": [
    "# Compile: Define training parameters\n",
    "\n",
    "epochs = 50\n",
    "lrate = 0.001\n",
    "decay = lrate / epochs\n",
    "optim = SGD(learning_rate = lrate, momentum = 0.90, nesterov = True)\n",
    "model.compile(loss='binary_crossentropy', optimizer=optim, metrics=['binary_accuracy'])"
   ]
  },
  {
   "cell_type": "code",
   "execution_count": 29,
   "id": "38b41f02",
   "metadata": {},
   "outputs": [
    {
     "name": "stdout",
     "output_type": "stream",
     "text": [
      "Epoch 1/50\n",
      "36/36 - 58s - loss: 0.6973 - binary_accuracy: 0.5208 - val_loss: 0.6758 - val_binary_accuracy: 0.6729 - 58s/epoch - 2s/step\n",
      "Epoch 2/50\n",
      "36/36 - 55s - loss: 0.6750 - binary_accuracy: 0.5863 - val_loss: 0.6547 - val_binary_accuracy: 0.7198 - 55s/epoch - 2s/step\n",
      "Epoch 3/50\n",
      "36/36 - 54s - loss: 0.6564 - binary_accuracy: 0.6308 - val_loss: 0.6310 - val_binary_accuracy: 0.7084 - 54s/epoch - 2s/step\n",
      "Epoch 4/50\n",
      "36/36 - 54s - loss: 0.6363 - binary_accuracy: 0.6587 - val_loss: 0.6071 - val_binary_accuracy: 0.7029 - 54s/epoch - 2s/step\n",
      "Epoch 5/50\n",
      "36/36 - 57s - loss: 0.6169 - binary_accuracy: 0.6745 - val_loss: 0.5854 - val_binary_accuracy: 0.7150 - 57s/epoch - 2s/step\n",
      "Epoch 6/50\n",
      "36/36 - 58s - loss: 0.5994 - binary_accuracy: 0.6883 - val_loss: 0.5682 - val_binary_accuracy: 0.7167 - 58s/epoch - 2s/step\n",
      "Epoch 7/50\n",
      "36/36 - 58s - loss: 0.5839 - binary_accuracy: 0.6969 - val_loss: 0.5525 - val_binary_accuracy: 0.7273 - 58s/epoch - 2s/step\n",
      "Epoch 8/50\n",
      "36/36 - 56s - loss: 0.5719 - binary_accuracy: 0.7022 - val_loss: 0.5413 - val_binary_accuracy: 0.7273 - 56s/epoch - 2s/step\n",
      "Epoch 9/50\n",
      "36/36 - 54s - loss: 0.5624 - binary_accuracy: 0.7067 - val_loss: 0.5327 - val_binary_accuracy: 0.7273 - 54s/epoch - 2s/step\n",
      "Epoch 10/50\n",
      "36/36 - 53s - loss: 0.5540 - binary_accuracy: 0.7091 - val_loss: 0.5262 - val_binary_accuracy: 0.7319 - 53s/epoch - 1s/step\n",
      "Epoch 11/50\n",
      "36/36 - 53s - loss: 0.5475 - binary_accuracy: 0.7134 - val_loss: 0.5209 - val_binary_accuracy: 0.7319 - 53s/epoch - 1s/step\n",
      "Epoch 12/50\n",
      "36/36 - 54s - loss: 0.5427 - binary_accuracy: 0.7150 - val_loss: 0.5167 - val_binary_accuracy: 0.7319 - 54s/epoch - 1s/step\n",
      "Epoch 13/50\n",
      "36/36 - 53s - loss: 0.5372 - binary_accuracy: 0.7184 - val_loss: 0.5131 - val_binary_accuracy: 0.7339 - 53s/epoch - 1s/step\n",
      "Epoch 14/50\n"
     ]
    }
   ],
   "source": [
    "from tensorflow.keras.callbacks import EarlyStopping\n",
    "\n",
    "BATCHES = final_matrix.shape[0] // 64\n",
    "\n",
    "model.fit(DNA_train, labels_train, batch_size=BATCHES, epochs=epochs, verbose=2, validation_split=0.30, callbacks=[EarlyStopping(monitor='val_loss', patience=10)])"
   ]
  },
  {
   "cell_type": "code",
   "execution_count": null,
   "id": "dac37375",
   "metadata": {},
   "outputs": [],
   "source": [
    "model.save(\"S2S_model.h5\")\n"
   ]
  },
  {
   "cell_type": "code",
   "execution_count": null,
   "id": "dae7111f",
   "metadata": {},
   "outputs": [],
   "source": [
    "# Load model back into memory, and use it for prediction\n",
    "from tensorflow.keras.models import load_model\n",
    "DNN = load_model(\"S2S_model.h5\")\n",
    "\n",
    "y_test_hat = DNN.predict(x=DNA_test)\n",
    "print(y_test_hat.shape)\n"
   ]
  },
  {
   "cell_type": "code",
   "execution_count": null,
   "id": "9e0063a9",
   "metadata": {},
   "outputs": [],
   "source": [
    "import matplotlib.pyplot as plt\n",
    "a = np.hstack((y_test_hat))\n",
    "_ = plt.hist(a, bins='auto')  # arguments are passed to np.histogram\n",
    "plt.title(\"Histogram with 'auto' bins\")\n",
    "plt.show()\n"
   ]
  },
  {
   "cell_type": "code",
   "execution_count": null,
   "id": "2d2e6c50",
   "metadata": {},
   "outputs": [],
   "source": []
  }
 ],
 "metadata": {
  "kernelspec": {
   "display_name": "Python 3 (ipykernel)",
   "language": "python",
   "name": "python3"
  },
  "language_info": {
   "codemirror_mode": {
    "name": "ipython",
    "version": 3
   },
   "file_extension": ".py",
   "mimetype": "text/x-python",
   "name": "python",
   "nbconvert_exporter": "python",
   "pygments_lexer": "ipython3",
   "version": "3.9.16"
  }
 },
 "nbformat": 4,
 "nbformat_minor": 5
}
