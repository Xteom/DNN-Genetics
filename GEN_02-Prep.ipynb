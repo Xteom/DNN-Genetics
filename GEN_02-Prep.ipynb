{
 "cells": [
  {
   "cell_type": "code",
   "execution_count": 44,
   "id": "c939bd32",
   "metadata": {},
   "outputs": [],
   "source": [
    "import pandas as pd\n",
    "import numpy as np\n",
    "import matplotlib.pyplot as plt\n",
    "import openpyxl\n",
    "#import plotly.express as px"
   ]
  },
  {
   "cell_type": "code",
   "execution_count": 2,
   "id": "70cc7166",
   "metadata": {},
   "outputs": [
    {
     "data": {
      "text/html": [
       "<div>\n",
       "<style scoped>\n",
       "    .dataframe tbody tr th:only-of-type {\n",
       "        vertical-align: middle;\n",
       "    }\n",
       "\n",
       "    .dataframe tbody tr th {\n",
       "        vertical-align: top;\n",
       "    }\n",
       "\n",
       "    .dataframe thead th {\n",
       "        text-align: right;\n",
       "    }\n",
       "</style>\n",
       "<table border=\"1\" class=\"dataframe\">\n",
       "  <thead>\n",
       "    <tr style=\"text-align: right;\">\n",
       "      <th></th>\n",
       "      <th>Sequence</th>\n",
       "      <th>order_final</th>\n",
       "      <th>family_final</th>\n",
       "      <th>genus_final</th>\n",
       "      <th>species_final</th>\n",
       "    </tr>\n",
       "  </thead>\n",
       "  <tbody>\n",
       "    <tr>\n",
       "      <th>0</th>\n",
       "      <td>aataaacaatataagattttggttattgcctccttcattatcactc...</td>\n",
       "      <td>Coleoptera</td>\n",
       "      <td>Mordellidae</td>\n",
       "      <td>NaN</td>\n",
       "      <td>NaN</td>\n",
       "    </tr>\n",
       "    <tr>\n",
       "      <th>1</th>\n",
       "      <td>aataaataatataagtttttgacttcttcctccttctttaacctta...</td>\n",
       "      <td>Coleoptera</td>\n",
       "      <td>Carabidae</td>\n",
       "      <td>Glyptolenus</td>\n",
       "      <td>NaN</td>\n",
       "    </tr>\n",
       "    <tr>\n",
       "      <th>2</th>\n",
       "      <td>tttaaacaatataagattttgattgttaccaccttcattaactttc...</td>\n",
       "      <td>Coleoptera</td>\n",
       "      <td>Coccinellidae</td>\n",
       "      <td>NaN</td>\n",
       "      <td>NaN</td>\n",
       "    </tr>\n",
       "    <tr>\n",
       "      <th>3</th>\n",
       "      <td>tataaacaatataagattctgacttcttccaccttcattaagatta...</td>\n",
       "      <td>Coleoptera</td>\n",
       "      <td>Mordellidae</td>\n",
       "      <td>NaN</td>\n",
       "      <td>NaN</td>\n",
       "    </tr>\n",
       "    <tr>\n",
       "      <th>4</th>\n",
       "      <td>aataaataatataagattttgactacttcctccgtcacttaccctt...</td>\n",
       "      <td>Coleoptera</td>\n",
       "      <td>Nitidulidae</td>\n",
       "      <td>NaN</td>\n",
       "      <td>NaN</td>\n",
       "    </tr>\n",
       "    <tr>\n",
       "      <th>...</th>\n",
       "      <td>...</td>\n",
       "      <td>...</td>\n",
       "      <td>...</td>\n",
       "      <td>...</td>\n",
       "      <td>...</td>\n",
       "    </tr>\n",
       "    <tr>\n",
       "      <th>1778</th>\n",
       "      <td>aataaataatataagtttttgacttttacctcctgcattaacactt...</td>\n",
       "      <td>Diptera</td>\n",
       "      <td>Tachinidae</td>\n",
       "      <td>Ischyrophaga</td>\n",
       "      <td>NaN</td>\n",
       "    </tr>\n",
       "    <tr>\n",
       "      <th>1779</th>\n",
       "      <td>aataaataatataagattttgattattaccaccatcaataattata...</td>\n",
       "      <td>Hymenoptera</td>\n",
       "      <td>Ichneumonidae</td>\n",
       "      <td>ichneuMalaiseNA1</td>\n",
       "      <td>NaN</td>\n",
       "    </tr>\n",
       "    <tr>\n",
       "      <th>1780</th>\n",
       "      <td>aataaataacataagattttgattactcccaccttctcttttttta...</td>\n",
       "      <td>Hymenoptera</td>\n",
       "      <td>Ichneumonidae</td>\n",
       "      <td>NaN</td>\n",
       "      <td>NaN</td>\n",
       "    </tr>\n",
       "    <tr>\n",
       "      <th>1781</th>\n",
       "      <td>aataaataatataagtttctgacttcttcccccttctttaattctt...</td>\n",
       "      <td>Lepidoptera</td>\n",
       "      <td>Erebidae</td>\n",
       "      <td>Arugisa</td>\n",
       "      <td>NaN</td>\n",
       "    </tr>\n",
       "    <tr>\n",
       "      <th>1782</th>\n",
       "      <td>aataaataatataagattctgactattaccaccatcattaattcta...</td>\n",
       "      <td>Orthoptera</td>\n",
       "      <td>Acrididae</td>\n",
       "      <td>Tomonotus</td>\n",
       "      <td>NaN</td>\n",
       "    </tr>\n",
       "  </tbody>\n",
       "</table>\n",
       "<p>2799 rows × 5 columns</p>\n",
       "</div>"
      ],
      "text/plain": [
       "                                               Sequence  order_final  \\\n",
       "0     aataaacaatataagattttggttattgcctccttcattatcactc...   Coleoptera   \n",
       "1     aataaataatataagtttttgacttcttcctccttctttaacctta...   Coleoptera   \n",
       "2     tttaaacaatataagattttgattgttaccaccttcattaactttc...   Coleoptera   \n",
       "3     tataaacaatataagattctgacttcttccaccttcattaagatta...   Coleoptera   \n",
       "4     aataaataatataagattttgactacttcctccgtcacttaccctt...   Coleoptera   \n",
       "...                                                 ...          ...   \n",
       "1778  aataaataatataagtttttgacttttacctcctgcattaacactt...      Diptera   \n",
       "1779  aataaataatataagattttgattattaccaccatcaataattata...  Hymenoptera   \n",
       "1780  aataaataacataagattttgattactcccaccttctcttttttta...  Hymenoptera   \n",
       "1781  aataaataatataagtttctgacttcttcccccttctttaattctt...  Lepidoptera   \n",
       "1782  aataaataatataagattctgactattaccaccatcattaattcta...   Orthoptera   \n",
       "\n",
       "       family_final       genus_final species_final  \n",
       "0       Mordellidae               NaN           NaN  \n",
       "1         Carabidae       Glyptolenus           NaN  \n",
       "2     Coccinellidae               NaN           NaN  \n",
       "3       Mordellidae               NaN           NaN  \n",
       "4       Nitidulidae               NaN           NaN  \n",
       "...             ...               ...           ...  \n",
       "1778     Tachinidae      Ischyrophaga           NaN  \n",
       "1779  Ichneumonidae  ichneuMalaiseNA1           NaN  \n",
       "1780  Ichneumonidae               NaN           NaN  \n",
       "1781       Erebidae           Arugisa           NaN  \n",
       "1782      Acrididae         Tomonotus           NaN  \n",
       "\n",
       "[2799 rows x 5 columns]"
      ]
     },
     "execution_count": 2,
     "metadata": {},
     "output_type": "execute_result"
    }
   ],
   "source": [
    "# Read data\n",
    "data = pd.concat((pd.read_excel('./Datos_Metagenetica.xlsx', sheet_name='El_cielo', engine='openpyxl'), pd.read_excel('./Datos_Metagenetica.xlsx', sheet_name='Chamela',engine='openpyxl')))\n",
    "# replace 0 with NaN\n",
    "data = data.replace(0, np.nan)\n",
    "#drop columns que no se van a usar \n",
    "data = data.drop(['Database','.id', 'similarity', 'phylum_final', \n",
    "                  'class_final', 'subfamily_final', 'tribe_final',\n",
    "                   'subspecies_final', 'BASE', 'OTU'], axis=1)\n",
    "data"
   ]
  },
  {
   "attachments": {},
   "cell_type": "markdown",
   "id": "dca50a03",
   "metadata": {},
   "source": [
    "# Balance data"
   ]
  },
  {
   "cell_type": "code",
   "execution_count": 3,
   "id": "463a65c8",
   "metadata": {},
   "outputs": [
    {
     "name": "stdout",
     "output_type": "stream",
     "text": [
      "Original data\n",
      "family_final\n",
      "Erebidae           236\n",
      "Tachinidae         200\n",
      "Phoridae           162\n",
      "Ichneumonidae      154\n",
      "Cecidomyiidae      143\n",
      "                  ... \n",
      "Phacopteronidae      1\n",
      "Perilampidae         1\n",
      "Derbidae             1\n",
      "Disteniidae          1\n",
      "f__Triozidae         1\n",
      "Length: 216, dtype: int64\n",
      "Balanced data\n"
     ]
    },
    {
     "data": {
      "text/plain": [
       "family_final\n",
       "Cecidomyiidae      50\n",
       "Ceratopogonidae    50\n",
       "Sciaridae          50\n",
       "Phoridae           50\n",
       "Tachinidae         50\n",
       "Sarcophagidae      33\n",
       "Drosophilidae      32\n",
       "Chironomidae       31\n",
       "Dolichopodidae     30\n",
       "Mycetophilidae     25\n",
       "Muscidae           24\n",
       "Syrphidae          24\n",
       "Chloropidae        22\n",
       "Stratiomyidae      20\n",
       "Sphaeroceridae     19\n",
       "Pipunculidae       15\n",
       "Lauxaniidae        14\n",
       "Tabanidae          14\n",
       "Limoniidae         12\n",
       "Psychodidae        10\n",
       "dtype: int64"
      ]
     },
     "execution_count": 3,
     "metadata": {},
     "output_type": "execute_result"
    }
   ],
   "source": [
    "def balance_one_tax_data(df, col_tax_to_balance, tax_to_balance, max_samples) -> pd.DataFrame:\n",
    "    '''\n",
    "    df: dataframe with all data to balance\n",
    "    col_tax_to_balance: column name of the tax to balance\n",
    "    tax_to_balance: tax to balance\n",
    "    max_samples: maximum number to save of each tax\n",
    "    return: balanced dataframe\n",
    "    '''\n",
    "    col_index = df.columns.get_loc(col_tax_to_balance)\n",
    "    if col_index + 1 < len(df.columns):\n",
    "        next_tax_col = df.columns[col_index + 1]\n",
    "        vc = df[df[col_tax_to_balance] == tax_to_balance][next_tax_col].value_counts()\n",
    "        q25 = vc.quantile(0.25)\n",
    "        selected_values = vc[vc > 4 * q25]\n",
    "        balanced = pd.DataFrame(columns = df.columns)\n",
    "        for i in selected_values.index:\n",
    "            if vc[i] > max_samples:\n",
    "                balanced = pd.concat((balanced, df[df[next_tax_col] == i].sample(max_samples)))\n",
    "            else:\n",
    "                balanced = pd.concat((balanced, df[df[next_tax_col] == i]))\n",
    "    return balanced\n",
    "\n",
    "print('Original data')\n",
    "print(data.value_counts('family_final'))\n",
    "print('Balanced data')\n",
    "balance_one_tax_data(data, 'order_final', 'Diptera', 50).value_counts('family_final')"
   ]
  },
  {
   "attachments": {},
   "cell_type": "markdown",
   "id": "fbe43f08",
   "metadata": {},
   "source": [
    "---\n",
    "# Encoding & Concatenation"
   ]
  },
  {
   "cell_type": "code",
   "execution_count": 4,
   "id": "440c5208",
   "metadata": {},
   "outputs": [],
   "source": [
    "data['Sequence'] = data['Sequence'].apply(lambda x: x.upper())"
   ]
  },
  {
   "cell_type": "code",
   "execution_count": 5,
   "id": "5da827c4",
   "metadata": {},
   "outputs": [],
   "source": [
    "def sequence_encoding(sequence):\n",
    "    mapping = {\"A\": 0, \"C\": 1, \"G\": 2, \"T\": 3}\n",
    "    encoded_sequence = [mapping[i] for i in sequence]\n",
    "    return np.eye(4)[encoded_sequence]"
   ]
  },
  {
   "cell_type": "code",
   "execution_count": 6,
   "id": "09a077fa",
   "metadata": {},
   "outputs": [
    {
     "data": {
      "text/plain": [
       "'AATAAACAATATAAGATTTTGGTTATTGCCTCCTTCATTATCACTCCTTTTAATAAGAAGAATCGTAGAAACCGGTGCAGGTACAGGTTGAACAGTGTACCCCCCGCTGTCATCCAATATTGCCCACAGAGGTGCTTCAGTTGATTTAGCTATTTTTAGACTACATTTAGCTGGTATTTCTTCTATTTTAGGAGCAATTAATTTTATTTCTACAATAATTAATATACGACCCGCAGGAATAACCTTTGACCGAATACCCTTATTTGTCTGAGCTATTGCTATTACTGCCGTACTTCTACTATTATCTCTTCCTGTCTTAGCTGGAGCAATTACTATATTATTAACTGATCGAAATTTAAATACTACCTTTTTTGATCCCGCCGGAGGAGGAGATCCAATCTTATATCAACATCTCTTT'"
      ]
     },
     "execution_count": 6,
     "metadata": {},
     "output_type": "execute_result"
    }
   ],
   "source": [
    "elem0 = data['Sequence'].iloc[0]\n",
    "elem1 = data['Sequence'].iloc[1]\n",
    "elem0"
   ]
  },
  {
   "cell_type": "code",
   "execution_count": 7,
   "id": "fc706d40",
   "metadata": {},
   "outputs": [
    {
     "data": {
      "text/plain": [
       "array([[1., 0., 0., 0.],\n",
       "       [1., 0., 0., 0.],\n",
       "       [0., 0., 0., 1.],\n",
       "       ...,\n",
       "       [0., 0., 0., 1.],\n",
       "       [0., 0., 0., 1.],\n",
       "       [0., 0., 0., 1.]])"
      ]
     },
     "execution_count": 7,
     "metadata": {},
     "output_type": "execute_result"
    }
   ],
   "source": [
    "enc0 = sequence_encoding(elem0)\n",
    "enc1 = sequence_encoding(elem1)\n",
    "enc0"
   ]
  },
  {
   "cell_type": "code",
   "execution_count": 8,
   "id": "7b74953f",
   "metadata": {},
   "outputs": [
    {
     "data": {
      "text/plain": [
       "(418, 4)"
      ]
     },
     "execution_count": 8,
     "metadata": {},
     "output_type": "execute_result"
    }
   ],
   "source": [
    "enc1.shape"
   ]
  },
  {
   "cell_type": "code",
   "execution_count": 9,
   "id": "8cbd6494",
   "metadata": {},
   "outputs": [],
   "source": [
    "def side_by_side_sequence(seq1, seq2):\n",
    "    return np.concatenate((seq1, seq2), axis=1)"
   ]
  },
  {
   "cell_type": "code",
   "execution_count": 10,
   "id": "7e9b6772",
   "metadata": {},
   "outputs": [
    {
     "data": {
      "text/plain": [
       "(418, 8)"
      ]
     },
     "execution_count": 10,
     "metadata": {},
     "output_type": "execute_result"
    }
   ],
   "source": [
    "side_by_side_seq = side_by_side_sequence(enc0,enc1)\n",
    "side_by_side_seq.shape\n",
    "#type(syde_by_side_seq)"
   ]
  },
  {
   "cell_type": "code",
   "execution_count": 11,
   "id": "a33e23e4",
   "metadata": {},
   "outputs": [
    {
     "data": {
      "text/plain": [
       "array([[1., 0., 0., ..., 0., 0., 0.],\n",
       "       [1., 0., 0., ..., 0., 0., 0.],\n",
       "       [0., 0., 0., ..., 0., 0., 1.],\n",
       "       ...,\n",
       "       [0., 0., 0., ..., 0., 0., 1.],\n",
       "       [0., 0., 0., ..., 0., 0., 1.],\n",
       "       [0., 0., 0., ..., 0., 0., 1.]])"
      ]
     },
     "execution_count": 11,
     "metadata": {},
     "output_type": "execute_result"
    }
   ],
   "source": [
    "side_by_side_seq"
   ]
  },
  {
   "cell_type": "code",
   "execution_count": 12,
   "id": "885c9b84",
   "metadata": {},
   "outputs": [],
   "source": [
    "def deep_sequence(seq1, seq2):\n",
    "    #s1 = seq1[np.newaxis, :, :]\n",
    "    #s2 = seq2[np.newaxis, :, :]\n",
    "    #sequence = np.concatenate((s1, s2), axis=0)\n",
    "    sequence = np.dstack((seq1, seq2))\n",
    "    return sequence"
   ]
  },
  {
   "cell_type": "code",
   "execution_count": 13,
   "id": "3f0d67cf",
   "metadata": {},
   "outputs": [
    {
     "data": {
      "text/plain": [
       "(418, 4, 2)"
      ]
     },
     "execution_count": 13,
     "metadata": {},
     "output_type": "execute_result"
    }
   ],
   "source": [
    "deep_seq = deep_sequence(enc0,enc1)\n",
    "deep_seq.shape"
   ]
  },
  {
   "cell_type": "code",
   "execution_count": 14,
   "id": "116c61af",
   "metadata": {},
   "outputs": [
    {
     "data": {
      "text/plain": [
       "array([[[1., 1.],\n",
       "        [0., 0.],\n",
       "        [0., 0.],\n",
       "        [0., 0.]],\n",
       "\n",
       "       [[1., 1.],\n",
       "        [0., 0.],\n",
       "        [0., 0.],\n",
       "        [0., 0.]],\n",
       "\n",
       "       [[0., 0.],\n",
       "        [0., 0.],\n",
       "        [0., 0.],\n",
       "        [1., 1.]],\n",
       "\n",
       "       ...,\n",
       "\n",
       "       [[0., 0.],\n",
       "        [0., 0.],\n",
       "        [0., 0.],\n",
       "        [1., 1.]],\n",
       "\n",
       "       [[0., 0.],\n",
       "        [0., 0.],\n",
       "        [0., 0.],\n",
       "        [1., 1.]],\n",
       "\n",
       "       [[0., 0.],\n",
       "        [0., 0.],\n",
       "        [0., 0.],\n",
       "        [1., 1.]]])"
      ]
     },
     "execution_count": 14,
     "metadata": {},
     "output_type": "execute_result"
    }
   ],
   "source": [
    "deep_seq"
   ]
  },
  {
   "attachments": {},
   "cell_type": "markdown",
   "id": "4fa61677",
   "metadata": {},
   "source": [
    "---\n",
    "# Combinaciones"
   ]
  },
  {
   "cell_type": "code",
   "execution_count": 15,
   "id": "7a45d355",
   "metadata": {},
   "outputs": [],
   "source": [
    "datos = {'Col1': ['C', 'A', 'R','M', 'E', 'N'],\n",
    "        'Col2': ['S','S','M','S','M','M']}\n",
    "\n",
    "df = pd.DataFrame(datos)\n",
    "#df"
   ]
  },
  {
   "cell_type": "code",
   "execution_count": 16,
   "id": "567d43d1",
   "metadata": {},
   "outputs": [],
   "source": [
    "import itertools\n",
    "\n",
    "def combination_list(dataframe,column):\n",
    "    sequences = dataframe[column].tolist()\n",
    "    combinations = list(itertools.combinations(sequences, 2))\n",
    "    return combinations"
   ]
  },
  {
   "cell_type": "code",
   "execution_count": 17,
   "id": "64c673c2",
   "metadata": {},
   "outputs": [],
   "source": [
    "combinations = combination_list(df,'Col1')\n",
    "#combinations"
   ]
  },
  {
   "cell_type": "code",
   "execution_count": 18,
   "id": "2287cb83",
   "metadata": {},
   "outputs": [],
   "source": [
    "def combination_matrix(df,sequence_column,tax_column):\n",
    "    combinaciones = []\n",
    "    for sequence1, sequence2 in combination_list(df,sequence_column):\n",
    "        z = zip(df[df[sequence_column] == sequence1][tax_column], df[df[sequence_column] == sequence2][tax_column])\n",
    "        for clase1, clase2 in z:\n",
    "            combinaciones.append([sequence1, sequence2, clase1, clase2])\n",
    "\n",
    "    df_combinaciones = pd.DataFrame(combinaciones, columns=['Sequence1', 'Sequence2', 'Tax1', 'Tax2'])\n",
    "    return df_combinaciones"
   ]
  },
  {
   "cell_type": "code",
   "execution_count": 19,
   "id": "b1072fcf",
   "metadata": {},
   "outputs": [],
   "source": [
    "nuevo_df = combination_matrix(df,'Col1','Col2')\n",
    "#nuevo_df"
   ]
  },
  {
   "cell_type": "code",
   "execution_count": 20,
   "id": "6d27cd0e",
   "metadata": {},
   "outputs": [],
   "source": [
    "def tax_comparison(dataframe, tax1, tax2):\n",
    "    dataframe['Same'] = dataframe[tax1] == dataframe[tax2]\n",
    "    return dataframe"
   ]
  },
  {
   "cell_type": "code",
   "execution_count": 21,
   "id": "1b35b1f2",
   "metadata": {},
   "outputs": [
    {
     "data": {
      "text/html": [
       "<div>\n",
       "<style scoped>\n",
       "    .dataframe tbody tr th:only-of-type {\n",
       "        vertical-align: middle;\n",
       "    }\n",
       "\n",
       "    .dataframe tbody tr th {\n",
       "        vertical-align: top;\n",
       "    }\n",
       "\n",
       "    .dataframe thead th {\n",
       "        text-align: right;\n",
       "    }\n",
       "</style>\n",
       "<table border=\"1\" class=\"dataframe\">\n",
       "  <thead>\n",
       "    <tr style=\"text-align: right;\">\n",
       "      <th></th>\n",
       "      <th>Sequence1</th>\n",
       "      <th>Sequence2</th>\n",
       "      <th>Tax1</th>\n",
       "      <th>Tax2</th>\n",
       "      <th>Same</th>\n",
       "    </tr>\n",
       "  </thead>\n",
       "  <tbody>\n",
       "    <tr>\n",
       "      <th>0</th>\n",
       "      <td>C</td>\n",
       "      <td>A</td>\n",
       "      <td>S</td>\n",
       "      <td>S</td>\n",
       "      <td>True</td>\n",
       "    </tr>\n",
       "    <tr>\n",
       "      <th>1</th>\n",
       "      <td>C</td>\n",
       "      <td>R</td>\n",
       "      <td>S</td>\n",
       "      <td>M</td>\n",
       "      <td>False</td>\n",
       "    </tr>\n",
       "    <tr>\n",
       "      <th>2</th>\n",
       "      <td>C</td>\n",
       "      <td>M</td>\n",
       "      <td>S</td>\n",
       "      <td>S</td>\n",
       "      <td>True</td>\n",
       "    </tr>\n",
       "    <tr>\n",
       "      <th>3</th>\n",
       "      <td>C</td>\n",
       "      <td>E</td>\n",
       "      <td>S</td>\n",
       "      <td>M</td>\n",
       "      <td>False</td>\n",
       "    </tr>\n",
       "    <tr>\n",
       "      <th>4</th>\n",
       "      <td>C</td>\n",
       "      <td>N</td>\n",
       "      <td>S</td>\n",
       "      <td>M</td>\n",
       "      <td>False</td>\n",
       "    </tr>\n",
       "    <tr>\n",
       "      <th>5</th>\n",
       "      <td>A</td>\n",
       "      <td>R</td>\n",
       "      <td>S</td>\n",
       "      <td>M</td>\n",
       "      <td>False</td>\n",
       "    </tr>\n",
       "    <tr>\n",
       "      <th>6</th>\n",
       "      <td>A</td>\n",
       "      <td>M</td>\n",
       "      <td>S</td>\n",
       "      <td>S</td>\n",
       "      <td>True</td>\n",
       "    </tr>\n",
       "    <tr>\n",
       "      <th>7</th>\n",
       "      <td>A</td>\n",
       "      <td>E</td>\n",
       "      <td>S</td>\n",
       "      <td>M</td>\n",
       "      <td>False</td>\n",
       "    </tr>\n",
       "    <tr>\n",
       "      <th>8</th>\n",
       "      <td>A</td>\n",
       "      <td>N</td>\n",
       "      <td>S</td>\n",
       "      <td>M</td>\n",
       "      <td>False</td>\n",
       "    </tr>\n",
       "    <tr>\n",
       "      <th>9</th>\n",
       "      <td>R</td>\n",
       "      <td>M</td>\n",
       "      <td>M</td>\n",
       "      <td>S</td>\n",
       "      <td>False</td>\n",
       "    </tr>\n",
       "    <tr>\n",
       "      <th>10</th>\n",
       "      <td>R</td>\n",
       "      <td>E</td>\n",
       "      <td>M</td>\n",
       "      <td>M</td>\n",
       "      <td>True</td>\n",
       "    </tr>\n",
       "    <tr>\n",
       "      <th>11</th>\n",
       "      <td>R</td>\n",
       "      <td>N</td>\n",
       "      <td>M</td>\n",
       "      <td>M</td>\n",
       "      <td>True</td>\n",
       "    </tr>\n",
       "    <tr>\n",
       "      <th>12</th>\n",
       "      <td>M</td>\n",
       "      <td>E</td>\n",
       "      <td>S</td>\n",
       "      <td>M</td>\n",
       "      <td>False</td>\n",
       "    </tr>\n",
       "    <tr>\n",
       "      <th>13</th>\n",
       "      <td>M</td>\n",
       "      <td>N</td>\n",
       "      <td>S</td>\n",
       "      <td>M</td>\n",
       "      <td>False</td>\n",
       "    </tr>\n",
       "    <tr>\n",
       "      <th>14</th>\n",
       "      <td>E</td>\n",
       "      <td>N</td>\n",
       "      <td>M</td>\n",
       "      <td>M</td>\n",
       "      <td>True</td>\n",
       "    </tr>\n",
       "  </tbody>\n",
       "</table>\n",
       "</div>"
      ],
      "text/plain": [
       "   Sequence1 Sequence2 Tax1 Tax2   Same\n",
       "0          C         A    S    S   True\n",
       "1          C         R    S    M  False\n",
       "2          C         M    S    S   True\n",
       "3          C         E    S    M  False\n",
       "4          C         N    S    M  False\n",
       "5          A         R    S    M  False\n",
       "6          A         M    S    S   True\n",
       "7          A         E    S    M  False\n",
       "8          A         N    S    M  False\n",
       "9          R         M    M    S  False\n",
       "10         R         E    M    M   True\n",
       "11         R         N    M    M   True\n",
       "12         M         E    S    M  False\n",
       "13         M         N    S    M  False\n",
       "14         E         N    M    M   True"
      ]
     },
     "execution_count": 21,
     "metadata": {},
     "output_type": "execute_result"
    }
   ],
   "source": [
    "input_matrix = tax_comparison(nuevo_df,'Tax1','Tax2')\n",
    "input_matrix"
   ]
  },
  {
   "attachments": {},
   "cell_type": "markdown",
   "id": "a7305139",
   "metadata": {},
   "source": [
    "---\n",
    "# Final Matrix"
   ]
  },
  {
   "cell_type": "code",
   "execution_count": 22,
   "id": "b0f65ecf",
   "metadata": {},
   "outputs": [
    {
     "name": "stderr",
     "output_type": "stream",
     "text": [
      "2023-05-21 22:00:02.467538: I tensorflow/core/platform/cpu_feature_guard.cc:193] This TensorFlow binary is optimized with oneAPI Deep Neural Network Library (oneDNN) to use the following CPU instructions in performance-critical operations:  SSE4.1 SSE4.2\n",
      "To enable them in other operations, rebuild TensorFlow with the appropriate compiler flags.\n"
     ]
    }
   ],
   "source": [
    "from tensorflow.keras.preprocessing.sequence import pad_sequences\n",
    "\n",
    "def final_matrix(data,concat_type):\n",
    "    \n",
    "    #Pasamos a letras mayúsculas las cadenas\n",
    "    data['Sequence'] = data['Sequence'].apply(lambda x: x.upper())\n",
    "    #Llamamos a la función para filtrar los datos\n",
    "    balanced_data = balance_one_tax_data(data, 'order_final', 'Diptera', 50)\n",
    "    #Llamamos a la función para realizar todas las combinaciones\n",
    "    combinations = combination_matrix(balanced_data,'Sequence',\"family_final\")\n",
    "    #Llamamos a la función para determinar si los Taxones son iguales\n",
    "    DNA_matrix = tax_comparison(combinations,'Tax1','Tax2')\n",
    "    #Pasamos los valores boolean a integer\n",
    "    DNA_matrix['Same'] = DNA_matrix['Same'].astype(int)\n",
    "    \n",
    "    DNA_matrix['Paired_seq'] = ''  # Creamos una columna vacía para almacenar los resultados\n",
    "    for index, row in DNA_matrix.iterrows():\n",
    "        sequence1 = row['Sequence1']\n",
    "        sequence2 = row['Sequence2']\n",
    "        encoding1 = sequence_encoding(sequence1)\n",
    "        encoding2 = sequence_encoding(sequence2)\n",
    "        vectors_padded = pad_sequences([encoding1, encoding2], padding='post')\n",
    "        paired_sequences = concat_type(vectors_padded[0], vectors_padded[0])\n",
    "        DNA_matrix.at[index, 'Paired_seq'] = paired_sequences\n",
    "    return DNA_matrix"
   ]
  },
  {
   "cell_type": "code",
   "execution_count": 23,
   "id": "035c6d07",
   "metadata": {},
   "outputs": [
    {
     "data": {
      "text/html": [
       "<div>\n",
       "<style scoped>\n",
       "    .dataframe tbody tr th:only-of-type {\n",
       "        vertical-align: middle;\n",
       "    }\n",
       "\n",
       "    .dataframe tbody tr th {\n",
       "        vertical-align: top;\n",
       "    }\n",
       "\n",
       "    .dataframe thead th {\n",
       "        text-align: right;\n",
       "    }\n",
       "</style>\n",
       "<table border=\"1\" class=\"dataframe\">\n",
       "  <thead>\n",
       "    <tr style=\"text-align: right;\">\n",
       "      <th></th>\n",
       "      <th>Sequence1</th>\n",
       "      <th>Sequence2</th>\n",
       "      <th>Tax1</th>\n",
       "      <th>Tax2</th>\n",
       "      <th>Same</th>\n",
       "      <th>Paired_seq</th>\n",
       "    </tr>\n",
       "  </thead>\n",
       "  <tbody>\n",
       "    <tr>\n",
       "      <th>0</th>\n",
       "      <td>AATAAATAATATAAGTTTTTGACTTCTTCCTCCAGCATTAATTTTA...</td>\n",
       "      <td>AATAAATAATATAAGTTTTTGATTACTTCCTCCTGCTTTAATACTT...</td>\n",
       "      <td>Tachinidae</td>\n",
       "      <td>Tachinidae</td>\n",
       "      <td>1</td>\n",
       "      <td>[[1, 0, 0, 0, 1, 0, 0, 0], [1, 0, 0, 0, 1, 0, ...</td>\n",
       "    </tr>\n",
       "    <tr>\n",
       "      <th>1</th>\n",
       "      <td>AATAAATAATATAAGTTTTTGACTTCTTCCTCCAGCATTAATTTTA...</td>\n",
       "      <td>AATAAATAATATAAGCTTTTGACTTCTTCCCCCTGCACTAACATTA...</td>\n",
       "      <td>Tachinidae</td>\n",
       "      <td>Tachinidae</td>\n",
       "      <td>1</td>\n",
       "      <td>[[1, 0, 0, 0, 1, 0, 0, 0], [1, 0, 0, 0, 1, 0, ...</td>\n",
       "    </tr>\n",
       "    <tr>\n",
       "      <th>2</th>\n",
       "      <td>AATAAATAATATAAGTTTTTGACTTCTTCCTCCAGCATTAATTTTA...</td>\n",
       "      <td>AATAAATAATATAAGTTTTTGACTTTTACCTCCTGCATTAACACTT...</td>\n",
       "      <td>Tachinidae</td>\n",
       "      <td>Tachinidae</td>\n",
       "      <td>1</td>\n",
       "      <td>[[1, 0, 0, 0, 1, 0, 0, 0], [1, 0, 0, 0, 1, 0, ...</td>\n",
       "    </tr>\n",
       "    <tr>\n",
       "      <th>3</th>\n",
       "      <td>AATAAATAATATAAGTTTTTGACTTCTTCCTCCAGCATTAATTTTA...</td>\n",
       "      <td>AATAAATAATATAAGTTTTTGATTACTTCCTCCTTCAGTAACTTTA...</td>\n",
       "      <td>Tachinidae</td>\n",
       "      <td>Tachinidae</td>\n",
       "      <td>1</td>\n",
       "      <td>[[1, 0, 0, 0, 1, 0, 0, 0], [1, 0, 0, 0, 1, 0, ...</td>\n",
       "    </tr>\n",
       "    <tr>\n",
       "      <th>4</th>\n",
       "      <td>AATAAATAATATAAGTTTTTGACTTCTTCCTCCAGCATTAATTTTA...</td>\n",
       "      <td>AATAAATAACATAAGTTTTTGACTACTTCCACCGGCATTAACCCTT...</td>\n",
       "      <td>Tachinidae</td>\n",
       "      <td>Tachinidae</td>\n",
       "      <td>1</td>\n",
       "      <td>[[1, 0, 0, 0, 1, 0, 0, 0], [1, 0, 0, 0, 1, 0, ...</td>\n",
       "    </tr>\n",
       "    <tr>\n",
       "      <th>...</th>\n",
       "      <td>...</td>\n",
       "      <td>...</td>\n",
       "      <td>...</td>\n",
       "      <td>...</td>\n",
       "      <td>...</td>\n",
       "      <td>...</td>\n",
       "    </tr>\n",
       "    <tr>\n",
       "      <th>165086</th>\n",
       "      <td>AATAAATAACCTAAGTTTTTGACTTTTACCTCCTTCTTTATTACTT...</td>\n",
       "      <td>AATAAATAATATAAGATTTTGACTTTTACCTCCTTCTTTATTATTA...</td>\n",
       "      <td>Psychodidae</td>\n",
       "      <td>Psychodidae</td>\n",
       "      <td>1</td>\n",
       "      <td>[[1, 0, 0, 0, 1, 0, 0, 0], [1, 0, 0, 0, 1, 0, ...</td>\n",
       "    </tr>\n",
       "    <tr>\n",
       "      <th>165087</th>\n",
       "      <td>AATAAATAACCTAAGTTTTTGACTTTTACCTCCTTCTTTATTACTT...</td>\n",
       "      <td>AATAAATAATTTAAGTTTTTGACTTTTACCTCCTTCTTTGCTTTTA...</td>\n",
       "      <td>Psychodidae</td>\n",
       "      <td>Psychodidae</td>\n",
       "      <td>1</td>\n",
       "      <td>[[1, 0, 0, 0, 1, 0, 0, 0], [1, 0, 0, 0, 1, 0, ...</td>\n",
       "    </tr>\n",
       "    <tr>\n",
       "      <th>165088</th>\n",
       "      <td>AATAAATAATTTAAGATTTTGATTATTACCTCCTTCTTTATTACTT...</td>\n",
       "      <td>AATAAATAATATAAGATTTTGACTTTTACCTCCTTCTTTATTATTA...</td>\n",
       "      <td>Psychodidae</td>\n",
       "      <td>Psychodidae</td>\n",
       "      <td>1</td>\n",
       "      <td>[[1, 0, 0, 0, 1, 0, 0, 0], [1, 0, 0, 0, 1, 0, ...</td>\n",
       "    </tr>\n",
       "    <tr>\n",
       "      <th>165089</th>\n",
       "      <td>AATAAATAATTTAAGATTTTGATTATTACCTCCTTCTTTATTACTT...</td>\n",
       "      <td>AATAAATAATTTAAGTTTTTGACTTTTACCTCCTTCTTTGCTTTTA...</td>\n",
       "      <td>Psychodidae</td>\n",
       "      <td>Psychodidae</td>\n",
       "      <td>1</td>\n",
       "      <td>[[1, 0, 0, 0, 1, 0, 0, 0], [1, 0, 0, 0, 1, 0, ...</td>\n",
       "    </tr>\n",
       "    <tr>\n",
       "      <th>165090</th>\n",
       "      <td>AATAAATAATATAAGATTTTGACTTTTACCTCCTTCTTTATTATTA...</td>\n",
       "      <td>AATAAATAATTTAAGTTTTTGACTTTTACCTCCTTCTTTGCTTTTA...</td>\n",
       "      <td>Psychodidae</td>\n",
       "      <td>Psychodidae</td>\n",
       "      <td>1</td>\n",
       "      <td>[[1, 0, 0, 0, 1, 0, 0, 0], [1, 0, 0, 0, 1, 0, ...</td>\n",
       "    </tr>\n",
       "  </tbody>\n",
       "</table>\n",
       "<p>165091 rows × 6 columns</p>\n",
       "</div>"
      ],
      "text/plain": [
       "                                                Sequence1  \\\n",
       "0       AATAAATAATATAAGTTTTTGACTTCTTCCTCCAGCATTAATTTTA...   \n",
       "1       AATAAATAATATAAGTTTTTGACTTCTTCCTCCAGCATTAATTTTA...   \n",
       "2       AATAAATAATATAAGTTTTTGACTTCTTCCTCCAGCATTAATTTTA...   \n",
       "3       AATAAATAATATAAGTTTTTGACTTCTTCCTCCAGCATTAATTTTA...   \n",
       "4       AATAAATAATATAAGTTTTTGACTTCTTCCTCCAGCATTAATTTTA...   \n",
       "...                                                   ...   \n",
       "165086  AATAAATAACCTAAGTTTTTGACTTTTACCTCCTTCTTTATTACTT...   \n",
       "165087  AATAAATAACCTAAGTTTTTGACTTTTACCTCCTTCTTTATTACTT...   \n",
       "165088  AATAAATAATTTAAGATTTTGATTATTACCTCCTTCTTTATTACTT...   \n",
       "165089  AATAAATAATTTAAGATTTTGATTATTACCTCCTTCTTTATTACTT...   \n",
       "165090  AATAAATAATATAAGATTTTGACTTTTACCTCCTTCTTTATTATTA...   \n",
       "\n",
       "                                                Sequence2         Tax1  \\\n",
       "0       AATAAATAATATAAGTTTTTGATTACTTCCTCCTGCTTTAATACTT...   Tachinidae   \n",
       "1       AATAAATAATATAAGCTTTTGACTTCTTCCCCCTGCACTAACATTA...   Tachinidae   \n",
       "2       AATAAATAATATAAGTTTTTGACTTTTACCTCCTGCATTAACACTT...   Tachinidae   \n",
       "3       AATAAATAATATAAGTTTTTGATTACTTCCTCCTTCAGTAACTTTA...   Tachinidae   \n",
       "4       AATAAATAACATAAGTTTTTGACTACTTCCACCGGCATTAACCCTT...   Tachinidae   \n",
       "...                                                   ...          ...   \n",
       "165086  AATAAATAATATAAGATTTTGACTTTTACCTCCTTCTTTATTATTA...  Psychodidae   \n",
       "165087  AATAAATAATTTAAGTTTTTGACTTTTACCTCCTTCTTTGCTTTTA...  Psychodidae   \n",
       "165088  AATAAATAATATAAGATTTTGACTTTTACCTCCTTCTTTATTATTA...  Psychodidae   \n",
       "165089  AATAAATAATTTAAGTTTTTGACTTTTACCTCCTTCTTTGCTTTTA...  Psychodidae   \n",
       "165090  AATAAATAATTTAAGTTTTTGACTTTTACCTCCTTCTTTGCTTTTA...  Psychodidae   \n",
       "\n",
       "               Tax2  Same                                         Paired_seq  \n",
       "0        Tachinidae     1  [[1, 0, 0, 0, 1, 0, 0, 0], [1, 0, 0, 0, 1, 0, ...  \n",
       "1        Tachinidae     1  [[1, 0, 0, 0, 1, 0, 0, 0], [1, 0, 0, 0, 1, 0, ...  \n",
       "2        Tachinidae     1  [[1, 0, 0, 0, 1, 0, 0, 0], [1, 0, 0, 0, 1, 0, ...  \n",
       "3        Tachinidae     1  [[1, 0, 0, 0, 1, 0, 0, 0], [1, 0, 0, 0, 1, 0, ...  \n",
       "4        Tachinidae     1  [[1, 0, 0, 0, 1, 0, 0, 0], [1, 0, 0, 0, 1, 0, ...  \n",
       "...             ...   ...                                                ...  \n",
       "165086  Psychodidae     1  [[1, 0, 0, 0, 1, 0, 0, 0], [1, 0, 0, 0, 1, 0, ...  \n",
       "165087  Psychodidae     1  [[1, 0, 0, 0, 1, 0, 0, 0], [1, 0, 0, 0, 1, 0, ...  \n",
       "165088  Psychodidae     1  [[1, 0, 0, 0, 1, 0, 0, 0], [1, 0, 0, 0, 1, 0, ...  \n",
       "165089  Psychodidae     1  [[1, 0, 0, 0, 1, 0, 0, 0], [1, 0, 0, 0, 1, 0, ...  \n",
       "165090  Psychodidae     1  [[1, 0, 0, 0, 1, 0, 0, 0], [1, 0, 0, 0, 1, 0, ...  \n",
       "\n",
       "[165091 rows x 6 columns]"
      ]
     },
     "execution_count": 23,
     "metadata": {},
     "output_type": "execute_result"
    }
   ],
   "source": [
    "final_matrix = final_matrix(data,side_by_side_sequence)\n",
    "final_matrix"
   ]
  },
  {
   "cell_type": "code",
   "execution_count": 24,
   "id": "f05965ff",
   "metadata": {},
   "outputs": [
    {
     "data": {
      "text/plain": [
       "Sequence1     object\n",
       "Sequence2     object\n",
       "Tax1          object\n",
       "Tax2          object\n",
       "Same           int64\n",
       "Paired_seq    object\n",
       "dtype: object"
      ]
     },
     "execution_count": 24,
     "metadata": {},
     "output_type": "execute_result"
    }
   ],
   "source": [
    "final_matrix.dtypes"
   ]
  },
  {
   "attachments": {},
   "cell_type": "markdown",
   "id": "eaa09c8f",
   "metadata": {},
   "source": [
    "---\n",
    "# Data preparation for CNN"
   ]
  },
  {
   "cell_type": "code",
   "execution_count": 31,
   "id": "61e46c56",
   "metadata": {},
   "outputs": [],
   "source": [
    "from sklearn.model_selection import train_test_split\n",
    "\n",
    "# Obtenemos las secuencias de ADN en una variable 'X' y las etiquetas en una variable 'y'\n",
    "DNA = np.array(list(final_matrix.loc[:, 'Paired_seq'])) # dim = (31626,418,8)\n",
    "labels = np.array(list(final_matrix.loc[:, 'Same'])) # dim = (31626,1)\n",
    "#X"
   ]
  },
  {
   "cell_type": "code",
   "execution_count": 32,
   "id": "9be3ad65",
   "metadata": {},
   "outputs": [
    {
     "name": "stdout",
     "output_type": "stream",
     "text": [
      "Forma de X_train: (132072, 418, 8)\n",
      "Forma de y_train: (132072,)\n",
      "Forma de X_test: (33019, 418, 8)\n",
      "Forma de y_test: (33019,)\n"
     ]
    }
   ],
   "source": [
    "# Divide los datos en conjuntos de entrenamiento y prueba (80% para entrenamiento, 20% para prueba)\n",
    "DNA_train, DNA_test, labels_train, labels_test = train_test_split(\n",
    "    DNA, labels, test_size=0.20, random_state=42)\n",
    "\n",
    "print(\"Forma de X_train:\", DNA_train.shape)\n",
    "print(\"Forma de y_train:\", labels_train.shape)\n",
    "\n",
    "print(\"Forma de X_test:\", DNA_test.shape)\n",
    "print(\"Forma de y_test:\", labels_test.shape)"
   ]
  },
  {
   "cell_type": "code",
   "execution_count": 33,
   "id": "35e26303",
   "metadata": {},
   "outputs": [
    {
     "name": "stdout",
     "output_type": "stream",
     "text": [
      "Model: \"sequential_1\"\n",
      "_________________________________________________________________\n",
      " Layer (type)                Output Shape              Param #   \n",
      "=================================================================\n",
      " conv1d_4 (Conv1D)           (None, 416, 32)           800       \n",
      "                                                                 \n",
      " conv1d_5 (Conv1D)           (None, 416, 32)           1056      \n",
      "                                                                 \n",
      " max_pooling1d_2 (MaxPooling  (None, 208, 32)          0         \n",
      " 1D)                                                             \n",
      "                                                                 \n",
      " conv1d_6 (Conv1D)           (None, 206, 64)           6208      \n",
      "                                                                 \n",
      " conv1d_7 (Conv1D)           (None, 206, 32)           2080      \n",
      "                                                                 \n",
      " max_pooling1d_3 (MaxPooling  (None, 103, 32)          0         \n",
      " 1D)                                                             \n",
      "                                                                 \n",
      " flatten_1 (Flatten)         (None, 3296)              0         \n",
      "                                                                 \n",
      " dense_2 (Dense)             (None, 128)               422016    \n",
      "                                                                 \n",
      " dense_3 (Dense)             (None, 1)                 129       \n",
      "                                                                 \n",
      "=================================================================\n",
      "Total params: 432,289\n",
      "Trainable params: 432,289\n",
      "Non-trainable params: 0\n",
      "_________________________________________________________________\n"
     ]
    }
   ],
   "source": [
    "from tensorflow.keras.models import Sequential\n",
    "from tensorflow.keras.layers import Conv1D, MaxPooling1D, Flatten, Dense\n",
    "from tensorflow.keras.activations import relu, sigmoid\n",
    "from tensorflow.keras.optimizers import SGD\n",
    "\n",
    "\"\"\"\n",
    "CNN = Sequential([\n",
    "    #Input(shape=(418, 4, 2)),\n",
    "\n",
    "    Conv1D(filters=32, kernel_size=3, activation=relu, padding='same', input_shape=(418,4,2)),\n",
    "    MaxPooling1D(pool_size=2),\n",
    "\n",
    "    Conv1D(filters=64, kernel_size=3, activation=relu),\n",
    "    MaxPooling1D(pool_size=2),\n",
    "\n",
    "    Flatten(),\n",
    "    Dense(128, activation='relu'),\n",
    "    Dense(1, activation='sigmoid')\n",
    "])\n",
    "\n",
    "CNN.summary()\n",
    "\"\"\"\n",
    "model = Sequential()\n",
    "model.add(Conv1D(filters=32, kernel_size=3, activation=relu, input_shape=(418, 8)))\n",
    "model.add(Conv1D(filters=32, kernel_size=1, activation=relu))\n",
    "model.add(MaxPooling1D(pool_size=2))\n",
    "model.add(Conv1D(filters=64, kernel_size=3, activation=relu))\n",
    "model.add(Conv1D(filters=32, kernel_size=1, activation=relu))\n",
    "model.add(MaxPooling1D(pool_size=2))\n",
    "model.add(Flatten())\n",
    "model.add(Dense(128, activation=relu))\n",
    "model.add(Dense(1, activation=sigmoid))\n",
    "\n",
    "model.summary()"
   ]
  },
  {
   "cell_type": "code",
   "execution_count": 34,
   "id": "9c6bf01f",
   "metadata": {},
   "outputs": [],
   "source": [
    "# Compile: Define training parameters\n",
    "\n",
    "epochs = 50\n",
    "lrate = 0.001\n",
    "decay = lrate / epochs\n",
    "optim = SGD(learning_rate = lrate, momentum = 0.90, nesterov = True)\n",
    "model.compile(loss='binary_crossentropy', optimizer=optim, metrics=['binary_accuracy'])"
   ]
  },
  {
   "cell_type": "code",
   "execution_count": 35,
   "id": "38b41f02",
   "metadata": {},
   "outputs": [
    {
     "name": "stdout",
     "output_type": "stream",
     "text": [
      "Epoch 1/200\n",
      "36/36 - 12s - loss: 0.2711 - binary_accuracy: 0.9404 - val_loss: 0.2305 - val_binary_accuracy: 0.9401 - 12s/epoch - 340ms/step\n",
      "Epoch 2/200\n",
      "36/36 - 11s - loss: 0.2265 - binary_accuracy: 0.9404 - val_loss: 0.2268 - val_binary_accuracy: 0.9401 - 11s/epoch - 295ms/step\n",
      "Epoch 3/200\n",
      "36/36 - 11s - loss: 0.2259 - binary_accuracy: 0.9404 - val_loss: 0.2268 - val_binary_accuracy: 0.9401 - 11s/epoch - 294ms/step\n",
      "Epoch 4/200\n",
      "36/36 - 11s - loss: 0.2259 - binary_accuracy: 0.9404 - val_loss: 0.2268 - val_binary_accuracy: 0.9401 - 11s/epoch - 296ms/step\n",
      "Epoch 5/200\n",
      "36/36 - 11s - loss: 0.2259 - binary_accuracy: 0.9404 - val_loss: 0.2268 - val_binary_accuracy: 0.9401 - 11s/epoch - 315ms/step\n",
      "Epoch 6/200\n",
      "36/36 - 10s - loss: 0.2259 - binary_accuracy: 0.9404 - val_loss: 0.2268 - val_binary_accuracy: 0.9401 - 10s/epoch - 292ms/step\n",
      "Epoch 7/200\n",
      "36/36 - 11s - loss: 0.2259 - binary_accuracy: 0.9404 - val_loss: 0.2268 - val_binary_accuracy: 0.9401 - 11s/epoch - 297ms/step\n",
      "Epoch 8/200\n",
      "36/36 - 11s - loss: 0.2258 - binary_accuracy: 0.9404 - val_loss: 0.2268 - val_binary_accuracy: 0.9401 - 11s/epoch - 304ms/step\n",
      "Epoch 9/200\n",
      "36/36 - 10s - loss: 0.2259 - binary_accuracy: 0.9404 - val_loss: 0.2268 - val_binary_accuracy: 0.9401 - 10s/epoch - 290ms/step\n",
      "Epoch 10/200\n",
      "36/36 - 11s - loss: 0.2258 - binary_accuracy: 0.9404 - val_loss: 0.2268 - val_binary_accuracy: 0.9401 - 11s/epoch - 297ms/step\n",
      "Epoch 11/200\n",
      "36/36 - 11s - loss: 0.2258 - binary_accuracy: 0.9404 - val_loss: 0.2268 - val_binary_accuracy: 0.9401 - 11s/epoch - 303ms/step\n",
      "Epoch 12/200\n",
      "36/36 - 11s - loss: 0.2258 - binary_accuracy: 0.9404 - val_loss: 0.2268 - val_binary_accuracy: 0.9401 - 11s/epoch - 300ms/step\n",
      "Epoch 13/200\n",
      "36/36 - 11s - loss: 0.2258 - binary_accuracy: 0.9404 - val_loss: 0.2268 - val_binary_accuracy: 0.9401 - 11s/epoch - 298ms/step\n",
      "Epoch 14/200\n",
      "36/36 - 11s - loss: 0.2258 - binary_accuracy: 0.9404 - val_loss: 0.2268 - val_binary_accuracy: 0.9401 - 11s/epoch - 302ms/step\n",
      "Epoch 15/200\n",
      "36/36 - 11s - loss: 0.2258 - binary_accuracy: 0.9404 - val_loss: 0.2268 - val_binary_accuracy: 0.9401 - 11s/epoch - 305ms/step\n",
      "Epoch 16/200\n",
      "36/36 - 11s - loss: 0.2258 - binary_accuracy: 0.9404 - val_loss: 0.2268 - val_binary_accuracy: 0.9401 - 11s/epoch - 310ms/step\n",
      "Epoch 17/200\n",
      "36/36 - 11s - loss: 0.2258 - binary_accuracy: 0.9404 - val_loss: 0.2267 - val_binary_accuracy: 0.9401 - 11s/epoch - 301ms/step\n",
      "Epoch 18/200\n",
      "36/36 - 11s - loss: 0.2258 - binary_accuracy: 0.9404 - val_loss: 0.2267 - val_binary_accuracy: 0.9401 - 11s/epoch - 300ms/step\n",
      "Epoch 19/200\n",
      "36/36 - 11s - loss: 0.2258 - binary_accuracy: 0.9404 - val_loss: 0.2267 - val_binary_accuracy: 0.9401 - 11s/epoch - 315ms/step\n",
      "Epoch 20/200\n",
      "36/36 - 11s - loss: 0.2258 - binary_accuracy: 0.9404 - val_loss: 0.2267 - val_binary_accuracy: 0.9401 - 11s/epoch - 307ms/step\n",
      "Epoch 21/200\n",
      "36/36 - 11s - loss: 0.2258 - binary_accuracy: 0.9404 - val_loss: 0.2267 - val_binary_accuracy: 0.9401 - 11s/epoch - 307ms/step\n",
      "Epoch 22/200\n",
      "36/36 - 11s - loss: 0.2258 - binary_accuracy: 0.9404 - val_loss: 0.2267 - val_binary_accuracy: 0.9401 - 11s/epoch - 292ms/step\n",
      "Epoch 23/200\n",
      "36/36 - 11s - loss: 0.2258 - binary_accuracy: 0.9404 - val_loss: 0.2267 - val_binary_accuracy: 0.9401 - 11s/epoch - 297ms/step\n",
      "Epoch 24/200\n",
      "36/36 - 10s - loss: 0.2258 - binary_accuracy: 0.9404 - val_loss: 0.2267 - val_binary_accuracy: 0.9401 - 10s/epoch - 291ms/step\n",
      "Epoch 25/200\n",
      "36/36 - 11s - loss: 0.2258 - binary_accuracy: 0.9404 - val_loss: 0.2267 - val_binary_accuracy: 0.9401 - 11s/epoch - 303ms/step\n",
      "Epoch 26/200\n",
      "36/36 - 11s - loss: 0.2258 - binary_accuracy: 0.9404 - val_loss: 0.2267 - val_binary_accuracy: 0.9401 - 11s/epoch - 313ms/step\n",
      "Epoch 27/200\n",
      "36/36 - 11s - loss: 0.2258 - binary_accuracy: 0.9404 - val_loss: 0.2267 - val_binary_accuracy: 0.9401 - 11s/epoch - 313ms/step\n",
      "Epoch 28/200\n",
      "36/36 - 11s - loss: 0.2257 - binary_accuracy: 0.9404 - val_loss: 0.2267 - val_binary_accuracy: 0.9401 - 11s/epoch - 306ms/step\n",
      "Epoch 29/200\n",
      "36/36 - 11s - loss: 0.2258 - binary_accuracy: 0.9404 - val_loss: 0.2267 - val_binary_accuracy: 0.9401 - 11s/epoch - 305ms/step\n",
      "Epoch 30/200\n",
      "36/36 - 11s - loss: 0.2257 - binary_accuracy: 0.9404 - val_loss: 0.2267 - val_binary_accuracy: 0.9401 - 11s/epoch - 307ms/step\n",
      "Epoch 31/200\n",
      "36/36 - 11s - loss: 0.2258 - binary_accuracy: 0.9404 - val_loss: 0.2267 - val_binary_accuracy: 0.9401 - 11s/epoch - 319ms/step\n",
      "Epoch 32/200\n",
      "36/36 - 12s - loss: 0.2257 - binary_accuracy: 0.9404 - val_loss: 0.2267 - val_binary_accuracy: 0.9401 - 12s/epoch - 323ms/step\n",
      "Epoch 33/200\n",
      "36/36 - 11s - loss: 0.2257 - binary_accuracy: 0.9404 - val_loss: 0.2267 - val_binary_accuracy: 0.9401 - 11s/epoch - 307ms/step\n",
      "Epoch 34/200\n",
      "36/36 - 11s - loss: 0.2257 - binary_accuracy: 0.9404 - val_loss: 0.2267 - val_binary_accuracy: 0.9401 - 11s/epoch - 304ms/step\n",
      "Epoch 35/200\n",
      "36/36 - 11s - loss: 0.2257 - binary_accuracy: 0.9404 - val_loss: 0.2267 - val_binary_accuracy: 0.9401 - 11s/epoch - 310ms/step\n",
      "Epoch 36/200\n",
      "36/36 - 11s - loss: 0.2257 - binary_accuracy: 0.9404 - val_loss: 0.2267 - val_binary_accuracy: 0.9401 - 11s/epoch - 313ms/step\n",
      "Epoch 37/200\n",
      "36/36 - 12s - loss: 0.2257 - binary_accuracy: 0.9404 - val_loss: 0.2267 - val_binary_accuracy: 0.9401 - 12s/epoch - 320ms/step\n",
      "Epoch 38/200\n",
      "36/36 - 12s - loss: 0.2257 - binary_accuracy: 0.9404 - val_loss: 0.2267 - val_binary_accuracy: 0.9401 - 12s/epoch - 323ms/step\n",
      "Epoch 39/200\n",
      "36/36 - 12s - loss: 0.2257 - binary_accuracy: 0.9404 - val_loss: 0.2267 - val_binary_accuracy: 0.9401 - 12s/epoch - 323ms/step\n",
      "Epoch 40/200\n",
      "36/36 - 12s - loss: 0.2257 - binary_accuracy: 0.9404 - val_loss: 0.2267 - val_binary_accuracy: 0.9401 - 12s/epoch - 322ms/step\n",
      "Epoch 41/200\n",
      "36/36 - 11s - loss: 0.2257 - binary_accuracy: 0.9404 - val_loss: 0.2267 - val_binary_accuracy: 0.9401 - 11s/epoch - 315ms/step\n",
      "Epoch 42/200\n",
      "36/36 - 11s - loss: 0.2257 - binary_accuracy: 0.9404 - val_loss: 0.2267 - val_binary_accuracy: 0.9401 - 11s/epoch - 312ms/step\n",
      "Epoch 43/200\n",
      "36/36 - 11s - loss: 0.2257 - binary_accuracy: 0.9404 - val_loss: 0.2267 - val_binary_accuracy: 0.9401 - 11s/epoch - 307ms/step\n",
      "Epoch 44/200\n",
      "36/36 - 12s - loss: 0.2257 - binary_accuracy: 0.9404 - val_loss: 0.2267 - val_binary_accuracy: 0.9401 - 12s/epoch - 323ms/step\n",
      "Epoch 45/200\n",
      "36/36 - 12s - loss: 0.2257 - binary_accuracy: 0.9404 - val_loss: 0.2266 - val_binary_accuracy: 0.9401 - 12s/epoch - 323ms/step\n",
      "Epoch 46/200\n",
      "36/36 - 11s - loss: 0.2257 - binary_accuracy: 0.9404 - val_loss: 0.2266 - val_binary_accuracy: 0.9401 - 11s/epoch - 314ms/step\n",
      "Epoch 47/200\n",
      "36/36 - 11s - loss: 0.2257 - binary_accuracy: 0.9404 - val_loss: 0.2266 - val_binary_accuracy: 0.9401 - 11s/epoch - 315ms/step\n",
      "Epoch 48/200\n",
      "36/36 - 11s - loss: 0.2257 - binary_accuracy: 0.9404 - val_loss: 0.2266 - val_binary_accuracy: 0.9401 - 11s/epoch - 306ms/step\n",
      "Epoch 49/200\n",
      "36/36 - 11s - loss: 0.2257 - binary_accuracy: 0.9404 - val_loss: 0.2266 - val_binary_accuracy: 0.9401 - 11s/epoch - 303ms/step\n",
      "Epoch 50/200\n",
      "36/36 - 11s - loss: 0.2257 - binary_accuracy: 0.9404 - val_loss: 0.2266 - val_binary_accuracy: 0.9401 - 11s/epoch - 306ms/step\n",
      "Epoch 51/200\n",
      "36/36 - 11s - loss: 0.2257 - binary_accuracy: 0.9404 - val_loss: 0.2266 - val_binary_accuracy: 0.9401 - 11s/epoch - 306ms/step\n",
      "Epoch 52/200\n",
      "36/36 - 11s - loss: 0.2257 - binary_accuracy: 0.9404 - val_loss: 0.2266 - val_binary_accuracy: 0.9401 - 11s/epoch - 314ms/step\n",
      "Epoch 53/200\n",
      "36/36 - 11s - loss: 0.2256 - binary_accuracy: 0.9404 - val_loss: 0.2266 - val_binary_accuracy: 0.9401 - 11s/epoch - 302ms/step\n",
      "Epoch 54/200\n",
      "36/36 - 11s - loss: 0.2256 - binary_accuracy: 0.9404 - val_loss: 0.2266 - val_binary_accuracy: 0.9401 - 11s/epoch - 308ms/step\n",
      "Epoch 55/200\n",
      "36/36 - 11s - loss: 0.2256 - binary_accuracy: 0.9404 - val_loss: 0.2266 - val_binary_accuracy: 0.9401 - 11s/epoch - 302ms/step\n",
      "Epoch 56/200\n",
      "36/36 - 11s - loss: 0.2256 - binary_accuracy: 0.9404 - val_loss: 0.2266 - val_binary_accuracy: 0.9401 - 11s/epoch - 314ms/step\n",
      "Epoch 57/200\n"
     ]
    },
    {
     "ename": "KeyboardInterrupt",
     "evalue": "",
     "output_type": "error",
     "traceback": [
      "\u001b[0;31m---------------------------------------------------------------------------\u001b[0m",
      "\u001b[0;31mKeyboardInterrupt\u001b[0m                         Traceback (most recent call last)",
      "Cell \u001b[0;32mIn[35], line 5\u001b[0m\n\u001b[1;32m      1\u001b[0m \u001b[39mfrom\u001b[39;00m \u001b[39mtensorflow\u001b[39;00m\u001b[39m.\u001b[39;00m\u001b[39mkeras\u001b[39;00m\u001b[39m.\u001b[39;00m\u001b[39mcallbacks\u001b[39;00m \u001b[39mimport\u001b[39;00m EarlyStopping\n\u001b[1;32m      3\u001b[0m BATCHES \u001b[39m=\u001b[39m final_matrix\u001b[39m.\u001b[39mshape[\u001b[39m0\u001b[39m] \u001b[39m/\u001b[39m\u001b[39m/\u001b[39m \u001b[39m64\u001b[39m\n\u001b[0;32m----> 5\u001b[0m model\u001b[39m.\u001b[39;49mfit(DNA_train, labels_train, batch_size\u001b[39m=\u001b[39;49mBATCHES, epochs\u001b[39m=\u001b[39;49mepochs, verbose\u001b[39m=\u001b[39;49m\u001b[39m2\u001b[39;49m, validation_split\u001b[39m=\u001b[39;49m\u001b[39m0.30\u001b[39;49m, callbacks\u001b[39m=\u001b[39;49m[EarlyStopping(monitor\u001b[39m=\u001b[39;49m\u001b[39m'\u001b[39;49m\u001b[39mval_loss\u001b[39;49m\u001b[39m'\u001b[39;49m, patience\u001b[39m=\u001b[39;49m\u001b[39m10\u001b[39;49m)])\n",
      "File \u001b[0;32m/opt/anaconda3/envs/tf/lib/python3.9/site-packages/keras/utils/traceback_utils.py:65\u001b[0m, in \u001b[0;36mfilter_traceback.<locals>.error_handler\u001b[0;34m(*args, **kwargs)\u001b[0m\n\u001b[1;32m     63\u001b[0m filtered_tb \u001b[39m=\u001b[39m \u001b[39mNone\u001b[39;00m\n\u001b[1;32m     64\u001b[0m \u001b[39mtry\u001b[39;00m:\n\u001b[0;32m---> 65\u001b[0m     \u001b[39mreturn\u001b[39;00m fn(\u001b[39m*\u001b[39;49margs, \u001b[39m*\u001b[39;49m\u001b[39m*\u001b[39;49mkwargs)\n\u001b[1;32m     66\u001b[0m \u001b[39mexcept\u001b[39;00m \u001b[39mException\u001b[39;00m \u001b[39mas\u001b[39;00m e:\n\u001b[1;32m     67\u001b[0m     filtered_tb \u001b[39m=\u001b[39m _process_traceback_frames(e\u001b[39m.\u001b[39m__traceback__)\n",
      "File \u001b[0;32m/opt/anaconda3/envs/tf/lib/python3.9/site-packages/keras/engine/training.py:1650\u001b[0m, in \u001b[0;36mModel.fit\u001b[0;34m(self, x, y, batch_size, epochs, verbose, callbacks, validation_split, validation_data, shuffle, class_weight, sample_weight, initial_epoch, steps_per_epoch, validation_steps, validation_batch_size, validation_freq, max_queue_size, workers, use_multiprocessing)\u001b[0m\n\u001b[1;32m   1642\u001b[0m \u001b[39mwith\u001b[39;00m tf\u001b[39m.\u001b[39mprofiler\u001b[39m.\u001b[39mexperimental\u001b[39m.\u001b[39mTrace(\n\u001b[1;32m   1643\u001b[0m     \u001b[39m\"\u001b[39m\u001b[39mtrain\u001b[39m\u001b[39m\"\u001b[39m,\n\u001b[1;32m   1644\u001b[0m     epoch_num\u001b[39m=\u001b[39mepoch,\n\u001b[0;32m   (...)\u001b[0m\n\u001b[1;32m   1647\u001b[0m     _r\u001b[39m=\u001b[39m\u001b[39m1\u001b[39m,\n\u001b[1;32m   1648\u001b[0m ):\n\u001b[1;32m   1649\u001b[0m     callbacks\u001b[39m.\u001b[39mon_train_batch_begin(step)\n\u001b[0;32m-> 1650\u001b[0m     tmp_logs \u001b[39m=\u001b[39m \u001b[39mself\u001b[39;49m\u001b[39m.\u001b[39;49mtrain_function(iterator)\n\u001b[1;32m   1651\u001b[0m     \u001b[39mif\u001b[39;00m data_handler\u001b[39m.\u001b[39mshould_sync:\n\u001b[1;32m   1652\u001b[0m         context\u001b[39m.\u001b[39masync_wait()\n",
      "File \u001b[0;32m/opt/anaconda3/envs/tf/lib/python3.9/site-packages/tensorflow/python/util/traceback_utils.py:150\u001b[0m, in \u001b[0;36mfilter_traceback.<locals>.error_handler\u001b[0;34m(*args, **kwargs)\u001b[0m\n\u001b[1;32m    148\u001b[0m filtered_tb \u001b[39m=\u001b[39m \u001b[39mNone\u001b[39;00m\n\u001b[1;32m    149\u001b[0m \u001b[39mtry\u001b[39;00m:\n\u001b[0;32m--> 150\u001b[0m   \u001b[39mreturn\u001b[39;00m fn(\u001b[39m*\u001b[39;49margs, \u001b[39m*\u001b[39;49m\u001b[39m*\u001b[39;49mkwargs)\n\u001b[1;32m    151\u001b[0m \u001b[39mexcept\u001b[39;00m \u001b[39mException\u001b[39;00m \u001b[39mas\u001b[39;00m e:\n\u001b[1;32m    152\u001b[0m   filtered_tb \u001b[39m=\u001b[39m _process_traceback_frames(e\u001b[39m.\u001b[39m__traceback__)\n",
      "File \u001b[0;32m/opt/anaconda3/envs/tf/lib/python3.9/site-packages/tensorflow/python/eager/polymorphic_function/polymorphic_function.py:880\u001b[0m, in \u001b[0;36mFunction.__call__\u001b[0;34m(self, *args, **kwds)\u001b[0m\n\u001b[1;32m    877\u001b[0m compiler \u001b[39m=\u001b[39m \u001b[39m\"\u001b[39m\u001b[39mxla\u001b[39m\u001b[39m\"\u001b[39m \u001b[39mif\u001b[39;00m \u001b[39mself\u001b[39m\u001b[39m.\u001b[39m_jit_compile \u001b[39melse\u001b[39;00m \u001b[39m\"\u001b[39m\u001b[39mnonXla\u001b[39m\u001b[39m\"\u001b[39m\n\u001b[1;32m    879\u001b[0m \u001b[39mwith\u001b[39;00m OptionalXlaContext(\u001b[39mself\u001b[39m\u001b[39m.\u001b[39m_jit_compile):\n\u001b[0;32m--> 880\u001b[0m   result \u001b[39m=\u001b[39m \u001b[39mself\u001b[39;49m\u001b[39m.\u001b[39;49m_call(\u001b[39m*\u001b[39;49margs, \u001b[39m*\u001b[39;49m\u001b[39m*\u001b[39;49mkwds)\n\u001b[1;32m    882\u001b[0m new_tracing_count \u001b[39m=\u001b[39m \u001b[39mself\u001b[39m\u001b[39m.\u001b[39mexperimental_get_tracing_count()\n\u001b[1;32m    883\u001b[0m without_tracing \u001b[39m=\u001b[39m (tracing_count \u001b[39m==\u001b[39m new_tracing_count)\n",
      "File \u001b[0;32m/opt/anaconda3/envs/tf/lib/python3.9/site-packages/tensorflow/python/eager/polymorphic_function/polymorphic_function.py:912\u001b[0m, in \u001b[0;36mFunction._call\u001b[0;34m(self, *args, **kwds)\u001b[0m\n\u001b[1;32m    909\u001b[0m   \u001b[39mself\u001b[39m\u001b[39m.\u001b[39m_lock\u001b[39m.\u001b[39mrelease()\n\u001b[1;32m    910\u001b[0m   \u001b[39m# In this case we have created variables on the first call, so we run the\u001b[39;00m\n\u001b[1;32m    911\u001b[0m   \u001b[39m# defunned version which is guaranteed to never create variables.\u001b[39;00m\n\u001b[0;32m--> 912\u001b[0m   \u001b[39mreturn\u001b[39;00m \u001b[39mself\u001b[39;49m\u001b[39m.\u001b[39;49m_no_variable_creation_fn(\u001b[39m*\u001b[39;49margs, \u001b[39m*\u001b[39;49m\u001b[39m*\u001b[39;49mkwds)  \u001b[39m# pylint: disable=not-callable\u001b[39;00m\n\u001b[1;32m    913\u001b[0m \u001b[39melif\u001b[39;00m \u001b[39mself\u001b[39m\u001b[39m.\u001b[39m_variable_creation_fn \u001b[39mis\u001b[39;00m \u001b[39mnot\u001b[39;00m \u001b[39mNone\u001b[39;00m:\n\u001b[1;32m    914\u001b[0m   \u001b[39m# Release the lock early so that multiple threads can perform the call\u001b[39;00m\n\u001b[1;32m    915\u001b[0m   \u001b[39m# in parallel.\u001b[39;00m\n\u001b[1;32m    916\u001b[0m   \u001b[39mself\u001b[39m\u001b[39m.\u001b[39m_lock\u001b[39m.\u001b[39mrelease()\n",
      "File \u001b[0;32m/opt/anaconda3/envs/tf/lib/python3.9/site-packages/tensorflow/python/eager/polymorphic_function/tracing_compiler.py:134\u001b[0m, in \u001b[0;36mTracingCompiler.__call__\u001b[0;34m(self, *args, **kwargs)\u001b[0m\n\u001b[1;32m    131\u001b[0m \u001b[39mwith\u001b[39;00m \u001b[39mself\u001b[39m\u001b[39m.\u001b[39m_lock:\n\u001b[1;32m    132\u001b[0m   (concrete_function,\n\u001b[1;32m    133\u001b[0m    filtered_flat_args) \u001b[39m=\u001b[39m \u001b[39mself\u001b[39m\u001b[39m.\u001b[39m_maybe_define_function(args, kwargs)\n\u001b[0;32m--> 134\u001b[0m \u001b[39mreturn\u001b[39;00m concrete_function\u001b[39m.\u001b[39;49m_call_flat(\n\u001b[1;32m    135\u001b[0m     filtered_flat_args, captured_inputs\u001b[39m=\u001b[39;49mconcrete_function\u001b[39m.\u001b[39;49mcaptured_inputs)\n",
      "File \u001b[0;32m/opt/anaconda3/envs/tf/lib/python3.9/site-packages/tensorflow/python/eager/polymorphic_function/monomorphic_function.py:1745\u001b[0m, in \u001b[0;36mConcreteFunction._call_flat\u001b[0;34m(self, args, captured_inputs, cancellation_manager)\u001b[0m\n\u001b[1;32m   1741\u001b[0m possible_gradient_type \u001b[39m=\u001b[39m gradients_util\u001b[39m.\u001b[39mPossibleTapeGradientTypes(args)\n\u001b[1;32m   1742\u001b[0m \u001b[39mif\u001b[39;00m (possible_gradient_type \u001b[39m==\u001b[39m gradients_util\u001b[39m.\u001b[39mPOSSIBLE_GRADIENT_TYPES_NONE\n\u001b[1;32m   1743\u001b[0m     \u001b[39mand\u001b[39;00m executing_eagerly):\n\u001b[1;32m   1744\u001b[0m   \u001b[39m# No tape is watching; skip to running the function.\u001b[39;00m\n\u001b[0;32m-> 1745\u001b[0m   \u001b[39mreturn\u001b[39;00m \u001b[39mself\u001b[39m\u001b[39m.\u001b[39m_build_call_outputs(\u001b[39mself\u001b[39;49m\u001b[39m.\u001b[39;49m_inference_function\u001b[39m.\u001b[39;49mcall(\n\u001b[1;32m   1746\u001b[0m       ctx, args, cancellation_manager\u001b[39m=\u001b[39;49mcancellation_manager))\n\u001b[1;32m   1747\u001b[0m forward_backward \u001b[39m=\u001b[39m \u001b[39mself\u001b[39m\u001b[39m.\u001b[39m_select_forward_and_backward_functions(\n\u001b[1;32m   1748\u001b[0m     args,\n\u001b[1;32m   1749\u001b[0m     possible_gradient_type,\n\u001b[1;32m   1750\u001b[0m     executing_eagerly)\n\u001b[1;32m   1751\u001b[0m forward_function, args_with_tangents \u001b[39m=\u001b[39m forward_backward\u001b[39m.\u001b[39mforward()\n",
      "File \u001b[0;32m/opt/anaconda3/envs/tf/lib/python3.9/site-packages/tensorflow/python/eager/polymorphic_function/monomorphic_function.py:378\u001b[0m, in \u001b[0;36m_EagerDefinedFunction.call\u001b[0;34m(self, ctx, args, cancellation_manager)\u001b[0m\n\u001b[1;32m    376\u001b[0m \u001b[39mwith\u001b[39;00m _InterpolateFunctionError(\u001b[39mself\u001b[39m):\n\u001b[1;32m    377\u001b[0m   \u001b[39mif\u001b[39;00m cancellation_manager \u001b[39mis\u001b[39;00m \u001b[39mNone\u001b[39;00m:\n\u001b[0;32m--> 378\u001b[0m     outputs \u001b[39m=\u001b[39m execute\u001b[39m.\u001b[39;49mexecute(\n\u001b[1;32m    379\u001b[0m         \u001b[39mstr\u001b[39;49m(\u001b[39mself\u001b[39;49m\u001b[39m.\u001b[39;49msignature\u001b[39m.\u001b[39;49mname),\n\u001b[1;32m    380\u001b[0m         num_outputs\u001b[39m=\u001b[39;49m\u001b[39mself\u001b[39;49m\u001b[39m.\u001b[39;49m_num_outputs,\n\u001b[1;32m    381\u001b[0m         inputs\u001b[39m=\u001b[39;49margs,\n\u001b[1;32m    382\u001b[0m         attrs\u001b[39m=\u001b[39;49mattrs,\n\u001b[1;32m    383\u001b[0m         ctx\u001b[39m=\u001b[39;49mctx)\n\u001b[1;32m    384\u001b[0m   \u001b[39melse\u001b[39;00m:\n\u001b[1;32m    385\u001b[0m     outputs \u001b[39m=\u001b[39m execute\u001b[39m.\u001b[39mexecute_with_cancellation(\n\u001b[1;32m    386\u001b[0m         \u001b[39mstr\u001b[39m(\u001b[39mself\u001b[39m\u001b[39m.\u001b[39msignature\u001b[39m.\u001b[39mname),\n\u001b[1;32m    387\u001b[0m         num_outputs\u001b[39m=\u001b[39m\u001b[39mself\u001b[39m\u001b[39m.\u001b[39m_num_outputs,\n\u001b[0;32m   (...)\u001b[0m\n\u001b[1;32m    390\u001b[0m         ctx\u001b[39m=\u001b[39mctx,\n\u001b[1;32m    391\u001b[0m         cancellation_manager\u001b[39m=\u001b[39mcancellation_manager)\n",
      "File \u001b[0;32m/opt/anaconda3/envs/tf/lib/python3.9/site-packages/tensorflow/python/eager/execute.py:52\u001b[0m, in \u001b[0;36mquick_execute\u001b[0;34m(op_name, num_outputs, inputs, attrs, ctx, name)\u001b[0m\n\u001b[1;32m     50\u001b[0m \u001b[39mtry\u001b[39;00m:\n\u001b[1;32m     51\u001b[0m   ctx\u001b[39m.\u001b[39mensure_initialized()\n\u001b[0;32m---> 52\u001b[0m   tensors \u001b[39m=\u001b[39m pywrap_tfe\u001b[39m.\u001b[39;49mTFE_Py_Execute(ctx\u001b[39m.\u001b[39;49m_handle, device_name, op_name,\n\u001b[1;32m     53\u001b[0m                                       inputs, attrs, num_outputs)\n\u001b[1;32m     54\u001b[0m \u001b[39mexcept\u001b[39;00m core\u001b[39m.\u001b[39m_NotOkStatusException \u001b[39mas\u001b[39;00m e:\n\u001b[1;32m     55\u001b[0m   \u001b[39mif\u001b[39;00m name \u001b[39mis\u001b[39;00m \u001b[39mnot\u001b[39;00m \u001b[39mNone\u001b[39;00m:\n",
      "\u001b[0;31mKeyboardInterrupt\u001b[0m: "
     ]
    }
   ],
   "source": [
    "from tensorflow.keras.callbacks import EarlyStopping\n",
    "\n",
    "BATCHES = final_matrix.shape[0] // 64\n",
    "\n",
    "model.fit(DNA_train, labels_train, batch_size=BATCHES, epochs=epochs, verbose=2, validation_split=0.30, callbacks=[EarlyStopping(monitor='val_loss', patience=10)])"
   ]
  },
  {
   "cell_type": "code",
   "execution_count": 36,
   "id": "dac37375",
   "metadata": {},
   "outputs": [],
   "source": [
    "model.save(\"S2S_model.h5\")\n"
   ]
  },
  {
   "cell_type": "code",
   "execution_count": 40,
   "id": "dae7111f",
   "metadata": {},
   "outputs": [
    {
     "name": "stdout",
     "output_type": "stream",
     "text": [
      "1032/1032 [==============================] - 4s 4ms/step\n",
      "(33019, 1)\n"
     ]
    }
   ],
   "source": [
    "# Load model back into memory, and use it for prediction\n",
    "from tensorflow.keras.models import load_model\n",
    "DNN = load_model(\"S2S_model.h5\")\n",
    "\n",
    "y_test_hat = DNN.predict(x=DNA_test)\n",
    "print(y_test_hat.shape)\n"
   ]
  },
  {
   "cell_type": "code",
   "execution_count": 55,
   "id": "9e0063a9",
   "metadata": {},
   "outputs": [
    {
     "data": {
      "image/png": "[encoded data removed]",
      "text/plain": [
       "<Figure size 640x480 with 1 Axes>"
      ]
     },
     "metadata": {},
     "output_type": "display_data"
    }
   ],
   "source": [
    "import matplotlib.pyplot as plt\n",
    "a = np.hstack((y_test_hat))\n",
    "_ = plt.hist(a, bins='auto')  # arguments are passed to np.histogram\n",
    "plt.title(\"Histogram with 'auto' bins\")\n",
    "plt.show()\n"
   ]
  },
  {
   "cell_type": "code",
   "execution_count": null,
   "id": "2d2e6c50",
   "metadata": {},
   "outputs": [],
   "source": []
  }
 ],
 "metadata": {
  "kernelspec": {
   "display_name": "Python 3",
   "language": "python",
   "name": "python3"
  },
  "language_info": {
   "codemirror_mode": {
    "name": "ipython",
    "version": 3
   },
   "file_extension": ".py",
   "mimetype": "text/x-python",
   "name": "python",
   "nbconvert_exporter": "python",
   "pygments_lexer": "ipython3",
   "version": "3.6.13"
  }
 },
 "nbformat": 4,
 "nbformat_minor": 5
}
