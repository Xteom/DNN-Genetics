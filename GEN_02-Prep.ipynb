{
 "cells": [
  {
   "cell_type": "code",
   "execution_count": 234,
   "id": "c939bd32",
   "metadata": {},
   "outputs": [],
   "source": [
    "import pandas as pd\n",
    "import numpy as np\n",
    "import matplotlib.pyplot as pl\n",
    "import openpyxl\n",
    "#import plotly.express as px"
   ]
  },
  {
   "cell_type": "code",
   "execution_count": 235,
   "id": "70cc7166",
   "metadata": {},
   "outputs": [
    {
     "data": {
      "text/html": [
       "<div>\n",
       "<style scoped>\n",
       "    .dataframe tbody tr th:only-of-type {\n",
       "        vertical-align: middle;\n",
       "    }\n",
       "\n",
       "    .dataframe tbody tr th {\n",
       "        vertical-align: top;\n",
       "    }\n",
       "\n",
       "    .dataframe thead th {\n",
       "        text-align: right;\n",
       "    }\n",
       "</style>\n",
       "<table border=\"1\" class=\"dataframe\">\n",
       "  <thead>\n",
       "    <tr style=\"text-align: right;\">\n",
       "      <th></th>\n",
       "      <th>Sequence</th>\n",
       "      <th>order_final</th>\n",
       "      <th>family_final</th>\n",
       "      <th>genus_final</th>\n",
       "      <th>species_final</th>\n",
       "      <th>Unnamed: 13</th>\n",
       "    </tr>\n",
       "  </thead>\n",
       "  <tbody>\n",
       "    <tr>\n",
       "      <th>0</th>\n",
       "      <td>aataaacaatataagattttggttattgcctccttcattatcactc...</td>\n",
       "      <td>Coleoptera</td>\n",
       "      <td>Mordellidae</td>\n",
       "      <td>NaN</td>\n",
       "      <td>NaN</td>\n",
       "      <td>NaN</td>\n",
       "    </tr>\n",
       "    <tr>\n",
       "      <th>1</th>\n",
       "      <td>aataaataatataagtttttgacttcttcctccttctttaacctta...</td>\n",
       "      <td>Coleoptera</td>\n",
       "      <td>Carabidae</td>\n",
       "      <td>Glyptolenus</td>\n",
       "      <td>NaN</td>\n",
       "      <td>NaN</td>\n",
       "    </tr>\n",
       "    <tr>\n",
       "      <th>2</th>\n",
       "      <td>tttaaacaatataagattttgattgttaccaccttcattaactttc...</td>\n",
       "      <td>Coleoptera</td>\n",
       "      <td>Coccinellidae</td>\n",
       "      <td>NaN</td>\n",
       "      <td>NaN</td>\n",
       "      <td>NaN</td>\n",
       "    </tr>\n",
       "    <tr>\n",
       "      <th>3</th>\n",
       "      <td>tataaacaatataagattctgacttcttccaccttcattaagatta...</td>\n",
       "      <td>Coleoptera</td>\n",
       "      <td>Mordellidae</td>\n",
       "      <td>NaN</td>\n",
       "      <td>NaN</td>\n",
       "      <td>NaN</td>\n",
       "    </tr>\n",
       "    <tr>\n",
       "      <th>4</th>\n",
       "      <td>aataaataatataagattttgactacttcctccgtcacttaccctt...</td>\n",
       "      <td>Coleoptera</td>\n",
       "      <td>Nitidulidae</td>\n",
       "      <td>NaN</td>\n",
       "      <td>NaN</td>\n",
       "      <td>NaN</td>\n",
       "    </tr>\n",
       "    <tr>\n",
       "      <th>...</th>\n",
       "      <td>...</td>\n",
       "      <td>...</td>\n",
       "      <td>...</td>\n",
       "      <td>...</td>\n",
       "      <td>...</td>\n",
       "      <td>...</td>\n",
       "    </tr>\n",
       "    <tr>\n",
       "      <th>1778</th>\n",
       "      <td>aataaataatataagtttttgacttttacctcctgcattaacactt...</td>\n",
       "      <td>Diptera</td>\n",
       "      <td>Tachinidae</td>\n",
       "      <td>Ischyrophaga</td>\n",
       "      <td>NaN</td>\n",
       "      <td>NaN</td>\n",
       "    </tr>\n",
       "    <tr>\n",
       "      <th>1779</th>\n",
       "      <td>aataaataatataagattttgattattaccaccatcaataattata...</td>\n",
       "      <td>Hymenoptera</td>\n",
       "      <td>Ichneumonidae</td>\n",
       "      <td>ichneuMalaiseNA1</td>\n",
       "      <td>NaN</td>\n",
       "      <td>NaN</td>\n",
       "    </tr>\n",
       "    <tr>\n",
       "      <th>1780</th>\n",
       "      <td>aataaataacataagattttgattactcccaccttctcttttttta...</td>\n",
       "      <td>Hymenoptera</td>\n",
       "      <td>Ichneumonidae</td>\n",
       "      <td>NaN</td>\n",
       "      <td>NaN</td>\n",
       "      <td>NaN</td>\n",
       "    </tr>\n",
       "    <tr>\n",
       "      <th>1781</th>\n",
       "      <td>aataaataatataagtttctgacttcttcccccttctttaattctt...</td>\n",
       "      <td>Lepidoptera</td>\n",
       "      <td>Erebidae</td>\n",
       "      <td>Arugisa</td>\n",
       "      <td>NaN</td>\n",
       "      <td>NaN</td>\n",
       "    </tr>\n",
       "    <tr>\n",
       "      <th>1782</th>\n",
       "      <td>aataaataatataagattctgactattaccaccatcattaattcta...</td>\n",
       "      <td>Orthoptera</td>\n",
       "      <td>Acrididae</td>\n",
       "      <td>Tomonotus</td>\n",
       "      <td>NaN</td>\n",
       "      <td>NaN</td>\n",
       "    </tr>\n",
       "  </tbody>\n",
       "</table>\n",
       "<p>2799 rows × 6 columns</p>\n",
       "</div>"
      ],
      "text/plain": [
       "                                               Sequence  order_final  \\\n",
       "0     aataaacaatataagattttggttattgcctccttcattatcactc...   Coleoptera   \n",
       "1     aataaataatataagtttttgacttcttcctccttctttaacctta...   Coleoptera   \n",
       "2     tttaaacaatataagattttgattgttaccaccttcattaactttc...   Coleoptera   \n",
       "3     tataaacaatataagattctgacttcttccaccttcattaagatta...   Coleoptera   \n",
       "4     aataaataatataagattttgactacttcctccgtcacttaccctt...   Coleoptera   \n",
       "...                                                 ...          ...   \n",
       "1778  aataaataatataagtttttgacttttacctcctgcattaacactt...      Diptera   \n",
       "1779  aataaataatataagattttgattattaccaccatcaataattata...  Hymenoptera   \n",
       "1780  aataaataacataagattttgattactcccaccttctcttttttta...  Hymenoptera   \n",
       "1781  aataaataatataagtttctgacttcttcccccttctttaattctt...  Lepidoptera   \n",
       "1782  aataaataatataagattctgactattaccaccatcattaattcta...   Orthoptera   \n",
       "\n",
       "       family_final       genus_final species_final  Unnamed: 13  \n",
       "0       Mordellidae               NaN           NaN          NaN  \n",
       "1         Carabidae       Glyptolenus           NaN          NaN  \n",
       "2     Coccinellidae               NaN           NaN          NaN  \n",
       "3       Mordellidae               NaN           NaN          NaN  \n",
       "4       Nitidulidae               NaN           NaN          NaN  \n",
       "...             ...               ...           ...          ...  \n",
       "1778     Tachinidae      Ischyrophaga           NaN          NaN  \n",
       "1779  Ichneumonidae  ichneuMalaiseNA1           NaN          NaN  \n",
       "1780  Ichneumonidae               NaN           NaN          NaN  \n",
       "1781       Erebidae           Arugisa           NaN          NaN  \n",
       "1782      Acrididae         Tomonotus           NaN          NaN  \n",
       "\n",
       "[2799 rows x 6 columns]"
      ]
     },
     "execution_count": 235,
     "metadata": {},
     "output_type": "execute_result"
    }
   ],
   "source": [
    "# Read data\n",
    "data = pd.read_excel('./Datos_Metagenetica.xlsx', sheet_name='El_cielo', engine='openpyxl').append(pd.read_excel('./Datos_Metagenetica.xlsx', sheet_name='Chamela',engine='openpyxl'))\n",
    "\n",
    "#mateo\n",
    "#data = pd.read_excel('./Datos_Metagenetica.xlsx', sheet_name='El_cielo').append(pd.read_excel('./Datos_Metagenetica.xlsx', sheet_name='Chamela'))\n",
    "# replace 0 with NaN\n",
    "data = data.replace(0, np.nan)\n",
    "#drop columns que no se van a usar \n",
    "data = data.drop(['Database','.id', 'similarity', 'phylum_final', \n",
    "                  'class_final', 'subfamily_final', 'tribe_final',\n",
    "                   'subspecies_final', 'BASE', 'OTU'], axis=1)\n",
    "data"
   ]
  },
  {
   "attachments": {},
   "cell_type": "markdown",
   "id": "dca50a03",
   "metadata": {},
   "source": [
    "# Balance data"
   ]
  },
  {
   "cell_type": "code",
   "execution_count": 236,
   "id": "463a65c8",
   "metadata": {},
   "outputs": [
    {
     "name": "stdout",
     "output_type": "stream",
     "text": [
      "Original data\n",
      "family_final\n",
      "Erebidae         236\n",
      "Tachinidae       200\n",
      "Phoridae         162\n",
      "Ichneumonidae    154\n",
      "Cecidomyiidae    143\n",
      "                ... \n",
      "Pyrrhocoridae      1\n",
      "Eupelmidae         1\n",
      "Evaniidae          1\n",
      "Fanniidae          1\n",
      "f__Triozidae       1\n",
      "Length: 216, dtype: int64\n",
      "Balanced data\n"
     ]
    },
    {
     "data": {
      "text/plain": [
       "family_final\n",
       "Tachinidae         50\n",
       "Sciaridae          50\n",
       "Ceratopogonidae    50\n",
       "Phoridae           50\n",
       "Cecidomyiidae      50\n",
       "Sarcophagidae      33\n",
       "Drosophilidae      32\n",
       "Chironomidae       31\n",
       "Dolichopodidae     30\n",
       "Mycetophilidae     25\n",
       "Muscidae           24\n",
       "Syrphidae          24\n",
       "Chloropidae        22\n",
       "Stratiomyidae      20\n",
       "Sphaeroceridae     19\n",
       "Pipunculidae       15\n",
       "Tabanidae          14\n",
       "Lauxaniidae        14\n",
       "Limoniidae         12\n",
       "Psychodidae        10\n",
       "dtype: int64"
      ]
     },
     "execution_count": 236,
     "metadata": {},
     "output_type": "execute_result"
    }
   ],
   "source": [
    "def balance_one_tax_data(df, col_tax_to_balance, tax_to_balance, max_samples) -> pd.DataFrame:\n",
    "    '''\n",
    "    df: dataframe with all data to balance\n",
    "    col_tax_to_balance: column name of the tax to balance\n",
    "    tax_to_balance: tax to balance\n",
    "    max_samples: maximum number to save of each tax\n",
    "    return: balanced dataframe\n",
    "    '''\n",
    "    col_index = df.columns.get_loc(col_tax_to_balance)\n",
    "    if col_index + 1 < len(df.columns):\n",
    "        next_tax_col = df.columns[col_index + 1]\n",
    "        vc = df[df[col_tax_to_balance] == tax_to_balance][next_tax_col].value_counts()\n",
    "        q25 = vc.quantile(0.25)\n",
    "        selected_values = vc[vc > 4 * q25]\n",
    "        balanced = pd.DataFrame(columns = df.columns)\n",
    "        for i in selected_values.index:\n",
    "            if vc[i] > max_samples:\n",
    "                balanced = pd.concat((balanced, df[df[next_tax_col] == i].sample(max_samples)))\n",
    "            else:\n",
    "                balanced = pd.concat((balanced, df[df[next_tax_col] == i]))\n",
    "    return balanced\n",
    "\n",
    "print('Original data')\n",
    "print(data.value_counts('family_final'))\n",
    "print('Balanced data')\n",
    "balance_one_tax_data(data, 'order_final', 'Diptera', 50).value_counts('family_final')"
   ]
  },
  {
   "attachments": {},
   "cell_type": "markdown",
   "id": "fbe43f08",
   "metadata": {},
   "source": [
    "---\n",
    "# Encoding & Concatenation"
   ]
  },
  {
   "cell_type": "code",
   "execution_count": 237,
   "id": "440c5208",
   "metadata": {},
   "outputs": [],
   "source": [
    "data['Sequence'] = data['Sequence'].apply(lambda x: x.upper())"
   ]
  },
  {
   "cell_type": "code",
   "execution_count": 238,
   "id": "5da827c4",
   "metadata": {},
   "outputs": [],
   "source": [
    "def sequence_encoding(sequence):\n",
    "    mapping = {\"A\": 0, \"C\": 1, \"G\": 2, \"T\": 3}\n",
    "    encoded_sequence = [mapping[i] for i in sequence]\n",
    "    return np.eye(4)[encoded_sequence]"
   ]
  },
  {
   "cell_type": "code",
   "execution_count": 239,
   "id": "09a077fa",
   "metadata": {},
   "outputs": [
    {
     "data": {
      "text/plain": [
       "'AATAAACAATATAAGATTTTGGTTATTGCCTCCTTCATTATCACTCCTTTTAATAAGAAGAATCGTAGAAACCGGTGCAGGTACAGGTTGAACAGTGTACCCCCCGCTGTCATCCAATATTGCCCACAGAGGTGCTTCAGTTGATTTAGCTATTTTTAGACTACATTTAGCTGGTATTTCTTCTATTTTAGGAGCAATTAATTTTATTTCTACAATAATTAATATACGACCCGCAGGAATAACCTTTGACCGAATACCCTTATTTGTCTGAGCTATTGCTATTACTGCCGTACTTCTACTATTATCTCTTCCTGTCTTAGCTGGAGCAATTACTATATTATTAACTGATCGAAATTTAAATACTACCTTTTTTGATCCCGCCGGAGGAGGAGATCCAATCTTATATCAACATCTCTTT'"
      ]
     },
     "execution_count": 239,
     "metadata": {},
     "output_type": "execute_result"
    }
   ],
   "source": [
    "elem0 = data['Sequence'].iloc[0]\n",
    "elem1 = data['Sequence'].iloc[1]\n",
    "elem0"
   ]
  },
  {
   "cell_type": "code",
   "execution_count": 240,
   "id": "fc706d40",
   "metadata": {},
   "outputs": [
    {
     "data": {
      "text/plain": [
       "array([[1., 0., 0., 0.],\n",
       "       [1., 0., 0., 0.],\n",
       "       [0., 0., 0., 1.],\n",
       "       ...,\n",
       "       [0., 0., 0., 1.],\n",
       "       [0., 0., 0., 1.],\n",
       "       [0., 0., 0., 1.]])"
      ]
     },
     "execution_count": 240,
     "metadata": {},
     "output_type": "execute_result"
    }
   ],
   "source": [
    "enc0 = sequence_encoding(elem0)\n",
    "enc1 = sequence_encoding(elem1)\n",
    "enc0"
   ]
  },
  {
   "cell_type": "code",
   "execution_count": 241,
   "id": "7b74953f",
   "metadata": {},
   "outputs": [
    {
     "data": {
      "text/plain": [
       "(418, 4)"
      ]
     },
     "execution_count": 241,
     "metadata": {},
     "output_type": "execute_result"
    }
   ],
   "source": [
    "enc1.shape"
   ]
  },
  {
   "cell_type": "code",
   "execution_count": 242,
   "id": "8cbd6494",
   "metadata": {},
   "outputs": [],
   "source": [
    "def long_sequence(seq1, seq2):\n",
    "    return np.concatenate((seq1, seq2), axis=1)"
   ]
  },
  {
   "cell_type": "code",
   "execution_count": 243,
   "id": "7e9b6772",
   "metadata": {},
   "outputs": [
    {
     "data": {
      "text/plain": [
       "(418, 8)"
      ]
     },
     "execution_count": 243,
     "metadata": {},
     "output_type": "execute_result"
    }
   ],
   "source": [
    "long_seq = long_sequence(enc0,enc1)\n",
    "long_seq.shape\n",
    "#type(long_seq)"
   ]
  },
  {
   "cell_type": "code",
   "execution_count": 244,
   "id": "a33e23e4",
   "metadata": {},
   "outputs": [
    {
     "data": {
      "text/plain": [
       "array([[1., 0., 0., ..., 0., 0., 0.],\n",
       "       [1., 0., 0., ..., 0., 0., 0.],\n",
       "       [0., 0., 0., ..., 0., 0., 1.],\n",
       "       ...,\n",
       "       [0., 0., 0., ..., 0., 0., 1.],\n",
       "       [0., 0., 0., ..., 0., 0., 1.],\n",
       "       [0., 0., 0., ..., 0., 0., 1.]])"
      ]
     },
     "execution_count": 244,
     "metadata": {},
     "output_type": "execute_result"
    }
   ],
   "source": [
    "long_seq"
   ]
  },
  {
   "cell_type": "code",
   "execution_count": 245,
   "id": "885c9b84",
   "metadata": {},
   "outputs": [],
   "source": [
    "def deep_sequence(seq1, seq2):\n",
    "    #s1 = seq1[np.newaxis, :, :]\n",
    "    #s2 = seq2[np.newaxis, :, :]\n",
    "    #sequence = np.concatenate((s1, s2), axis=0)\n",
    "    sequence = np.dstack((seq1, seq2))\n",
    "    return sequence"
   ]
  },
  {
   "cell_type": "code",
   "execution_count": 246,
   "id": "3f0d67cf",
   "metadata": {},
   "outputs": [
    {
     "data": {
      "text/plain": [
       "(418, 4, 2)"
      ]
     },
     "execution_count": 246,
     "metadata": {},
     "output_type": "execute_result"
    }
   ],
   "source": [
    "deep_seq = deep_sequence(enc0,enc1)\n",
    "deep_seq.shape"
   ]
  },
  {
   "cell_type": "code",
   "execution_count": 247,
   "id": "116c61af",
   "metadata": {},
   "outputs": [
    {
     "data": {
      "text/plain": [
       "array([[[1., 1.],\n",
       "        [0., 0.],\n",
       "        [0., 0.],\n",
       "        [0., 0.]],\n",
       "\n",
       "       [[1., 1.],\n",
       "        [0., 0.],\n",
       "        [0., 0.],\n",
       "        [0., 0.]],\n",
       "\n",
       "       [[0., 0.],\n",
       "        [0., 0.],\n",
       "        [0., 0.],\n",
       "        [1., 1.]],\n",
       "\n",
       "       ...,\n",
       "\n",
       "       [[0., 0.],\n",
       "        [0., 0.],\n",
       "        [0., 0.],\n",
       "        [1., 1.]],\n",
       "\n",
       "       [[0., 0.],\n",
       "        [0., 0.],\n",
       "        [0., 0.],\n",
       "        [1., 1.]],\n",
       "\n",
       "       [[0., 0.],\n",
       "        [0., 0.],\n",
       "        [0., 0.],\n",
       "        [1., 1.]]])"
      ]
     },
     "execution_count": 247,
     "metadata": {},
     "output_type": "execute_result"
    }
   ],
   "source": [
    "deep_seq"
   ]
  },
  {
   "attachments": {},
   "cell_type": "markdown",
   "id": "4fa61677",
   "metadata": {},
   "source": [
    "---\n",
    "# Combinaciones"
   ]
  },
  {
   "cell_type": "code",
   "execution_count": 248,
   "id": "7a45d355",
   "metadata": {},
   "outputs": [],
   "source": [
    "datos = {'Col1': ['C', 'A', 'R','M', 'E', 'N'],\n",
    "        'Col2': ['S','S','M','S','M','M']}\n",
    "\n",
    "df = pd.DataFrame(datos)\n",
    "#df"
   ]
  },
  {
   "cell_type": "code",
   "execution_count": 249,
   "id": "567d43d1",
   "metadata": {},
   "outputs": [],
   "source": [
    "import itertools\n",
    "\n",
    "def combination_list(dataframe,column):\n",
    "    sequences = dataframe[column].tolist()\n",
    "    combinations = list(itertools.combinations(sequences, 2))\n",
    "    return combinations"
   ]
  },
  {
   "cell_type": "code",
   "execution_count": 250,
   "id": "64c673c2",
   "metadata": {},
   "outputs": [],
   "source": [
    "combinations = combination_list(df,'Col1')\n",
    "#combinations"
   ]
  },
  {
   "cell_type": "code",
   "execution_count": 251,
   "id": "2287cb83",
   "metadata": {},
   "outputs": [],
   "source": [
    "def combination_matrix(df,sequence_column,tax_column):\n",
    "    combinaciones = []\n",
    "    for sequence1, sequence2 in combination_list(df,sequence_column):\n",
    "        z = zip(df[df[sequence_column] == sequence1][tax_column], df[df[sequence_column] == sequence2][tax_column])\n",
    "        for clase1, clase2 in z:\n",
    "            combinaciones.append([sequence1, sequence2, clase1, clase2])\n",
    "\n",
    "    df_combinaciones = pd.DataFrame(combinaciones, columns=['Sequence1', 'Sequence2', 'Tax1', 'Tax2'])\n",
    "    return df_combinaciones"
   ]
  },
  {
   "cell_type": "code",
   "execution_count": 252,
   "id": "b1072fcf",
   "metadata": {},
   "outputs": [],
   "source": [
    "nuevo_df = combination_matrix(df,'Col1','Col2')\n",
    "#nuevo_df"
   ]
  },
  {
   "cell_type": "code",
   "execution_count": 253,
   "id": "6d27cd0e",
   "metadata": {},
   "outputs": [],
   "source": [
    "def tax_comparison(dataframe, tax1, tax2):\n",
    "    dataframe['Same'] = dataframe[tax1] == dataframe[tax2]\n",
    "    return dataframe"
   ]
  },
  {
   "cell_type": "code",
   "execution_count": 254,
   "id": "1b35b1f2",
   "metadata": {},
   "outputs": [
    {
     "data": {
      "text/html": [
       "<div>\n",
       "<style scoped>\n",
       "    .dataframe tbody tr th:only-of-type {\n",
       "        vertical-align: middle;\n",
       "    }\n",
       "\n",
       "    .dataframe tbody tr th {\n",
       "        vertical-align: top;\n",
       "    }\n",
       "\n",
       "    .dataframe thead th {\n",
       "        text-align: right;\n",
       "    }\n",
       "</style>\n",
       "<table border=\"1\" class=\"dataframe\">\n",
       "  <thead>\n",
       "    <tr style=\"text-align: right;\">\n",
       "      <th></th>\n",
       "      <th>Sequence1</th>\n",
       "      <th>Sequence2</th>\n",
       "      <th>Tax1</th>\n",
       "      <th>Tax2</th>\n",
       "      <th>Same</th>\n",
       "    </tr>\n",
       "  </thead>\n",
       "  <tbody>\n",
       "    <tr>\n",
       "      <th>0</th>\n",
       "      <td>C</td>\n",
       "      <td>A</td>\n",
       "      <td>S</td>\n",
       "      <td>S</td>\n",
       "      <td>True</td>\n",
       "    </tr>\n",
       "    <tr>\n",
       "      <th>1</th>\n",
       "      <td>C</td>\n",
       "      <td>R</td>\n",
       "      <td>S</td>\n",
       "      <td>M</td>\n",
       "      <td>False</td>\n",
       "    </tr>\n",
       "    <tr>\n",
       "      <th>2</th>\n",
       "      <td>C</td>\n",
       "      <td>M</td>\n",
       "      <td>S</td>\n",
       "      <td>S</td>\n",
       "      <td>True</td>\n",
       "    </tr>\n",
       "    <tr>\n",
       "      <th>3</th>\n",
       "      <td>C</td>\n",
       "      <td>E</td>\n",
       "      <td>S</td>\n",
       "      <td>M</td>\n",
       "      <td>False</td>\n",
       "    </tr>\n",
       "    <tr>\n",
       "      <th>4</th>\n",
       "      <td>C</td>\n",
       "      <td>N</td>\n",
       "      <td>S</td>\n",
       "      <td>M</td>\n",
       "      <td>False</td>\n",
       "    </tr>\n",
       "    <tr>\n",
       "      <th>5</th>\n",
       "      <td>A</td>\n",
       "      <td>R</td>\n",
       "      <td>S</td>\n",
       "      <td>M</td>\n",
       "      <td>False</td>\n",
       "    </tr>\n",
       "    <tr>\n",
       "      <th>6</th>\n",
       "      <td>A</td>\n",
       "      <td>M</td>\n",
       "      <td>S</td>\n",
       "      <td>S</td>\n",
       "      <td>True</td>\n",
       "    </tr>\n",
       "    <tr>\n",
       "      <th>7</th>\n",
       "      <td>A</td>\n",
       "      <td>E</td>\n",
       "      <td>S</td>\n",
       "      <td>M</td>\n",
       "      <td>False</td>\n",
       "    </tr>\n",
       "    <tr>\n",
       "      <th>8</th>\n",
       "      <td>A</td>\n",
       "      <td>N</td>\n",
       "      <td>S</td>\n",
       "      <td>M</td>\n",
       "      <td>False</td>\n",
       "    </tr>\n",
       "    <tr>\n",
       "      <th>9</th>\n",
       "      <td>R</td>\n",
       "      <td>M</td>\n",
       "      <td>M</td>\n",
       "      <td>S</td>\n",
       "      <td>False</td>\n",
       "    </tr>\n",
       "    <tr>\n",
       "      <th>10</th>\n",
       "      <td>R</td>\n",
       "      <td>E</td>\n",
       "      <td>M</td>\n",
       "      <td>M</td>\n",
       "      <td>True</td>\n",
       "    </tr>\n",
       "    <tr>\n",
       "      <th>11</th>\n",
       "      <td>R</td>\n",
       "      <td>N</td>\n",
       "      <td>M</td>\n",
       "      <td>M</td>\n",
       "      <td>True</td>\n",
       "    </tr>\n",
       "    <tr>\n",
       "      <th>12</th>\n",
       "      <td>M</td>\n",
       "      <td>E</td>\n",
       "      <td>S</td>\n",
       "      <td>M</td>\n",
       "      <td>False</td>\n",
       "    </tr>\n",
       "    <tr>\n",
       "      <th>13</th>\n",
       "      <td>M</td>\n",
       "      <td>N</td>\n",
       "      <td>S</td>\n",
       "      <td>M</td>\n",
       "      <td>False</td>\n",
       "    </tr>\n",
       "    <tr>\n",
       "      <th>14</th>\n",
       "      <td>E</td>\n",
       "      <td>N</td>\n",
       "      <td>M</td>\n",
       "      <td>M</td>\n",
       "      <td>True</td>\n",
       "    </tr>\n",
       "  </tbody>\n",
       "</table>\n",
       "</div>"
      ],
      "text/plain": [
       "   Sequence1 Sequence2 Tax1 Tax2   Same\n",
       "0          C         A    S    S   True\n",
       "1          C         R    S    M  False\n",
       "2          C         M    S    S   True\n",
       "3          C         E    S    M  False\n",
       "4          C         N    S    M  False\n",
       "5          A         R    S    M  False\n",
       "6          A         M    S    S   True\n",
       "7          A         E    S    M  False\n",
       "8          A         N    S    M  False\n",
       "9          R         M    M    S  False\n",
       "10         R         E    M    M   True\n",
       "11         R         N    M    M   True\n",
       "12         M         E    S    M  False\n",
       "13         M         N    S    M  False\n",
       "14         E         N    M    M   True"
      ]
     },
     "execution_count": 254,
     "metadata": {},
     "output_type": "execute_result"
    }
   ],
   "source": [
    "input_matrix = tax_comparison(nuevo_df,'Tax1','Tax2')\n",
    "input_matrix"
   ]
  },
  {
   "attachments": {},
   "cell_type": "markdown",
   "id": "a7305139",
   "metadata": {},
   "source": [
    "---\n",
    "# Final Matrix"
   ]
  },
  {
   "cell_type": "code",
   "execution_count": 255,
   "id": "b0f65ecf",
   "metadata": {},
   "outputs": [],
   "source": [
    "from tensorflow.keras.preprocessing.sequence import pad_sequences\n",
    "\n",
    "def final_matrix(data,concat_type):\n",
    "    \n",
    "    #Pasamos a letras mayúsculas las cadenas\n",
    "    data['Sequence'] = data['Sequence'].apply(lambda x: x.upper())\n",
    "    #Llamamos a la función para filtrar los datos\n",
    "    balanced_data = balance_one_tax_data(data, 'order_final', 'Diptera', 50)\n",
    "    #Llamamos a la función para realizar todas las combinaciones\n",
    "    combinations = combination_matrix(balanced_data,'Sequence',\"family_final\")\n",
    "    #Llamamos a la función para determinar si los Taxones son iguales\n",
    "    DNA_matrix = tax_comparison(combinations,'Tax1','Tax2')\n",
    "    #Pasamos los valores boolean a integer\n",
    "    DNA_matrix['Same'] = DNA_matrix['Same'].astype(int)\n",
    "    \n",
    "    DNA_matrix['Paired_seq'] = ''  # Creamos una columna vacía para almacenar los resultados\n",
    "    for index, row in DNA_matrix.iterrows():\n",
    "        sequence1 = row['Sequence1']\n",
    "        sequence2 = row['Sequence2']\n",
    "        encoding1 = sequence_encoding(sequence1)\n",
    "        encoding2 = sequence_encoding(sequence2)\n",
    "        vectors_padded = pad_sequences([encoding1, encoding2], padding='post')\n",
    "        paired_sequences = concat_type(vectors_padded[0], vectors_padded[0])\n",
    "        DNA_matrix.at[index, 'Paired_seq'] = paired_sequences\n",
    "    return DNA_matrix"
   ]
  },
  {
   "cell_type": "code",
   "execution_count": 256,
   "id": "035c6d07",
   "metadata": {},
   "outputs": [
    {
     "name": "stderr",
     "output_type": "stream",
     "text": [
      "/opt/anaconda3/envs/deep_learning/lib/python3.6/site-packages/ipykernel_launcher.py:6: SettingWithCopyWarning: \n",
      "A value is trying to be set on a copy of a slice from a DataFrame.\n",
      "Try using .loc[row_indexer,col_indexer] = value instead\n",
      "\n",
      "See the caveats in the documentation: https://pandas.pydata.org/pandas-docs/stable/user_guide/indexing.html#returning-a-view-versus-a-copy\n",
      "  \n"
     ]
    },
    {
     "data": {
      "text/html": [
       "<div>\n",
       "<style scoped>\n",
       "    .dataframe tbody tr th:only-of-type {\n",
       "        vertical-align: middle;\n",
       "    }\n",
       "\n",
       "    .dataframe tbody tr th {\n",
       "        vertical-align: top;\n",
       "    }\n",
       "\n",
       "    .dataframe thead th {\n",
       "        text-align: right;\n",
       "    }\n",
       "</style>\n",
       "<table border=\"1\" class=\"dataframe\">\n",
       "  <thead>\n",
       "    <tr style=\"text-align: right;\">\n",
       "      <th></th>\n",
       "      <th>Sequence1</th>\n",
       "      <th>Sequence2</th>\n",
       "      <th>Tax1</th>\n",
       "      <th>Tax2</th>\n",
       "      <th>Same</th>\n",
       "      <th>Paired_seq</th>\n",
       "    </tr>\n",
       "  </thead>\n",
       "  <tbody>\n",
       "    <tr>\n",
       "      <th>0</th>\n",
       "      <td>AATAAATAATATAAGATTTTGACTTCTTCCTCCTTCTCTAACTCTT...</td>\n",
       "      <td>AATAAATAATATAAGTTTTTGAATACTTCCTCCTTCTTTAACTTTA...</td>\n",
       "      <td>Phoridae</td>\n",
       "      <td>Phoridae</td>\n",
       "      <td>1</td>\n",
       "      <td>[[1, 0, 0, 0, 1, 0, 0, 0], [1, 0, 0, 0, 1, 0, ...</td>\n",
       "    </tr>\n",
       "    <tr>\n",
       "      <th>1</th>\n",
       "      <td>AATAAATAATATAAGATTTTGACTTCTTCCTCCTTCTCTAACTCTT...</td>\n",
       "      <td>AATAAATAATATAAGATTTTGAATACTCCCCCCATCATTAACATTA...</td>\n",
       "      <td>Phoridae</td>\n",
       "      <td>Phoridae</td>\n",
       "      <td>1</td>\n",
       "      <td>[[1, 0, 0, 0, 1, 0, 0, 0], [1, 0, 0, 0, 1, 0, ...</td>\n",
       "    </tr>\n",
       "    <tr>\n",
       "      <th>2</th>\n",
       "      <td>AATAAATAATATAAGATTTTGACTTCTTCCTCCTTCTCTAACTCTT...</td>\n",
       "      <td>TATAAATAATATAAGATTTTGAATATTACCTCCATCATTAACACTA...</td>\n",
       "      <td>Phoridae</td>\n",
       "      <td>Phoridae</td>\n",
       "      <td>1</td>\n",
       "      <td>[[1, 0, 0, 0, 1, 0, 0, 0], [1, 0, 0, 0, 1, 0, ...</td>\n",
       "    </tr>\n",
       "    <tr>\n",
       "      <th>3</th>\n",
       "      <td>AATAAATAATATAAGATTTTGACTTCTTCCTCCTTCTCTAACTCTT...</td>\n",
       "      <td>TATAAATAATATAAGATTCTGAATACTGCCTCCTTCTTTAACCCTA...</td>\n",
       "      <td>Phoridae</td>\n",
       "      <td>Phoridae</td>\n",
       "      <td>1</td>\n",
       "      <td>[[1, 0, 0, 0, 1, 0, 0, 0], [1, 0, 0, 0, 1, 0, ...</td>\n",
       "    </tr>\n",
       "    <tr>\n",
       "      <th>4</th>\n",
       "      <td>AATAAATAATATAAGATTTTGACTTCTTCCTCCTTCTCTAACTCTT...</td>\n",
       "      <td>AATAAATAACATAAGATTTTGATTATTACCACCATCTCTAACTTTA...</td>\n",
       "      <td>Phoridae</td>\n",
       "      <td>Phoridae</td>\n",
       "      <td>1</td>\n",
       "      <td>[[1, 0, 0, 0, 1, 0, 0, 0], [1, 0, 0, 0, 1, 0, ...</td>\n",
       "    </tr>\n",
       "    <tr>\n",
       "      <th>...</th>\n",
       "      <td>...</td>\n",
       "      <td>...</td>\n",
       "      <td>...</td>\n",
       "      <td>...</td>\n",
       "      <td>...</td>\n",
       "      <td>...</td>\n",
       "    </tr>\n",
       "    <tr>\n",
       "      <th>31621</th>\n",
       "      <td>AATAAATAATATAAGATTTTGATTATTACCACCTTCCTTAACTTTA...</td>\n",
       "      <td>AATAAATAATATAAGATTTTGACTATTACCACCATCTTTAACCTTA...</td>\n",
       "      <td>Pipunculidae</td>\n",
       "      <td>Pipunculidae</td>\n",
       "      <td>1</td>\n",
       "      <td>[[1, 0, 0, 0, 1, 0, 0, 0], [1, 0, 0, 0, 1, 0, ...</td>\n",
       "    </tr>\n",
       "    <tr>\n",
       "      <th>31622</th>\n",
       "      <td>AATAAATAATATAAGATTTTGATTATTACCACCTTCCTTAACTTTA...</td>\n",
       "      <td>AATAAATAATATAAGATTTTGAATACTTCCCCCTTCCCTTACTCTT...</td>\n",
       "      <td>Pipunculidae</td>\n",
       "      <td>Pipunculidae</td>\n",
       "      <td>1</td>\n",
       "      <td>[[1, 0, 0, 0, 1, 0, 0, 0], [1, 0, 0, 0, 1, 0, ...</td>\n",
       "    </tr>\n",
       "    <tr>\n",
       "      <th>31623</th>\n",
       "      <td>AATAAACAATATGAGTTTTTGAATATTACCTCCGTCCCTTACCCTA...</td>\n",
       "      <td>AATAAATAATATAAGATTTTGACTATTACCACCATCTTTAACCTTA...</td>\n",
       "      <td>Pipunculidae</td>\n",
       "      <td>Pipunculidae</td>\n",
       "      <td>1</td>\n",
       "      <td>[[1, 0, 0, 0, 1, 0, 0, 0], [1, 0, 0, 0, 1, 0, ...</td>\n",
       "    </tr>\n",
       "    <tr>\n",
       "      <th>31624</th>\n",
       "      <td>AATAAACAATATGAGTTTTTGAATATTACCTCCGTCCCTTACCCTA...</td>\n",
       "      <td>AATAAATAATATAAGATTTTGAATACTTCCCCCTTCCCTTACTCTT...</td>\n",
       "      <td>Pipunculidae</td>\n",
       "      <td>Pipunculidae</td>\n",
       "      <td>1</td>\n",
       "      <td>[[1, 0, 0, 0, 1, 0, 0, 0], [1, 0, 0, 0, 1, 0, ...</td>\n",
       "    </tr>\n",
       "    <tr>\n",
       "      <th>31625</th>\n",
       "      <td>AATAAATAATATAAGATTTTGACTATTACCACCATCTTTAACCTTA...</td>\n",
       "      <td>AATAAATAATATAAGATTTTGAATACTTCCCCCTTCCCTTACTCTT...</td>\n",
       "      <td>Pipunculidae</td>\n",
       "      <td>Pipunculidae</td>\n",
       "      <td>1</td>\n",
       "      <td>[[1, 0, 0, 0, 1, 0, 0, 0], [1, 0, 0, 0, 1, 0, ...</td>\n",
       "    </tr>\n",
       "  </tbody>\n",
       "</table>\n",
       "<p>31626 rows × 6 columns</p>\n",
       "</div>"
      ],
      "text/plain": [
       "                                               Sequence1  \\\n",
       "0      AATAAATAATATAAGATTTTGACTTCTTCCTCCTTCTCTAACTCTT...   \n",
       "1      AATAAATAATATAAGATTTTGACTTCTTCCTCCTTCTCTAACTCTT...   \n",
       "2      AATAAATAATATAAGATTTTGACTTCTTCCTCCTTCTCTAACTCTT...   \n",
       "3      AATAAATAATATAAGATTTTGACTTCTTCCTCCTTCTCTAACTCTT...   \n",
       "4      AATAAATAATATAAGATTTTGACTTCTTCCTCCTTCTCTAACTCTT...   \n",
       "...                                                  ...   \n",
       "31621  AATAAATAATATAAGATTTTGATTATTACCACCTTCCTTAACTTTA...   \n",
       "31622  AATAAATAATATAAGATTTTGATTATTACCACCTTCCTTAACTTTA...   \n",
       "31623  AATAAACAATATGAGTTTTTGAATATTACCTCCGTCCCTTACCCTA...   \n",
       "31624  AATAAACAATATGAGTTTTTGAATATTACCTCCGTCCCTTACCCTA...   \n",
       "31625  AATAAATAATATAAGATTTTGACTATTACCACCATCTTTAACCTTA...   \n",
       "\n",
       "                                               Sequence2          Tax1  \\\n",
       "0      AATAAATAATATAAGTTTTTGAATACTTCCTCCTTCTTTAACTTTA...      Phoridae   \n",
       "1      AATAAATAATATAAGATTTTGAATACTCCCCCCATCATTAACATTA...      Phoridae   \n",
       "2      TATAAATAATATAAGATTTTGAATATTACCTCCATCATTAACACTA...      Phoridae   \n",
       "3      TATAAATAATATAAGATTCTGAATACTGCCTCCTTCTTTAACCCTA...      Phoridae   \n",
       "4      AATAAATAACATAAGATTTTGATTATTACCACCATCTCTAACTTTA...      Phoridae   \n",
       "...                                                  ...           ...   \n",
       "31621  AATAAATAATATAAGATTTTGACTATTACCACCATCTTTAACCTTA...  Pipunculidae   \n",
       "31622  AATAAATAATATAAGATTTTGAATACTTCCCCCTTCCCTTACTCTT...  Pipunculidae   \n",
       "31623  AATAAATAATATAAGATTTTGACTATTACCACCATCTTTAACCTTA...  Pipunculidae   \n",
       "31624  AATAAATAATATAAGATTTTGAATACTTCCCCCTTCCCTTACTCTT...  Pipunculidae   \n",
       "31625  AATAAATAATATAAGATTTTGAATACTTCCCCCTTCCCTTACTCTT...  Pipunculidae   \n",
       "\n",
       "               Tax2  Same                                         Paired_seq  \n",
       "0          Phoridae     1  [[1, 0, 0, 0, 1, 0, 0, 0], [1, 0, 0, 0, 1, 0, ...  \n",
       "1          Phoridae     1  [[1, 0, 0, 0, 1, 0, 0, 0], [1, 0, 0, 0, 1, 0, ...  \n",
       "2          Phoridae     1  [[1, 0, 0, 0, 1, 0, 0, 0], [1, 0, 0, 0, 1, 0, ...  \n",
       "3          Phoridae     1  [[1, 0, 0, 0, 1, 0, 0, 0], [1, 0, 0, 0, 1, 0, ...  \n",
       "4          Phoridae     1  [[1, 0, 0, 0, 1, 0, 0, 0], [1, 0, 0, 0, 1, 0, ...  \n",
       "...             ...   ...                                                ...  \n",
       "31621  Pipunculidae     1  [[1, 0, 0, 0, 1, 0, 0, 0], [1, 0, 0, 0, 1, 0, ...  \n",
       "31622  Pipunculidae     1  [[1, 0, 0, 0, 1, 0, 0, 0], [1, 0, 0, 0, 1, 0, ...  \n",
       "31623  Pipunculidae     1  [[1, 0, 0, 0, 1, 0, 0, 0], [1, 0, 0, 0, 1, 0, ...  \n",
       "31624  Pipunculidae     1  [[1, 0, 0, 0, 1, 0, 0, 0], [1, 0, 0, 0, 1, 0, ...  \n",
       "31625  Pipunculidae     1  [[1, 0, 0, 0, 1, 0, 0, 0], [1, 0, 0, 0, 1, 0, ...  \n",
       "\n",
       "[31626 rows x 6 columns]"
      ]
     },
     "execution_count": 256,
     "metadata": {},
     "output_type": "execute_result"
    }
   ],
   "source": [
    "final_matrix = final_matrix(p,long_sequence)\n",
    "final_matrix"
   ]
  },
  {
   "cell_type": "code",
   "execution_count": 257,
   "id": "f05965ff",
   "metadata": {},
   "outputs": [
    {
     "data": {
      "text/plain": [
       "Sequence1     object\n",
       "Sequence2     object\n",
       "Tax1          object\n",
       "Tax2          object\n",
       "Same           int64\n",
       "Paired_seq    object\n",
       "dtype: object"
      ]
     },
     "execution_count": 257,
     "metadata": {},
     "output_type": "execute_result"
    }
   ],
   "source": [
    "final_matrix.dtypes"
   ]
  },
  {
   "cell_type": "code",
   "execution_count": 266,
   "id": "a1c99061",
   "metadata": {},
   "outputs": [
    {
     "data": {
      "text/plain": [
       "(31626, 418, 8)"
      ]
     },
     "execution_count": 266,
     "metadata": {},
     "output_type": "execute_result"
    }
   ],
   "source": []
  },
  {
   "attachments": {},
   "cell_type": "markdown",
   "id": "eaa09c8f",
   "metadata": {},
   "source": [
    "---\n",
    "# Data preparation for CNN"
   ]
  },
  {
   "cell_type": "code",
   "execution_count": 267,
   "id": "61e46c56",
   "metadata": {},
   "outputs": [],
   "source": [
    "from sklearn.model_selection import train_test_split\n",
    "\n",
    "# Obtenemos las secuencias de ADN en una variable 'X' y las etiquetas en una variable 'y'\n",
    "DNA = np.array(list(final_matrix.loc[:, 'Paired_seq']))\n",
    "labels = np.array(list(final_matrix.loc[:, 'Same']))\n",
    "#X"
   ]
  },
  {
   "cell_type": "code",
   "execution_count": 268,
   "id": "9be3ad65",
   "metadata": {},
   "outputs": [
    {
     "name": "stdout",
     "output_type": "stream",
     "text": [
      "Forma de X_train: (25300, 418, 8)\n",
      "Forma de y_train: (25300,)\n",
      "Forma de X_test: (6326, 418, 8)\n",
      "Forma de y_test: (6326,)\n"
     ]
    }
   ],
   "source": [
    "# Divide los datos en conjuntos de entrenamiento y prueba (80% para entrenamiento, 20% para prueba)\n",
    "DNA_train, DNA_test, labels_train, labels_test = train_test_split(\n",
    "    DNA, labels, test_size=0.20, random_state=42)\n",
    "\n",
    "print(\"Forma de X_train:\", DNA_train.shape)\n",
    "print(\"Forma de y_train:\", labels_train.shape)\n",
    "\n",
    "print(\"Forma de X_test:\", DNA_test.shape)\n",
    "print(\"Forma de y_test:\", labels_test.shape)"
   ]
  },
  {
   "cell_type": "code",
   "execution_count": 269,
   "id": "35e26303",
   "metadata": {},
   "outputs": [
    {
     "name": "stdout",
     "output_type": "stream",
     "text": [
      "Model: \"sequential_19\"\n",
      "_________________________________________________________________\n",
      "Layer (type)                 Output Shape              Param #   \n",
      "=================================================================\n",
      "conv1d_19 (Conv1D)           (None, 416, 32)           800       \n",
      "_________________________________________________________________\n",
      "max_pooling1d_13 (MaxPooling (None, 208, 32)           0         \n",
      "_________________________________________________________________\n",
      "conv1d_20 (Conv1D)           (None, 206, 64)           6208      \n",
      "_________________________________________________________________\n",
      "max_pooling1d_14 (MaxPooling (None, 103, 64)           0         \n",
      "_________________________________________________________________\n",
      "flatten_7 (Flatten)          (None, 6592)              0         \n",
      "_________________________________________________________________\n",
      "dense_14 (Dense)             (None, 128)               843904    \n",
      "_________________________________________________________________\n",
      "dense_15 (Dense)             (None, 1)                 129       \n",
      "=================================================================\n",
      "Total params: 851,041\n",
      "Trainable params: 851,041\n",
      "Non-trainable params: 0\n",
      "_________________________________________________________________\n"
     ]
    }
   ],
   "source": [
    "from tensorflow.keras.models import Sequential\n",
    "from tensorflow.keras.layers import Conv1D, MaxPooling1D, Flatten, Dense\n",
    "from tensorflow.keras.activations import relu, sigmoid\n",
    "from tensorflow.keras.optimizers import SGD\n",
    "\n",
    "\"\"\"\n",
    "CNN = Sequential([\n",
    "    #Input(shape=(418, 4, 2)),\n",
    "\n",
    "    Conv1D(filters=32, kernel_size=3, activation=relu, padding='same', input_shape=(418,4,2)),\n",
    "    MaxPooling1D(pool_size=2),\n",
    "\n",
    "    Conv1D(filters=64, kernel_size=3, activation=relu),\n",
    "    MaxPooling1D(pool_size=2),\n",
    "\n",
    "    Flatten(),\n",
    "    Dense(128, activation='relu'),\n",
    "    Dense(1, activation='sigmoid')\n",
    "])\n",
    "\n",
    "CNN.summary()\n",
    "\"\"\"\n",
    "model = Sequential()\n",
    "model.add(Conv1D(filters=32, kernel_size=3, activation=relu, input_shape=(418, 8)))\n",
    "model.add(MaxPooling1D(pool_size=2))\n",
    "model.add(Conv1D(filters=64, kernel_size=3, activation=relu))\n",
    "model.add(MaxPooling1D(pool_size=2))\n",
    "model.add(Flatten())\n",
    "model.add(Dense(128, activation=relu))\n",
    "model.add(Dense(1, activation=sigmoid))\n",
    "\n",
    "model.summary()"
   ]
  },
  {
   "cell_type": "code",
   "execution_count": 270,
   "id": "9c6bf01f",
   "metadata": {},
   "outputs": [],
   "source": [
    "# Compile: Define training parameters\n",
    "\n",
    "epochs = 50\n",
    "lrate = 0.001\n",
    "decay = lrate / epochs\n",
    "optim = SGD(learning_rate = lrate, momentum = 0.90, decay = decay, nesterov = True)\n",
    "model.compile(loss='binary_crossentropy', optimizer=optim, metrics=['binary_accuracy'])"
   ]
  },
  {
   "cell_type": "code",
   "execution_count": 271,
   "id": "38b41f02",
   "metadata": {},
   "outputs": [
    {
     "name": "stdout",
     "output_type": "stream",
     "text": [
      "Train on 17710 samples, validate on 7590 samples\n",
      "Epoch 1/50\n",
      "17710/17710 - 52s - loss: 0.3833 - binary_accuracy: 0.8870 - val_loss: 0.3405 - val_binary_accuracy: 0.8928\n",
      "Epoch 2/50\n",
      "17710/17710 - 50s - loss: 0.3438 - binary_accuracy: 0.8913 - val_loss: 0.3404 - val_binary_accuracy: 0.8928\n",
      "Epoch 3/50\n",
      "17710/17710 - 50s - loss: 0.3433 - binary_accuracy: 0.8913 - val_loss: 0.3403 - val_binary_accuracy: 0.8928\n",
      "Epoch 4/50\n",
      "17710/17710 - 50s - loss: 0.3431 - binary_accuracy: 0.8913 - val_loss: 0.3398 - val_binary_accuracy: 0.8928\n",
      "Epoch 5/50\n",
      "17710/17710 - 50s - loss: 0.3429 - binary_accuracy: 0.8913 - val_loss: 0.3396 - val_binary_accuracy: 0.8928\n",
      "Epoch 6/50\n",
      "17710/17710 - 50s - loss: 0.3427 - binary_accuracy: 0.8913 - val_loss: 0.3394 - val_binary_accuracy: 0.8928\n",
      "Epoch 7/50\n",
      "17710/17710 - 50s - loss: 0.3425 - binary_accuracy: 0.8913 - val_loss: 0.3393 - val_binary_accuracy: 0.8928\n",
      "Epoch 8/50\n",
      "17710/17710 - 50s - loss: 0.3424 - binary_accuracy: 0.8913 - val_loss: 0.3391 - val_binary_accuracy: 0.8928\n",
      "Epoch 9/50\n",
      "17710/17710 - 50s - loss: 0.3421 - binary_accuracy: 0.8913 - val_loss: 0.3390 - val_binary_accuracy: 0.8928\n",
      "Epoch 10/50\n",
      "17710/17710 - 51s - loss: 0.3419 - binary_accuracy: 0.8913 - val_loss: 0.3388 - val_binary_accuracy: 0.8928\n",
      "Epoch 11/50\n",
      "17710/17710 - 50s - loss: 0.3418 - binary_accuracy: 0.8913 - val_loss: 0.3386 - val_binary_accuracy: 0.8928\n",
      "Epoch 12/50\n",
      "17710/17710 - 51s - loss: 0.3415 - binary_accuracy: 0.8913 - val_loss: 0.3385 - val_binary_accuracy: 0.8928\n",
      "Epoch 13/50\n",
      "17710/17710 - 50s - loss: 0.3414 - binary_accuracy: 0.8913 - val_loss: 0.3384 - val_binary_accuracy: 0.8928\n",
      "Epoch 14/50\n",
      "17710/17710 - 50s - loss: 0.3412 - binary_accuracy: 0.8913 - val_loss: 0.3383 - val_binary_accuracy: 0.8928\n",
      "Epoch 15/50\n",
      "17710/17710 - 50s - loss: 0.3411 - binary_accuracy: 0.8913 - val_loss: 0.3381 - val_binary_accuracy: 0.8928\n",
      "Epoch 16/50\n",
      "17710/17710 - 50s - loss: 0.3409 - binary_accuracy: 0.8913 - val_loss: 0.3380 - val_binary_accuracy: 0.8928\n",
      "Epoch 17/50\n",
      "17710/17710 - 53s - loss: 0.3407 - binary_accuracy: 0.8913 - val_loss: 0.3378 - val_binary_accuracy: 0.8928\n",
      "Epoch 18/50\n",
      "17710/17710 - 50s - loss: 0.3407 - binary_accuracy: 0.8913 - val_loss: 0.3378 - val_binary_accuracy: 0.8928\n",
      "Epoch 19/50\n",
      "17710/17710 - 49s - loss: 0.3404 - binary_accuracy: 0.8913 - val_loss: 0.3376 - val_binary_accuracy: 0.8928\n",
      "Epoch 20/50\n",
      "17710/17710 - 49s - loss: 0.3404 - binary_accuracy: 0.8913 - val_loss: 0.3375 - val_binary_accuracy: 0.8928\n",
      "Epoch 21/50\n",
      "17710/17710 - 49s - loss: 0.3403 - binary_accuracy: 0.8913 - val_loss: 0.3373 - val_binary_accuracy: 0.8928\n",
      "Epoch 22/50\n",
      "17710/17710 - 50s - loss: 0.3401 - binary_accuracy: 0.8913 - val_loss: 0.3372 - val_binary_accuracy: 0.8928\n",
      "Epoch 23/50\n",
      "17710/17710 - 50s - loss: 0.3398 - binary_accuracy: 0.8913 - val_loss: 0.3374 - val_binary_accuracy: 0.8928\n",
      "Epoch 24/50\n",
      "17710/17710 - 50s - loss: 0.3398 - binary_accuracy: 0.8913 - val_loss: 0.3370 - val_binary_accuracy: 0.8928\n",
      "Epoch 25/50\n",
      "17710/17710 - 50s - loss: 0.3396 - binary_accuracy: 0.8913 - val_loss: 0.3369 - val_binary_accuracy: 0.8928\n",
      "Epoch 26/50\n",
      "17710/17710 - 50s - loss: 0.3395 - binary_accuracy: 0.8913 - val_loss: 0.3368 - val_binary_accuracy: 0.8928\n",
      "Epoch 27/50\n",
      "17710/17710 - 50s - loss: 0.3394 - binary_accuracy: 0.8913 - val_loss: 0.3367 - val_binary_accuracy: 0.8928\n",
      "Epoch 28/50\n",
      "17710/17710 - 50s - loss: 0.3392 - binary_accuracy: 0.8913 - val_loss: 0.3371 - val_binary_accuracy: 0.8928\n",
      "Epoch 29/50\n",
      "17710/17710 - 616s - loss: 0.3393 - binary_accuracy: 0.8913 - val_loss: 0.3367 - val_binary_accuracy: 0.8928\n",
      "Epoch 30/50\n"
     ]
    },
    {
     "ename": "KeyboardInterrupt",
     "evalue": "",
     "output_type": "error",
     "traceback": [
      "\u001b[0;31m---------------------------------------------------------------------------\u001b[0m",
      "\u001b[0;31mKeyboardInterrupt\u001b[0m                         Traceback (most recent call last)",
      "\u001b[0;32m<ipython-input-271-e45f704255e8>\u001b[0m in \u001b[0;36m<module>\u001b[0;34m\u001b[0m\n\u001b[1;32m      1\u001b[0m \u001b[0mBATCHES\u001b[0m \u001b[0;34m=\u001b[0m \u001b[0mDNA_matrix\u001b[0m\u001b[0;34m.\u001b[0m\u001b[0mshape\u001b[0m\u001b[0;34m[\u001b[0m\u001b[0;36m0\u001b[0m\u001b[0;34m]\u001b[0m \u001b[0;34m//\u001b[0m \u001b[0;36m64\u001b[0m\u001b[0;34m\u001b[0m\u001b[0;34m\u001b[0m\u001b[0m\n\u001b[1;32m      2\u001b[0m \u001b[0;34m\u001b[0m\u001b[0m\n\u001b[0;32m----> 3\u001b[0;31m \u001b[0mmodel\u001b[0m\u001b[0;34m.\u001b[0m\u001b[0mfit\u001b[0m\u001b[0;34m(\u001b[0m\u001b[0mDNA_train\u001b[0m\u001b[0;34m,\u001b[0m \u001b[0mlabels_train\u001b[0m\u001b[0;34m,\u001b[0m \u001b[0mbatch_size\u001b[0m\u001b[0;34m=\u001b[0m\u001b[0mBATCHES\u001b[0m\u001b[0;34m,\u001b[0m \u001b[0mepochs\u001b[0m\u001b[0;34m=\u001b[0m\u001b[0mepochs\u001b[0m\u001b[0;34m,\u001b[0m \u001b[0mverbose\u001b[0m\u001b[0;34m=\u001b[0m\u001b[0;36m2\u001b[0m\u001b[0;34m,\u001b[0m \u001b[0mvalidation_split\u001b[0m\u001b[0;34m=\u001b[0m\u001b[0;36m0.30\u001b[0m\u001b[0;34m)\u001b[0m\u001b[0;34m\u001b[0m\u001b[0;34m\u001b[0m\u001b[0m\n\u001b[0m",
      "\u001b[0;32m/opt/anaconda3/envs/deep_learning/lib/python3.6/site-packages/tensorflow_core/python/keras/engine/training.py\u001b[0m in \u001b[0;36mfit\u001b[0;34m(self, x, y, batch_size, epochs, verbose, callbacks, validation_split, validation_data, shuffle, class_weight, sample_weight, initial_epoch, steps_per_epoch, validation_steps, validation_freq, max_queue_size, workers, use_multiprocessing, **kwargs)\u001b[0m\n\u001b[1;32m    726\u001b[0m         \u001b[0mmax_queue_size\u001b[0m\u001b[0;34m=\u001b[0m\u001b[0mmax_queue_size\u001b[0m\u001b[0;34m,\u001b[0m\u001b[0;34m\u001b[0m\u001b[0;34m\u001b[0m\u001b[0m\n\u001b[1;32m    727\u001b[0m         \u001b[0mworkers\u001b[0m\u001b[0;34m=\u001b[0m\u001b[0mworkers\u001b[0m\u001b[0;34m,\u001b[0m\u001b[0;34m\u001b[0m\u001b[0;34m\u001b[0m\u001b[0m\n\u001b[0;32m--> 728\u001b[0;31m         use_multiprocessing=use_multiprocessing)\n\u001b[0m\u001b[1;32m    729\u001b[0m \u001b[0;34m\u001b[0m\u001b[0m\n\u001b[1;32m    730\u001b[0m   def evaluate(self,\n",
      "\u001b[0;32m/opt/anaconda3/envs/deep_learning/lib/python3.6/site-packages/tensorflow_core/python/keras/engine/training_v2.py\u001b[0m in \u001b[0;36mfit\u001b[0;34m(self, model, x, y, batch_size, epochs, verbose, callbacks, validation_split, validation_data, shuffle, class_weight, sample_weight, initial_epoch, steps_per_epoch, validation_steps, validation_freq, **kwargs)\u001b[0m\n\u001b[1;32m    322\u001b[0m                 \u001b[0mmode\u001b[0m\u001b[0;34m=\u001b[0m\u001b[0mModeKeys\u001b[0m\u001b[0;34m.\u001b[0m\u001b[0mTRAIN\u001b[0m\u001b[0;34m,\u001b[0m\u001b[0;34m\u001b[0m\u001b[0;34m\u001b[0m\u001b[0m\n\u001b[1;32m    323\u001b[0m                 \u001b[0mtraining_context\u001b[0m\u001b[0;34m=\u001b[0m\u001b[0mtraining_context\u001b[0m\u001b[0;34m,\u001b[0m\u001b[0;34m\u001b[0m\u001b[0;34m\u001b[0m\u001b[0m\n\u001b[0;32m--> 324\u001b[0;31m                 total_epochs=epochs)\n\u001b[0m\u001b[1;32m    325\u001b[0m             \u001b[0mcbks\u001b[0m\u001b[0;34m.\u001b[0m\u001b[0mmake_logs\u001b[0m\u001b[0;34m(\u001b[0m\u001b[0mmodel\u001b[0m\u001b[0;34m,\u001b[0m \u001b[0mepoch_logs\u001b[0m\u001b[0;34m,\u001b[0m \u001b[0mtraining_result\u001b[0m\u001b[0;34m,\u001b[0m \u001b[0mModeKeys\u001b[0m\u001b[0;34m.\u001b[0m\u001b[0mTRAIN\u001b[0m\u001b[0;34m)\u001b[0m\u001b[0;34m\u001b[0m\u001b[0;34m\u001b[0m\u001b[0m\n\u001b[1;32m    326\u001b[0m \u001b[0;34m\u001b[0m\u001b[0m\n",
      "\u001b[0;32m/opt/anaconda3/envs/deep_learning/lib/python3.6/site-packages/tensorflow_core/python/keras/engine/training_v2.py\u001b[0m in \u001b[0;36mrun_one_epoch\u001b[0;34m(model, iterator, execution_function, dataset_size, batch_size, strategy, steps_per_epoch, num_samples, mode, training_context, total_epochs)\u001b[0m\n\u001b[1;32m    121\u001b[0m         step=step, mode=mode, size=current_batch_size) as batch_logs:\n\u001b[1;32m    122\u001b[0m       \u001b[0;32mtry\u001b[0m\u001b[0;34m:\u001b[0m\u001b[0;34m\u001b[0m\u001b[0;34m\u001b[0m\u001b[0m\n\u001b[0;32m--> 123\u001b[0;31m         \u001b[0mbatch_outs\u001b[0m \u001b[0;34m=\u001b[0m \u001b[0mexecution_function\u001b[0m\u001b[0;34m(\u001b[0m\u001b[0miterator\u001b[0m\u001b[0;34m)\u001b[0m\u001b[0;34m\u001b[0m\u001b[0;34m\u001b[0m\u001b[0m\n\u001b[0m\u001b[1;32m    124\u001b[0m       \u001b[0;32mexcept\u001b[0m \u001b[0;34m(\u001b[0m\u001b[0mStopIteration\u001b[0m\u001b[0;34m,\u001b[0m \u001b[0merrors\u001b[0m\u001b[0;34m.\u001b[0m\u001b[0mOutOfRangeError\u001b[0m\u001b[0;34m)\u001b[0m\u001b[0;34m:\u001b[0m\u001b[0;34m\u001b[0m\u001b[0;34m\u001b[0m\u001b[0m\n\u001b[1;32m    125\u001b[0m         \u001b[0;31m# TODO(kaftan): File bug about tf function and errors.OutOfRangeError?\u001b[0m\u001b[0;34m\u001b[0m\u001b[0;34m\u001b[0m\u001b[0;34m\u001b[0m\u001b[0m\n",
      "\u001b[0;32m/opt/anaconda3/envs/deep_learning/lib/python3.6/site-packages/tensorflow_core/python/keras/engine/training_v2_utils.py\u001b[0m in \u001b[0;36mexecution_function\u001b[0;34m(input_fn)\u001b[0m\n\u001b[1;32m     84\u001b[0m     \u001b[0;31m# `numpy` translates Tensors to values in Eager mode.\u001b[0m\u001b[0;34m\u001b[0m\u001b[0;34m\u001b[0m\u001b[0;34m\u001b[0m\u001b[0m\n\u001b[1;32m     85\u001b[0m     return nest.map_structure(_non_none_constant_value,\n\u001b[0;32m---> 86\u001b[0;31m                               distributed_function(input_fn))\n\u001b[0m\u001b[1;32m     87\u001b[0m \u001b[0;34m\u001b[0m\u001b[0m\n\u001b[1;32m     88\u001b[0m   \u001b[0;32mreturn\u001b[0m \u001b[0mexecution_function\u001b[0m\u001b[0;34m\u001b[0m\u001b[0;34m\u001b[0m\u001b[0m\n",
      "\u001b[0;32m/opt/anaconda3/envs/deep_learning/lib/python3.6/site-packages/tensorflow_core/python/eager/def_function.py\u001b[0m in \u001b[0;36m__call__\u001b[0;34m(self, *args, **kwds)\u001b[0m\n\u001b[1;32m    455\u001b[0m \u001b[0;34m\u001b[0m\u001b[0m\n\u001b[1;32m    456\u001b[0m     \u001b[0mtracing_count\u001b[0m \u001b[0;34m=\u001b[0m \u001b[0mself\u001b[0m\u001b[0;34m.\u001b[0m\u001b[0m_get_tracing_count\u001b[0m\u001b[0;34m(\u001b[0m\u001b[0;34m)\u001b[0m\u001b[0;34m\u001b[0m\u001b[0;34m\u001b[0m\u001b[0m\n\u001b[0;32m--> 457\u001b[0;31m     \u001b[0mresult\u001b[0m \u001b[0;34m=\u001b[0m \u001b[0mself\u001b[0m\u001b[0;34m.\u001b[0m\u001b[0m_call\u001b[0m\u001b[0;34m(\u001b[0m\u001b[0;34m*\u001b[0m\u001b[0margs\u001b[0m\u001b[0;34m,\u001b[0m \u001b[0;34m**\u001b[0m\u001b[0mkwds\u001b[0m\u001b[0;34m)\u001b[0m\u001b[0;34m\u001b[0m\u001b[0;34m\u001b[0m\u001b[0m\n\u001b[0m\u001b[1;32m    458\u001b[0m     \u001b[0;32mif\u001b[0m \u001b[0mtracing_count\u001b[0m \u001b[0;34m==\u001b[0m \u001b[0mself\u001b[0m\u001b[0;34m.\u001b[0m\u001b[0m_get_tracing_count\u001b[0m\u001b[0;34m(\u001b[0m\u001b[0;34m)\u001b[0m\u001b[0;34m:\u001b[0m\u001b[0;34m\u001b[0m\u001b[0;34m\u001b[0m\u001b[0m\n\u001b[1;32m    459\u001b[0m       \u001b[0mself\u001b[0m\u001b[0;34m.\u001b[0m\u001b[0m_call_counter\u001b[0m\u001b[0;34m.\u001b[0m\u001b[0mcalled_without_tracing\u001b[0m\u001b[0;34m(\u001b[0m\u001b[0;34m)\u001b[0m\u001b[0;34m\u001b[0m\u001b[0;34m\u001b[0m\u001b[0m\n",
      "\u001b[0;32m/opt/anaconda3/envs/deep_learning/lib/python3.6/site-packages/tensorflow_core/python/eager/def_function.py\u001b[0m in \u001b[0;36m_call\u001b[0;34m(self, *args, **kwds)\u001b[0m\n\u001b[1;32m    485\u001b[0m       \u001b[0;31m# In this case we have created variables on the first call, so we run the\u001b[0m\u001b[0;34m\u001b[0m\u001b[0;34m\u001b[0m\u001b[0;34m\u001b[0m\u001b[0m\n\u001b[1;32m    486\u001b[0m       \u001b[0;31m# defunned version which is guaranteed to never create variables.\u001b[0m\u001b[0;34m\u001b[0m\u001b[0;34m\u001b[0m\u001b[0;34m\u001b[0m\u001b[0m\n\u001b[0;32m--> 487\u001b[0;31m       \u001b[0;32mreturn\u001b[0m \u001b[0mself\u001b[0m\u001b[0;34m.\u001b[0m\u001b[0m_stateless_fn\u001b[0m\u001b[0;34m(\u001b[0m\u001b[0;34m*\u001b[0m\u001b[0margs\u001b[0m\u001b[0;34m,\u001b[0m \u001b[0;34m**\u001b[0m\u001b[0mkwds\u001b[0m\u001b[0;34m)\u001b[0m  \u001b[0;31m# pylint: disable=not-callable\u001b[0m\u001b[0;34m\u001b[0m\u001b[0;34m\u001b[0m\u001b[0m\n\u001b[0m\u001b[1;32m    488\u001b[0m     \u001b[0;32melif\u001b[0m \u001b[0mself\u001b[0m\u001b[0;34m.\u001b[0m\u001b[0m_stateful_fn\u001b[0m \u001b[0;32mis\u001b[0m \u001b[0;32mnot\u001b[0m \u001b[0;32mNone\u001b[0m\u001b[0;34m:\u001b[0m\u001b[0;34m\u001b[0m\u001b[0;34m\u001b[0m\u001b[0m\n\u001b[1;32m    489\u001b[0m       \u001b[0;31m# Release the lock early so that multiple threads can perform the call\u001b[0m\u001b[0;34m\u001b[0m\u001b[0;34m\u001b[0m\u001b[0;34m\u001b[0m\u001b[0m\n",
      "\u001b[0;32m/opt/anaconda3/envs/deep_learning/lib/python3.6/site-packages/tensorflow_core/python/eager/function.py\u001b[0m in \u001b[0;36m__call__\u001b[0;34m(self, *args, **kwargs)\u001b[0m\n\u001b[1;32m   1821\u001b[0m     \u001b[0;34m\"\"\"Calls a graph function specialized to the inputs.\"\"\"\u001b[0m\u001b[0;34m\u001b[0m\u001b[0;34m\u001b[0m\u001b[0m\n\u001b[1;32m   1822\u001b[0m     \u001b[0mgraph_function\u001b[0m\u001b[0;34m,\u001b[0m \u001b[0margs\u001b[0m\u001b[0;34m,\u001b[0m \u001b[0mkwargs\u001b[0m \u001b[0;34m=\u001b[0m \u001b[0mself\u001b[0m\u001b[0;34m.\u001b[0m\u001b[0m_maybe_define_function\u001b[0m\u001b[0;34m(\u001b[0m\u001b[0margs\u001b[0m\u001b[0;34m,\u001b[0m \u001b[0mkwargs\u001b[0m\u001b[0;34m)\u001b[0m\u001b[0;34m\u001b[0m\u001b[0;34m\u001b[0m\u001b[0m\n\u001b[0;32m-> 1823\u001b[0;31m     \u001b[0;32mreturn\u001b[0m \u001b[0mgraph_function\u001b[0m\u001b[0;34m.\u001b[0m\u001b[0m_filtered_call\u001b[0m\u001b[0;34m(\u001b[0m\u001b[0margs\u001b[0m\u001b[0;34m,\u001b[0m \u001b[0mkwargs\u001b[0m\u001b[0;34m)\u001b[0m  \u001b[0;31m# pylint: disable=protected-access\u001b[0m\u001b[0;34m\u001b[0m\u001b[0;34m\u001b[0m\u001b[0m\n\u001b[0m\u001b[1;32m   1824\u001b[0m \u001b[0;34m\u001b[0m\u001b[0m\n\u001b[1;32m   1825\u001b[0m   \u001b[0;34m@\u001b[0m\u001b[0mproperty\u001b[0m\u001b[0;34m\u001b[0m\u001b[0;34m\u001b[0m\u001b[0m\n",
      "\u001b[0;32m/opt/anaconda3/envs/deep_learning/lib/python3.6/site-packages/tensorflow_core/python/eager/function.py\u001b[0m in \u001b[0;36m_filtered_call\u001b[0;34m(self, args, kwargs)\u001b[0m\n\u001b[1;32m   1139\u001b[0m          if isinstance(t, (ops.Tensor,\n\u001b[1;32m   1140\u001b[0m                            resource_variable_ops.BaseResourceVariable))),\n\u001b[0;32m-> 1141\u001b[0;31m         self.captured_inputs)\n\u001b[0m\u001b[1;32m   1142\u001b[0m \u001b[0;34m\u001b[0m\u001b[0m\n\u001b[1;32m   1143\u001b[0m   \u001b[0;32mdef\u001b[0m \u001b[0m_call_flat\u001b[0m\u001b[0;34m(\u001b[0m\u001b[0mself\u001b[0m\u001b[0;34m,\u001b[0m \u001b[0margs\u001b[0m\u001b[0;34m,\u001b[0m \u001b[0mcaptured_inputs\u001b[0m\u001b[0;34m,\u001b[0m \u001b[0mcancellation_manager\u001b[0m\u001b[0;34m=\u001b[0m\u001b[0;32mNone\u001b[0m\u001b[0;34m)\u001b[0m\u001b[0;34m:\u001b[0m\u001b[0;34m\u001b[0m\u001b[0;34m\u001b[0m\u001b[0m\n",
      "\u001b[0;32m/opt/anaconda3/envs/deep_learning/lib/python3.6/site-packages/tensorflow_core/python/eager/function.py\u001b[0m in \u001b[0;36m_call_flat\u001b[0;34m(self, args, captured_inputs, cancellation_manager)\u001b[0m\n\u001b[1;32m   1222\u001b[0m     \u001b[0;32mif\u001b[0m \u001b[0mexecuting_eagerly\u001b[0m\u001b[0;34m:\u001b[0m\u001b[0;34m\u001b[0m\u001b[0;34m\u001b[0m\u001b[0m\n\u001b[1;32m   1223\u001b[0m       flat_outputs = forward_function.call(\n\u001b[0;32m-> 1224\u001b[0;31m           ctx, args, cancellation_manager=cancellation_manager)\n\u001b[0m\u001b[1;32m   1225\u001b[0m     \u001b[0;32melse\u001b[0m\u001b[0;34m:\u001b[0m\u001b[0;34m\u001b[0m\u001b[0;34m\u001b[0m\u001b[0m\n\u001b[1;32m   1226\u001b[0m       \u001b[0mgradient_name\u001b[0m \u001b[0;34m=\u001b[0m \u001b[0mself\u001b[0m\u001b[0;34m.\u001b[0m\u001b[0m_delayed_rewrite_functions\u001b[0m\u001b[0;34m.\u001b[0m\u001b[0mregister\u001b[0m\u001b[0;34m(\u001b[0m\u001b[0;34m)\u001b[0m\u001b[0;34m\u001b[0m\u001b[0;34m\u001b[0m\u001b[0m\n",
      "\u001b[0;32m/opt/anaconda3/envs/deep_learning/lib/python3.6/site-packages/tensorflow_core/python/eager/function.py\u001b[0m in \u001b[0;36mcall\u001b[0;34m(self, ctx, args, cancellation_manager)\u001b[0m\n\u001b[1;32m    509\u001b[0m               \u001b[0minputs\u001b[0m\u001b[0;34m=\u001b[0m\u001b[0margs\u001b[0m\u001b[0;34m,\u001b[0m\u001b[0;34m\u001b[0m\u001b[0;34m\u001b[0m\u001b[0m\n\u001b[1;32m    510\u001b[0m               \u001b[0mattrs\u001b[0m\u001b[0;34m=\u001b[0m\u001b[0;34m(\u001b[0m\u001b[0;34m\"executor_type\"\u001b[0m\u001b[0;34m,\u001b[0m \u001b[0mexecutor_type\u001b[0m\u001b[0;34m,\u001b[0m \u001b[0;34m\"config_proto\"\u001b[0m\u001b[0;34m,\u001b[0m \u001b[0mconfig\u001b[0m\u001b[0;34m)\u001b[0m\u001b[0;34m,\u001b[0m\u001b[0;34m\u001b[0m\u001b[0;34m\u001b[0m\u001b[0m\n\u001b[0;32m--> 511\u001b[0;31m               ctx=ctx)\n\u001b[0m\u001b[1;32m    512\u001b[0m         \u001b[0;32melse\u001b[0m\u001b[0;34m:\u001b[0m\u001b[0;34m\u001b[0m\u001b[0;34m\u001b[0m\u001b[0m\n\u001b[1;32m    513\u001b[0m           outputs = execute.execute_with_cancellation(\n",
      "\u001b[0;32m/opt/anaconda3/envs/deep_learning/lib/python3.6/site-packages/tensorflow_core/python/eager/execute.py\u001b[0m in \u001b[0;36mquick_execute\u001b[0;34m(op_name, num_outputs, inputs, attrs, ctx, name)\u001b[0m\n\u001b[1;32m     59\u001b[0m     tensors = pywrap_tensorflow.TFE_Py_Execute(ctx._handle, device_name,\n\u001b[1;32m     60\u001b[0m                                                \u001b[0mop_name\u001b[0m\u001b[0;34m,\u001b[0m \u001b[0minputs\u001b[0m\u001b[0;34m,\u001b[0m \u001b[0mattrs\u001b[0m\u001b[0;34m,\u001b[0m\u001b[0;34m\u001b[0m\u001b[0;34m\u001b[0m\u001b[0m\n\u001b[0;32m---> 61\u001b[0;31m                                                num_outputs)\n\u001b[0m\u001b[1;32m     62\u001b[0m   \u001b[0;32mexcept\u001b[0m \u001b[0mcore\u001b[0m\u001b[0;34m.\u001b[0m\u001b[0m_NotOkStatusException\u001b[0m \u001b[0;32mas\u001b[0m \u001b[0me\u001b[0m\u001b[0;34m:\u001b[0m\u001b[0;34m\u001b[0m\u001b[0;34m\u001b[0m\u001b[0m\n\u001b[1;32m     63\u001b[0m     \u001b[0;32mif\u001b[0m \u001b[0mname\u001b[0m \u001b[0;32mis\u001b[0m \u001b[0;32mnot\u001b[0m \u001b[0;32mNone\u001b[0m\u001b[0;34m:\u001b[0m\u001b[0;34m\u001b[0m\u001b[0;34m\u001b[0m\u001b[0m\n",
      "\u001b[0;31mKeyboardInterrupt\u001b[0m: "
     ]
    }
   ],
   "source": [
    "BATCHES = DNA_matrix.shape[0] // 64\n",
    "\n",
    "model.fit(DNA_train, labels_train, batch_size=BATCHES, epochs=epochs, verbose=2, validation_split=0.30)"
   ]
  },
  {
   "cell_type": "code",
   "execution_count": null,
   "id": "dac37375",
   "metadata": {},
   "outputs": [],
   "source": []
  }
 ],
 "metadata": {
  "kernelspec": {
   "display_name": "Python 3",
   "language": "python",
   "name": "python3"
  },
  "language_info": {
   "codemirror_mode": {
    "name": "ipython",
    "version": 3
   },
   "file_extension": ".py",
   "mimetype": "text/x-python",
   "name": "python",
   "nbconvert_exporter": "python",
   "pygments_lexer": "ipython3",
   "version": "3.6.13"
  }
 },
 "nbformat": 4,
 "nbformat_minor": 5
}
