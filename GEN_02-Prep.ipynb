{
 "cells": [
  {
   "cell_type": "code",
   "execution_count": null,
   "id": "c939bd32",
   "metadata": {},
   "outputs": [],
   "source": [
    "import pandas as pd\n",
    "import numpy as np\n",
    "import matplotlib.pyplot as pl\n",
    "import openpyxl\n",
    "#import plotly.express as px"
   ]
  },
  {
   "cell_type": "code",
   "execution_count": null,
   "id": "70cc7166",
   "metadata": {},
   "outputs": [],
   "source": [
    "# Read data\n",
    "data = pd.concat((pd.read_excel('./Datos_Metagenetica.xlsx', sheet_name='El_cielo', engine='openpyxl'), pd.read_excel('./Datos_Metagenetica.xlsx', sheet_name='Chamela',engine='openpyxl')))\n",
    "# replace 0 with NaN\n",
    "data = data.replace(0, np.nan)\n",
    "#drop columns que no se van a usar \n",
    "data = data.drop(['Database','.id', 'similarity', 'phylum_final', \n",
    "                  'class_final', 'subfamily_final', 'tribe_final',\n",
    "                   'subspecies_final', 'BASE', 'OTU'], axis=1)\n",
    "data"
   ]
  },
  {
   "attachments": {},
   "cell_type": "markdown",
   "id": "dca50a03",
   "metadata": {},
   "source": [
    "# Balance data"
   ]
  },
  {
   "cell_type": "code",
   "execution_count": null,
   "id": "463a65c8",
   "metadata": {},
   "outputs": [],
   "source": [
    "def balance_one_tax_data(df, col_tax_to_balance, tax_to_balance, max_samples) -> pd.DataFrame:\n",
    "    '''\n",
    "    df: dataframe with all data to balance\n",
    "    col_tax_to_balance: column name of the tax to balance\n",
    "    tax_to_balance: tax to balance\n",
    "    max_samples: maximum number to save of each tax\n",
    "    return: balanced dataframe\n",
    "    '''\n",
    "    col_index = df.columns.get_loc(col_tax_to_balance)\n",
    "    if col_index + 1 < len(df.columns):\n",
    "        next_tax_col = df.columns[col_index + 1]\n",
    "        vc = df[df[col_tax_to_balance] == tax_to_balance][next_tax_col].value_counts()\n",
    "        q25 = vc.quantile(0.25)\n",
    "        selected_values = vc[vc > 4 * q25]\n",
    "        balanced = pd.DataFrame(columns = df.columns)\n",
    "        for i in selected_values.index:\n",
    "            if vc[i] > max_samples:\n",
    "                balanced = pd.concat((balanced, df[df[next_tax_col] == i].sample(max_samples)))\n",
    "            else:\n",
    "                balanced = pd.concat((balanced, df[df[next_tax_col] == i]))\n",
    "    return balanced\n",
    "\n",
    "print('Original data')\n",
    "print(data.value_counts('family_final'))\n",
    "print('Balanced data')\n",
    "balance_one_tax_data(data, 'order_final', 'Diptera', 50).value_counts('family_final')"
   ]
  },
  {
   "attachments": {},
   "cell_type": "markdown",
   "id": "fbe43f08",
   "metadata": {},
   "source": [
    "---\n",
    "# Encoding & Concatenation"
   ]
  },
  {
   "cell_type": "code",
   "execution_count": null,
   "id": "440c5208",
   "metadata": {},
   "outputs": [],
   "source": [
    "data['Sequence'] = data['Sequence'].apply(lambda x: x.upper())"
   ]
  },
  {
   "cell_type": "code",
   "execution_count": null,
   "id": "5da827c4",
   "metadata": {},
   "outputs": [],
   "source": [
    "def sequence_encoding(sequence):\n",
    "    mapping = {\"A\": 0, \"C\": 1, \"G\": 2, \"T\": 3}\n",
    "    encoded_sequence = [mapping[i] for i in sequence]\n",
    "    return np.eye(4)[encoded_sequence]"
   ]
  },
  {
   "cell_type": "code",
   "execution_count": null,
   "id": "09a077fa",
   "metadata": {},
   "outputs": [],
   "source": [
    "elem0 = data['Sequence'].iloc[0]\n",
    "elem1 = data['Sequence'].iloc[1]\n",
    "elem0"
   ]
  },
  {
   "cell_type": "code",
   "execution_count": null,
   "id": "fc706d40",
   "metadata": {},
   "outputs": [],
   "source": [
    "enc0 = sequence_encoding(elem0)\n",
    "enc1 = sequence_encoding(elem1)\n",
    "enc0"
   ]
  },
  {
   "cell_type": "code",
   "execution_count": null,
   "id": "7b74953f",
   "metadata": {},
   "outputs": [],
   "source": [
    "enc1.shape"
   ]
  },
  {
   "cell_type": "code",
   "execution_count": null,
   "id": "8cbd6494",
   "metadata": {},
   "outputs": [],
   "source": [
    "def side_by_side_sequence(seq1, seq2):\n",
    "    return np.concatenate((seq1, seq2), axis=1)"
   ]
  },
  {
   "cell_type": "code",
   "execution_count": null,
   "id": "7e9b6772",
   "metadata": {},
   "outputs": [],
   "source": [
    "side_by_side_seq = side_by_side_sequence(enc0,enc1)\n",
    "side_by_side_seq.shape\n",
    "#type(syde_by_side_seq)"
   ]
  },
  {
   "cell_type": "code",
   "execution_count": null,
   "id": "a33e23e4",
   "metadata": {},
   "outputs": [],
   "source": [
    "side_by_side_seq"
   ]
  },
  {
   "cell_type": "code",
   "execution_count": null,
   "id": "885c9b84",
   "metadata": {},
   "outputs": [],
   "source": [
    "def deep_sequence(seq1, seq2):\n",
    "    #s1 = seq1[np.newaxis, :, :]\n",
    "    #s2 = seq2[np.newaxis, :, :]\n",
    "    #sequence = np.concatenate((s1, s2), axis=0)\n",
    "    sequence = np.dstack((seq1, seq2))\n",
    "    return sequence"
   ]
  },
  {
   "cell_type": "code",
   "execution_count": null,
   "id": "3f0d67cf",
   "metadata": {},
   "outputs": [],
   "source": [
    "deep_seq = deep_sequence(enc0,enc1)\n",
    "deep_seq.shape"
   ]
  },
  {
   "cell_type": "code",
   "execution_count": null,
   "id": "116c61af",
   "metadata": {},
   "outputs": [],
   "source": [
    "deep_seq"
   ]
  },
  {
   "attachments": {},
   "cell_type": "markdown",
   "id": "4fa61677",
   "metadata": {},
   "source": [
    "---\n",
    "# Combinaciones"
   ]
  },
  {
   "cell_type": "code",
   "execution_count": null,
   "id": "7a45d355",
   "metadata": {},
   "outputs": [],
   "source": [
    "datos = {'Col1': ['C', 'A', 'R','M', 'E', 'N'],\n",
    "        'Col2': ['S','S','M','S','M','M']}\n",
    "\n",
    "df = pd.DataFrame(datos)\n",
    "#df"
   ]
  },
  {
   "cell_type": "code",
   "execution_count": null,
   "id": "567d43d1",
   "metadata": {},
   "outputs": [],
   "source": [
    "import itertools\n",
    "\n",
    "def combination_list(dataframe,column):\n",
    "    sequences = dataframe[column].tolist()\n",
    "    combinations = list(itertools.combinations(sequences, 2))\n",
    "    return combinations"
   ]
  },
  {
   "cell_type": "code",
   "execution_count": null,
   "id": "64c673c2",
   "metadata": {},
   "outputs": [],
   "source": [
    "combinations = combination_list(df,'Col1')\n",
    "#combinations"
   ]
  },
  {
   "cell_type": "code",
   "execution_count": null,
   "id": "2287cb83",
   "metadata": {},
   "outputs": [],
   "source": [
    "def combination_matrix(df,sequence_column,tax_column):\n",
    "    combinaciones = []\n",
    "    for sequence1, sequence2 in combination_list(df,sequence_column):\n",
    "        z = zip(df[df[sequence_column] == sequence1][tax_column], df[df[sequence_column] == sequence2][tax_column])\n",
    "        for clase1, clase2 in z:\n",
    "            combinaciones.append([sequence1, sequence2, clase1, clase2])\n",
    "\n",
    "    df_combinaciones = pd.DataFrame(combinaciones, columns=['Sequence1', 'Sequence2', 'Tax1', 'Tax2'])\n",
    "    return df_combinaciones"
   ]
  },
  {
   "cell_type": "code",
   "execution_count": null,
   "id": "b1072fcf",
   "metadata": {},
   "outputs": [],
   "source": [
    "nuevo_df = combination_matrix(df,'Col1','Col2')\n",
    "#nuevo_df"
   ]
  },
  {
   "cell_type": "code",
   "execution_count": null,
   "id": "6d27cd0e",
   "metadata": {},
   "outputs": [],
   "source": [
    "def tax_comparison(dataframe, tax1, tax2):\n",
    "    dataframe['Same'] = dataframe[tax1] == dataframe[tax2]\n",
    "    return dataframe"
   ]
  },
  {
   "cell_type": "code",
   "execution_count": null,
   "id": "1b35b1f2",
   "metadata": {},
   "outputs": [],
   "source": [
    "input_matrix = tax_comparison(nuevo_df,'Tax1','Tax2')\n",
    "input_matrix"
   ]
  },
  {
   "attachments": {},
   "cell_type": "markdown",
   "id": "a7305139",
   "metadata": {},
   "source": [
    "---\n",
    "# Final Matrix"
   ]
  },
  {
   "cell_type": "code",
   "execution_count": null,
   "id": "b0f65ecf",
   "metadata": {},
   "outputs": [],
   "source": [
    "from tensorflow.keras.preprocessing.sequence import pad_sequences\n",
    "\n",
    "def final_matrix(data,concat_type):\n",
    "    \n",
    "    #Pasamos a letras mayúsculas las cadenas\n",
    "    data['Sequence'] = data['Sequence'].apply(lambda x: x.upper())\n",
    "    #Llamamos a la función para filtrar los datos\n",
    "    balanced_data = balance_one_tax_data(data, 'order_final', 'Diptera', 50)\n",
    "    #Llamamos a la función para realizar todas las combinaciones\n",
    "    combinations = combination_matrix(balanced_data,'Sequence',\"family_final\")\n",
    "    #Llamamos a la función para determinar si los Taxones son iguales\n",
    "    DNA_matrix = tax_comparison(combinations,'Tax1','Tax2')\n",
    "    #Pasamos los valores boolean a integer\n",
    "    DNA_matrix['Same'] = DNA_matrix['Same'].astype(int)\n",
    "    \n",
    "    DNA_matrix['Paired_seq'] = ''  # Creamos una columna vacía para almacenar los resultados\n",
    "    for index, row in DNA_matrix.iterrows():\n",
    "        sequence1 = row['Sequence1']\n",
    "        sequence2 = row['Sequence2']\n",
    "        encoding1 = sequence_encoding(sequence1)\n",
    "        encoding2 = sequence_encoding(sequence2)\n",
    "        vectors_padded = pad_sequences([encoding1, encoding2], padding='post')\n",
    "        paired_sequences = concat_type(vectors_padded[0], vectors_padded[0])\n",
    "        DNA_matrix.at[index, 'Paired_seq'] = paired_sequences\n",
    "    return DNA_matrix"
   ]
  },
  {
   "cell_type": "code",
   "execution_count": null,
   "id": "035c6d07",
   "metadata": {},
   "outputs": [],
   "source": [
    "final_matrix = final_matrix(data,side_by_side_sequence)\n",
    "final_matrix"
   ]
  },
  {
   "cell_type": "code",
   "execution_count": null,
   "id": "f05965ff",
   "metadata": {},
   "outputs": [],
   "source": [
    "final_matrix.dtypes"
   ]
  },
  {
   "attachments": {},
   "cell_type": "markdown",
   "id": "eaa09c8f",
   "metadata": {},
   "source": [
    "---\n",
    "# Data preparation for CNN"
   ]
  },
  {
   "cell_type": "code",
   "execution_count": null,
   "id": "61e46c56",
   "metadata": {},
   "outputs": [],
   "source": [
    "from sklearn.model_selection import train_test_split\n",
    "\n",
    "# Obtenemos las secuencias de ADN en una variable 'X' y las etiquetas en una variable 'y'\n",
    "DNA = np.array(list(final_matrix.loc[:, 'Paired_seq'])) # dim = (31626,418,8)\n",
    "labels = np.array(list(final_matrix.loc[:, 'Same'])) # dim = (31626,1)\n",
    "#X"
   ]
  },
  {
   "cell_type": "code",
   "execution_count": null,
   "id": "9be3ad65",
   "metadata": {},
   "outputs": [],
   "source": [
    "# Divide los datos en conjuntos de entrenamiento y prueba (80% para entrenamiento, 20% para prueba)\n",
    "DNA_train, DNA_test, labels_train, labels_test = train_test_split(\n",
    "    DNA, labels, test_size=0.20, random_state=42)\n",
    "\n",
    "print(\"Forma de X_train:\", DNA_train.shape)\n",
    "print(\"Forma de y_train:\", labels_train.shape)\n",
    "\n",
    "print(\"Forma de X_test:\", DNA_test.shape)\n",
    "print(\"Forma de y_test:\", labels_test.shape)"
   ]
  },
  {
   "cell_type": "code",
   "execution_count": null,
   "id": "35e26303",
   "metadata": {},
   "outputs": [],
   "source": [
    "from tensorflow.keras.models import Sequential\n",
    "from tensorflow.keras.layers import Conv1D, MaxPooling1D, Flatten, Dense\n",
    "from tensorflow.keras.activations import relu, sigmoid\n",
    "from tensorflow.keras.optimizers import SGD\n",
    "\n",
    "\"\"\"\n",
    "CNN = Sequential([\n",
    "    #Input(shape=(418, 4, 2)),\n",
    "\n",
    "    Conv1D(filters=32, kernel_size=3, activation=relu, padding='same', input_shape=(418,4,2)),\n",
    "    MaxPooling1D(pool_size=2),\n",
    "\n",
    "    Conv1D(filters=64, kernel_size=3, activation=relu),\n",
    "    MaxPooling1D(pool_size=2),\n",
    "\n",
    "    Flatten(),\n",
    "    Dense(128, activation='relu'),\n",
    "    Dense(1, activation='sigmoid')\n",
    "])\n",
    "\n",
    "CNN.summary()\n",
    "\"\"\"\n",
    "model = Sequential()\n",
    "model.add(Conv1D(filters=32, kernel_size=3, activation=relu, input_shape=(418, 8)))\n",
    "model.add(MaxPooling1D(pool_size=2))\n",
    "model.add(Conv1D(filters=64, kernel_size=3, activation=relu))\n",
    "model.add(MaxPooling1D(pool_size=2))\n",
    "model.add(Flatten())\n",
    "model.add(Dense(128, activation=relu))\n",
    "model.add(Dense(1, activation=sigmoid))\n",
    "\n",
    "model.summary()"
   ]
  },
  {
   "cell_type": "code",
   "execution_count": null,
   "id": "9c6bf01f",
   "metadata": {},
   "outputs": [],
   "source": [
    "# Compile: Define training parameters\n",
    "\n",
    "epochs = 50\n",
    "lrate = 0.001\n",
    "decay = lrate / epochs\n",
    "optim = SGD(learning_rate = lrate, momentum = 0.90, decay = decay, nesterov = True)\n",
    "model.compile(loss='binary_crossentropy', optimizer=optim, metrics=['binary_accuracy'])"
   ]
  },
  {
   "cell_type": "code",
   "execution_count": null,
   "id": "38b41f02",
   "metadata": {},
   "outputs": [],
   "source": [
    "BATCHES = final_matrix.shape[0] // 64\n",
    "\n",
    "model.fit(DNA_train, labels_train, batch_size=BATCHES, epochs=epochs, verbose=2, validation_split=0.30)"
   ]
  },
  {
   "cell_type": "code",
   "execution_count": null,
   "id": "dac37375",
   "metadata": {},
   "outputs": [],
   "source": []
  }
 ],
 "metadata": {
  "kernelspec": {
   "display_name": "Python 3",
   "language": "python",
   "name": "python3"
  },
  "language_info": {
   "codemirror_mode": {
    "name": "ipython",
    "version": 3
   },
   "file_extension": ".py",
   "mimetype": "text/x-python",
   "name": "python",
   "nbconvert_exporter": "python",
   "pygments_lexer": "ipython3",
   "version": "3.6.13"
  }
 },
 "nbformat": 4,
 "nbformat_minor": 5
}
